{
  "cells": [
    {
      "cell_type": "markdown",
      "metadata": {
        "id": "view-in-github",
        "colab_type": "text"
      },
      "source": [
        "<a href=\"https://colab.research.google.com/github/ChotirosRR/cs352-264-s0267/blob/main/Flight_Delay_Student.ipynb\" target=\"_parent\"><img src=\"https://colab.research.google.com/assets/colab-badge.svg\" alt=\"Open In Colab\"/></a>"
      ]
    },
    {
      "cell_type": "markdown",
      "metadata": {
        "id": "U5fgVduqEXzv"
      },
      "source": [
        "# Problem: Predicting Airplane Delays\n",
        "\n",
        "The goals of this notebook are:\n",
        "- Process and create a dataset from downloaded .zip files\n",
        "- Perform exploratory data analysis (EDA)\n",
        "- Establish a baseline model\n",
        "- Move from a simple model to an ensemble model\n",
        "- Perform hyperparameter optimization\n",
        "- Check feature importance\n",
        "\n",
        "\n",
        "## Introduction to business scenario\n",
        "\n",
        "You work for a travel booking website that wants to improve the customer experience for flights that were delayed. The company wants to create a feature to let customers know if the flight will be delayed because of weather when they book a flight to or from the busiest airports for domestic travel in the US. \n",
        "\n",
        "You are tasked with solving part of this problem by using machine learning (ML) to identify whether the flight will be delayed because of weather. You have been given access to the a dataset about the on-time performance of domestic flights that were operated by large air carriers. You can use this data to train an ML model to predict if the flight is going to be delayed for the busiest airports.\n",
        "\n",
        "\n",
        "## About this dataset\n",
        "\n",
        "This dataset contains scheduled and actual departure and arrival times reported by certified US air carriers that account for at least 1 percent of domestic scheduled passenger revenues. The data was collected by the U.S. Office of Airline Information, Bureau of Transportation Statistics (BTS). The dataset contains date, time, origin, destination, airline, distance, and delay status of flights for flights between 2013 and 2018.\n",
        "\n",
        "\n",
        "### Features\n",
        "\n",
        "For more information about features in the dataset, see [On-time delay dataset features](https://www.transtats.bts.gov/Fields.asp).\n",
        "\n",
        "### Dataset attributions  \n",
        "Website: https://www.transtats.bts.gov/\n",
        "\n",
        "Dataset(s) used in this lab were compiled by the U.S. Office of Airline Information, Bureau of Transportation Statistics (BTS), Airline On-Time Performance Data, available at https://www.transtats.bts.gov/DatabaseInfo.asp?DB_ID=120&DB_URL=Mode_ID=1&Mode_Desc=Aviation&Subject_ID2=0."
      ]
    },
    {
      "cell_type": "markdown",
      "metadata": {
        "id": "hiLp0T3iEXzz"
      },
      "source": [
        "# Step 1: Problem formulation and data collection\n",
        "\n",
        "Start this project by writing a few sentences that summarize the business problem and the business goal that you want to achieve in this scenario. You can write down your ideas in the following sections. Include a business metric that you would like your team to aspire toward. After you define that information, write the ML problem statement. Finally, add a comment or two about the type of ML this activity represents. \n",
        "\n",
        "#### <span style=\"color: blue;\">Project presentation: Include a summary of these details in your project presentation.</span>\n",
        "\n",
        "### 1. Determine if and why ML is an appropriate solution to deploy for this scenario."
      ]
    },
    {
      "cell_type": "code",
      "execution_count": null,
      "metadata": {
        "id": "djPmT3rOEXz0"
      },
      "outputs": [],
      "source": [
        "# Write your answer here\n",
        "คิดว่า ML เหมาะสมในการนำมาใช้แก้ปัญหาในส่วนนี้เนื่องจาก ML จะทำการเรียนรู้ผ่านข้อมูลที่เรามีอยู่และทำการวิเคราะห์ความน่าจะเป็นของเที่ยวบินที่อาจจะเกิดการดีเลย์จากสภาพอากาศหรือไม่\n",
        "เมื่อ ML ทำการวิเคราะห์แล้วจะทำให้รู้รูปแบบของการดีเลย์ของเที่ยวบินได้และสามารถคาดการณ์ล่วงหน้าได้ว่าเที่ยวบินนี้จะเกิดการดีเลย์ไหม"
      ]
    },
    {
      "cell_type": "markdown",
      "metadata": {
        "id": "t9aMHJzgEXz1"
      },
      "source": [
        "### 2. Formulate the business problem, success metrics, and desired ML output."
      ]
    },
    {
      "cell_type": "code",
      "execution_count": null,
      "metadata": {
        "id": "OmXqCkkxEXz1"
      },
      "outputs": [],
      "source": [
        "# Write your answer here\n",
        "Business problem : เมื่อเที่ยวบินเกิดการดีเลย์กระทันหันไม่สามารถบินตามเวลาที่กำหนดไว้ได้ ลูกค้าจะเกิดความกังวลและไม่สบายใจที่ไม่สามารถบินตามเวลาที่ได้ทำการจองไว้\n",
        "Success metrics : ลูกค้าจะได้รับข้อมูลล่วงหน้า หากเที่ยวบินนี้เกิดการดีเลย์\n",
        "Desired ML output : ML สามารถคาดการณ์เที่ยวบินที่จะเกิดการดีเลย์ได้"
      ]
    },
    {
      "cell_type": "markdown",
      "metadata": {
        "id": "m_6gzpQXEXz2"
      },
      "source": [
        "### 3. Identify the type of ML problem that you're working with."
      ]
    },
    {
      "cell_type": "code",
      "execution_count": null,
      "metadata": {
        "id": "qf9oiW-pEXz2"
      },
      "outputs": [],
      "source": [
        "# Write your answer here\n",
        "Supervised Machine Learning"
      ]
    },
    {
      "cell_type": "markdown",
      "metadata": {
        "id": "fJdWETcgEXz3"
      },
      "source": [
        "### 4. Analyze the appropriateness of the data that you're working with."
      ]
    },
    {
      "cell_type": "code",
      "execution_count": null,
      "metadata": {
        "id": "I-AYxnlXEXz3"
      },
      "outputs": [],
      "source": [
        "# Write your answer here\n",
        "คิดว่าชุดข้อมูลที่ได้มาเหมาะสมกับการนำมาวิเคราะห์และคาดการณ์การดีเลย์ของเที่ยวบินได้เนื่องจากมีการนำข้อมูลมาวิเคราะห์ตั้งแต่ปี 2556-2561 ทั้งยังมีการนำข้อมูล\n",
        "การดีเลย์ของเที่ยวบิน รวมถึงวันที่ เวลา ระยะทาง เป็นต้น พอมีชุดข้อมูลก่อนหน้าทำให้สามารถคาดการณ์ล่วงหน้าได้จากชุดข้อมูลที่มีอยู่ว่าถ้าเที่ยวบินเวลานี้ในช่วงปีที่ผ่านมาส่วนมากเกิดการดีเลย์ไหม\n",
        "ถ้าเกิดการดีเลย์ก็อาจจะคาดการณ์ได้ว่าอาจจะเกิดการดีเลย์ขึ้นอีก"
      ]
    },
    {
      "cell_type": "markdown",
      "metadata": {
        "id": "7ONvxwGJEXz4"
      },
      "source": [
        "### Setup\n",
        "\n",
        "Now that you have decided where you want to focus your attention, you will set up this lab so that you can start solving the problem.\n",
        "\n",
        "**Note:** This notebook was created and tested on an `ml.m4.xlarge` notebook instance with 25 GB storage. "
      ]
    },
    {
      "cell_type": "code",
      "execution_count": null,
      "metadata": {
        "id": "iP0zuvPYEXz4"
      },
      "outputs": [],
      "source": [
        "import os\n",
        "from pathlib2 import Path\n",
        "from zipfile import ZipFile\n",
        "import time\n",
        "\n",
        "import pandas as pd\n",
        "import numpy as np\n",
        "import subprocess\n",
        "\n",
        "import matplotlib.pyplot as plt\n",
        "import seaborn as sns\n",
        "\n",
        "sns.set()\n",
        "instance_type='ml.m4.xlarge'\n",
        "\n",
        "import warnings\n",
        "warnings.filterwarnings('ignore')\n",
        "\n",
        "%matplotlib inline"
      ]
    },
    {
      "cell_type": "markdown",
      "metadata": {
        "id": "LFsQYNYbEXz4"
      },
      "source": [
        "# Step 2: Data preprocessing and visualization  \n",
        "In this data preprocessing phase, you explore and visualize your data to better understand it. First, import the necessary libraries and read the data into a pandas DataFrame. After you import the data, explore the dataset. Look for the shape of the dataset and explore your columns and the types of columns that you will work with (numerical, categorical). Consider performing basic statistics on the features to get a sense of feature means and ranges. Examine your target column closely, and determine its distribution.\n",
        "\n",
        "\n",
        "### Specific questions to consider\n",
        "\n",
        "Throughout this section of the lab, consider the following questions:\n",
        "\n",
        "1. What can you deduce from the basic statistics that you ran on the features? \n",
        "2. What can you deduce from the distributions of the target classes?\n",
        "3. Is there anything else you can deduce by exploring the data?\n",
        "\n",
        "#### <span style=\"color: blue;\">Project presentation: Include a summary of your answers to these questions (and other similar questions) in your project presentation.</span>"
      ]
    },
    {
      "cell_type": "markdown",
      "metadata": {
        "id": "1MIgN35-EXz5"
      },
      "source": [
        "Start by bringing in the dataset from a public Amazon Simple Storage Service (Amazon S3) bucket to this notebook environment."
      ]
    },
    {
      "cell_type": "code",
      "execution_count": null,
      "metadata": {
        "id": "EG9T9RjJEXz5",
        "outputId": "531b80fb-34ea-4223-c020-22d314b00b04"
      },
      "outputs": [
        {
          "name": "stdout",
          "output_type": "stream",
          "text": [
            "download: s3://aws-tc-largeobjects/CUR-TF-200-ACMLFO-1/flight_delay_project/data/On_Time_Reporting_Carrier_On_Time_Performance_1987_present_2014_11.zip to ../project/data/FlightDelays/On_Time_Reporting_Carrier_On_Time_Performance_1987_present_2014_11.zip\n",
            "download: s3://aws-tc-largeobjects/CUR-TF-200-ACMLFO-1/flight_delay_project/data/On_Time_Reporting_Carrier_On_Time_Performance_1987_present_2014_1.zip to ../project/data/FlightDelays/On_Time_Reporting_Carrier_On_Time_Performance_1987_present_2014_1.zip\n",
            "download: s3://aws-tc-largeobjects/CUR-TF-200-ACMLFO-1/flight_delay_project/data/On_Time_Reporting_Carrier_On_Time_Performance_1987_present_2014_12.zip to ../project/data/FlightDelays/On_Time_Reporting_Carrier_On_Time_Performance_1987_present_2014_12.zip\n",
            "download: s3://aws-tc-largeobjects/CUR-TF-200-ACMLFO-1/flight_delay_project/data/On_Time_Reporting_Carrier_On_Time_Performance_1987_present_2014_3.zip to ../project/data/FlightDelays/On_Time_Reporting_Carrier_On_Time_Performance_1987_present_2014_3.zip\n",
            "download: s3://aws-tc-largeobjects/CUR-TF-200-ACMLFO-1/flight_delay_project/data/On_Time_Reporting_Carrier_On_Time_Performance_1987_present_2014_4.zip to ../project/data/FlightDelays/On_Time_Reporting_Carrier_On_Time_Performance_1987_present_2014_4.zip\n",
            "download: s3://aws-tc-largeobjects/CUR-TF-200-ACMLFO-1/flight_delay_project/data/On_Time_Reporting_Carrier_On_Time_Performance_1987_present_2014_2.zip to ../project/data/FlightDelays/On_Time_Reporting_Carrier_On_Time_Performance_1987_present_2014_2.zip\n",
            "download: s3://aws-tc-largeobjects/CUR-TF-200-ACMLFO-1/flight_delay_project/data/On_Time_Reporting_Carrier_On_Time_Performance_1987_present_2014_7.zip to ../project/data/FlightDelays/On_Time_Reporting_Carrier_On_Time_Performance_1987_present_2014_7.zip\n",
            "download: s3://aws-tc-largeobjects/CUR-TF-200-ACMLFO-1/flight_delay_project/data/On_Time_Reporting_Carrier_On_Time_Performance_1987_present_2014_6.zip to ../project/data/FlightDelays/On_Time_Reporting_Carrier_On_Time_Performance_1987_present_2014_6.zip\n",
            "download: s3://aws-tc-largeobjects/CUR-TF-200-ACMLFO-1/flight_delay_project/data/On_Time_Reporting_Carrier_On_Time_Performance_1987_present_2014_10.zip to ../project/data/FlightDelays/On_Time_Reporting_Carrier_On_Time_Performance_1987_present_2014_10.zip\n",
            "download: s3://aws-tc-largeobjects/CUR-TF-200-ACMLFO-1/flight_delay_project/data/On_Time_Reporting_Carrier_On_Time_Performance_1987_present_2014_5.zip to ../project/data/FlightDelays/On_Time_Reporting_Carrier_On_Time_Performance_1987_present_2014_5.zip\n",
            "download: s3://aws-tc-largeobjects/CUR-TF-200-ACMLFO-1/flight_delay_project/data/On_Time_Reporting_Carrier_On_Time_Performance_1987_present_2014_8.zip to ../project/data/FlightDelays/On_Time_Reporting_Carrier_On_Time_Performance_1987_present_2014_8.zip\n",
            "download: s3://aws-tc-largeobjects/CUR-TF-200-ACMLFO-1/flight_delay_project/data/On_Time_Reporting_Carrier_On_Time_Performance_1987_present_2015_1.zip to ../project/data/FlightDelays/On_Time_Reporting_Carrier_On_Time_Performance_1987_present_2015_1.zip\n",
            "download: s3://aws-tc-largeobjects/CUR-TF-200-ACMLFO-1/flight_delay_project/data/On_Time_Reporting_Carrier_On_Time_Performance_1987_present_2015_11.zip to ../project/data/FlightDelays/On_Time_Reporting_Carrier_On_Time_Performance_1987_present_2015_11.zip\n",
            "download: s3://aws-tc-largeobjects/CUR-TF-200-ACMLFO-1/flight_delay_project/data/On_Time_Reporting_Carrier_On_Time_Performance_1987_present_2015_2.zip to ../project/data/FlightDelays/On_Time_Reporting_Carrier_On_Time_Performance_1987_present_2015_2.zip\n",
            "download: s3://aws-tc-largeobjects/CUR-TF-200-ACMLFO-1/flight_delay_project/data/On_Time_Reporting_Carrier_On_Time_Performance_1987_present_2015_12.zip to ../project/data/FlightDelays/On_Time_Reporting_Carrier_On_Time_Performance_1987_present_2015_12.zip\n",
            "download: s3://aws-tc-largeobjects/CUR-TF-200-ACMLFO-1/flight_delay_project/data/On_Time_Reporting_Carrier_On_Time_Performance_1987_present_2014_9.zip to ../project/data/FlightDelays/On_Time_Reporting_Carrier_On_Time_Performance_1987_present_2014_9.zip\n",
            "download: s3://aws-tc-largeobjects/CUR-TF-200-ACMLFO-1/flight_delay_project/data/On_Time_Reporting_Carrier_On_Time_Performance_1987_present_2015_4.zip to ../project/data/FlightDelays/On_Time_Reporting_Carrier_On_Time_Performance_1987_present_2015_4.zip\n",
            "download: s3://aws-tc-largeobjects/CUR-TF-200-ACMLFO-1/flight_delay_project/data/On_Time_Reporting_Carrier_On_Time_Performance_1987_present_2015_5.zip to ../project/data/FlightDelays/On_Time_Reporting_Carrier_On_Time_Performance_1987_present_2015_5.zip\n",
            "download: s3://aws-tc-largeobjects/CUR-TF-200-ACMLFO-1/flight_delay_project/data/On_Time_Reporting_Carrier_On_Time_Performance_1987_present_2015_6.zip to ../project/data/FlightDelays/On_Time_Reporting_Carrier_On_Time_Performance_1987_present_2015_6.zip\n",
            "download: s3://aws-tc-largeobjects/CUR-TF-200-ACMLFO-1/flight_delay_project/data/On_Time_Reporting_Carrier_On_Time_Performance_1987_present_2015_3.zip to ../project/data/FlightDelays/On_Time_Reporting_Carrier_On_Time_Performance_1987_present_2015_3.zip\n",
            "download: s3://aws-tc-largeobjects/CUR-TF-200-ACMLFO-1/flight_delay_project/data/On_Time_Reporting_Carrier_On_Time_Performance_1987_present_2015_7.zip to ../project/data/FlightDelays/On_Time_Reporting_Carrier_On_Time_Performance_1987_present_2015_7.zip\n",
            "download: s3://aws-tc-largeobjects/CUR-TF-200-ACMLFO-1/flight_delay_project/data/On_Time_Reporting_Carrier_On_Time_Performance_1987_present_2015_10.zip to ../project/data/FlightDelays/On_Time_Reporting_Carrier_On_Time_Performance_1987_present_2015_10.zip\n",
            "download: s3://aws-tc-largeobjects/CUR-TF-200-ACMLFO-1/flight_delay_project/data/On_Time_Reporting_Carrier_On_Time_Performance_1987_present_2016_1.zip to ../project/data/FlightDelays/On_Time_Reporting_Carrier_On_Time_Performance_1987_present_2016_1.zip\n",
            "download: s3://aws-tc-largeobjects/CUR-TF-200-ACMLFO-1/flight_delay_project/data/On_Time_Reporting_Carrier_On_Time_Performance_1987_present_2015_9.zip to ../project/data/FlightDelays/On_Time_Reporting_Carrier_On_Time_Performance_1987_present_2015_9.zip\n",
            "download: s3://aws-tc-largeobjects/CUR-TF-200-ACMLFO-1/flight_delay_project/data/On_Time_Reporting_Carrier_On_Time_Performance_1987_present_2015_8.zip to ../project/data/FlightDelays/On_Time_Reporting_Carrier_On_Time_Performance_1987_present_2015_8.zip\n",
            "download: s3://aws-tc-largeobjects/CUR-TF-200-ACMLFO-1/flight_delay_project/data/On_Time_Reporting_Carrier_On_Time_Performance_1987_present_2016_12.zip to ../project/data/FlightDelays/On_Time_Reporting_Carrier_On_Time_Performance_1987_present_2016_12.zip\n",
            "download: s3://aws-tc-largeobjects/CUR-TF-200-ACMLFO-1/flight_delay_project/data/On_Time_Reporting_Carrier_On_Time_Performance_1987_present_2016_11.zip to ../project/data/FlightDelays/On_Time_Reporting_Carrier_On_Time_Performance_1987_present_2016_11.zip\n",
            "download: s3://aws-tc-largeobjects/CUR-TF-200-ACMLFO-1/flight_delay_project/data/On_Time_Reporting_Carrier_On_Time_Performance_1987_present_2016_2.zip to ../project/data/FlightDelays/On_Time_Reporting_Carrier_On_Time_Performance_1987_present_2016_2.zip\n",
            "download: s3://aws-tc-largeobjects/CUR-TF-200-ACMLFO-1/flight_delay_project/data/On_Time_Reporting_Carrier_On_Time_Performance_1987_present_2016_4.zip to ../project/data/FlightDelays/On_Time_Reporting_Carrier_On_Time_Performance_1987_present_2016_4.zip\n",
            "download: s3://aws-tc-largeobjects/CUR-TF-200-ACMLFO-1/flight_delay_project/data/On_Time_Reporting_Carrier_On_Time_Performance_1987_present_2016_3.zip to ../project/data/FlightDelays/On_Time_Reporting_Carrier_On_Time_Performance_1987_present_2016_3.zip\n",
            "download: s3://aws-tc-largeobjects/CUR-TF-200-ACMLFO-1/flight_delay_project/data/On_Time_Reporting_Carrier_On_Time_Performance_1987_present_2016_10.zip to ../project/data/FlightDelays/On_Time_Reporting_Carrier_On_Time_Performance_1987_present_2016_10.zip\n",
            "download: s3://aws-tc-largeobjects/CUR-TF-200-ACMLFO-1/flight_delay_project/data/On_Time_Reporting_Carrier_On_Time_Performance_1987_present_2016_5.zip to ../project/data/FlightDelays/On_Time_Reporting_Carrier_On_Time_Performance_1987_present_2016_5.zip\n",
            "download: s3://aws-tc-largeobjects/CUR-TF-200-ACMLFO-1/flight_delay_project/data/On_Time_Reporting_Carrier_On_Time_Performance_1987_present_2016_8.zip to ../project/data/FlightDelays/On_Time_Reporting_Carrier_On_Time_Performance_1987_present_2016_8.zip\n",
            "download: s3://aws-tc-largeobjects/CUR-TF-200-ACMLFO-1/flight_delay_project/data/On_Time_Reporting_Carrier_On_Time_Performance_1987_present_2016_6.zip to ../project/data/FlightDelays/On_Time_Reporting_Carrier_On_Time_Performance_1987_present_2016_6.zip\n",
            "download: s3://aws-tc-largeobjects/CUR-TF-200-ACMLFO-1/flight_delay_project/data/On_Time_Reporting_Carrier_On_Time_Performance_1987_present_2016_7.zip to ../project/data/FlightDelays/On_Time_Reporting_Carrier_On_Time_Performance_1987_present_2016_7.zip\n",
            "download: s3://aws-tc-largeobjects/CUR-TF-200-ACMLFO-1/flight_delay_project/data/On_Time_Reporting_Carrier_On_Time_Performance_1987_present_2017_1.zip to ../project/data/FlightDelays/On_Time_Reporting_Carrier_On_Time_Performance_1987_present_2017_1.zip\n",
            "download: s3://aws-tc-largeobjects/CUR-TF-200-ACMLFO-1/flight_delay_project/data/On_Time_Reporting_Carrier_On_Time_Performance_1987_present_2017_10.zip to ../project/data/FlightDelays/On_Time_Reporting_Carrier_On_Time_Performance_1987_present_2017_10.zip\n",
            "download: s3://aws-tc-largeobjects/CUR-TF-200-ACMLFO-1/flight_delay_project/data/On_Time_Reporting_Carrier_On_Time_Performance_1987_present_2016_9.zip to ../project/data/FlightDelays/On_Time_Reporting_Carrier_On_Time_Performance_1987_present_2016_9.zip\n",
            "download: s3://aws-tc-largeobjects/CUR-TF-200-ACMLFO-1/flight_delay_project/data/On_Time_Reporting_Carrier_On_Time_Performance_1987_present_2017_11.zip to ../project/data/FlightDelays/On_Time_Reporting_Carrier_On_Time_Performance_1987_present_2017_11.zip\n",
            "download: s3://aws-tc-largeobjects/CUR-TF-200-ACMLFO-1/flight_delay_project/data/On_Time_Reporting_Carrier_On_Time_Performance_1987_present_2017_12.zip to ../project/data/FlightDelays/On_Time_Reporting_Carrier_On_Time_Performance_1987_present_2017_12.zip\n",
            "download: s3://aws-tc-largeobjects/CUR-TF-200-ACMLFO-1/flight_delay_project/data/On_Time_Reporting_Carrier_On_Time_Performance_1987_present_2017_2.zip to ../project/data/FlightDelays/On_Time_Reporting_Carrier_On_Time_Performance_1987_present_2017_2.zip\n",
            "download: s3://aws-tc-largeobjects/CUR-TF-200-ACMLFO-1/flight_delay_project/data/On_Time_Reporting_Carrier_On_Time_Performance_1987_present_2017_3.zip to ../project/data/FlightDelays/On_Time_Reporting_Carrier_On_Time_Performance_1987_present_2017_3.zip\n",
            "download: s3://aws-tc-largeobjects/CUR-TF-200-ACMLFO-1/flight_delay_project/data/On_Time_Reporting_Carrier_On_Time_Performance_1987_present_2017_5.zip to ../project/data/FlightDelays/On_Time_Reporting_Carrier_On_Time_Performance_1987_present_2017_5.zip\n",
            "download: s3://aws-tc-largeobjects/CUR-TF-200-ACMLFO-1/flight_delay_project/data/On_Time_Reporting_Carrier_On_Time_Performance_1987_present_2017_4.zip to ../project/data/FlightDelays/On_Time_Reporting_Carrier_On_Time_Performance_1987_present_2017_4.zip\n",
            "download: s3://aws-tc-largeobjects/CUR-TF-200-ACMLFO-1/flight_delay_project/data/On_Time_Reporting_Carrier_On_Time_Performance_1987_present_2017_6.zip to ../project/data/FlightDelays/On_Time_Reporting_Carrier_On_Time_Performance_1987_present_2017_6.zip\n",
            "download: s3://aws-tc-largeobjects/CUR-TF-200-ACMLFO-1/flight_delay_project/data/On_Time_Reporting_Carrier_On_Time_Performance_1987_present_2017_7.zip to ../project/data/FlightDelays/On_Time_Reporting_Carrier_On_Time_Performance_1987_present_2017_7.zip\n",
            "download: s3://aws-tc-largeobjects/CUR-TF-200-ACMLFO-1/flight_delay_project/data/On_Time_Reporting_Carrier_On_Time_Performance_1987_present_2017_8.zip to ../project/data/FlightDelays/On_Time_Reporting_Carrier_On_Time_Performance_1987_present_2017_8.zip\n",
            "download: s3://aws-tc-largeobjects/CUR-TF-200-ACMLFO-1/flight_delay_project/data/On_Time_Reporting_Carrier_On_Time_Performance_1987_present_2017_9.zip to ../project/data/FlightDelays/On_Time_Reporting_Carrier_On_Time_Performance_1987_present_2017_9.zip\n",
            "download: s3://aws-tc-largeobjects/CUR-TF-200-ACMLFO-1/flight_delay_project/data/On_Time_Reporting_Carrier_On_Time_Performance_1987_present_2018_1.zip to ../project/data/FlightDelays/On_Time_Reporting_Carrier_On_Time_Performance_1987_present_2018_1.zip\n",
            "download: s3://aws-tc-largeobjects/CUR-TF-200-ACMLFO-1/flight_delay_project/data/On_Time_Reporting_Carrier_On_Time_Performance_1987_present_2018_10.zip to ../project/data/FlightDelays/On_Time_Reporting_Carrier_On_Time_Performance_1987_present_2018_10.zip\n",
            "download: s3://aws-tc-largeobjects/CUR-TF-200-ACMLFO-1/flight_delay_project/data/On_Time_Reporting_Carrier_On_Time_Performance_1987_present_2018_11.zip to ../project/data/FlightDelays/On_Time_Reporting_Carrier_On_Time_Performance_1987_present_2018_11.zip\n",
            "download: s3://aws-tc-largeobjects/CUR-TF-200-ACMLFO-1/flight_delay_project/data/On_Time_Reporting_Carrier_On_Time_Performance_1987_present_2018_2.zip to ../project/data/FlightDelays/On_Time_Reporting_Carrier_On_Time_Performance_1987_present_2018_2.zip\n",
            "download: s3://aws-tc-largeobjects/CUR-TF-200-ACMLFO-1/flight_delay_project/data/On_Time_Reporting_Carrier_On_Time_Performance_1987_present_2018_3.zip to ../project/data/FlightDelays/On_Time_Reporting_Carrier_On_Time_Performance_1987_present_2018_3.zip\n",
            "download: s3://aws-tc-largeobjects/CUR-TF-200-ACMLFO-1/flight_delay_project/data/On_Time_Reporting_Carrier_On_Time_Performance_1987_present_2018_12.zip to ../project/data/FlightDelays/On_Time_Reporting_Carrier_On_Time_Performance_1987_present_2018_12.zip\n",
            "download: s3://aws-tc-largeobjects/CUR-TF-200-ACMLFO-1/flight_delay_project/data/On_Time_Reporting_Carrier_On_Time_Performance_1987_present_2018_4.zip to ../project/data/FlightDelays/On_Time_Reporting_Carrier_On_Time_Performance_1987_present_2018_4.zip\n",
            "download: s3://aws-tc-largeobjects/CUR-TF-200-ACMLFO-1/flight_delay_project/data/On_Time_Reporting_Carrier_On_Time_Performance_1987_present_2018_5.zip to ../project/data/FlightDelays/On_Time_Reporting_Carrier_On_Time_Performance_1987_present_2018_5.zip\n",
            "download: s3://aws-tc-largeobjects/CUR-TF-200-ACMLFO-1/flight_delay_project/data/On_Time_Reporting_Carrier_On_Time_Performance_1987_present_2018_6.zip to ../project/data/FlightDelays/On_Time_Reporting_Carrier_On_Time_Performance_1987_present_2018_6.zip\n",
            "download: s3://aws-tc-largeobjects/CUR-TF-200-ACMLFO-1/flight_delay_project/data/On_Time_Reporting_Carrier_On_Time_Performance_1987_present_2018_7.zip to ../project/data/FlightDelays/On_Time_Reporting_Carrier_On_Time_Performance_1987_present_2018_7.zip\n",
            "download: s3://aws-tc-largeobjects/CUR-TF-200-ACMLFO-1/flight_delay_project/data/On_Time_Reporting_Carrier_On_Time_Performance_1987_present_2018_9.zip to ../project/data/FlightDelays/On_Time_Reporting_Carrier_On_Time_Performance_1987_present_2018_9.zip\n",
            "download: s3://aws-tc-largeobjects/CUR-TF-200-ACMLFO-1/flight_delay_project/data/On_Time_Reporting_Carrier_On_Time_Performance_1987_present_2018_8.zip to ../project/data/FlightDelays/On_Time_Reporting_Carrier_On_Time_Performance_1987_present_2018_8.zip\n"
          ]
        }
      ],
      "source": [
        "# download the files\n",
        "\n",
        "zip_path = '/home/ec2-user/SageMaker/project/data/FlightDelays/'\n",
        "base_path = '/home/ec2-user/SageMaker/project/data/FlightDelays/'\n",
        "csv_base_path = '/home/ec2-user/SageMaker/project/data/csvFlightDelays/'\n",
        "\n",
        "!mkdir -p {zip_path}\n",
        "!mkdir -p {csv_base_path}\n",
        "!aws s3 cp s3://aws-tc-largeobjects/CUR-TF-200-ACMLFO-1/flight_delay_project/data/ {zip_path} --recursive\n"
      ]
    },
    {
      "cell_type": "code",
      "execution_count": null,
      "metadata": {
        "id": "UzZFFfK1EXz6",
        "outputId": "105966ed-d3e2-4006-d072-942bcf508520"
      },
      "outputs": [
        {
          "data": {
            "text/plain": [
              "60"
            ]
          },
          "execution_count": 3,
          "metadata": {},
          "output_type": "execute_result"
        }
      ],
      "source": [
        "zip_files = [str(file) for file in list(Path(base_path).iterdir()) if '.zip' in str(file)]\n",
        "len(zip_files)"
      ]
    },
    {
      "cell_type": "markdown",
      "metadata": {
        "id": "MwKwnVuoEXz6"
      },
      "source": [
        "Extract comma-separated values (CSV) files from the .zip files."
      ]
    },
    {
      "cell_type": "code",
      "execution_count": null,
      "metadata": {
        "id": "_XV77NNdEXz6",
        "outputId": "5e581ec8-1dac-4cb8-dfa6-2b23b27ca390"
      },
      "outputs": [
        {
          "name": "stdout",
          "output_type": "stream",
          "text": [
            "Extracting /home/ec2-user/SageMaker/project/data/FlightDelays/On_Time_Reporting_Carrier_On_Time_Performance_1987_present_2014_4.zip \n",
            "Extracting /home/ec2-user/SageMaker/project/data/FlightDelays/On_Time_Reporting_Carrier_On_Time_Performance_1987_present_2017_8.zip \n",
            "Extracting /home/ec2-user/SageMaker/project/data/FlightDelays/On_Time_Reporting_Carrier_On_Time_Performance_1987_present_2016_3.zip \n",
            "Extracting /home/ec2-user/SageMaker/project/data/FlightDelays/On_Time_Reporting_Carrier_On_Time_Performance_1987_present_2014_2.zip \n",
            "Extracting /home/ec2-user/SageMaker/project/data/FlightDelays/On_Time_Reporting_Carrier_On_Time_Performance_1987_present_2018_5.zip \n",
            "Extracting /home/ec2-user/SageMaker/project/data/FlightDelays/On_Time_Reporting_Carrier_On_Time_Performance_1987_present_2014_10.zip \n",
            "Extracting /home/ec2-user/SageMaker/project/data/FlightDelays/On_Time_Reporting_Carrier_On_Time_Performance_1987_present_2015_6.zip \n",
            "Extracting /home/ec2-user/SageMaker/project/data/FlightDelays/On_Time_Reporting_Carrier_On_Time_Performance_1987_present_2016_8.zip \n",
            "Extracting /home/ec2-user/SageMaker/project/data/FlightDelays/On_Time_Reporting_Carrier_On_Time_Performance_1987_present_2017_9.zip \n",
            "Extracting /home/ec2-user/SageMaker/project/data/FlightDelays/On_Time_Reporting_Carrier_On_Time_Performance_1987_present_2017_7.zip \n",
            "Extracting /home/ec2-user/SageMaker/project/data/FlightDelays/On_Time_Reporting_Carrier_On_Time_Performance_1987_present_2018_6.zip \n",
            "Extracting /home/ec2-user/SageMaker/project/data/FlightDelays/On_Time_Reporting_Carrier_On_Time_Performance_1987_present_2014_6.zip \n",
            "Extracting /home/ec2-user/SageMaker/project/data/FlightDelays/On_Time_Reporting_Carrier_On_Time_Performance_1987_present_2016_9.zip \n",
            "Extracting /home/ec2-user/SageMaker/project/data/FlightDelays/On_Time_Reporting_Carrier_On_Time_Performance_1987_present_2014_12.zip \n",
            "Extracting /home/ec2-user/SageMaker/project/data/FlightDelays/On_Time_Reporting_Carrier_On_Time_Performance_1987_present_2015_7.zip \n",
            "Extracting /home/ec2-user/SageMaker/project/data/FlightDelays/On_Time_Reporting_Carrier_On_Time_Performance_1987_present_2015_2.zip \n",
            "Extracting /home/ec2-user/SageMaker/project/data/FlightDelays/On_Time_Reporting_Carrier_On_Time_Performance_1987_present_2015_8.zip \n",
            "Extracting /home/ec2-user/SageMaker/project/data/FlightDelays/On_Time_Reporting_Carrier_On_Time_Performance_1987_present_2018_12.zip \n",
            "Extracting /home/ec2-user/SageMaker/project/data/FlightDelays/On_Time_Reporting_Carrier_On_Time_Performance_1987_present_2017_4.zip \n",
            "Extracting /home/ec2-user/SageMaker/project/data/FlightDelays/On_Time_Reporting_Carrier_On_Time_Performance_1987_present_2015_1.zip \n",
            "Extracting /home/ec2-user/SageMaker/project/data/FlightDelays/On_Time_Reporting_Carrier_On_Time_Performance_1987_present_2018_1.zip \n",
            "Extracting /home/ec2-user/SageMaker/project/data/FlightDelays/On_Time_Reporting_Carrier_On_Time_Performance_1987_present_2015_3.zip \n",
            "Extracting /home/ec2-user/SageMaker/project/data/FlightDelays/On_Time_Reporting_Carrier_On_Time_Performance_1987_present_2017_3.zip \n",
            "Extracting /home/ec2-user/SageMaker/project/data/FlightDelays/On_Time_Reporting_Carrier_On_Time_Performance_1987_present_2014_8.zip \n",
            "Extracting /home/ec2-user/SageMaker/project/data/FlightDelays/On_Time_Reporting_Carrier_On_Time_Performance_1987_present_2014_11.zip \n",
            "Extracting /home/ec2-user/SageMaker/project/data/FlightDelays/On_Time_Reporting_Carrier_On_Time_Performance_1987_present_2014_5.zip \n",
            "Extracting /home/ec2-user/SageMaker/project/data/FlightDelays/On_Time_Reporting_Carrier_On_Time_Performance_1987_present_2016_5.zip \n",
            "Extracting /home/ec2-user/SageMaker/project/data/FlightDelays/On_Time_Reporting_Carrier_On_Time_Performance_1987_present_2016_4.zip \n",
            "Extracting /home/ec2-user/SageMaker/project/data/FlightDelays/On_Time_Reporting_Carrier_On_Time_Performance_1987_present_2014_7.zip \n",
            "Extracting /home/ec2-user/SageMaker/project/data/FlightDelays/On_Time_Reporting_Carrier_On_Time_Performance_1987_present_2017_12.zip \n",
            "Extracting /home/ec2-user/SageMaker/project/data/FlightDelays/On_Time_Reporting_Carrier_On_Time_Performance_1987_present_2018_7.zip \n",
            "Extracting /home/ec2-user/SageMaker/project/data/FlightDelays/On_Time_Reporting_Carrier_On_Time_Performance_1987_present_2018_9.zip \n",
            "Extracting /home/ec2-user/SageMaker/project/data/FlightDelays/On_Time_Reporting_Carrier_On_Time_Performance_1987_present_2015_11.zip \n",
            "Extracting /home/ec2-user/SageMaker/project/data/FlightDelays/On_Time_Reporting_Carrier_On_Time_Performance_1987_present_2014_1.zip \n",
            "Extracting /home/ec2-user/SageMaker/project/data/FlightDelays/On_Time_Reporting_Carrier_On_Time_Performance_1987_present_2015_10.zip \n",
            "Extracting /home/ec2-user/SageMaker/project/data/FlightDelays/On_Time_Reporting_Carrier_On_Time_Performance_1987_present_2017_6.zip \n",
            "Extracting /home/ec2-user/SageMaker/project/data/FlightDelays/On_Time_Reporting_Carrier_On_Time_Performance_1987_present_2016_11.zip \n",
            "Extracting /home/ec2-user/SageMaker/project/data/FlightDelays/On_Time_Reporting_Carrier_On_Time_Performance_1987_present_2016_12.zip \n",
            "Extracting /home/ec2-user/SageMaker/project/data/FlightDelays/On_Time_Reporting_Carrier_On_Time_Performance_1987_present_2018_3.zip \n",
            "Extracting /home/ec2-user/SageMaker/project/data/FlightDelays/On_Time_Reporting_Carrier_On_Time_Performance_1987_present_2016_10.zip \n",
            "Extracting /home/ec2-user/SageMaker/project/data/FlightDelays/On_Time_Reporting_Carrier_On_Time_Performance_1987_present_2018_10.zip \n",
            "Extracting /home/ec2-user/SageMaker/project/data/FlightDelays/On_Time_Reporting_Carrier_On_Time_Performance_1987_present_2016_6.zip \n",
            "Extracting /home/ec2-user/SageMaker/project/data/FlightDelays/On_Time_Reporting_Carrier_On_Time_Performance_1987_present_2017_5.zip \n",
            "Extracting /home/ec2-user/SageMaker/project/data/FlightDelays/On_Time_Reporting_Carrier_On_Time_Performance_1987_present_2017_1.zip \n",
            "Extracting /home/ec2-user/SageMaker/project/data/FlightDelays/On_Time_Reporting_Carrier_On_Time_Performance_1987_present_2015_9.zip \n",
            "Extracting /home/ec2-user/SageMaker/project/data/FlightDelays/On_Time_Reporting_Carrier_On_Time_Performance_1987_present_2018_2.zip \n",
            "Extracting /home/ec2-user/SageMaker/project/data/FlightDelays/On_Time_Reporting_Carrier_On_Time_Performance_1987_present_2016_7.zip \n",
            "Extracting /home/ec2-user/SageMaker/project/data/FlightDelays/On_Time_Reporting_Carrier_On_Time_Performance_1987_present_2015_5.zip \n",
            "Extracting /home/ec2-user/SageMaker/project/data/FlightDelays/On_Time_Reporting_Carrier_On_Time_Performance_1987_present_2017_2.zip \n",
            "Extracting /home/ec2-user/SageMaker/project/data/FlightDelays/On_Time_Reporting_Carrier_On_Time_Performance_1987_present_2018_8.zip \n",
            "Extracting /home/ec2-user/SageMaker/project/data/FlightDelays/On_Time_Reporting_Carrier_On_Time_Performance_1987_present_2018_4.zip \n",
            "Extracting /home/ec2-user/SageMaker/project/data/FlightDelays/On_Time_Reporting_Carrier_On_Time_Performance_1987_present_2018_11.zip \n",
            "Extracting /home/ec2-user/SageMaker/project/data/FlightDelays/On_Time_Reporting_Carrier_On_Time_Performance_1987_present_2017_11.zip \n",
            "Extracting /home/ec2-user/SageMaker/project/data/FlightDelays/On_Time_Reporting_Carrier_On_Time_Performance_1987_present_2017_10.zip \n",
            "Extracting /home/ec2-user/SageMaker/project/data/FlightDelays/On_Time_Reporting_Carrier_On_Time_Performance_1987_present_2014_9.zip \n",
            "Extracting /home/ec2-user/SageMaker/project/data/FlightDelays/On_Time_Reporting_Carrier_On_Time_Performance_1987_present_2016_1.zip \n",
            "Extracting /home/ec2-user/SageMaker/project/data/FlightDelays/On_Time_Reporting_Carrier_On_Time_Performance_1987_present_2014_3.zip \n",
            "Extracting /home/ec2-user/SageMaker/project/data/FlightDelays/On_Time_Reporting_Carrier_On_Time_Performance_1987_present_2015_4.zip \n",
            "Extracting /home/ec2-user/SageMaker/project/data/FlightDelays/On_Time_Reporting_Carrier_On_Time_Performance_1987_present_2015_12.zip \n",
            "Extracting /home/ec2-user/SageMaker/project/data/FlightDelays/On_Time_Reporting_Carrier_On_Time_Performance_1987_present_2016_2.zip \n",
            "Files Extracted\n"
          ]
        }
      ],
      "source": [
        "def zip2csv(zipFile_name , file_path):\n",
        "    \"\"\"\n",
        "    Extract csv from zip files\n",
        "    zipFile_name: name of the zip file\n",
        "    file_path : name of the folder to store csv\n",
        "    \"\"\"\n",
        "\n",
        "    try:\n",
        "        with ZipFile(zipFile_name, 'r') as z: \n",
        "            print(f'Extracting {zipFile_name} ') \n",
        "            z.extractall(path=file_path) \n",
        "    except:\n",
        "        print(f'zip2csv failed for {zipFile_name}')\n",
        "\n",
        "for file in zip_files:\n",
        "    zip2csv(file, csv_base_path)\n",
        "\n",
        "print(\"Files Extracted\")"
      ]
    },
    {
      "cell_type": "code",
      "execution_count": null,
      "metadata": {
        "id": "QGGVkymFEXz7",
        "outputId": "6282ce0d-8131-451c-d96f-6f1d0e8d8fe8"
      },
      "outputs": [
        {
          "data": {
            "text/plain": [
              "60"
            ]
          },
          "execution_count": 5,
          "metadata": {},
          "output_type": "execute_result"
        }
      ],
      "source": [
        "csv_files = [str(file) for file in list(Path(csv_base_path).iterdir()) if '.csv' in str(file)]\n",
        "len(csv_files)"
      ]
    },
    {
      "cell_type": "markdown",
      "metadata": {
        "id": "xjzLMVy1EXz7"
      },
      "source": [
        "Before you load the CSV file, read the HTML file from the extracted folder. This HTML file includes the background and more information about the features that are included in the dataset."
      ]
    },
    {
      "cell_type": "code",
      "execution_count": null,
      "metadata": {
        "id": "0243TclaEXz7",
        "outputId": "83285945-4479-46de-81fc-f858e542266c"
      },
      "outputs": [
        {
          "data": {
            "text/html": [
              "\n",
              "        <iframe\n",
              "            width=\"1000\"\n",
              "            height=\"600\"\n",
              "            src=\"../project/data/csvFlightDelays/readme.html\"\n",
              "            frameborder=\"0\"\n",
              "            allowfullscreen\n",
              "        ></iframe>\n",
              "        "
            ],
            "text/plain": [
              "<IPython.lib.display.IFrame at 0x7f3918225b38>"
            ]
          },
          "execution_count": 6,
          "metadata": {},
          "output_type": "execute_result"
        }
      ],
      "source": [
        "from IPython.display import IFrame\n",
        "\n",
        "IFrame(src=os.path.relpath(f\"{csv_base_path}readme.html\"), width=1000, height=600)"
      ]
    },
    {
      "cell_type": "markdown",
      "metadata": {
        "id": "3RG4PsS2EXz7"
      },
      "source": [
        "#### Load sample CSV file\n",
        "\n",
        "Before you combine all the CSV files, examine the data from a single CSV file. By using pandas, read the `On_Time_Reporting_Carrier_On_Time_Performance_(1987_present)_2018_9.csv` file first. You can use the built-in `read_csv` function in Python ([pandas.read_csv documentation](https://pandas.pydata.org/pandas-docs/stable/reference/api/pandas.read_csv.html))."
      ]
    },
    {
      "cell_type": "code",
      "execution_count": null,
      "metadata": {
        "id": "C_5nkpPFEXz7"
      },
      "outputs": [],
      "source": [
        "df_temp = pd.read_csv(f\"{csv_base_path}On_Time_Reporting_Carrier_On_Time_Performance_(1987_present)_2018_9.csv\")"
      ]
    },
    {
      "cell_type": "markdown",
      "metadata": {
        "id": "nIYS12cvEXz8"
      },
      "source": [
        "**Question**: Print the row and column length in the dataset, and print the column names.\n",
        "\n",
        "**Hint**: To view the rows and columns of a DataFrame, use the `<DataFrame>.shape` function. To view the column names, use the `<DataFrame>.columns` function."
      ]
    },
    {
      "cell_type": "code",
      "execution_count": null,
      "metadata": {
        "id": "DMwDlFvCEXz8",
        "outputId": "faaa80f8-ae3f-42ba-b94e-ce6a0bc05b88"
      },
      "outputs": [
        {
          "name": "stdout",
          "output_type": "stream",
          "text": [
            "Rows and columns in one CSV file is (585749, 110)\n"
          ]
        }
      ],
      "source": [
        "df_shape = df_temp.shape # **ENTER YOUR CODE HERE**\n",
        "print(f'Rows and columns in one CSV file is {df_shape}')"
      ]
    },
    {
      "cell_type": "markdown",
      "metadata": {
        "id": "BwUfA4TkEXz8"
      },
      "source": [
        "**Question**: Print the first 10 rows of the dataset.  \n",
        "\n",
        "**Hint**: To print `x` number of rows, use the built-in `head(x)` function in pandas."
      ]
    },
    {
      "cell_type": "code",
      "execution_count": null,
      "metadata": {
        "id": "gopsHi62EXz8",
        "outputId": "86eab240-d19b-4142-f73b-4064e8380686"
      },
      "outputs": [
        {
          "data": {
            "text/html": [
              "<div>\n",
              "<style scoped>\n",
              "    .dataframe tbody tr th:only-of-type {\n",
              "        vertical-align: middle;\n",
              "    }\n",
              "\n",
              "    .dataframe tbody tr th {\n",
              "        vertical-align: top;\n",
              "    }\n",
              "\n",
              "    .dataframe thead th {\n",
              "        text-align: right;\n",
              "    }\n",
              "</style>\n",
              "<table border=\"1\" class=\"dataframe\">\n",
              "  <thead>\n",
              "    <tr style=\"text-align: right;\">\n",
              "      <th></th>\n",
              "      <th>Year</th>\n",
              "      <th>Quarter</th>\n",
              "      <th>Month</th>\n",
              "      <th>DayofMonth</th>\n",
              "      <th>DayOfWeek</th>\n",
              "      <th>FlightDate</th>\n",
              "      <th>Reporting_Airline</th>\n",
              "      <th>DOT_ID_Reporting_Airline</th>\n",
              "      <th>IATA_CODE_Reporting_Airline</th>\n",
              "      <th>Tail_Number</th>\n",
              "      <th>...</th>\n",
              "      <th>Div4TailNum</th>\n",
              "      <th>Div5Airport</th>\n",
              "      <th>Div5AirportID</th>\n",
              "      <th>Div5AirportSeqID</th>\n",
              "      <th>Div5WheelsOn</th>\n",
              "      <th>Div5TotalGTime</th>\n",
              "      <th>Div5LongestGTime</th>\n",
              "      <th>Div5WheelsOff</th>\n",
              "      <th>Div5TailNum</th>\n",
              "      <th>Unnamed: 109</th>\n",
              "    </tr>\n",
              "  </thead>\n",
              "  <tbody>\n",
              "    <tr>\n",
              "      <th>0</th>\n",
              "      <td>2018</td>\n",
              "      <td>3</td>\n",
              "      <td>9</td>\n",
              "      <td>3</td>\n",
              "      <td>1</td>\n",
              "      <td>2018-09-03</td>\n",
              "      <td>9E</td>\n",
              "      <td>20363</td>\n",
              "      <td>9E</td>\n",
              "      <td>N908XJ</td>\n",
              "      <td>...</td>\n",
              "      <td>NaN</td>\n",
              "      <td>NaN</td>\n",
              "      <td>NaN</td>\n",
              "      <td>NaN</td>\n",
              "      <td>NaN</td>\n",
              "      <td>NaN</td>\n",
              "      <td>NaN</td>\n",
              "      <td>NaN</td>\n",
              "      <td>NaN</td>\n",
              "      <td>NaN</td>\n",
              "    </tr>\n",
              "    <tr>\n",
              "      <th>1</th>\n",
              "      <td>2018</td>\n",
              "      <td>3</td>\n",
              "      <td>9</td>\n",
              "      <td>9</td>\n",
              "      <td>7</td>\n",
              "      <td>2018-09-09</td>\n",
              "      <td>9E</td>\n",
              "      <td>20363</td>\n",
              "      <td>9E</td>\n",
              "      <td>N315PQ</td>\n",
              "      <td>...</td>\n",
              "      <td>NaN</td>\n",
              "      <td>NaN</td>\n",
              "      <td>NaN</td>\n",
              "      <td>NaN</td>\n",
              "      <td>NaN</td>\n",
              "      <td>NaN</td>\n",
              "      <td>NaN</td>\n",
              "      <td>NaN</td>\n",
              "      <td>NaN</td>\n",
              "      <td>NaN</td>\n",
              "    </tr>\n",
              "    <tr>\n",
              "      <th>2</th>\n",
              "      <td>2018</td>\n",
              "      <td>3</td>\n",
              "      <td>9</td>\n",
              "      <td>10</td>\n",
              "      <td>1</td>\n",
              "      <td>2018-09-10</td>\n",
              "      <td>9E</td>\n",
              "      <td>20363</td>\n",
              "      <td>9E</td>\n",
              "      <td>N582CA</td>\n",
              "      <td>...</td>\n",
              "      <td>NaN</td>\n",
              "      <td>NaN</td>\n",
              "      <td>NaN</td>\n",
              "      <td>NaN</td>\n",
              "      <td>NaN</td>\n",
              "      <td>NaN</td>\n",
              "      <td>NaN</td>\n",
              "      <td>NaN</td>\n",
              "      <td>NaN</td>\n",
              "      <td>NaN</td>\n",
              "    </tr>\n",
              "    <tr>\n",
              "      <th>3</th>\n",
              "      <td>2018</td>\n",
              "      <td>3</td>\n",
              "      <td>9</td>\n",
              "      <td>13</td>\n",
              "      <td>4</td>\n",
              "      <td>2018-09-13</td>\n",
              "      <td>9E</td>\n",
              "      <td>20363</td>\n",
              "      <td>9E</td>\n",
              "      <td>N292PQ</td>\n",
              "      <td>...</td>\n",
              "      <td>NaN</td>\n",
              "      <td>NaN</td>\n",
              "      <td>NaN</td>\n",
              "      <td>NaN</td>\n",
              "      <td>NaN</td>\n",
              "      <td>NaN</td>\n",
              "      <td>NaN</td>\n",
              "      <td>NaN</td>\n",
              "      <td>NaN</td>\n",
              "      <td>NaN</td>\n",
              "    </tr>\n",
              "    <tr>\n",
              "      <th>4</th>\n",
              "      <td>2018</td>\n",
              "      <td>3</td>\n",
              "      <td>9</td>\n",
              "      <td>14</td>\n",
              "      <td>5</td>\n",
              "      <td>2018-09-14</td>\n",
              "      <td>9E</td>\n",
              "      <td>20363</td>\n",
              "      <td>9E</td>\n",
              "      <td>N600LR</td>\n",
              "      <td>...</td>\n",
              "      <td>NaN</td>\n",
              "      <td>NaN</td>\n",
              "      <td>NaN</td>\n",
              "      <td>NaN</td>\n",
              "      <td>NaN</td>\n",
              "      <td>NaN</td>\n",
              "      <td>NaN</td>\n",
              "      <td>NaN</td>\n",
              "      <td>NaN</td>\n",
              "      <td>NaN</td>\n",
              "    </tr>\n",
              "    <tr>\n",
              "      <th>5</th>\n",
              "      <td>2018</td>\n",
              "      <td>3</td>\n",
              "      <td>9</td>\n",
              "      <td>16</td>\n",
              "      <td>7</td>\n",
              "      <td>2018-09-16</td>\n",
              "      <td>9E</td>\n",
              "      <td>20363</td>\n",
              "      <td>9E</td>\n",
              "      <td>N316PQ</td>\n",
              "      <td>...</td>\n",
              "      <td>NaN</td>\n",
              "      <td>NaN</td>\n",
              "      <td>NaN</td>\n",
              "      <td>NaN</td>\n",
              "      <td>NaN</td>\n",
              "      <td>NaN</td>\n",
              "      <td>NaN</td>\n",
              "      <td>NaN</td>\n",
              "      <td>NaN</td>\n",
              "      <td>NaN</td>\n",
              "    </tr>\n",
              "    <tr>\n",
              "      <th>6</th>\n",
              "      <td>2018</td>\n",
              "      <td>3</td>\n",
              "      <td>9</td>\n",
              "      <td>17</td>\n",
              "      <td>1</td>\n",
              "      <td>2018-09-17</td>\n",
              "      <td>9E</td>\n",
              "      <td>20363</td>\n",
              "      <td>9E</td>\n",
              "      <td>N916XJ</td>\n",
              "      <td>...</td>\n",
              "      <td>NaN</td>\n",
              "      <td>NaN</td>\n",
              "      <td>NaN</td>\n",
              "      <td>NaN</td>\n",
              "      <td>NaN</td>\n",
              "      <td>NaN</td>\n",
              "      <td>NaN</td>\n",
              "      <td>NaN</td>\n",
              "      <td>NaN</td>\n",
              "      <td>NaN</td>\n",
              "    </tr>\n",
              "    <tr>\n",
              "      <th>7</th>\n",
              "      <td>2018</td>\n",
              "      <td>3</td>\n",
              "      <td>9</td>\n",
              "      <td>20</td>\n",
              "      <td>4</td>\n",
              "      <td>2018-09-20</td>\n",
              "      <td>9E</td>\n",
              "      <td>20363</td>\n",
              "      <td>9E</td>\n",
              "      <td>N371CA</td>\n",
              "      <td>...</td>\n",
              "      <td>NaN</td>\n",
              "      <td>NaN</td>\n",
              "      <td>NaN</td>\n",
              "      <td>NaN</td>\n",
              "      <td>NaN</td>\n",
              "      <td>NaN</td>\n",
              "      <td>NaN</td>\n",
              "      <td>NaN</td>\n",
              "      <td>NaN</td>\n",
              "      <td>NaN</td>\n",
              "    </tr>\n",
              "    <tr>\n",
              "      <th>8</th>\n",
              "      <td>2018</td>\n",
              "      <td>3</td>\n",
              "      <td>9</td>\n",
              "      <td>21</td>\n",
              "      <td>5</td>\n",
              "      <td>2018-09-21</td>\n",
              "      <td>9E</td>\n",
              "      <td>20363</td>\n",
              "      <td>9E</td>\n",
              "      <td>N601LR</td>\n",
              "      <td>...</td>\n",
              "      <td>NaN</td>\n",
              "      <td>NaN</td>\n",
              "      <td>NaN</td>\n",
              "      <td>NaN</td>\n",
              "      <td>NaN</td>\n",
              "      <td>NaN</td>\n",
              "      <td>NaN</td>\n",
              "      <td>NaN</td>\n",
              "      <td>NaN</td>\n",
              "      <td>NaN</td>\n",
              "    </tr>\n",
              "    <tr>\n",
              "      <th>9</th>\n",
              "      <td>2018</td>\n",
              "      <td>3</td>\n",
              "      <td>9</td>\n",
              "      <td>23</td>\n",
              "      <td>7</td>\n",
              "      <td>2018-09-23</td>\n",
              "      <td>9E</td>\n",
              "      <td>20363</td>\n",
              "      <td>9E</td>\n",
              "      <td>N906XJ</td>\n",
              "      <td>...</td>\n",
              "      <td>NaN</td>\n",
              "      <td>NaN</td>\n",
              "      <td>NaN</td>\n",
              "      <td>NaN</td>\n",
              "      <td>NaN</td>\n",
              "      <td>NaN</td>\n",
              "      <td>NaN</td>\n",
              "      <td>NaN</td>\n",
              "      <td>NaN</td>\n",
              "      <td>NaN</td>\n",
              "    </tr>\n",
              "  </tbody>\n",
              "</table>\n",
              "<p>10 rows × 110 columns</p>\n",
              "</div>"
            ],
            "text/plain": [
              "   Year  Quarter  Month  DayofMonth  DayOfWeek  FlightDate Reporting_Airline  \\\n",
              "0  2018        3      9           3          1  2018-09-03                9E   \n",
              "1  2018        3      9           9          7  2018-09-09                9E   \n",
              "2  2018        3      9          10          1  2018-09-10                9E   \n",
              "3  2018        3      9          13          4  2018-09-13                9E   \n",
              "4  2018        3      9          14          5  2018-09-14                9E   \n",
              "5  2018        3      9          16          7  2018-09-16                9E   \n",
              "6  2018        3      9          17          1  2018-09-17                9E   \n",
              "7  2018        3      9          20          4  2018-09-20                9E   \n",
              "8  2018        3      9          21          5  2018-09-21                9E   \n",
              "9  2018        3      9          23          7  2018-09-23                9E   \n",
              "\n",
              "   DOT_ID_Reporting_Airline IATA_CODE_Reporting_Airline Tail_Number  ...  \\\n",
              "0                     20363                          9E      N908XJ  ...   \n",
              "1                     20363                          9E      N315PQ  ...   \n",
              "2                     20363                          9E      N582CA  ...   \n",
              "3                     20363                          9E      N292PQ  ...   \n",
              "4                     20363                          9E      N600LR  ...   \n",
              "5                     20363                          9E      N316PQ  ...   \n",
              "6                     20363                          9E      N916XJ  ...   \n",
              "7                     20363                          9E      N371CA  ...   \n",
              "8                     20363                          9E      N601LR  ...   \n",
              "9                     20363                          9E      N906XJ  ...   \n",
              "\n",
              "   Div4TailNum  Div5Airport  Div5AirportID  Div5AirportSeqID Div5WheelsOn  \\\n",
              "0          NaN          NaN            NaN               NaN          NaN   \n",
              "1          NaN          NaN            NaN               NaN          NaN   \n",
              "2          NaN          NaN            NaN               NaN          NaN   \n",
              "3          NaN          NaN            NaN               NaN          NaN   \n",
              "4          NaN          NaN            NaN               NaN          NaN   \n",
              "5          NaN          NaN            NaN               NaN          NaN   \n",
              "6          NaN          NaN            NaN               NaN          NaN   \n",
              "7          NaN          NaN            NaN               NaN          NaN   \n",
              "8          NaN          NaN            NaN               NaN          NaN   \n",
              "9          NaN          NaN            NaN               NaN          NaN   \n",
              "\n",
              "  Div5TotalGTime Div5LongestGTime  Div5WheelsOff Div5TailNum  Unnamed: 109  \n",
              "0            NaN              NaN            NaN         NaN           NaN  \n",
              "1            NaN              NaN            NaN         NaN           NaN  \n",
              "2            NaN              NaN            NaN         NaN           NaN  \n",
              "3            NaN              NaN            NaN         NaN           NaN  \n",
              "4            NaN              NaN            NaN         NaN           NaN  \n",
              "5            NaN              NaN            NaN         NaN           NaN  \n",
              "6            NaN              NaN            NaN         NaN           NaN  \n",
              "7            NaN              NaN            NaN         NaN           NaN  \n",
              "8            NaN              NaN            NaN         NaN           NaN  \n",
              "9            NaN              NaN            NaN         NaN           NaN  \n",
              "\n",
              "[10 rows x 110 columns]"
            ]
          },
          "execution_count": 9,
          "metadata": {},
          "output_type": "execute_result"
        }
      ],
      "source": [
        "# Enter your code here\n",
        "df_temp.head(10)"
      ]
    },
    {
      "cell_type": "markdown",
      "metadata": {
        "id": "DCsH0YsMEXz8"
      },
      "source": [
        "**Question**: Print all the columns in the dataset. To view the column names, use `<DataFrame>.columns`."
      ]
    },
    {
      "cell_type": "code",
      "execution_count": null,
      "metadata": {
        "id": "m1DGEcZVEXz8",
        "outputId": "bdb96a05-866d-46cc-8497-a0050d986b43"
      },
      "outputs": [
        {
          "name": "stdout",
          "output_type": "stream",
          "text": [
            "The column names are :\n",
            "#########\n",
            "Year\n",
            "Quarter\n",
            "Month\n",
            "DayofMonth\n",
            "DayOfWeek\n",
            "FlightDate\n",
            "Reporting_Airline\n",
            "DOT_ID_Reporting_Airline\n",
            "IATA_CODE_Reporting_Airline\n",
            "Tail_Number\n",
            "Flight_Number_Reporting_Airline\n",
            "OriginAirportID\n",
            "OriginAirportSeqID\n",
            "OriginCityMarketID\n",
            "Origin\n",
            "OriginCityName\n",
            "OriginState\n",
            "OriginStateFips\n",
            "OriginStateName\n",
            "OriginWac\n",
            "DestAirportID\n",
            "DestAirportSeqID\n",
            "DestCityMarketID\n",
            "Dest\n",
            "DestCityName\n",
            "DestState\n",
            "DestStateFips\n",
            "DestStateName\n",
            "DestWac\n",
            "CRSDepTime\n",
            "DepTime\n",
            "DepDelay\n",
            "DepDelayMinutes\n",
            "DepDel15\n",
            "DepartureDelayGroups\n",
            "DepTimeBlk\n",
            "TaxiOut\n",
            "WheelsOff\n",
            "WheelsOn\n",
            "TaxiIn\n",
            "CRSArrTime\n",
            "ArrTime\n",
            "ArrDelay\n",
            "ArrDelayMinutes\n",
            "ArrDel15\n",
            "ArrivalDelayGroups\n",
            "ArrTimeBlk\n",
            "Cancelled\n",
            "CancellationCode\n",
            "Diverted\n",
            "CRSElapsedTime\n",
            "ActualElapsedTime\n",
            "AirTime\n",
            "Flights\n",
            "Distance\n",
            "DistanceGroup\n",
            "CarrierDelay\n",
            "WeatherDelay\n",
            "NASDelay\n",
            "SecurityDelay\n",
            "LateAircraftDelay\n",
            "FirstDepTime\n",
            "TotalAddGTime\n",
            "LongestAddGTime\n",
            "DivAirportLandings\n",
            "DivReachedDest\n",
            "DivActualElapsedTime\n",
            "DivArrDelay\n",
            "DivDistance\n",
            "Div1Airport\n",
            "Div1AirportID\n",
            "Div1AirportSeqID\n",
            "Div1WheelsOn\n",
            "Div1TotalGTime\n",
            "Div1LongestGTime\n",
            "Div1WheelsOff\n",
            "Div1TailNum\n",
            "Div2Airport\n",
            "Div2AirportID\n",
            "Div2AirportSeqID\n",
            "Div2WheelsOn\n",
            "Div2TotalGTime\n",
            "Div2LongestGTime\n",
            "Div2WheelsOff\n",
            "Div2TailNum\n",
            "Div3Airport\n",
            "Div3AirportID\n",
            "Div3AirportSeqID\n",
            "Div3WheelsOn\n",
            "Div3TotalGTime\n",
            "Div3LongestGTime\n",
            "Div3WheelsOff\n",
            "Div3TailNum\n",
            "Div4Airport\n",
            "Div4AirportID\n",
            "Div4AirportSeqID\n",
            "Div4WheelsOn\n",
            "Div4TotalGTime\n",
            "Div4LongestGTime\n",
            "Div4WheelsOff\n",
            "Div4TailNum\n",
            "Div5Airport\n",
            "Div5AirportID\n",
            "Div5AirportSeqID\n",
            "Div5WheelsOn\n",
            "Div5TotalGTime\n",
            "Div5LongestGTime\n",
            "Div5WheelsOff\n",
            "Div5TailNum\n",
            "Unnamed: 109\n"
          ]
        }
      ],
      "source": [
        "print(f'The column names are :')\n",
        "print('#########')\n",
        "for col in df_temp.columns:# **ENTER YOUR CODE HERE**\n",
        "    print(col)"
      ]
    },
    {
      "cell_type": "markdown",
      "metadata": {
        "id": "fXDvNHbqEXz9"
      },
      "source": [
        "**Question**: Print all the columns in the dataset that contain the word *Del*. This will help you see how many columns have *delay data* in them.\n",
        "\n",
        "**Hint**: To include values that pass certain `if` statement criteria, you can use a Python list comprehension.\n",
        "\n",
        "For example: `[x for x in [1,2,3,4,5] if x > 2]`  \n",
        "\n",
        "**Hint**: To check if the value is in a list, you can use the `in` keyword ([Python in Keyword documentation](https://www.w3schools.com/python/ref_keyword_in.asp)). \n",
        "\n",
        "For example: `5 in [1,2,3,4,5]`"
      ]
    },
    {
      "cell_type": "code",
      "execution_count": null,
      "metadata": {
        "id": "xqd69KouEXz9",
        "outputId": "a64f4946-4151-425e-bc05-dc0222ca83d2"
      },
      "outputs": [
        {
          "name": "stdout",
          "output_type": "stream",
          "text": [
            "The column names are :\n",
            "#########\n",
            "['DepDelay', 'DepDelayMinutes', 'DepDel15', 'DepartureDelayGroups', 'ArrDelay', 'ArrDelayMinutes', 'ArrDel15', 'ArrivalDelayGroups', 'CarrierDelay', 'WeatherDelay', 'NASDelay', 'SecurityDelay', 'LateAircraftDelay', 'DivArrDelay']\n"
          ]
        }
      ],
      "source": [
        "# Enter your code here\n",
        "print(f'The column names are :')\n",
        "print('#########')\n",
        "print([x for x in df_temp.columns if \"Del\" in x])"
      ]
    },
    {
      "cell_type": "markdown",
      "metadata": {
        "id": "3dcQ5EWjEXz9"
      },
      "source": [
        "Here are some more questions to help you learn more about your dataset.\n",
        "\n",
        "**Questions**   \n",
        "\n",
        "1. How many rows and columns does the dataset have?   \n",
        "2. How many years are included in the dataset?   \n",
        "3. What is the date range for the dataset?   \n",
        "4. Which airlines are included in the dataset?   \n",
        "5. Which origin and destination airports are covered?\n",
        "\n",
        "**Hints**\n",
        "- To show the dimensions of the DataFrame, use `df_temp.shape`.\n",
        "- To refer to a specific column, use `df_temp.columnName` (for example, `df_temp.CarrierDelay`).\n",
        "- To get unique values for a column, use `df_temp.column.unique()` (for, example `df_temp.Year.unique()`)."
      ]
    },
    {
      "cell_type": "code",
      "execution_count": null,
      "metadata": {
        "id": "-iBDoZSlEXz9",
        "outputId": "8fd8ad71-b35f-4530-a64e-c4f3bac60785"
      },
      "outputs": [
        {
          "name": "stdout",
          "output_type": "stream",
          "text": [
            "The #rows and #columns are  585749  and  110\n",
            "The years in this dataset are:  [2018]\n",
            "The months covered in this dataset are:  [9]\n",
            "The date range for data is : 2018-09-01  to  2018-09-30\n",
            "The airlines covered in this dataset are:  ['9E', 'B6', 'WN', 'YV', 'YX', 'EV', 'AA', 'AS', 'DL', 'HA', 'UA', 'F9', 'G4', 'MQ', 'NK', 'OH', 'OO']\n",
            "The Origin airports covered are:  ['DFW', 'LGA', 'MSN', 'MSP', 'ATL', 'BDL', 'VLD', 'JFK', 'RDU', 'CHS', 'DTW', 'GRB', 'PVD', 'SHV', 'FNT', 'PIT', 'RIC', 'RST', 'RSW', 'CVG', 'LIT', 'ORD', 'JAX', 'TRI', 'BOS', 'CWA', 'DCA', 'CHO', 'AVP', 'IND', 'GRR', 'BTR', 'MEM', 'TUL', 'CLE', 'STL', 'BTV', 'OMA', 'MGM', 'TVC', 'SAV', 'GSP', 'EWR', 'OAJ', 'BNA', 'MCI', 'TLH', 'ROC', 'LEX', 'PWM', 'BUF', 'AGS', 'CLT', 'GSO', 'BWI', 'SAT', 'PHL', 'TYS', 'ACK', 'DSM', 'GNV', 'AVL', 'BGR', 'MHT', 'ILM', 'MOT', 'IAH', 'SBN', 'SYR', 'ORF', 'MKE', 'XNA', 'MSY', 'PBI', 'ABE', 'HPN', 'EVV', 'ALB', 'LNK', 'AUS', 'PHF', 'CHA', 'GTR', 'BMI', 'BQK', 'CID', 'CAK', 'ATW', 'ABY', 'CAE', 'SRQ', 'MLI', 'BHM', 'IAD', 'CSG', 'CMH', 'MCO', 'MBS', 'FLL', 'SDF', 'TPA', 'MVY', 'LAS', 'LGB', 'SFO', 'SAN', 'LAX', 'RNO', 'PDX', 'ANC', 'ABQ', 'SLC', 'DEN', 'PHX', 'OAK', 'SMF', 'SJU', 'SEA', 'HOU', 'STX', 'BUR', 'SWF', 'SJC', 'DAB', 'BQN', 'PSE', 'ORH', 'HYA', 'STT', 'ONT', 'HRL', 'ICT', 'ISP', 'LBB', 'MAF', 'MDW', 'OKC', 'PNS', 'SNA', 'TUS', 'AMA', 'BOI', 'CRP', 'DAL', 'ECP', 'ELP', 'GEG', 'LFT', 'MFE', 'MDT', 'JAN', 'COS', 'MOB', 'VPS', 'MTJ', 'DRO', 'GPT', 'BFL', 'MRY', 'SBA', 'PSP', 'FSD', 'BRO', 'RAP', 'COU', 'STS', 'PIA', 'FAT', 'SBP', 'FSM', 'HSV', 'BIS', 'DAY', 'BZN', 'MIA', 'EYW', 'MYR', 'HHH', 'GJT', 'FAR', 'SGF', 'HOB', 'CLL', 'LRD', 'AEX', 'ERI', 'MLU', 'LCH', 'ROA', 'LAW', 'MHK', 'GRK', 'SAF', 'GRI', 'JLN', 'ROW', 'FWA', 'CRW', 'LAN', 'OGG', 'HNL', 'KOA', 'EGE', 'LIH', 'MLB', 'JAC', 'FAI', 'RDM', 'ADQ', 'BET', 'BRW', 'SCC', 'KTN', 'YAK', 'CDV', 'JNU', 'SIT', 'PSG', 'WRG', 'OME', 'OTZ', 'ADK', 'FCA', 'FAY', 'PSC', 'BIL', 'MSO', 'ITO', 'PPG', 'MFR', 'EUG', 'GUM', 'SPN', 'DLH', 'TTN', 'BKG', 'SFB', 'PIE', 'PGD', 'AZA', 'SMX', 'RFD', 'SCK', 'OWB', 'HTS', 'BLV', 'IAG', 'USA', 'GFK', 'BLI', 'ELM', 'PBG', 'LCK', 'GTF', 'OGD', 'IDA', 'PVU', 'TOL', 'PSM', 'CKB', 'HGR', 'SPI', 'STC', 'ACT', 'TYR', 'ABI', 'AZO', 'CMI', 'BPT', 'GCK', 'MQT', 'ALO', 'TXK', 'SPS', 'SWO', 'DBQ', 'SUX', 'SJT', 'GGG', 'LSE', 'LBE', 'ACY', 'LYH', 'PGV', 'HVN', 'EWN', 'DHN', 'PIH', 'IMT', 'WYS', 'CPR', 'SCE', 'HLN', 'SUN', 'ISN', 'CMX', 'EAU', 'LWB', 'SHD', 'LBF', 'HYS', 'SLN', 'EAR', 'VEL', 'CNY', 'GCC', 'RKS', 'PUB', 'LBL', 'MKG', 'PAH', 'CGI', 'UIN', 'BFF', 'DVL', 'JMS', 'LAR', 'SGU', 'PRC', 'ASE', 'RDD', 'ACV', 'OTH', 'COD', 'LWS', 'ABR', 'APN', 'ESC', 'PLN', 'BJI', 'BRD', 'BTM', 'CDC', 'CIU', 'EKO', 'TWF', 'HIB', 'BGM', 'RHI', 'ITH', 'INL', 'FLG', 'YUM', 'MEI', 'PIB', 'HDN']\n",
            "The Destination airports covered are:  ['CVG', 'PWM', 'RDU', 'MSP', 'MSN', 'SHV', 'CLT', 'PIT', 'RIC', 'IAH', 'ATL', 'JFK', 'DCA', 'DTW', 'LGA', 'TYS', 'PVD', 'FNT', 'LIT', 'BUF', 'ORD', 'TRI', 'IND', 'BGR', 'AVP', 'BWI', 'LEX', 'BDL', 'GRR', 'CWA', 'TUL', 'MEM', 'AGS', 'EWR', 'MGM', 'PHL', 'SYR', 'OMA', 'STL', 'TVC', 'ORF', 'CLE', 'ABY', 'BOS', 'OAJ', 'TLH', 'BTR', 'SAT', 'JAX', 'BNA', 'CHO', 'VLD', 'ROC', 'DFW', 'GNV', 'ACK', 'PBI', 'CHS', 'GRB', 'MOT', 'MKE', 'DSM', 'ILM', 'GSO', 'MCI', 'SBN', 'BTV', 'MVY', 'XNA', 'RST', 'EVV', 'HPN', 'RSW', 'MDT', 'ROA', 'GSP', 'MCO', 'CSG', 'SAV', 'PHF', 'ALB', 'CHA', 'ABE', 'BMI', 'MSY', 'IAD', 'GTR', 'CID', 'CAK', 'ATW', 'AUS', 'BQK', 'MLI', 'CAE', 'CMH', 'AVL', 'MBS', 'FLL', 'SDF', 'TPA', 'LNK', 'SRQ', 'MHT', 'BHM', 'LAS', 'SFO', 'SAN', 'RNO', 'LGB', 'ANC', 'PDX', 'SJU', 'ABQ', 'SLC', 'DEN', 'LAX', 'PHX', 'OAK', 'SMF', 'SEA', 'STX', 'BUR', 'DAB', 'SJC', 'SWF', 'HOU', 'BQN', 'PSE', 'ORH', 'HYA', 'STT', 'ONT', 'DAL', 'ECP', 'ELP', 'HRL', 'MAF', 'MDW', 'OKC', 'PNS', 'SNA', 'AMA', 'BOI', 'GEG', 'ICT', 'LBB', 'TUS', 'ISP', 'CRP', 'MFE', 'LFT', 'VPS', 'JAN', 'COS', 'MOB', 'DRO', 'GPT', 'BFL', 'COU', 'SBP', 'MTJ', 'SBA', 'PSP', 'FSD', 'FSM', 'BRO', 'PIA', 'STS', 'FAT', 'RAP', 'MRY', 'HSV', 'BIS', 'DAY', 'BZN', 'MIA', 'EYW', 'MYR', 'HHH', 'GJT', 'FAR', 'MLU', 'LRD', 'CLL', 'LCH', 'FWA', 'GRK', 'SGF', 'HOB', 'LAW', 'MHK', 'SAF', 'JLN', 'ROW', 'GRI', 'AEX', 'CRW', 'LAN', 'ERI', 'HNL', 'KOA', 'OGG', 'EGE', 'LIH', 'JAC', 'MLB', 'RDM', 'BET', 'ADQ', 'BRW', 'SCC', 'FAI', 'JNU', 'CDV', 'YAK', 'SIT', 'KTN', 'WRG', 'PSG', 'OME', 'OTZ', 'ADK', 'FCA', 'BIL', 'PSC', 'FAY', 'MSO', 'ITO', 'PPG', 'MFR', 'DLH', 'EUG', 'GUM', 'SPN', 'TTN', 'BKG', 'AZA', 'SFB', 'LCK', 'BLI', 'SCK', 'PIE', 'RFD', 'PVU', 'PBG', 'BLV', 'PGD', 'SPI', 'USA', 'TOL', 'IDA', 'ELM', 'HTS', 'HGR', 'SMX', 'OGD', 'GFK', 'STC', 'GTF', 'IAG', 'CKB', 'OWB', 'PSM', 'ABI', 'TYR', 'ALO', 'SUX', 'AZO', 'ACT', 'CMI', 'BPT', 'TXK', 'SWO', 'SPS', 'DBQ', 'SJT', 'GGG', 'LSE', 'MQT', 'GCK', 'LBE', 'ACY', 'LYH', 'PGV', 'HVN', 'EWN', 'DHN', 'PIH', 'WYS', 'SCE', 'IMT', 'HLN', 'ASE', 'SUN', 'ISN', 'EAR', 'SGU', 'VEL', 'SHD', 'LWB', 'MKG', 'SLN', 'HYS', 'BFF', 'PUB', 'LBL', 'CMX', 'EAU', 'PAH', 'UIN', 'RKS', 'CGI', 'CNY', 'JMS', 'DVL', 'LAR', 'GCC', 'LBF', 'PRC', 'RDD', 'ACV', 'OTH', 'COD', 'LWS', 'ABR', 'APN', 'PLN', 'BJI', 'CPR', 'BRD', 'BTM', 'CDC', 'CIU', 'ESC', 'EKO', 'ITH', 'HIB', 'BGM', 'TWF', 'RHI', 'INL', 'FLG', 'YUM', 'MEI', 'PIB', 'HDN']\n"
          ]
        }
      ],
      "source": [
        "print(\"The #rows and #columns are \", df_temp.shape[0] , \" and \", df_temp.shape[1])\n",
        "print(\"The years in this dataset are: \", df_temp.Year.unique())\n",
        "print(\"The months covered in this dataset are: \", df_temp.Month.unique())\n",
        "print(\"The date range for data is :\" , min(df_temp.FlightDate.unique()), \" to \", max(df_temp.FlightDate.unique()))\n",
        "print(\"The airlines covered in this dataset are: \", list(df_temp.Reporting_Airline.unique()))\n",
        "print(\"The Origin airports covered are: \", list(df_temp.Origin.unique()))\n",
        "print(\"The Destination airports covered are: \", list(df_temp.Dest.unique()))"
      ]
    },
    {
      "cell_type": "markdown",
      "metadata": {
        "id": "H3E-bYI3EXz9"
      },
      "source": [
        "**Question**: What is the count of all the origin and destination airports?\n",
        "\n",
        "**Hint**: To find the values for each airport by using the **Origin** and **Dest** columns, you can use the `values_count` function in pandas ([pandas.Series.value_counts documentation](https://pandas.pydata.org/pandas-docs/stable/reference/api/pandas.Series.value_counts.html))."
      ]
    },
    {
      "cell_type": "code",
      "execution_count": null,
      "metadata": {
        "id": "o3ueH9yoEXz-",
        "outputId": "68c9a484-7dca-4353-c55a-51b7e5fbf6f8"
      },
      "outputs": [
        {
          "data": {
            "text/html": [
              "<div>\n",
              "<style scoped>\n",
              "    .dataframe tbody tr th:only-of-type {\n",
              "        vertical-align: middle;\n",
              "    }\n",
              "\n",
              "    .dataframe tbody tr th {\n",
              "        vertical-align: top;\n",
              "    }\n",
              "\n",
              "    .dataframe thead th {\n",
              "        text-align: right;\n",
              "    }\n",
              "</style>\n",
              "<table border=\"1\" class=\"dataframe\">\n",
              "  <thead>\n",
              "    <tr style=\"text-align: right;\">\n",
              "      <th></th>\n",
              "      <th>Origin</th>\n",
              "      <th>Destination</th>\n",
              "    </tr>\n",
              "  </thead>\n",
              "  <tbody>\n",
              "    <tr>\n",
              "      <th>ABE</th>\n",
              "      <td>303</td>\n",
              "      <td>303</td>\n",
              "    </tr>\n",
              "    <tr>\n",
              "      <th>ABI</th>\n",
              "      <td>169</td>\n",
              "      <td>169</td>\n",
              "    </tr>\n",
              "    <tr>\n",
              "      <th>ABQ</th>\n",
              "      <td>2077</td>\n",
              "      <td>2076</td>\n",
              "    </tr>\n",
              "    <tr>\n",
              "      <th>ABR</th>\n",
              "      <td>60</td>\n",
              "      <td>60</td>\n",
              "    </tr>\n",
              "    <tr>\n",
              "      <th>ABY</th>\n",
              "      <td>79</td>\n",
              "      <td>79</td>\n",
              "    </tr>\n",
              "    <tr>\n",
              "      <th>...</th>\n",
              "      <td>...</td>\n",
              "      <td>...</td>\n",
              "    </tr>\n",
              "    <tr>\n",
              "      <th>WRG</th>\n",
              "      <td>60</td>\n",
              "      <td>60</td>\n",
              "    </tr>\n",
              "    <tr>\n",
              "      <th>WYS</th>\n",
              "      <td>52</td>\n",
              "      <td>52</td>\n",
              "    </tr>\n",
              "    <tr>\n",
              "      <th>XNA</th>\n",
              "      <td>1004</td>\n",
              "      <td>1004</td>\n",
              "    </tr>\n",
              "    <tr>\n",
              "      <th>YAK</th>\n",
              "      <td>60</td>\n",
              "      <td>60</td>\n",
              "    </tr>\n",
              "    <tr>\n",
              "      <th>YUM</th>\n",
              "      <td>96</td>\n",
              "      <td>96</td>\n",
              "    </tr>\n",
              "  </tbody>\n",
              "</table>\n",
              "<p>346 rows × 2 columns</p>\n",
              "</div>"
            ],
            "text/plain": [
              "     Origin  Destination\n",
              "ABE     303          303\n",
              "ABI     169          169\n",
              "ABQ    2077         2076\n",
              "ABR      60           60\n",
              "ABY      79           79\n",
              "..      ...          ...\n",
              "WRG      60           60\n",
              "WYS      52           52\n",
              "XNA    1004         1004\n",
              "YAK      60           60\n",
              "YUM      96           96\n",
              "\n",
              "[346 rows x 2 columns]"
            ]
          },
          "execution_count": 13,
          "metadata": {},
          "output_type": "execute_result"
        }
      ],
      "source": [
        "counts = pd.DataFrame({'Origin':df_temp.Origin.value_counts(), 'Destination':df_temp.Dest.value_counts()})\n",
        "counts"
      ]
    },
    {
      "cell_type": "markdown",
      "metadata": {
        "id": "hr_IDupOEXz-"
      },
      "source": [
        "**Question**: Print the top 15 origin and destination airports based on number of flights in the dataset.\n",
        "\n",
        "**Hint**: You can use the `sort_values` function in pandas ([pandas.DataFrame.sort_values documentation](https://pandas.pydata.org/pandas-docs/stable/reference/api/pandas.DataFrame.sort_values.html))."
      ]
    },
    {
      "cell_type": "code",
      "execution_count": null,
      "metadata": {
        "id": "vEHR4G26EXz-",
        "outputId": "06e3736b-ffae-4bee-b257-6f930d649c54"
      },
      "outputs": [
        {
          "data": {
            "text/html": [
              "<div>\n",
              "<style scoped>\n",
              "    .dataframe tbody tr th:only-of-type {\n",
              "        vertical-align: middle;\n",
              "    }\n",
              "\n",
              "    .dataframe tbody tr th {\n",
              "        vertical-align: top;\n",
              "    }\n",
              "\n",
              "    .dataframe thead th {\n",
              "        text-align: right;\n",
              "    }\n",
              "</style>\n",
              "<table border=\"1\" class=\"dataframe\">\n",
              "  <thead>\n",
              "    <tr style=\"text-align: right;\">\n",
              "      <th></th>\n",
              "      <th>Origin</th>\n",
              "      <th>Destination</th>\n",
              "    </tr>\n",
              "  </thead>\n",
              "  <tbody>\n",
              "    <tr>\n",
              "      <th>ATL</th>\n",
              "      <td>31525</td>\n",
              "      <td>31521</td>\n",
              "    </tr>\n",
              "    <tr>\n",
              "      <th>ORD</th>\n",
              "      <td>28257</td>\n",
              "      <td>28250</td>\n",
              "    </tr>\n",
              "    <tr>\n",
              "      <th>DFW</th>\n",
              "      <td>22802</td>\n",
              "      <td>22795</td>\n",
              "    </tr>\n",
              "    <tr>\n",
              "      <th>DEN</th>\n",
              "      <td>19807</td>\n",
              "      <td>19807</td>\n",
              "    </tr>\n",
              "    <tr>\n",
              "      <th>CLT</th>\n",
              "      <td>19655</td>\n",
              "      <td>19654</td>\n",
              "    </tr>\n",
              "    <tr>\n",
              "      <th>LAX</th>\n",
              "      <td>17875</td>\n",
              "      <td>17873</td>\n",
              "    </tr>\n",
              "    <tr>\n",
              "      <th>SFO</th>\n",
              "      <td>14332</td>\n",
              "      <td>14348</td>\n",
              "    </tr>\n",
              "    <tr>\n",
              "      <th>IAH</th>\n",
              "      <td>14210</td>\n",
              "      <td>14203</td>\n",
              "    </tr>\n",
              "    <tr>\n",
              "      <th>LGA</th>\n",
              "      <td>13850</td>\n",
              "      <td>13850</td>\n",
              "    </tr>\n",
              "    <tr>\n",
              "      <th>MSP</th>\n",
              "      <td>13349</td>\n",
              "      <td>13347</td>\n",
              "    </tr>\n",
              "    <tr>\n",
              "      <th>LAS</th>\n",
              "      <td>13318</td>\n",
              "      <td>13322</td>\n",
              "    </tr>\n",
              "    <tr>\n",
              "      <th>PHX</th>\n",
              "      <td>13126</td>\n",
              "      <td>13128</td>\n",
              "    </tr>\n",
              "    <tr>\n",
              "      <th>DTW</th>\n",
              "      <td>12725</td>\n",
              "      <td>12724</td>\n",
              "    </tr>\n",
              "    <tr>\n",
              "      <th>BOS</th>\n",
              "      <td>12223</td>\n",
              "      <td>12227</td>\n",
              "    </tr>\n",
              "    <tr>\n",
              "      <th>SEA</th>\n",
              "      <td>11872</td>\n",
              "      <td>11877</td>\n",
              "    </tr>\n",
              "  </tbody>\n",
              "</table>\n",
              "</div>"
            ],
            "text/plain": [
              "     Origin  Destination\n",
              "ATL   31525        31521\n",
              "ORD   28257        28250\n",
              "DFW   22802        22795\n",
              "DEN   19807        19807\n",
              "CLT   19655        19654\n",
              "LAX   17875        17873\n",
              "SFO   14332        14348\n",
              "IAH   14210        14203\n",
              "LGA   13850        13850\n",
              "MSP   13349        13347\n",
              "LAS   13318        13322\n",
              "PHX   13126        13128\n",
              "DTW   12725        12724\n",
              "BOS   12223        12227\n",
              "SEA   11872        11877"
            ]
          },
          "execution_count": 14,
          "metadata": {},
          "output_type": "execute_result"
        }
      ],
      "source": [
        "counts.sort_values(by=['Origin','Destination'],ascending=False).head(15) # Enter your code here"
      ]
    },
    {
      "cell_type": "markdown",
      "metadata": {
        "id": "kvbUFx36EXz-"
      },
      "source": [
        "**Given all the information about a flight trip, can you predict if it would be delayed?**"
      ]
    },
    {
      "cell_type": "markdown",
      "metadata": {
        "id": "9mgE8YIlEX0B"
      },
      "source": [
        "The **ArrDel15** column is an indicator variable that takes the value *1* when the delay is more than 15 minutes. Otherwise, it takes a value of *0*.\n",
        "\n",
        "You could use this as a target column for the classification problem."
      ]
    },
    {
      "cell_type": "markdown",
      "metadata": {
        "id": "5LPyOXGEEX0B"
      },
      "source": [
        "Now, assume that you are traveling from San Francisco to Los Angeles on a work trip. You want to better manage your reservations in Los Angeles. Thus, want to have an idea of whether your flight will be delayed, given a set of features. How many features from this dataset would you need to know before your flight?\n",
        "\n",
        "Columns such as `DepDelay`, `ArrDelay`, `CarrierDelay`, `WeatherDelay`, `NASDelay`, `SecurityDelay`, `LateAircraftDelay`, and `DivArrDelay` contain information about a delay. But this delay could have occured at the origin or the destination. If there were a sudden weather delay 10 minutes before landing, this data wouldn't be helpful to managing your Los Angeles reservations.\n",
        "\n",
        "So to simplify the problem statement, consider the following columns to predict an arrival delay:<br>\n",
        "\n",
        "`Year`, `Quarter`, `Month`, `DayofMonth`, `DayOfWeek`, `FlightDate`, `Reporting_Airline`, `Origin`, `OriginState`, `Dest`, `DestState`, `CRSDepTime`, `DepDelayMinutes`, `DepartureDelayGroups`, `Cancelled`, `Diverted`, `Distance`, `DistanceGroup`, `ArrDelay`, `ArrDelayMinutes`, `ArrDel15`, `AirTime`\n",
        "\n",
        "You will also filter the source and destination airports to be:\n",
        "- Top airports: ATL, ORD, DFW, DEN, CLT, LAX, IAH, PHX, SFO\n",
        "- Top five airlines: UA, OO, WN, AA, DL\n",
        "\n",
        "This information should help reduce the size of data across the CSV files that will be combined."
      ]
    },
    {
      "cell_type": "markdown",
      "metadata": {
        "id": "LjuzG9xGEX0C"
      },
      "source": [
        "#### Combine all CSV files\n",
        " \n",
        "First, create an empy DataFrame that you will use to copy your individual DataFrames from each file. Then, for each file in the `csv_files` list:\n",
        "\n",
        "1. Read the CSV file into a dataframe \n",
        "2. Filter the columns based on the `filter_cols` variable\n",
        "\n",
        "```\n",
        "        columns = ['col1', 'col2']\n",
        "        df_filter = df[columns]\n",
        "```\n",
        "\n",
        "3. Keep only the `subset_vals` in each of the `subset_cols`. To check if the `val` is in the DataFrame column, use the `isin` function in pandas ([pandas.DataFram.isin documentation](https://pandas.pydata.org/pandas-docs/stable/reference/api/pandas.DataFrame.isin.html)). Then, choose the rows that include it.\n",
        "\n",
        "```\n",
        "        df_eg[df_eg['col1'].isin('5')]\n",
        "```\n",
        "\n",
        "4. Concatenate the DataFrame with the empty DataFrame "
      ]
    },
    {
      "cell_type": "code",
      "execution_count": null,
      "metadata": {
        "id": "SEpYMbZaEX0C"
      },
      "outputs": [],
      "source": [
        "def combine_csv(csv_files, filter_cols, subset_cols, subset_vals, file_name):\n",
        "\n",
        "    \"\"\"\n",
        "    Combine csv files into one Data Frame\n",
        "    csv_files: list of csv file paths\n",
        "    filter_cols: list of columns to filter\n",
        "    subset_cols: list of columns to subset rows\n",
        "    subset_vals: list of list of values to subset rows\n",
        "    \"\"\"\n",
        "\n",
        "    df = pd.DataFrame()\n",
        "    \n",
        "    for file in csv_files:\n",
        "        df_temp = pd.read_csv(file)\n",
        "        df_temp = df_temp[filter_cols]\n",
        "        for col, val in zip(subset_cols,subset_vals):\n",
        "            df_temp = df_temp[df_temp[col].isin(val)]      \n",
        "        \n",
        "        df = pd.concat([df, df_temp], axis=0)\n",
        "      \n",
        "    df.to_csv(file_name, index=False)\n",
        "    print(f'Combined csv stored at {file_name}')"
      ]
    },
    {
      "cell_type": "code",
      "execution_count": null,
      "metadata": {
        "id": "kDloSSQ7EX0C"
      },
      "outputs": [],
      "source": [
        "#cols is the list of columns to predict Arrival Delay \n",
        "cols = ['Year','Quarter','Month','DayofMonth','DayOfWeek','FlightDate',\n",
        "        'Reporting_Airline','Origin','OriginState','Dest','DestState',\n",
        "        'CRSDepTime','Cancelled','Diverted','Distance','DistanceGroup',\n",
        "        'ArrDelay','ArrDelayMinutes','ArrDel15','AirTime']\n",
        "\n",
        "subset_cols = ['Origin', 'Dest', 'Reporting_Airline']\n",
        "\n",
        "# subset_vals is a list collection of the top origin and destination airports and top 5 airlines\n",
        "subset_vals = [['ATL', 'ORD', 'DFW', 'DEN', 'CLT', 'LAX', 'IAH', 'PHX', 'SFO'], \n",
        "               ['ATL', 'ORD', 'DFW', 'DEN', 'CLT', 'LAX', 'IAH', 'PHX', 'SFO'], \n",
        "               ['UA', 'OO', 'WN', 'AA', 'DL']]"
      ]
    },
    {
      "cell_type": "markdown",
      "metadata": {
        "id": "iCT9gXPFEX0C"
      },
      "source": [
        "Use the previous function to merge all the different files into a single file that you can read easily. \n",
        "\n",
        "**Note**: This process will take 5-7 minutes to complete."
      ]
    },
    {
      "cell_type": "code",
      "execution_count": null,
      "metadata": {
        "id": "RwY2sOh5EX0C",
        "outputId": "1004bdf5-477d-4b95-c4df-aa5fd1c2d4e2"
      },
      "outputs": [
        {
          "name": "stdout",
          "output_type": "stream",
          "text": [
            "Combined csv stored at /home/ec2-user/SageMaker/project/data/FlightDelays/combined_files.csv\n",
            "CSVs merged in 4.34 minutes\n"
          ]
        }
      ],
      "source": [
        "start = time.time()\n",
        "combined_csv_filename = f\"{base_path}combined_files.csv\"\n",
        "combine_csv(csv_files, cols, subset_cols, subset_vals, combined_csv_filename)\n",
        "print(f'CSVs merged in {round((time.time() - start)/60,2)} minutes')"
      ]
    },
    {
      "cell_type": "markdown",
      "metadata": {
        "id": "Xhlj20qMEX0C"
      },
      "source": [
        "#### Load the dataset\n",
        "\n",
        "Load the combined dataset."
      ]
    },
    {
      "cell_type": "code",
      "execution_count": null,
      "metadata": {
        "id": "6NoPRJdjEX0C"
      },
      "outputs": [],
      "source": [
        "data = pd.read_csv(combined_csv_filename)"
      ]
    },
    {
      "cell_type": "markdown",
      "metadata": {
        "id": "HdUdofEmEX0C"
      },
      "source": [
        "Print the first five records."
      ]
    },
    {
      "cell_type": "code",
      "execution_count": null,
      "metadata": {
        "id": "ib4Ka0P3EX0D",
        "outputId": "205f53e4-6542-4de2-82a9-0295761c453c"
      },
      "outputs": [
        {
          "data": {
            "text/html": [
              "<div>\n",
              "<style scoped>\n",
              "    .dataframe tbody tr th:only-of-type {\n",
              "        vertical-align: middle;\n",
              "    }\n",
              "\n",
              "    .dataframe tbody tr th {\n",
              "        vertical-align: top;\n",
              "    }\n",
              "\n",
              "    .dataframe thead th {\n",
              "        text-align: right;\n",
              "    }\n",
              "</style>\n",
              "<table border=\"1\" class=\"dataframe\">\n",
              "  <thead>\n",
              "    <tr style=\"text-align: right;\">\n",
              "      <th></th>\n",
              "      <th>Year</th>\n",
              "      <th>Quarter</th>\n",
              "      <th>Month</th>\n",
              "      <th>DayofMonth</th>\n",
              "      <th>DayOfWeek</th>\n",
              "      <th>FlightDate</th>\n",
              "      <th>Reporting_Airline</th>\n",
              "      <th>Origin</th>\n",
              "      <th>OriginState</th>\n",
              "      <th>Dest</th>\n",
              "      <th>DestState</th>\n",
              "      <th>CRSDepTime</th>\n",
              "      <th>Cancelled</th>\n",
              "      <th>Diverted</th>\n",
              "      <th>Distance</th>\n",
              "      <th>DistanceGroup</th>\n",
              "      <th>ArrDelay</th>\n",
              "      <th>ArrDelayMinutes</th>\n",
              "      <th>ArrDel15</th>\n",
              "      <th>AirTime</th>\n",
              "    </tr>\n",
              "  </thead>\n",
              "  <tbody>\n",
              "    <tr>\n",
              "      <th>0</th>\n",
              "      <td>2018</td>\n",
              "      <td>4</td>\n",
              "      <td>12</td>\n",
              "      <td>25</td>\n",
              "      <td>2</td>\n",
              "      <td>2018-12-25</td>\n",
              "      <td>WN</td>\n",
              "      <td>PHX</td>\n",
              "      <td>AZ</td>\n",
              "      <td>ATL</td>\n",
              "      <td>GA</td>\n",
              "      <td>950</td>\n",
              "      <td>0.0</td>\n",
              "      <td>0.0</td>\n",
              "      <td>1587.0</td>\n",
              "      <td>7</td>\n",
              "      <td>-13.0</td>\n",
              "      <td>0.0</td>\n",
              "      <td>0.0</td>\n",
              "      <td>175.0</td>\n",
              "    </tr>\n",
              "    <tr>\n",
              "      <th>1</th>\n",
              "      <td>2018</td>\n",
              "      <td>4</td>\n",
              "      <td>12</td>\n",
              "      <td>25</td>\n",
              "      <td>2</td>\n",
              "      <td>2018-12-25</td>\n",
              "      <td>WN</td>\n",
              "      <td>PHX</td>\n",
              "      <td>AZ</td>\n",
              "      <td>ATL</td>\n",
              "      <td>GA</td>\n",
              "      <td>1805</td>\n",
              "      <td>0.0</td>\n",
              "      <td>0.0</td>\n",
              "      <td>1587.0</td>\n",
              "      <td>7</td>\n",
              "      <td>-8.0</td>\n",
              "      <td>0.0</td>\n",
              "      <td>0.0</td>\n",
              "      <td>176.0</td>\n",
              "    </tr>\n",
              "    <tr>\n",
              "      <th>2</th>\n",
              "      <td>2018</td>\n",
              "      <td>4</td>\n",
              "      <td>12</td>\n",
              "      <td>25</td>\n",
              "      <td>2</td>\n",
              "      <td>2018-12-25</td>\n",
              "      <td>WN</td>\n",
              "      <td>PHX</td>\n",
              "      <td>AZ</td>\n",
              "      <td>DEN</td>\n",
              "      <td>CO</td>\n",
              "      <td>2135</td>\n",
              "      <td>0.0</td>\n",
              "      <td>0.0</td>\n",
              "      <td>602.0</td>\n",
              "      <td>3</td>\n",
              "      <td>-15.0</td>\n",
              "      <td>0.0</td>\n",
              "      <td>0.0</td>\n",
              "      <td>78.0</td>\n",
              "    </tr>\n",
              "    <tr>\n",
              "      <th>3</th>\n",
              "      <td>2018</td>\n",
              "      <td>4</td>\n",
              "      <td>12</td>\n",
              "      <td>25</td>\n",
              "      <td>2</td>\n",
              "      <td>2018-12-25</td>\n",
              "      <td>WN</td>\n",
              "      <td>PHX</td>\n",
              "      <td>AZ</td>\n",
              "      <td>DEN</td>\n",
              "      <td>CO</td>\n",
              "      <td>1420</td>\n",
              "      <td>0.0</td>\n",
              "      <td>0.0</td>\n",
              "      <td>602.0</td>\n",
              "      <td>3</td>\n",
              "      <td>-14.0</td>\n",
              "      <td>0.0</td>\n",
              "      <td>0.0</td>\n",
              "      <td>74.0</td>\n",
              "    </tr>\n",
              "    <tr>\n",
              "      <th>4</th>\n",
              "      <td>2018</td>\n",
              "      <td>4</td>\n",
              "      <td>12</td>\n",
              "      <td>25</td>\n",
              "      <td>2</td>\n",
              "      <td>2018-12-25</td>\n",
              "      <td>WN</td>\n",
              "      <td>PHX</td>\n",
              "      <td>AZ</td>\n",
              "      <td>DEN</td>\n",
              "      <td>CO</td>\n",
              "      <td>2035</td>\n",
              "      <td>0.0</td>\n",
              "      <td>0.0</td>\n",
              "      <td>602.0</td>\n",
              "      <td>3</td>\n",
              "      <td>-9.0</td>\n",
              "      <td>0.0</td>\n",
              "      <td>0.0</td>\n",
              "      <td>75.0</td>\n",
              "    </tr>\n",
              "  </tbody>\n",
              "</table>\n",
              "</div>"
            ],
            "text/plain": [
              "   Year  Quarter  Month  DayofMonth  DayOfWeek  FlightDate Reporting_Airline  \\\n",
              "0  2018        4     12          25          2  2018-12-25                WN   \n",
              "1  2018        4     12          25          2  2018-12-25                WN   \n",
              "2  2018        4     12          25          2  2018-12-25                WN   \n",
              "3  2018        4     12          25          2  2018-12-25                WN   \n",
              "4  2018        4     12          25          2  2018-12-25                WN   \n",
              "\n",
              "  Origin OriginState Dest DestState  CRSDepTime  Cancelled  Diverted  \\\n",
              "0    PHX          AZ  ATL        GA         950        0.0       0.0   \n",
              "1    PHX          AZ  ATL        GA        1805        0.0       0.0   \n",
              "2    PHX          AZ  DEN        CO        2135        0.0       0.0   \n",
              "3    PHX          AZ  DEN        CO        1420        0.0       0.0   \n",
              "4    PHX          AZ  DEN        CO        2035        0.0       0.0   \n",
              "\n",
              "   Distance  DistanceGroup  ArrDelay  ArrDelayMinutes  ArrDel15  AirTime  \n",
              "0    1587.0              7     -13.0              0.0       0.0    175.0  \n",
              "1    1587.0              7      -8.0              0.0       0.0    176.0  \n",
              "2     602.0              3     -15.0              0.0       0.0     78.0  \n",
              "3     602.0              3     -14.0              0.0       0.0     74.0  \n",
              "4     602.0              3      -9.0              0.0       0.0     75.0  "
            ]
          },
          "execution_count": 19,
          "metadata": {},
          "output_type": "execute_result"
        }
      ],
      "source": [
        "# Enter your code here \n",
        "data.head(5)"
      ]
    },
    {
      "cell_type": "markdown",
      "metadata": {
        "id": "u8lROIodEX0D"
      },
      "source": [
        "Here are some more questions to help you learn more about your dataset.\n",
        "\n",
        "**Questions**   \n",
        "\n",
        "1. How many rows and columns does the dataset have?   \n",
        "2. How many years are included in the dataset?   \n",
        "3. What is the date range for the dataset?   \n",
        "4. Which airlines are included in the dataset?   \n",
        "5. Which origin and destination airports are covered?"
      ]
    },
    {
      "cell_type": "code",
      "execution_count": null,
      "metadata": {
        "id": "E3cAoE_oEX0D",
        "outputId": "e38268cf-7ab4-42c9-dfdf-0eefd6e8c365"
      },
      "outputs": [
        {
          "name": "stdout",
          "output_type": "stream",
          "text": [
            "The #rows and #columns are  1658130  and  20\n",
            "The years in this dataset are:  [2018, 2014, 2016, 2015, 2017]\n",
            "The months covered in this dataset are:  [1, 2, 3, 4, 5, 6, 7, 8, 9, 10, 11, 12]\n",
            "The date range for data is : 2014-01-01  to  2018-12-31\n",
            "The airlines covered in this dataset are:  ['WN', 'DL', 'OO', 'UA', 'AA']\n",
            "The Origin airports covered are:  ['PHX', 'SFO', 'ATL', 'DEN', 'LAX', 'ORD', 'CLT', 'DFW', 'IAH']\n",
            "The Destination airports covered are:  ['ATL', 'DEN', 'LAX', 'SFO', 'PHX', 'DFW', 'ORD', 'CLT', 'IAH']\n"
          ]
        }
      ],
      "source": [
        "print(\"The #rows and #columns are \", data.shape[0] , \" and \", data.shape[1])\n",
        "print(\"The years in this dataset are: \", list(data.Year.unique()))\n",
        "print(\"The months covered in this dataset are: \", sorted(list(data.Month.unique())))\n",
        "print(\"The date range for data is :\" , min(data.FlightDate.unique()), \" to \", max(data.FlightDate.unique()))\n",
        "print(\"The airlines covered in this dataset are: \", list(data.Reporting_Airline.unique()))\n",
        "print(\"The Origin airports covered are: \", list(data.Origin.unique()))\n",
        "print(\"The Destination airports covered are: \", list(data.Dest.unique()))"
      ]
    },
    {
      "cell_type": "markdown",
      "metadata": {
        "id": "lmUUOCQOEX0D"
      },
      "source": [
        "Define your target column: **is_delay** (*1* means that the arrival time delayed more than 15 minutes, and *0* means all other cases). To rename the column from **ArrDel15** to *is_delay*, use the `rename` method .\n",
        "\n",
        "**Hint**: You can use the `rename` function in pandas ([pandas.DataFrame.rename documentation](https://pandas.pydata.org/pandas-docs/stable/reference/api/pandas.DataFrame.rename.html)).\n",
        "\n",
        "For example:\n",
        "```\n",
        "data.rename(columns={'col1':'column1'}, inplace=True)\n",
        "```"
      ]
    },
    {
      "cell_type": "code",
      "execution_count": null,
      "metadata": {
        "id": "PghFLP3bEX0D"
      },
      "outputs": [],
      "source": [
        "data.rename(columns={'ArrDel15': 'is_delay'}, inplace=True) # Enter your code here"
      ]
    },
    {
      "cell_type": "markdown",
      "metadata": {
        "id": "mrA_DjQLEX0D"
      },
      "source": [
        "Look for nulls across columns. You can use the `isnull()` function ([pandas.isnull documentation](https://pandas.pydata.org/pandas-docs/version/0.17.0/generated/pandas.isnull.html)).\n",
        "\n",
        "**Hint**: `isnull()` detects whether the particular value is null or not. It returns a boolean (*True* or *False*) in its place. To sum the number of columns, use the `sum(axis=0)` function (for example, `df.isnull().sum(axis=0)`)."
      ]
    },
    {
      "cell_type": "code",
      "execution_count": null,
      "metadata": {
        "id": "7msy_mJHEX0D",
        "outputId": "c646c585-e44f-4c9b-94a2-8503527bdb50"
      },
      "outputs": [
        {
          "data": {
            "text/plain": [
              "Year                     0\n",
              "Quarter                  0\n",
              "Month                    0\n",
              "DayofMonth               0\n",
              "DayOfWeek                0\n",
              "FlightDate               0\n",
              "Reporting_Airline        0\n",
              "Origin                   0\n",
              "OriginState              0\n",
              "Dest                     0\n",
              "DestState                0\n",
              "CRSDepTime               0\n",
              "Cancelled                0\n",
              "Diverted                 0\n",
              "Distance                 0\n",
              "DistanceGroup            0\n",
              "ArrDelay             22540\n",
              "ArrDelayMinutes      22540\n",
              "is_delay             22540\n",
              "AirTime              22540\n",
              "dtype: int64"
            ]
          },
          "execution_count": 22,
          "metadata": {},
          "output_type": "execute_result"
        }
      ],
      "source": [
        "# Enter your code here\n",
        "data.isnull().sum(axis=0)"
      ]
    },
    {
      "cell_type": "markdown",
      "metadata": {
        "id": "hRIRVJmmEX0D"
      },
      "source": [
        "The arrival delay details and airtime are missing for 22,540 out of 1,658,130 rows, which is 1.3 percent. You can either remove or impute these rows. The documentation doesn't mention any information about missing rows.\n"
      ]
    },
    {
      "cell_type": "code",
      "execution_count": null,
      "metadata": {
        "id": "KHAfwVJtEX0E",
        "outputId": "17347846-4c97-451d-be7d-b3511299d7af"
      },
      "outputs": [
        {
          "data": {
            "text/plain": [
              "Year                 0\n",
              "Quarter              0\n",
              "Month                0\n",
              "DayofMonth           0\n",
              "DayOfWeek            0\n",
              "FlightDate           0\n",
              "Reporting_Airline    0\n",
              "Origin               0\n",
              "OriginState          0\n",
              "Dest                 0\n",
              "DestState            0\n",
              "CRSDepTime           0\n",
              "Cancelled            0\n",
              "Diverted             0\n",
              "Distance             0\n",
              "DistanceGroup        0\n",
              "ArrDelay             0\n",
              "ArrDelayMinutes      0\n",
              "is_delay             0\n",
              "AirTime              0\n",
              "dtype: int64"
            ]
          },
          "execution_count": 23,
          "metadata": {},
          "output_type": "execute_result"
        }
      ],
      "source": [
        "### Remove null columns\n",
        "data = data[~data.is_delay.isnull()]\n",
        "data.isnull().sum(axis = 0)"
      ]
    },
    {
      "cell_type": "markdown",
      "metadata": {
        "id": "MhYnqwFIEX0E"
      },
      "source": [
        "Get the hour of the day in 24-hour-time format from CRSDepTime."
      ]
    },
    {
      "cell_type": "code",
      "execution_count": null,
      "metadata": {
        "id": "YqKO5xeaEX0E"
      },
      "outputs": [],
      "source": [
        "data['DepHourofDay'] = (data['CRSDepTime']//100)"
      ]
    },
    {
      "cell_type": "markdown",
      "metadata": {
        "id": "9I1Ly0ClEX0E"
      },
      "source": [
        "## **The ML problem statement**\n",
        "- Given a set of features, can you predict if a flight is going to be delayed more than 15 minutes?\n",
        "- Because the target variable takes only a value of *0* or *1*, you could use a classification algorithm. \n",
        "\n",
        "Before you start modeling, it's a good practice to look at feature distribution, correlations, and others.\n",
        "- This will give you an idea of any non-linearity or patterns in the data\n",
        "    - Linear models: Add power, exponential, or interaction features\n",
        "    - Try a non-linear model\n",
        "- Data imbalance \n",
        "    - Choose metrics that won't give biased model performance (accuracy versus the area under the curve, or AUC)\n",
        "    - Use weighted or custom loss functions\n",
        "- Missing data\n",
        "    - Do imputation based on simple statistics -- mean, median, mode (numerical variables), frequent class (categorical variables)\n",
        "    - Clustering-based imputation (k-nearest neighbors, or KNNs, to predict column value)\n",
        "    - Drop column"
      ]
    },
    {
      "cell_type": "markdown",
      "metadata": {
        "id": "45cn1xGTEX0E"
      },
      "source": [
        "### Data exploration\n",
        "\n",
        "Check the classes *delay* versus *no delay*.\n"
      ]
    },
    {
      "cell_type": "code",
      "execution_count": null,
      "metadata": {
        "id": "nOMte664EX0E",
        "outputId": "b7a3c0b8-1dbc-405b-b95b-bf5a55c57c2f"
      },
      "outputs": [
        {
          "data": {
            "image/png": "[encoded data removed]",
            "text/plain": [
              "<Figure size 432x288 with 1 Axes>"
            ]
          },
          "metadata": {
            "needs_background": "light"
          },
          "output_type": "display_data"
        }
      ],
      "source": [
        "(data.groupby('is_delay').size()/len(data) ).plot(kind='bar')# Enter your code here\n",
        "plt.ylabel('Frequency')\n",
        "plt.title('Distribution of classes')\n",
        "plt.show()"
      ]
    },
    {
      "cell_type": "markdown",
      "metadata": {
        "id": "esf91HYwEX0E"
      },
      "source": [
        "**Question**: What can you deduce from the bar plot about the ratio of *delay* versus *no delay*?"
      ]
    },
    {
      "cell_type": "code",
      "execution_count": null,
      "metadata": {
        "id": "ce0SQ8fLEX0E"
      },
      "outputs": [],
      "source": [
        "# Enter your answer here\n",
        "จากกราฟแท่งจะเห็นว่าอัตราของเที่ยวบินที่เกิดการดีเลย์จะน้อยกกว่าเที่ยวบินที่ไม่เกิดการดีเลย์ โดยที่เที่ยวบินที่เกิดการดีเลย์จะอยู่ประมาณ 0.22 ส่วนเที่ยวบินที่ไม่เกิดการดีเลย์จะอยู่ประมาณ 0.78"
      ]
    },
    {
      "cell_type": "markdown",
      "metadata": {
        "id": "2hsq25LvEX0E"
      },
      "source": [
        "Run the following two cells and answer the questions."
      ]
    },
    {
      "cell_type": "code",
      "execution_count": null,
      "metadata": {
        "id": "2WB0JRbAEX0F",
        "outputId": "aaedc046-9359-4e07-f9c5-c83eecbe20e9"
      },
      "outputs": [
        {
          "data": {
            "image/png": "[encoded data removed]",
            "text/plain": [
              "<Figure size 1440x1440 with 6 Axes>"
            ]
          },
          "metadata": {
            "needs_background": "light"
          },
          "output_type": "display_data"
        }
      ],
      "source": [
        "viz_columns = ['Month', 'DepHourofDay', 'DayOfWeek', 'Reporting_Airline', 'Origin', 'Dest']\n",
        "fig, axes = plt.subplots(3, 2, figsize=(20,20), squeeze=False)\n",
        "# fig.autofmt_xdate(rotation=90)\n",
        "\n",
        "for idx, column in enumerate(viz_columns):\n",
        "    ax = axes[idx//2, idx%2]\n",
        "    temp = data.groupby(column)['is_delay'].value_counts(normalize=True).rename('percentage').\\\n",
        "    mul(100).reset_index().sort_values(column)\n",
        "    sns.barplot(x=column, y=\"percentage\", hue=\"is_delay\", data=temp, ax=ax)\n",
        "    plt.ylabel('% delay/no-delay')\n",
        "    \n",
        "\n",
        "plt.show()"
      ]
    },
    {
      "cell_type": "code",
      "execution_count": null,
      "metadata": {
        "id": "aWiwE90qEX0F",
        "outputId": "4ce1adff-e6f3-4694-b013-ea8f0d331faa"
      },
      "outputs": [
        {
          "data": {
            "image/png": "[encoded data removed]",
            "text/plain": [
              "<Figure size 360x360 with 1 Axes>"
            ]
          },
          "metadata": {
            "needs_background": "light"
          },
          "output_type": "display_data"
        }
      ],
      "source": [
        "sns.lmplot( x=\"is_delay\", y=\"Distance\", data=data, fit_reg=False, hue='is_delay', legend=False)\n",
        "plt.legend(loc='center')\n",
        "plt.xlabel('is_delay')\n",
        "plt.ylabel('Distance')\n",
        "plt.show()"
      ]
    },
    {
      "cell_type": "markdown",
      "metadata": {
        "id": "_e9Tt1GNEX0F"
      },
      "source": [
        "**Questions**\n",
        "\n",
        "Using the data from the previous charts, answer these questions:\n",
        "\n",
        "- Which months have the most delays?\n",
        "- What time of the day has the most delays?\n",
        "- What day of the week has the most delays?\n",
        "- Which airline has the most delays?\n",
        "- Which origin and destination airports have the most delays?\n",
        "- Is flight distance a factor in the delays?"
      ]
    },
    {
      "cell_type": "code",
      "execution_count": null,
      "metadata": {
        "id": "uAOlvai9EX0F"
      },
      "outputs": [],
      "source": [
        "# Enter your answers here\n",
        "1. มิถุนายน (6)\n",
        "2. 20.00 น.\n",
        "3. วันจันทร์, วันพฤหัสบดี, วันศุกร์ (1, 4, 5)\n",
        "4. WN\n",
        "5. Origin : ORD \n",
        "   Destination : SFO\n",
        "6. มีผลกับการดีเลย์ของเที่ยวบิน ในช่วงระยะทาง 500-1000 จะเห็นว่าเกิดการดีเลย์มากขึ้นและในการดีเลย์แต่ละครั้งมีเวลานานมาก\n",
        "ระยะทางมากกว่า 1000 ขึ้นไปเกิดการดีเลย์ถี่พอๆกัน แต่พอระยะทาง 2000 ขึ้นไปจะเกิดการดีเลย์น้อยลง"
      ]
    },
    {
      "cell_type": "markdown",
      "metadata": {
        "id": "WEJOlv9sEX0F"
      },
      "source": [
        "### Features\n",
        "\n",
        "Look at all the columns and what their specific types are."
      ]
    },
    {
      "cell_type": "code",
      "execution_count": null,
      "metadata": {
        "id": "maPy3uV3EX0F",
        "outputId": "4a3831fc-806c-488e-ed15-1e8c147b7c92"
      },
      "outputs": [
        {
          "data": {
            "text/plain": [
              "Index(['Year', 'Quarter', 'Month', 'DayofMonth', 'DayOfWeek', 'FlightDate',\n",
              "       'Reporting_Airline', 'Origin', 'OriginState', 'Dest', 'DestState',\n",
              "       'CRSDepTime', 'Cancelled', 'Diverted', 'Distance', 'DistanceGroup',\n",
              "       'ArrDelay', 'ArrDelayMinutes', 'is_delay', 'AirTime', 'DepHourofDay'],\n",
              "      dtype='object')"
            ]
          },
          "execution_count": 28,
          "metadata": {},
          "output_type": "execute_result"
        }
      ],
      "source": [
        "data.columns"
      ]
    },
    {
      "cell_type": "code",
      "execution_count": null,
      "metadata": {
        "id": "f_d8VK4jEX0F",
        "outputId": "73eb0c37-4e38-47fd-985a-865b2586727a"
      },
      "outputs": [
        {
          "data": {
            "text/plain": [
              "Year                   int64\n",
              "Quarter                int64\n",
              "Month                  int64\n",
              "DayofMonth             int64\n",
              "DayOfWeek              int64\n",
              "FlightDate            object\n",
              "Reporting_Airline     object\n",
              "Origin                object\n",
              "OriginState           object\n",
              "Dest                  object\n",
              "DestState             object\n",
              "CRSDepTime             int64\n",
              "Cancelled            float64\n",
              "Diverted             float64\n",
              "Distance             float64\n",
              "DistanceGroup          int64\n",
              "ArrDelay             float64\n",
              "ArrDelayMinutes      float64\n",
              "is_delay             float64\n",
              "AirTime              float64\n",
              "DepHourofDay           int64\n",
              "dtype: object"
            ]
          },
          "execution_count": 29,
          "metadata": {},
          "output_type": "execute_result"
        }
      ],
      "source": [
        "data.dtypes"
      ]
    },
    {
      "cell_type": "markdown",
      "metadata": {
        "id": "S7gS1BUIEX0F"
      },
      "source": [
        "Filtering the required columns:\n",
        "- *Date* is redundant, because you have *Year*, *Quarter*, *Month*, *DayofMonth*, and *DayOfWeek* to describe the date.\n",
        "- Use *Origin* and *Dest* codes instead of *OriginState* and *DestState*.\n",
        "- Because you are only classifying whether the flight is delayed or not, you don't need *TotalDelayMinutes*, *DepDelayMinutes*, and *ArrDelayMinutes*.\n",
        "\n",
        "Treat *DepHourofDay* as a categorical variable because it doesn't have any quantitative relation with the target.\n",
        "- If you needed to do a one-hot encoding of this variable, it would result in 23 more columns.\n",
        "- Other alternatives to handling categorical variables include hash encoding, regularized mean encoding, and bucketizing the values, among others.\n",
        "- In this case, you only need to split into buckets.\n",
        "\n",
        "To change a column type to category, use the `astype` function ([pandas.DataFrame.astype documentation](https://pandas.pydata.org/pandas-docs/stable/reference/api/pandas.DataFrame.astype.html))."
      ]
    },
    {
      "cell_type": "code",
      "execution_count": null,
      "metadata": {
        "id": "qHdVgYtrEX0G"
      },
      "outputs": [],
      "source": [
        "data_orig = data.copy()\n",
        "data = data[[ 'is_delay', 'Quarter', 'Month', 'DayofMonth', 'DayOfWeek', \n",
        "       'Reporting_Airline', 'Origin', 'Dest','Distance','DepHourofDay']]\n",
        "categorical_columns  = ['Quarter', 'Month', 'DayofMonth', 'DayOfWeek', \n",
        "       'Reporting_Airline', 'Origin', 'Dest', 'DepHourofDay']\n",
        "for c in categorical_columns:\n",
        "    data[c] = data[c].astype('category')"
      ]
    },
    {
      "cell_type": "markdown",
      "metadata": {
        "id": "HVTaV43WEX0G"
      },
      "source": [
        "To use one-hot encoding, use the `get_dummies` function in pandas for the categorical columns that you selected. Then, you can concatenate those generated features to your original dataset by using the `concat` function in pandas. For encoding categorical variables, you can also use *dummy encoding* by using a keyword `drop_first=True`. For more information about dummy encoding, see [Dummy variable (statistics)](https://en.wikiversity.org/wiki/Dummy_variable_(statistics)).\n",
        "\n",
        "For example:\n",
        "```\n",
        "pd.get_dummies(df[['column1','columns2']], drop_first=True)\n",
        "```"
      ]
    },
    {
      "cell_type": "code",
      "execution_count": null,
      "metadata": {
        "id": "dlrDgLXsEX0G"
      },
      "outputs": [],
      "source": [
        "data_dummies = pd.get_dummies(data[['Quarter', 'Month', 'DayofMonth', 'DayOfWeek', \n",
        "                                   'Reporting_Airline', 'Origin', 'Dest','DepHourofDay']], drop_first=True) # Enter your code here\n",
        "data = pd.concat([data, data_dummies], axis = 1)\n",
        "data.drop(categorical_columns,axis=1, inplace=True)"
      ]
    },
    {
      "cell_type": "markdown",
      "metadata": {
        "id": "osOXMuz2EX0G"
      },
      "source": [
        "Check the length of the dataset and the new columns.\n",
        "\n",
        "**Hint**: Use the `shape` and `columns` properties."
      ]
    },
    {
      "cell_type": "code",
      "execution_count": null,
      "metadata": {
        "id": "9gYrRfhHEX0G",
        "outputId": "965bef96-9397-42f9-96de-ff6845e3bbdb"
      },
      "outputs": [
        {
          "data": {
            "text/html": [
              "<div>\n",
              "<style scoped>\n",
              "    .dataframe tbody tr th:only-of-type {\n",
              "        vertical-align: middle;\n",
              "    }\n",
              "\n",
              "    .dataframe tbody tr th {\n",
              "        vertical-align: top;\n",
              "    }\n",
              "\n",
              "    .dataframe thead th {\n",
              "        text-align: right;\n",
              "    }\n",
              "</style>\n",
              "<table border=\"1\" class=\"dataframe\">\n",
              "  <thead>\n",
              "    <tr style=\"text-align: right;\">\n",
              "      <th></th>\n",
              "      <th>is_delay</th>\n",
              "      <th>Distance</th>\n",
              "      <th>Quarter_2</th>\n",
              "      <th>Quarter_3</th>\n",
              "      <th>Quarter_4</th>\n",
              "      <th>Month_2</th>\n",
              "      <th>Month_3</th>\n",
              "      <th>Month_4</th>\n",
              "      <th>Month_5</th>\n",
              "      <th>Month_6</th>\n",
              "      <th>...</th>\n",
              "      <th>DepHourofDay_14</th>\n",
              "      <th>DepHourofDay_15</th>\n",
              "      <th>DepHourofDay_16</th>\n",
              "      <th>DepHourofDay_17</th>\n",
              "      <th>DepHourofDay_18</th>\n",
              "      <th>DepHourofDay_19</th>\n",
              "      <th>DepHourofDay_20</th>\n",
              "      <th>DepHourofDay_21</th>\n",
              "      <th>DepHourofDay_22</th>\n",
              "      <th>DepHourofDay_23</th>\n",
              "    </tr>\n",
              "  </thead>\n",
              "  <tbody>\n",
              "    <tr>\n",
              "      <th>0</th>\n",
              "      <td>0.0</td>\n",
              "      <td>1587.0</td>\n",
              "      <td>0</td>\n",
              "      <td>0</td>\n",
              "      <td>1</td>\n",
              "      <td>0</td>\n",
              "      <td>0</td>\n",
              "      <td>0</td>\n",
              "      <td>0</td>\n",
              "      <td>0</td>\n",
              "      <td>...</td>\n",
              "      <td>0</td>\n",
              "      <td>0</td>\n",
              "      <td>0</td>\n",
              "      <td>0</td>\n",
              "      <td>0</td>\n",
              "      <td>0</td>\n",
              "      <td>0</td>\n",
              "      <td>0</td>\n",
              "      <td>0</td>\n",
              "      <td>0</td>\n",
              "    </tr>\n",
              "    <tr>\n",
              "      <th>1</th>\n",
              "      <td>0.0</td>\n",
              "      <td>1587.0</td>\n",
              "      <td>0</td>\n",
              "      <td>0</td>\n",
              "      <td>1</td>\n",
              "      <td>0</td>\n",
              "      <td>0</td>\n",
              "      <td>0</td>\n",
              "      <td>0</td>\n",
              "      <td>0</td>\n",
              "      <td>...</td>\n",
              "      <td>0</td>\n",
              "      <td>0</td>\n",
              "      <td>0</td>\n",
              "      <td>0</td>\n",
              "      <td>1</td>\n",
              "      <td>0</td>\n",
              "      <td>0</td>\n",
              "      <td>0</td>\n",
              "      <td>0</td>\n",
              "      <td>0</td>\n",
              "    </tr>\n",
              "    <tr>\n",
              "      <th>2</th>\n",
              "      <td>0.0</td>\n",
              "      <td>602.0</td>\n",
              "      <td>0</td>\n",
              "      <td>0</td>\n",
              "      <td>1</td>\n",
              "      <td>0</td>\n",
              "      <td>0</td>\n",
              "      <td>0</td>\n",
              "      <td>0</td>\n",
              "      <td>0</td>\n",
              "      <td>...</td>\n",
              "      <td>0</td>\n",
              "      <td>0</td>\n",
              "      <td>0</td>\n",
              "      <td>0</td>\n",
              "      <td>0</td>\n",
              "      <td>0</td>\n",
              "      <td>0</td>\n",
              "      <td>1</td>\n",
              "      <td>0</td>\n",
              "      <td>0</td>\n",
              "    </tr>\n",
              "    <tr>\n",
              "      <th>3</th>\n",
              "      <td>0.0</td>\n",
              "      <td>602.0</td>\n",
              "      <td>0</td>\n",
              "      <td>0</td>\n",
              "      <td>1</td>\n",
              "      <td>0</td>\n",
              "      <td>0</td>\n",
              "      <td>0</td>\n",
              "      <td>0</td>\n",
              "      <td>0</td>\n",
              "      <td>...</td>\n",
              "      <td>1</td>\n",
              "      <td>0</td>\n",
              "      <td>0</td>\n",
              "      <td>0</td>\n",
              "      <td>0</td>\n",
              "      <td>0</td>\n",
              "      <td>0</td>\n",
              "      <td>0</td>\n",
              "      <td>0</td>\n",
              "      <td>0</td>\n",
              "    </tr>\n",
              "    <tr>\n",
              "      <th>4</th>\n",
              "      <td>0.0</td>\n",
              "      <td>602.0</td>\n",
              "      <td>0</td>\n",
              "      <td>0</td>\n",
              "      <td>1</td>\n",
              "      <td>0</td>\n",
              "      <td>0</td>\n",
              "      <td>0</td>\n",
              "      <td>0</td>\n",
              "      <td>0</td>\n",
              "      <td>...</td>\n",
              "      <td>0</td>\n",
              "      <td>0</td>\n",
              "      <td>0</td>\n",
              "      <td>0</td>\n",
              "      <td>0</td>\n",
              "      <td>0</td>\n",
              "      <td>1</td>\n",
              "      <td>0</td>\n",
              "      <td>0</td>\n",
              "      <td>0</td>\n",
              "    </tr>\n",
              "  </tbody>\n",
              "</table>\n",
              "<p>5 rows × 94 columns</p>\n",
              "</div>"
            ],
            "text/plain": [
              "   is_delay  Distance  Quarter_2  Quarter_3  Quarter_4  Month_2  Month_3  \\\n",
              "0       0.0    1587.0          0          0          1        0        0   \n",
              "1       0.0    1587.0          0          0          1        0        0   \n",
              "2       0.0     602.0          0          0          1        0        0   \n",
              "3       0.0     602.0          0          0          1        0        0   \n",
              "4       0.0     602.0          0          0          1        0        0   \n",
              "\n",
              "   Month_4  Month_5  Month_6  ...  DepHourofDay_14  DepHourofDay_15  \\\n",
              "0        0        0        0  ...                0                0   \n",
              "1        0        0        0  ...                0                0   \n",
              "2        0        0        0  ...                0                0   \n",
              "3        0        0        0  ...                1                0   \n",
              "4        0        0        0  ...                0                0   \n",
              "\n",
              "   DepHourofDay_16  DepHourofDay_17  DepHourofDay_18  DepHourofDay_19  \\\n",
              "0                0                0                0                0   \n",
              "1                0                0                1                0   \n",
              "2                0                0                0                0   \n",
              "3                0                0                0                0   \n",
              "4                0                0                0                0   \n",
              "\n",
              "   DepHourofDay_20  DepHourofDay_21  DepHourofDay_22  DepHourofDay_23  \n",
              "0                0                0                0                0  \n",
              "1                0                0                0                0  \n",
              "2                0                1                0                0  \n",
              "3                0                0                0                0  \n",
              "4                1                0                0                0  \n",
              "\n",
              "[5 rows x 94 columns]"
            ]
          },
          "execution_count": 33,
          "metadata": {},
          "output_type": "execute_result"
        }
      ],
      "source": [
        "# Enter your code here\n",
        "data.head()"
      ]
    },
    {
      "cell_type": "code",
      "execution_count": null,
      "metadata": {
        "id": "Xh4Zd9bJEX0G",
        "outputId": "a4ac71de-b962-4673-b870-19d8baa54476"
      },
      "outputs": [
        {
          "data": {
            "text/plain": [
              "(1635590, 94)"
            ]
          },
          "execution_count": 34,
          "metadata": {},
          "output_type": "execute_result"
        }
      ],
      "source": [
        "# Enter your code here\n",
        "data.shape"
      ]
    },
    {
      "cell_type": "markdown",
      "metadata": {
        "id": "2h4ZY4mTEX0G"
      },
      "source": [
        "You are now ready to train the model. Before you split the data, rename the **is_delay** column to *target*.\n",
        "\n",
        "**Hint**: You can use the `rename` function in pandas ([pandas.DataFrame.rename documentation](https://pandas.pydata.org/pandas-docs/stable/reference/api/pandas.DataFrame.rename.html))."
      ]
    },
    {
      "cell_type": "code",
      "execution_count": null,
      "metadata": {
        "id": "iXVGAnW0EX0G"
      },
      "outputs": [],
      "source": [
        "data.rename(columns = {'is_delay':'target'}, inplace=True )# Enter your code here"
      ]
    },
    {
      "cell_type": "markdown",
      "metadata": {
        "id": "5XAiO4THEX0H"
      },
      "source": [
        "## <span style=\"color:red\"> End of Step 2 </span>\n",
        "\n",
        "Save the project file to your local computer. Follow these steps:\n",
        "\n",
        "1. In the file explorer on the left, right-click the notebook that you're working on. \n",
        "\n",
        "2. Choose **Download**, and save the file locally.  \n",
        "\n",
        "This action downloads the current notebook to the default download folder on your computer."
      ]
    },
    {
      "cell_type": "markdown",
      "metadata": {
        "id": "Ebzt-P56EX0H"
      },
      "source": [
        "# Step 3: Model training and evaluation\n",
        "\n",
        "You must include some preliminary steps when you convert the dataset from a DataFrame to a format that a machine learning algorithm can use. For Amazon SageMaker, you must perform these steps:\n",
        "\n",
        "1. Split the data into `train_data`, `validation_data`, and `test_data` by using `sklearn.model_selection.train_test_split`.  \n",
        "\n",
        "2. Convert the dataset to an appropriate file format that the Amazon SageMaker training job can use. This can be either a CSV file or record protobuf. For more information, see [Common Data Formats for Training](https://docs.aws.amazon.com/sagemaker/latest/dg/cdf-training.html).  \n",
        "\n",
        "3. Upload the data to your S3 bucket. If you haven't created one before, see [Create a Bucket](https://docs.aws.amazon.com/AmazonS3/latest/gsg/CreatingABucket.html).  \n",
        "\n",
        "Use the following cells to complete these steps. Insert and delete cells where needed.\n",
        "\n",
        "#### <span style=\"color: blue;\">Project presentation: In your project presentation, write down the key decisions that you made in this phase.</span>"
      ]
    },
    {
      "cell_type": "markdown",
      "metadata": {
        "id": "dt5-GulpEX0H"
      },
      "source": [
        "### Train-test split"
      ]
    },
    {
      "cell_type": "code",
      "execution_count": null,
      "metadata": {
        "id": "xnJFK7PuEX0H"
      },
      "outputs": [],
      "source": [
        "from sklearn.model_selection import train_test_split\n",
        "def split_data(data):\n",
        "    train, test_and_validate = train_test_split(data, test_size=0.2, random_state=42, stratify=data['target'])\n",
        "    test, validate = train_test_split(test_and_validate, test_size=0.5, random_state=42, stratify=test_and_validate['target'])\n",
        "    return train, validate, test"
      ]
    },
    {
      "cell_type": "code",
      "execution_count": null,
      "metadata": {
        "id": "N477oD-9EX0H",
        "outputId": "22b8b1ae-df6f-4d87-a996-66257ff03c52"
      },
      "outputs": [
        {
          "name": "stdout",
          "output_type": "stream",
          "text": [
            "0.0    1033806\n",
            "1.0     274666\n",
            "Name: target, dtype: int64\n",
            "0.0    129226\n",
            "1.0     34333\n",
            "Name: target, dtype: int64\n",
            "0.0    129226\n",
            "1.0     34333\n",
            "Name: target, dtype: int64\n"
          ]
        }
      ],
      "source": [
        "train, validate, test = split_data(data)\n",
        "print(train['target'].value_counts())\n",
        "print(test['target'].value_counts())\n",
        "print(validate['target'].value_counts())"
      ]
    },
    {
      "cell_type": "markdown",
      "metadata": {
        "id": "WXizRdQLEX0H"
      },
      "source": [
        "**Sample answer**\n",
        "```\n",
        "0.0    1033570\n",
        "1.0     274902\n",
        "Name: target, dtype: int64\n",
        "0.0    129076\n",
        "1.0     34483\n",
        "Name: target, dtype: int64\n",
        "0.0    129612\n",
        "1.0     33947\n",
        "Name: target, dtype: int64\n",
        "```"
      ]
    },
    {
      "cell_type": "markdown",
      "metadata": {
        "id": "CwRFZfUrEX0H"
      },
      "source": [
        "### Baseline classification model"
      ]
    },
    {
      "cell_type": "code",
      "execution_count": null,
      "metadata": {
        "id": "-1DQMUz0EX0H"
      },
      "outputs": [],
      "source": [
        "import sagemaker\n",
        "from sagemaker.serializers import CSVSerializer\n",
        "from sagemaker.amazon.amazon_estimator import RecordSet\n",
        "import boto3\n",
        "\n",
        "# Instantiate the LinearLearner estimator object with 1 ml.m4.xlarge\n",
        "classifier_estimator = sagemaker.LinearLearner(role=sagemaker.get_execution_role(),\n",
        "                                               instance_count=1,\n",
        "                                               instance_type='ml.m4.xlarge',\n",
        "                                               predictor_type='binary_classifier',\n",
        "                                               binary_classifier_model_selection_criteria='cross_entropy_loss')"
      ]
    },
    {
      "cell_type": "markdown",
      "metadata": {
        "id": "zu8c49FGEX0H"
      },
      "source": [
        "### Sample code\n",
        "```\n",
        "num_classes = len(pd.unique(train_labels))\n",
        "classifier_estimator = sagemaker.LinearLearner(role=sagemaker.get_execution_role(),\n",
        "                                              instance_count=1,\n",
        "                                              instance_type='ml.m4.xlarge',\n",
        "                                              predictor_type='binary_classifier',\n",
        "                                              binary_classifier_model_selection_criteria = 'cross_entropy_loss')\n",
        "                                              \n",
        "```"
      ]
    },
    {
      "cell_type": "markdown",
      "metadata": {
        "id": "HFstNZS3EX0I"
      },
      "source": [
        "Linear learner accepts training data in protobuf or CSV content types. It also accepts inference requests in protobuf, CSV, or JavaScript Object Notation (JSON) content types. Training data has features and ground-truth labels, but the data in an inference request has only features.\n",
        "\n",
        "In a production pipeline, AWS recommends converting the data to the Amazon SageMaker protobuf format and storing it in Amazon S3. To get up and running quickly, AWS provides the `record_set` operation for converting and uploading the dataset when it's small enough to fit in local memory. It accepts NumPy arrays like the ones you already have, so you will use it for this step. The `RecordSet` object will track the temporary Amazon S3 location of your data. Create train, validation, and test records by using the `estimator.record_set` function. Then, start your training job by using the `estimator.fit` function."
      ]
    },
    {
      "cell_type": "code",
      "execution_count": null,
      "metadata": {
        "id": "OJKd-_ReEX0I"
      },
      "outputs": [],
      "source": [
        "### Create train, validate, and test records\n",
        "train_records = classifier_estimator.record_set(train.values[:, 1:].astype(np.float32), train.values[:, 0].astype(np.float32), channel='train')\n",
        "val_records = classifier_estimator.record_set(validate.values[:, 1:].astype(np.float32), validate.values[:, 0].astype(np.float32), channel='validation')\n",
        "test_records = classifier_estimator.record_set(test.values[:, 1:].astype(np.float32), test.values[:, 0].astype(np.float32), channel='test')"
      ]
    },
    {
      "cell_type": "markdown",
      "metadata": {
        "id": "HAiMmz4jEX0I"
      },
      "source": [
        "Now, train your model on the dataset that you just uploaded.\n",
        "\n",
        "### Sample code\n",
        "```\n",
        "linear.fit([train_records,val_records,test_records])\n",
        "```"
      ]
    },
    {
      "cell_type": "code",
      "execution_count": null,
      "metadata": {
        "id": "_IhaDSsbEX0I",
        "outputId": "61f22e0e-cef5-4bfc-9ac0-a711a74eb92e"
      },
      "outputs": [
        {
          "name": "stderr",
          "output_type": "stream",
          "text": [
            "Defaulting to the only supported framework/algorithm version: 1. Ignoring framework/algorithm version: 1.\n",
            "Defaulting to the only supported framework/algorithm version: 1. Ignoring framework/algorithm version: 1.\n"
          ]
        },
        {
          "name": "stdout",
          "output_type": "stream",
          "text": [
            "2022-04-22 07:27:04 Starting - Starting the training job...\n",
            "2022-04-22 07:27:31 Starting - Preparing the instances for trainingProfilerReport-1650612423: InProgress\n",
            ".........\n",
            "2022-04-22 07:28:53 Downloading - Downloading input data........\u001b[34mDocker entrypoint called with argument(s): train\u001b[0m\n",
            "\u001b[34mRunning default environment configuration script\u001b[0m\n",
            "\u001b[34m[04/22/2022 07:30:22 INFO 139644120127296 integration.py:636] worker started\u001b[0m\n",
            "\u001b[34m[04/22/2022 07:30:22 INFO 139644120127296] Reading default configuration from /opt/amazon/lib/python3.7/site-packages/algorithm/resources/default-input.json: {'mini_batch_size': '1000', 'epochs': '15', 'feature_dim': 'auto', 'use_bias': 'true', 'binary_classifier_model_selection_criteria': 'accuracy', 'f_beta': '1.0', 'target_recall': '0.8', 'target_precision': '0.8', 'num_models': 'auto', 'num_calibration_samples': '10000000', 'init_method': 'uniform', 'init_scale': '0.07', 'init_sigma': '0.01', 'init_bias': '0.0', 'optimizer': 'auto', 'loss': 'auto', 'margin': '1.0', 'quantile': '0.5', 'loss_insensitivity': '0.01', 'huber_delta': '1.0', 'num_classes': '1', 'accuracy_top_k': '3', 'wd': 'auto', 'l1': 'auto', 'momentum': 'auto', 'learning_rate': 'auto', 'beta_1': 'auto', 'beta_2': 'auto', 'bias_lr_mult': 'auto', 'bias_wd_mult': 'auto', 'use_lr_scheduler': 'true', 'lr_scheduler_step': 'auto', 'lr_scheduler_factor': 'auto', 'lr_scheduler_minimum_lr': 'auto', 'positive_example_weight_mult': '1.0', 'balance_multiclass_weights': 'false', 'normalize_data': 'true', 'normalize_label': 'auto', 'unbias_data': 'auto', 'unbias_label': 'auto', 'num_point_for_scaler': '10000', '_kvstore': 'auto', '_num_gpus': 'auto', '_num_kv_servers': 'auto', '_log_level': 'info', '_tuning_objective_metric': '', 'early_stopping_patience': '3', 'early_stopping_tolerance': '0.001', '_enable_profiler': 'false'}\u001b[0m\n",
            "\u001b[34m[04/22/2022 07:30:22 INFO 139644120127296] Merging with provided configuration from /opt/ml/input/config/hyperparameters.json: {'binary_classifier_model_selection_criteria': 'cross_entropy_loss', 'feature_dim': '93', 'mini_batch_size': '1000', 'predictor_type': 'binary_classifier'}\u001b[0m\n",
            "\u001b[34m[04/22/2022 07:30:22 INFO 139644120127296] Final configuration: {'mini_batch_size': '1000', 'epochs': '15', 'feature_dim': '93', 'use_bias': 'true', 'binary_classifier_model_selection_criteria': 'cross_entropy_loss', 'f_beta': '1.0', 'target_recall': '0.8', 'target_precision': '0.8', 'num_models': 'auto', 'num_calibration_samples': '10000000', 'init_method': 'uniform', 'init_scale': '0.07', 'init_sigma': '0.01', 'init_bias': '0.0', 'optimizer': 'auto', 'loss': 'auto', 'margin': '1.0', 'quantile': '0.5', 'loss_insensitivity': '0.01', 'huber_delta': '1.0', 'num_classes': '1', 'accuracy_top_k': '3', 'wd': 'auto', 'l1': 'auto', 'momentum': 'auto', 'learning_rate': 'auto', 'beta_1': 'auto', 'beta_2': 'auto', 'bias_lr_mult': 'auto', 'bias_wd_mult': 'auto', 'use_lr_scheduler': 'true', 'lr_scheduler_step': 'auto', 'lr_scheduler_factor': 'auto', 'lr_scheduler_minimum_lr': 'auto', 'positive_example_weight_mult': '1.0', 'balance_multiclass_weights': 'false', 'normalize_data': 'true', 'normalize_label': 'auto', 'unbias_data': 'auto', 'unbias_label': 'auto', 'num_point_for_scaler': '10000', '_kvstore': 'auto', '_num_gpus': 'auto', '_num_kv_servers': 'auto', '_log_level': 'info', '_tuning_objective_metric': '', 'early_stopping_patience': '3', 'early_stopping_tolerance': '0.001', '_enable_profiler': 'false', 'predictor_type': 'binary_classifier'}\u001b[0m\n",
            "\u001b[34m[04/22/2022 07:30:22 WARNING 139644120127296] Loggers have already been setup.\u001b[0m\n",
            "\u001b[34mProcess 1 is a worker.\u001b[0m\n",
            "\u001b[34m[04/22/2022 07:30:22 INFO 139644120127296] Using default worker.\u001b[0m\n",
            "\u001b[34m[04/22/2022 07:30:23 INFO 139644120127296] Checkpoint loading and saving are disabled.\u001b[0m\n",
            "\u001b[34m[2022-04-22 07:30:23.098] [tensorio] [warning] TensorIO is already initialized; ignoring the initialization routine.\u001b[0m\n",
            "\u001b[34m[2022-04-22 07:30:23.119] [tensorio] [warning] TensorIO is already initialized; ignoring the initialization routine.\u001b[0m\n",
            "\u001b[34m[2022-04-22 07:30:23.172] [tensorio] [info] epoch_stats={\"data_pipeline\": \"/opt/ml/input/data/train\", \"epoch\": 0, \"duration\": 80, \"num_examples\": 1, \"num_bytes\": 420000}\u001b[0m\n",
            "\u001b[34m[04/22/2022 07:30:23 INFO 139644120127296] Create Store: local\u001b[0m\n",
            "\n",
            "2022-04-22 07:30:30 Training - Training image download completed. Training in progress.\u001b[34m[2022-04-22 07:30:23.373] [tensorio] [info] epoch_stats={\"data_pipeline\": \"/opt/ml/input/data/train\", \"epoch\": 1, \"duration\": 199, \"num_examples\": 11, \"num_bytes\": 4620000}\u001b[0m\n",
            "\u001b[34m[04/22/2022 07:30:23 INFO 139644120127296] Scaler algorithm parameters\n",
            " <algorithm.scaler.ScalerAlgorithmStable object at 0x7f010d796450>\u001b[0m\n",
            "\u001b[34m[04/22/2022 07:30:23 INFO 139644120127296] Scaling model computed with parameters:\n",
            " {'stdev_label': None, 'stdev_weight': \u001b[0m\n",
            "\u001b[34m[5.4021075e+02 4.3504041e-01 4.3808559e-01 4.3687826e-01 2.6206654e-01\n",
            " 2.7533180e-01 2.7656808e-01 2.7820411e-01 2.7969170e-01 2.8303030e-01\n",
            " 2.8156847e-01 2.7793238e-01 2.8156844e-01 2.7311417e-01 2.8448114e-01\n",
            " 1.7839867e-01 1.8515393e-01 1.7768295e-01 1.7331763e-01 1.8099520e-01\n",
            " 1.7911112e-01 1.8216139e-01 1.7208263e-01 1.7672350e-01 1.7744365e-01\n",
            " 1.7744364e-01 1.8239363e-01 1.7672351e-01 1.7648272e-01 1.7575808e-01\n",
            " 1.7624155e-01 1.8515390e-01 1.7672351e-01 1.7744368e-01 1.8786736e-01\n",
            " 1.7982028e-01 1.7816047e-01 1.7600000e-01 1.7911109e-01 1.8354958e-01\n",
            " 1.8400961e-01 1.8029134e-01 1.6806139e-01 1.6856998e-01 1.2155246e-01\n",
            " 3.5546011e-01 3.4726980e-01 3.6077440e-01 3.5875630e-01 3.3092499e-01\n",
            " 3.4230527e-01 3.7370476e-01 2.3966353e-01 4.6063808e-01 3.1424469e-01\n",
            " 2.3765521e-01 3.1118241e-01 3.2760054e-01 2.7629402e-01 3.5519010e-01\n",
            " 3.3630344e-01 3.0120832e-01 3.3225873e-01 2.4636538e-01 3.1625912e-01\n",
            " 3.2749566e-01 2.8461251e-01 3.6138391e-01 3.3184940e-01 3.0060509e-01\n",
            " 3.2770535e-01 5.3011693e-02 9.5341932e-03 1.0000000e+00 1.5832050e-01\n",
            " 2.2833481e-01 2.5560609e-01 2.4684641e-01 2.3357147e-01 2.4247175e-01\n",
            " 2.4115555e-01 2.5437942e-01 2.4796401e-01 2.4345285e-01 2.3613445e-01\n",
            " 2.3425846e-01 2.4230777e-01 2.1962625e-01 2.2583821e-01 1.8764298e-01\n",
            " 1.5804790e-01 1.6780645e-01 1.1169909e-01]\u001b[0m\n",
            "\u001b[34m<NDArray 93 @cpu(0)>, 'mean_label': None, 'mean_weight': \u001b[0m\n",
            "\u001b[34m[1.01894336e+03 2.53545493e-01 2.59000033e-01 2.56818205e-01\n",
            " 7.41818249e-02 8.26363713e-02 8.34545568e-02 8.45454633e-02\n",
            " 8.55454654e-02 8.78181905e-02 8.68181884e-02 8.43636394e-02\n",
            " 8.68181884e-02 8.11818317e-02 8.88181925e-02 3.29090916e-02\n",
            " 3.55454534e-02 3.26363668e-02 3.10000032e-02 3.39090936e-02\n",
            " 3.31818238e-02 3.43636386e-02 3.05454526e-02 3.22727263e-02\n",
            " 3.25454548e-02 3.25454585e-02 3.44545469e-02 3.22727263e-02\n",
            " 3.21818218e-02 3.19090933e-02 3.20909098e-02 3.55454572e-02\n",
            " 3.22727300e-02 3.25454548e-02 3.66363712e-02 3.34545448e-02\n",
            " 3.28181833e-02 3.20000015e-02 3.31818201e-02 3.49090919e-02\n",
            " 3.50909159e-02 3.36363651e-02 2.90909111e-02 2.92727295e-02\n",
            " 1.50000015e-02 1.48363665e-01 1.40272722e-01 1.53818190e-01\n",
            " 1.51727289e-01 1.25181839e-01 1.35545462e-01 1.67818204e-01\n",
            " 6.11818209e-02 3.05545479e-01 1.11090921e-01 6.00909144e-02\n",
            " 1.08636372e-01 1.22272745e-01 8.32727402e-02 1.48090944e-01\n",
            " 1.30000025e-01 1.00909099e-01 1.26363650e-01 6.49090931e-02\n",
            " 1.12727277e-01 1.22181840e-01 8.89090970e-02 1.54454559e-01\n",
            " 1.26000017e-01 1.00454554e-01 1.22363649e-01 2.81818188e-03\n",
            " 9.09090959e-05 0.00000000e+00 2.57272720e-02 5.51818237e-02\n",
            " 7.02727363e-02 6.51818216e-02 5.79090975e-02 6.27272800e-02\n",
            " 6.20000064e-02 6.95454702e-02 6.58181906e-02 6.32727295e-02\n",
            " 5.92727326e-02 5.82727306e-02 6.26363605e-02 5.08181863e-02\n",
            " 5.39090931e-02 3.65454555e-02 2.56363675e-02 2.90000010e-02\n",
            " 1.26363635e-02]\u001b[0m\n",
            "\u001b[34m<NDArray 93 @cpu(0)>}\u001b[0m\n",
            "\u001b[34m[04/22/2022 07:30:23 INFO 139644120127296] nvidia-smi: took 0.039 seconds to run.\u001b[0m\n",
            "\u001b[34m[04/22/2022 07:30:23 INFO 139644120127296] nvidia-smi identified 0 GPUs.\u001b[0m\n",
            "\u001b[34m[04/22/2022 07:30:23 INFO 139644120127296] Number of GPUs being used: 0\u001b[0m\n",
            "\u001b[34m#metrics {\"StartTime\": 1650612623.574516, \"EndTime\": 1650612623.5745828, \"Dimensions\": {\"Algorithm\": \"Linear Learner\", \"Host\": \"algo-1\", \"Operation\": \"training\", \"Meta\": \"init_train_data_iter\"}, \"Metrics\": {\"Total Records Seen\": {\"sum\": 12000.0, \"count\": 1, \"min\": 12000, \"max\": 12000}, \"Total Batches Seen\": {\"sum\": 12.0, \"count\": 1, \"min\": 12, \"max\": 12}, \"Max Records Seen Between Resets\": {\"sum\": 11000.0, \"count\": 1, \"min\": 11000, \"max\": 11000}, \"Max Batches Seen Between Resets\": {\"sum\": 11.0, \"count\": 1, \"min\": 11, \"max\": 11}, \"Reset Count\": {\"sum\": 2.0, \"count\": 1, \"min\": 2, \"max\": 2}, \"Number of Records Since Last Reset\": {\"sum\": 0.0, \"count\": 1, \"min\": 0, \"max\": 0}, \"Number of Batches Since Last Reset\": {\"sum\": 0.0, \"count\": 1, \"min\": 0, \"max\": 0}}}\u001b[0m\n",
            "\u001b[34m[2022-04-22 07:31:21.944] [tensorio] [info] epoch_stats={\"data_pipeline\": \"/opt/ml/input/data/train\", \"epoch\": 3, \"duration\": 58368, \"num_examples\": 1309, \"num_bytes\": 549558240}\u001b[0m\n",
            "\u001b[34m#metrics {\"StartTime\": 1650612681.9446957, \"EndTime\": 1650612681.9448235, \"Dimensions\": {\"Algorithm\": \"Linear Learner\", \"Host\": \"algo-1\", \"Operation\": \"training\", \"epoch\": 0, \"model\": 0}, \"Metrics\": {\"train_binary_classification_cross_entropy_objective\": {\"sum\": 0.494349605548637, \"count\": 1, \"min\": 0.494349605548637, \"max\": 0.494349605548637}}}\u001b[0m\n",
            "\u001b[34m#metrics {\"StartTime\": 1650612681.9455287, \"EndTime\": 1650612681.9456422, \"Dimensions\": {\"Algorithm\": \"Linear Learner\", \"Host\": \"algo-1\", \"Operation\": \"training\", \"epoch\": 0, \"model\": 1}, \"Metrics\": {\"train_binary_classification_cross_entropy_objective\": {\"sum\": 0.49499379660230164, \"count\": 1, \"min\": 0.49499379660230164, \"max\": 0.49499379660230164}}}\u001b[0m\n",
            "\u001b[34m#metrics {\"StartTime\": 1650612681.9457257, \"EndTime\": 1650612681.945747, \"Dimensions\": {\"Algorithm\": \"Linear Learner\", \"Host\": \"algo-1\", \"Operation\": \"training\", \"epoch\": 0, \"model\": 2}, \"Metrics\": {\"train_binary_classification_cross_entropy_objective\": {\"sum\": 0.4944677969789651, \"count\": 1, \"min\": 0.4944677969789651, \"max\": 0.4944677969789651}}}\u001b[0m\n",
            "\u001b[34m#metrics {\"StartTime\": 1650612681.9458392, \"EndTime\": 1650612681.9458606, \"Dimensions\": {\"Algorithm\": \"Linear Learner\", \"Host\": \"algo-1\", \"Operation\": \"training\", \"epoch\": 0, \"model\": 3}, \"Metrics\": {\"train_binary_classification_cross_entropy_objective\": {\"sum\": 0.49501876898715985, \"count\": 1, \"min\": 0.49501876898715985, \"max\": 0.49501876898715985}}}\u001b[0m\n",
            "\u001b[34m#metrics {\"StartTime\": 1650612681.945924, \"EndTime\": 1650612681.9459448, \"Dimensions\": {\"Algorithm\": \"Linear Learner\", \"Host\": \"algo-1\", \"Operation\": \"training\", \"epoch\": 0, \"model\": 4}, \"Metrics\": {\"train_binary_classification_cross_entropy_objective\": {\"sum\": 0.5075598155730361, \"count\": 1, \"min\": 0.5075598155730361, \"max\": 0.5075598155730361}}}\u001b[0m\n",
            "\u001b[34m#metrics {\"StartTime\": 1650612681.9460053, \"EndTime\": 1650612681.9460216, \"Dimensions\": {\"Algorithm\": \"Linear Learner\", \"Host\": \"algo-1\", \"Operation\": \"training\", \"epoch\": 0, \"model\": 5}, \"Metrics\": {\"train_binary_classification_cross_entropy_objective\": {\"sum\": 0.5179115281877897, \"count\": 1, \"min\": 0.5179115281877897, \"max\": 0.5179115281877897}}}\u001b[0m\n",
            "\u001b[34m#metrics {\"StartTime\": 1650612681.9460733, \"EndTime\": 1650612681.9460905, \"Dimensions\": {\"Algorithm\": \"Linear Learner\", \"Host\": \"algo-1\", \"Operation\": \"training\", \"epoch\": 0, \"model\": 6}, \"Metrics\": {\"train_binary_classification_cross_entropy_objective\": {\"sum\": 0.5075389331502652, \"count\": 1, \"min\": 0.5075389331502652, \"max\": 0.5075389331502652}}}\u001b[0m\n",
            "\u001b[34m#metrics {\"StartTime\": 1650612681.946146, \"EndTime\": 1650612681.9461641, \"Dimensions\": {\"Algorithm\": \"Linear Learner\", \"Host\": \"algo-1\", \"Operation\": \"training\", \"epoch\": 0, \"model\": 7}, \"Metrics\": {\"train_binary_classification_cross_entropy_objective\": {\"sum\": 0.5179250213669709, \"count\": 1, \"min\": 0.5179250213669709, \"max\": 0.5179250213669709}}}\u001b[0m\n",
            "\u001b[34m#metrics {\"StartTime\": 1650612681.946219, \"EndTime\": 1650612681.9462357, \"Dimensions\": {\"Algorithm\": \"Linear Learner\", \"Host\": \"algo-1\", \"Operation\": \"training\", \"epoch\": 0, \"model\": 8}, \"Metrics\": {\"train_binary_classification_cross_entropy_objective\": {\"sum\": 0.4945269167138896, \"count\": 1, \"min\": 0.4945269167138896, \"max\": 0.4945269167138896}}}\u001b[0m\n",
            "\u001b[34m#metrics {\"StartTime\": 1650612681.9463017, \"EndTime\": 1650612681.94632, \"Dimensions\": {\"Algorithm\": \"Linear Learner\", \"Host\": \"algo-1\", \"Operation\": \"training\", \"epoch\": 0, \"model\": 9}, \"Metrics\": {\"train_binary_classification_cross_entropy_objective\": {\"sum\": 0.49499741561842986, \"count\": 1, \"min\": 0.49499741561842986, \"max\": 0.49499741561842986}}}\u001b[0m\n",
            "\u001b[34m#metrics {\"StartTime\": 1650612681.94639, \"EndTime\": 1650612681.946409, \"Dimensions\": {\"Algorithm\": \"Linear Learner\", \"Host\": \"algo-1\", \"Operation\": \"training\", \"epoch\": 0, \"model\": 10}, \"Metrics\": {\"train_binary_classification_cross_entropy_objective\": {\"sum\": 0.49455543865705487, \"count\": 1, \"min\": 0.49455543865705487, \"max\": 0.49455543865705487}}}\u001b[0m\n",
            "\u001b[34m#metrics {\"StartTime\": 1650612681.9464676, \"EndTime\": 1650612681.9464855, \"Dimensions\": {\"Algorithm\": \"Linear Learner\", \"Host\": \"algo-1\", \"Operation\": \"training\", \"epoch\": 0, \"model\": 11}, \"Metrics\": {\"train_binary_classification_cross_entropy_objective\": {\"sum\": 0.49501586130124714, \"count\": 1, \"min\": 0.49501586130124714, \"max\": 0.49501586130124714}}}\u001b[0m\n",
            "\u001b[34m#metrics {\"StartTime\": 1650612681.9465477, \"EndTime\": 1650612681.9465654, \"Dimensions\": {\"Algorithm\": \"Linear Learner\", \"Host\": \"algo-1\", \"Operation\": \"training\", \"epoch\": 0, \"model\": 12}, \"Metrics\": {\"train_binary_classification_cross_entropy_objective\": {\"sum\": 0.5066236692656071, \"count\": 1, \"min\": 0.5066236692656071, \"max\": 0.5066236692656071}}}\u001b[0m\n",
            "\u001b[34m#metrics {\"StartTime\": 1650612681.9466255, \"EndTime\": 1650612681.9466426, \"Dimensions\": {\"Algorithm\": \"Linear Learner\", \"Host\": \"algo-1\", \"Operation\": \"training\", \"epoch\": 0, \"model\": 13}, \"Metrics\": {\"train_binary_classification_cross_entropy_objective\": {\"sum\": 0.5161071686817601, \"count\": 1, \"min\": 0.5161071686817601, \"max\": 0.5161071686817601}}}\u001b[0m\n",
            "\u001b[34m#metrics {\"StartTime\": 1650612681.9467044, \"EndTime\": 1650612681.9467223, \"Dimensions\": {\"Algorithm\": \"Linear Learner\", \"Host\": \"algo-1\", \"Operation\": \"training\", \"epoch\": 0, \"model\": 14}, \"Metrics\": {\"train_binary_classification_cross_entropy_objective\": {\"sum\": 0.5066022881790768, \"count\": 1, \"min\": 0.5066022881790768, \"max\": 0.5066022881790768}}}\u001b[0m\n",
            "\u001b[34m#metrics {\"StartTime\": 1650612681.9467857, \"EndTime\": 1650612681.946804, \"Dimensions\": {\"Algorithm\": \"Linear Learner\", \"Host\": \"algo-1\", \"Operation\": \"training\", \"epoch\": 0, \"model\": 15}, \"Metrics\": {\"train_binary_classification_cross_entropy_objective\": {\"sum\": 0.5161471454958668, \"count\": 1, \"min\": 0.5161471454958668, \"max\": 0.5161471454958668}}}\u001b[0m\n",
            "\u001b[34m#metrics {\"StartTime\": 1650612681.9468648, \"EndTime\": 1650612681.9468818, \"Dimensions\": {\"Algorithm\": \"Linear Learner\", \"Host\": \"algo-1\", \"Operation\": \"training\", \"epoch\": 0, \"model\": 16}, \"Metrics\": {\"train_binary_classification_cross_entropy_objective\": {\"sum\": 0.509193739654821, \"count\": 1, \"min\": 0.509193739654821, \"max\": 0.509193739654821}}}\u001b[0m\n",
            "\u001b[34m#metrics {\"StartTime\": 1650612681.9470038, \"EndTime\": 1650612681.9470246, \"Dimensions\": {\"Algorithm\": \"Linear Learner\", \"Host\": \"algo-1\", \"Operation\": \"training\", \"epoch\": 0, \"model\": 17}, \"Metrics\": {\"train_binary_classification_cross_entropy_objective\": {\"sum\": 0.5092726738372709, \"count\": 1, \"min\": 0.5092726738372709, \"max\": 0.5092726738372709}}}\u001b[0m\n",
            "\u001b[34m#metrics {\"StartTime\": 1650612681.9470809, \"EndTime\": 1650612681.947098, \"Dimensions\": {\"Algorithm\": \"Linear Learner\", \"Host\": \"algo-1\", \"Operation\": \"training\", \"epoch\": 0, \"model\": 18}, \"Metrics\": {\"train_binary_classification_cross_entropy_objective\": {\"sum\": 0.509180979784111, \"count\": 1, \"min\": 0.509180979784111, \"max\": 0.509180979784111}}}\u001b[0m\n",
            "\u001b[34m#metrics {\"StartTime\": 1650612681.9471526, \"EndTime\": 1650612681.9471698, \"Dimensions\": {\"Algorithm\": \"Linear Learner\", \"Host\": \"algo-1\", \"Operation\": \"training\", \"epoch\": 0, \"model\": 19}, \"Metrics\": {\"train_binary_classification_cross_entropy_objective\": {\"sum\": 0.5092724958880597, \"count\": 1, \"min\": 0.5092724958880597, \"max\": 0.5092724958880597}}}\u001b[0m\n",
            "\u001b[34m#metrics {\"StartTime\": 1650612681.9472277, \"EndTime\": 1650612681.9472446, \"Dimensions\": {\"Algorithm\": \"Linear Learner\", \"Host\": \"algo-1\", \"Operation\": \"training\", \"epoch\": 0, \"model\": 20}, \"Metrics\": {\"train_binary_classification_cross_entropy_objective\": {\"sum\": 0.5105376037690982, \"count\": 1, \"min\": 0.5105376037690982, \"max\": 0.5105376037690982}}}\u001b[0m\n",
            "\u001b[34m#metrics {\"StartTime\": 1650612681.94731, \"EndTime\": 1650612681.9473257, \"Dimensions\": {\"Algorithm\": \"Linear Learner\", \"Host\": \"algo-1\", \"Operation\": \"training\", \"epoch\": 0, \"model\": 21}, \"Metrics\": {\"train_binary_classification_cross_entropy_objective\": {\"sum\": 0.5122920899230771, \"count\": 1, \"min\": 0.5122920899230771, \"max\": 0.5122920899230771}}}\u001b[0m\n",
            "\u001b[34m#metrics {\"StartTime\": 1650612681.9473827, \"EndTime\": 1650612681.9474027, \"Dimensions\": {\"Algorithm\": \"Linear Learner\", \"Host\": \"algo-1\", \"Operation\": \"training\", \"epoch\": 0, \"model\": 22}, \"Metrics\": {\"train_binary_classification_cross_entropy_objective\": {\"sum\": 0.510542024198293, \"count\": 1, \"min\": 0.510542024198293, \"max\": 0.510542024198293}}}\u001b[0m\n",
            "\u001b[34m#metrics {\"StartTime\": 1650612681.9474707, \"EndTime\": 1650612681.9474869, \"Dimensions\": {\"Algorithm\": \"Linear Learner\", \"Host\": \"algo-1\", \"Operation\": \"training\", \"epoch\": 0, \"model\": 23}, \"Metrics\": {\"train_binary_classification_cross_entropy_objective\": {\"sum\": 0.5122759322886803, \"count\": 1, \"min\": 0.5122759322886803, \"max\": 0.5122759322886803}}}\u001b[0m\n",
            "\u001b[34m#metrics {\"StartTime\": 1650612681.947558, \"EndTime\": 1650612681.947574, \"Dimensions\": {\"Algorithm\": \"Linear Learner\", \"Host\": \"algo-1\", \"Operation\": \"training\", \"epoch\": 0, \"model\": 24}, \"Metrics\": {\"train_binary_classification_cross_entropy_objective\": {\"sum\": 0.5150550686897488, \"count\": 1, \"min\": 0.5150550686897488, \"max\": 0.5150550686897488}}}\u001b[0m\n",
            "\u001b[34m#metrics {\"StartTime\": 1650612681.9476268, \"EndTime\": 1650612681.9476418, \"Dimensions\": {\"Algorithm\": \"Linear Learner\", \"Host\": \"algo-1\", \"Operation\": \"training\", \"epoch\": 0, \"model\": 25}, \"Metrics\": {\"train_binary_classification_cross_entropy_objective\": {\"sum\": 0.5150984118167049, \"count\": 1, \"min\": 0.5150984118167049, \"max\": 0.5150984118167049}}}\u001b[0m\n",
            "\u001b[34m#metrics {\"StartTime\": 1650612681.947704, \"EndTime\": 1650612681.9477227, \"Dimensions\": {\"Algorithm\": \"Linear Learner\", \"Host\": \"algo-1\", \"Operation\": \"training\", \"epoch\": 0, \"model\": 26}, \"Metrics\": {\"train_binary_classification_cross_entropy_objective\": {\"sum\": 0.5150450126577955, \"count\": 1, \"min\": 0.5150450126577955, \"max\": 0.5150450126577955}}}\u001b[0m\n",
            "\u001b[34m#metrics {\"StartTime\": 1650612681.947782, \"EndTime\": 1650612681.9478042, \"Dimensions\": {\"Algorithm\": \"Linear Learner\", \"Host\": \"algo-1\", \"Operation\": \"training\", \"epoch\": 0, \"model\": 27}, \"Metrics\": {\"train_binary_classification_cross_entropy_objective\": {\"sum\": 0.5150996181009742, \"count\": 1, \"min\": 0.5150996181009742, \"max\": 0.5150996181009742}}}\u001b[0m\n",
            "\u001b[34m#metrics {\"StartTime\": 1650612681.9478683, \"EndTime\": 1650612681.9478846, \"Dimensions\": {\"Algorithm\": \"Linear Learner\", \"Host\": \"algo-1\", \"Operation\": \"training\", \"epoch\": 0, \"model\": 28}, \"Metrics\": {\"train_binary_classification_cross_entropy_objective\": {\"sum\": 0.5150506151998444, \"count\": 1, \"min\": 0.5150506151998444, \"max\": 0.5150506151998444}}}\u001b[0m\n",
            "\u001b[34m#metrics {\"StartTime\": 1650612681.9479375, \"EndTime\": 1650612681.9479544, \"Dimensions\": {\"Algorithm\": \"Linear Learner\", \"Host\": \"algo-1\", \"Operation\": \"training\", \"epoch\": 0, \"model\": 29}, \"Metrics\": {\"train_binary_classification_cross_entropy_objective\": {\"sum\": 0.5158296436694784, \"count\": 1, \"min\": 0.5158296436694784, \"max\": 0.5158296436694784}}}\u001b[0m\n",
            "\u001b[34m#metrics {\"StartTime\": 1650612681.9480126, \"EndTime\": 1650612681.9480293, \"Dimensions\": {\"Algorithm\": \"Linear Learner\", \"Host\": \"algo-1\", \"Operation\": \"training\", \"epoch\": 0, \"model\": 30}, \"Metrics\": {\"train_binary_classification_cross_entropy_objective\": {\"sum\": 0.5150837805511754, \"count\": 1, \"min\": 0.5150837805511754, \"max\": 0.5150837805511754}}}\u001b[0m\n",
            "\u001b[34m#metrics {\"StartTime\": 1650612681.9480984, \"EndTime\": 1650612681.948116, \"Dimensions\": {\"Algorithm\": \"Linear Learner\", \"Host\": \"algo-1\", \"Operation\": \"training\", \"epoch\": 0, \"model\": 31}, \"Metrics\": {\"train_binary_classification_cross_entropy_objective\": {\"sum\": 0.5157848081909553, \"count\": 1, \"min\": 0.5157848081909553, \"max\": 0.5157848081909553}}}\u001b[0m\n",
            "\u001b[34m[04/22/2022 07:31:21 INFO 139644120127296] #quality_metric: host=algo-1, epoch=0, train binary_classification_cross_entropy_objective <loss>=0.494349605548637\u001b[0m\n",
            "\u001b[34m[2022-04-22 07:31:21.986] [tensorio] [info] epoch_stats={\"data_pipeline\": \"/opt/ml/input/data/validation\", \"epoch\": 0, \"duration\": 58887, \"num_examples\": 1, \"num_bytes\": 420000}\u001b[0m\n",
            "\u001b[34m[2022-04-22 07:31:27.760] [tensorio] [info] epoch_stats={\"data_pipeline\": \"/opt/ml/input/data/validation\", \"epoch\": 2, \"duration\": 5774, \"num_examples\": 164, \"num_bytes\": 68694780}\u001b[0m\n",
            "\u001b[34m#metrics {\"StartTime\": 1650612687.7712421, \"EndTime\": 1650612687.771327, \"Dimensions\": {\"Algorithm\": \"Linear Learner\", \"Host\": \"algo-1\", \"Operation\": \"training\", \"epoch\": 0, \"model\": 0}, \"Metrics\": {\"validation_binary_classification_cross_entropy_objective\": {\"sum\": 0.49214831109271684, \"count\": 1, \"min\": 0.49214831109271684, \"max\": 0.49214831109271684}}}\u001b[0m\n",
            "\u001b[34m#metrics {\"StartTime\": 1650612687.771424, \"EndTime\": 1650612687.7714467, \"Dimensions\": {\"Algorithm\": \"Linear Learner\", \"Host\": \"algo-1\", \"Operation\": \"training\", \"epoch\": 0, \"model\": 1}, \"Metrics\": {\"validation_binary_classification_cross_entropy_objective\": {\"sum\": 0.4934558986073068, \"count\": 1, \"min\": 0.4934558986073068, \"max\": 0.4934558986073068}}}\u001b[0m\n",
            "\u001b[34m#metrics {\"StartTime\": 1650612687.7715077, \"EndTime\": 1650612687.771526, \"Dimensions\": {\"Algorithm\": \"Linear Learner\", \"Host\": \"algo-1\", \"Operation\": \"training\", \"epoch\": 0, \"model\": 2}, \"Metrics\": {\"validation_binary_classification_cross_entropy_objective\": {\"sum\": 0.4921539521026243, \"count\": 1, \"min\": 0.4921539521026243, \"max\": 0.4921539521026243}}}\u001b[0m\n",
            "\u001b[34m#metrics {\"StartTime\": 1650612687.7716043, \"EndTime\": 1650612687.7716248, \"Dimensions\": {\"Algorithm\": \"Linear Learner\", \"Host\": \"algo-1\", \"Operation\": \"training\", \"epoch\": 0, \"model\": 3}, \"Metrics\": {\"validation_binary_classification_cross_entropy_objective\": {\"sum\": 0.49345180904771463, \"count\": 1, \"min\": 0.49345180904771463, \"max\": 0.49345180904771463}}}\u001b[0m\n",
            "\u001b[34m#metrics {\"StartTime\": 1650612687.7716892, \"EndTime\": 1650612687.7717083, \"Dimensions\": {\"Algorithm\": \"Linear Learner\", \"Host\": \"algo-1\", \"Operation\": \"training\", \"epoch\": 0, \"model\": 4}, \"Metrics\": {\"validation_binary_classification_cross_entropy_objective\": {\"sum\": 0.4981081885403595, \"count\": 1, \"min\": 0.4981081885403595, \"max\": 0.4981081885403595}}}\u001b[0m\n",
            "\u001b[34m#metrics {\"StartTime\": 1650612687.771766, \"EndTime\": 1650612687.7717829, \"Dimensions\": {\"Algorithm\": \"Linear Learner\", \"Host\": \"algo-1\", \"Operation\": \"training\", \"epoch\": 0, \"model\": 5}, \"Metrics\": {\"validation_binary_classification_cross_entropy_objective\": {\"sum\": 0.5124886287181489, \"count\": 1, \"min\": 0.5124886287181489, \"max\": 0.5124886287181489}}}\u001b[0m\n",
            "\u001b[34m#metrics {\"StartTime\": 1650612687.7718415, \"EndTime\": 1650612687.7718604, \"Dimensions\": {\"Algorithm\": \"Linear Learner\", \"Host\": \"algo-1\", \"Operation\": \"training\", \"epoch\": 0, \"model\": 6}, \"Metrics\": {\"validation_binary_classification_cross_entropy_objective\": {\"sum\": 0.4981087229184356, \"count\": 1, \"min\": 0.4981087229184356, \"max\": 0.4981087229184356}}}\u001b[0m\n",
            "\u001b[34m#metrics {\"StartTime\": 1650612687.7719243, \"EndTime\": 1650612687.7719429, \"Dimensions\": {\"Algorithm\": \"Linear Learner\", \"Host\": \"algo-1\", \"Operation\": \"training\", \"epoch\": 0, \"model\": 7}, \"Metrics\": {\"validation_binary_classification_cross_entropy_objective\": {\"sum\": 0.5124246848957577, \"count\": 1, \"min\": 0.5124246848957577, \"max\": 0.5124246848957577}}}\u001b[0m\n",
            "\u001b[34m#metrics {\"StartTime\": 1650612687.7720065, \"EndTime\": 1650612687.7720253, \"Dimensions\": {\"Algorithm\": \"Linear Learner\", \"Host\": \"algo-1\", \"Operation\": \"training\", \"epoch\": 0, \"model\": 8}, \"Metrics\": {\"validation_binary_classification_cross_entropy_objective\": {\"sum\": 0.49232360650647045, \"count\": 1, \"min\": 0.49232360650647045, \"max\": 0.49232360650647045}}}\u001b[0m\n",
            "\u001b[34m#metrics {\"StartTime\": 1650612687.772091, \"EndTime\": 1650612687.7721088, \"Dimensions\": {\"Algorithm\": \"Linear Learner\", \"Host\": \"algo-1\", \"Operation\": \"training\", \"epoch\": 0, \"model\": 9}, \"Metrics\": {\"validation_binary_classification_cross_entropy_objective\": {\"sum\": 0.49366564498753124, \"count\": 1, \"min\": 0.49366564498753124, \"max\": 0.49366564498753124}}}\u001b[0m\n",
            "\u001b[34m#metrics {\"StartTime\": 1650612687.772165, \"EndTime\": 1650612687.7721813, \"Dimensions\": {\"Algorithm\": \"Linear Learner\", \"Host\": \"algo-1\", \"Operation\": \"training\", \"epoch\": 0, \"model\": 10}, \"Metrics\": {\"validation_binary_classification_cross_entropy_objective\": {\"sum\": 0.49232207296826946, \"count\": 1, \"min\": 0.49232207296826946, \"max\": 0.49232207296826946}}}\u001b[0m\n",
            "\u001b[34m#metrics {\"StartTime\": 1650612687.7722466, \"EndTime\": 1650612687.772265, \"Dimensions\": {\"Algorithm\": \"Linear Learner\", \"Host\": \"algo-1\", \"Operation\": \"training\", \"epoch\": 0, \"model\": 11}, \"Metrics\": {\"validation_binary_classification_cross_entropy_objective\": {\"sum\": 0.4936657261517991, \"count\": 1, \"min\": 0.4936657261517991, \"max\": 0.4936657261517991}}}\u001b[0m\n",
            "\u001b[34m#metrics {\"StartTime\": 1650612687.7723196, \"EndTime\": 1650612687.7723355, \"Dimensions\": {\"Algorithm\": \"Linear Learner\", \"Host\": \"algo-1\", \"Operation\": \"training\", \"epoch\": 0, \"model\": 12}, \"Metrics\": {\"validation_binary_classification_cross_entropy_objective\": {\"sum\": 0.49841615469316264, \"count\": 1, \"min\": 0.49841615469316264, \"max\": 0.49841615469316264}}}\u001b[0m\n",
            "\u001b[34m#metrics {\"StartTime\": 1650612687.7723923, \"EndTime\": 1650612687.7724073, \"Dimensions\": {\"Algorithm\": \"Linear Learner\", \"Host\": \"algo-1\", \"Operation\": \"training\", \"epoch\": 0, \"model\": 13}, \"Metrics\": {\"validation_binary_classification_cross_entropy_objective\": {\"sum\": 0.511899693887042, \"count\": 1, \"min\": 0.511899693887042, \"max\": 0.511899693887042}}}\u001b[0m\n",
            "\u001b[34m#metrics {\"StartTime\": 1650612687.7724574, \"EndTime\": 1650612687.7724736, \"Dimensions\": {\"Algorithm\": \"Linear Learner\", \"Host\": \"algo-1\", \"Operation\": \"training\", \"epoch\": 0, \"model\": 14}, \"Metrics\": {\"validation_binary_classification_cross_entropy_objective\": {\"sum\": 0.4984068273328188, \"count\": 1, \"min\": 0.4984068273328188, \"max\": 0.4984068273328188}}}\u001b[0m\n",
            "\u001b[34m#metrics {\"StartTime\": 1650612687.772525, \"EndTime\": 1650612687.7725403, \"Dimensions\": {\"Algorithm\": \"Linear Learner\", \"Host\": \"algo-1\", \"Operation\": \"training\", \"epoch\": 0, \"model\": 15}, \"Metrics\": {\"validation_binary_classification_cross_entropy_objective\": {\"sum\": 0.5119073393744884, \"count\": 1, \"min\": 0.5119073393744884, \"max\": 0.5119073393744884}}}\u001b[0m\n",
            "\u001b[34m#metrics {\"StartTime\": 1650612687.7725973, \"EndTime\": 1650612687.7726133, \"Dimensions\": {\"Algorithm\": \"Linear Learner\", \"Host\": \"algo-1\", \"Operation\": \"training\", \"epoch\": 0, \"model\": 16}, \"Metrics\": {\"validation_binary_classification_cross_entropy_objective\": {\"sum\": 0.5079498444947858, \"count\": 1, \"min\": 0.5079498444947858, \"max\": 0.5079498444947858}}}\u001b[0m\n",
            "\u001b[34m#metrics {\"StartTime\": 1650612687.77267, \"EndTime\": 1650612687.772687, \"Dimensions\": {\"Algorithm\": \"Linear Learner\", \"Host\": \"algo-1\", \"Operation\": \"training\", \"epoch\": 0, \"model\": 17}, \"Metrics\": {\"validation_binary_classification_cross_entropy_objective\": {\"sum\": 0.50844938257569, \"count\": 1, \"min\": 0.50844938257569, \"max\": 0.50844938257569}}}\u001b[0m\n",
            "\u001b[34m#metrics {\"StartTime\": 1650612687.7727392, \"EndTime\": 1650612687.7727556, \"Dimensions\": {\"Algorithm\": \"Linear Learner\", \"Host\": \"algo-1\", \"Operation\": \"training\", \"epoch\": 0, \"model\": 18}, \"Metrics\": {\"validation_binary_classification_cross_entropy_objective\": {\"sum\": 0.5079430576693177, \"count\": 1, \"min\": 0.5079430576693177, \"max\": 0.5079430576693177}}}\u001b[0m\n",
            "\u001b[34m#metrics {\"StartTime\": 1650612687.7728093, \"EndTime\": 1650612687.7728252, \"Dimensions\": {\"Algorithm\": \"Linear Learner\", \"Host\": \"algo-1\", \"Operation\": \"training\", \"epoch\": 0, \"model\": 19}, \"Metrics\": {\"validation_binary_classification_cross_entropy_objective\": {\"sum\": 0.5084427567726659, \"count\": 1, \"min\": 0.5084427567726659, \"max\": 0.5084427567726659}}}\u001b[0m\n",
            "\u001b[34m#metrics {\"StartTime\": 1650612687.7728813, \"EndTime\": 1650612687.7728965, \"Dimensions\": {\"Algorithm\": \"Linear Learner\", \"Host\": \"algo-1\", \"Operation\": \"training\", \"epoch\": 0, \"model\": 20}, \"Metrics\": {\"validation_binary_classification_cross_entropy_objective\": {\"sum\": 0.5102904072206336, \"count\": 1, \"min\": 0.5102904072206336, \"max\": 0.5102904072206336}}}\u001b[0m\n",
            "\u001b[34m#metrics {\"StartTime\": 1650612687.7729518, \"EndTime\": 1650612687.772968, \"Dimensions\": {\"Algorithm\": \"Linear Learner\", \"Host\": \"algo-1\", \"Operation\": \"training\", \"epoch\": 0, \"model\": 21}, \"Metrics\": {\"validation_binary_classification_cross_entropy_objective\": {\"sum\": 0.5116512821557081, \"count\": 1, \"min\": 0.5116512821557081, \"max\": 0.5116512821557081}}}\u001b[0m\n",
            "\u001b[34m#metrics {\"StartTime\": 1650612687.7730186, \"EndTime\": 1650612687.7730331, \"Dimensions\": {\"Algorithm\": \"Linear Learner\", \"Host\": \"algo-1\", \"Operation\": \"training\", \"epoch\": 0, \"model\": 22}, \"Metrics\": {\"validation_binary_classification_cross_entropy_objective\": {\"sum\": 0.5102795175880722, \"count\": 1, \"min\": 0.5102795175880722, \"max\": 0.5102795175880722}}}\u001b[0m\n",
            "\u001b[34m#metrics {\"StartTime\": 1650612687.7730823, \"EndTime\": 1650612687.7730978, \"Dimensions\": {\"Algorithm\": \"Linear Learner\", \"Host\": \"algo-1\", \"Operation\": \"training\", \"epoch\": 0, \"model\": 23}, \"Metrics\": {\"validation_binary_classification_cross_entropy_objective\": {\"sum\": 0.5116459495700185, \"count\": 1, \"min\": 0.5116459495700185, \"max\": 0.5116459495700185}}}\u001b[0m\n",
            "\u001b[34m#metrics {\"StartTime\": 1650612687.7731473, \"EndTime\": 1650612687.7731626, \"Dimensions\": {\"Algorithm\": \"Linear Learner\", \"Host\": \"algo-1\", \"Operation\": \"training\", \"epoch\": 0, \"model\": 24}, \"Metrics\": {\"validation_binary_classification_cross_entropy_objective\": {\"sum\": 0.5137687733809813, \"count\": 1, \"min\": 0.5137687733809813, \"max\": 0.5137687733809813}}}\u001b[0m\n",
            "\u001b[34m#metrics {\"StartTime\": 1650612687.7732131, \"EndTime\": 1650612687.773229, \"Dimensions\": {\"Algorithm\": \"Linear Learner\", \"Host\": \"algo-1\", \"Operation\": \"training\", \"epoch\": 0, \"model\": 25}, \"Metrics\": {\"validation_binary_classification_cross_entropy_objective\": {\"sum\": 0.5144553133752456, \"count\": 1, \"min\": 0.5144553133752456, \"max\": 0.5144553133752456}}}\u001b[0m\n",
            "\u001b[34m#metrics {\"StartTime\": 1650612687.7732809, \"EndTime\": 1650612687.7732964, \"Dimensions\": {\"Algorithm\": \"Linear Learner\", \"Host\": \"algo-1\", \"Operation\": \"training\", \"epoch\": 0, \"model\": 26}, \"Metrics\": {\"validation_binary_classification_cross_entropy_objective\": {\"sum\": 0.5137581393692174, \"count\": 1, \"min\": 0.5137581393692174, \"max\": 0.5137581393692174}}}\u001b[0m\n",
            "\u001b[34m#metrics {\"StartTime\": 1650612687.773351, \"EndTime\": 1650612687.773367, \"Dimensions\": {\"Algorithm\": \"Linear Learner\", \"Host\": \"algo-1\", \"Operation\": \"training\", \"epoch\": 0, \"model\": 27}, \"Metrics\": {\"validation_binary_classification_cross_entropy_objective\": {\"sum\": 0.5144357507342653, \"count\": 1, \"min\": 0.5144357507342653, \"max\": 0.5144357507342653}}}\u001b[0m\n",
            "\u001b[34m#metrics {\"StartTime\": 1650612687.773422, \"EndTime\": 1650612687.773439, \"Dimensions\": {\"Algorithm\": \"Linear Learner\", \"Host\": \"algo-1\", \"Operation\": \"training\", \"epoch\": 0, \"model\": 28}, \"Metrics\": {\"validation_binary_classification_cross_entropy_objective\": {\"sum\": 0.5153614361126589, \"count\": 1, \"min\": 0.5153614361126589, \"max\": 0.5153614361126589}}}\u001b[0m\n",
            "\u001b[34m#metrics {\"StartTime\": 1650612687.7734935, \"EndTime\": 1650612687.773511, \"Dimensions\": {\"Algorithm\": \"Linear Learner\", \"Host\": \"algo-1\", \"Operation\": \"training\", \"epoch\": 0, \"model\": 29}, \"Metrics\": {\"validation_binary_classification_cross_entropy_objective\": {\"sum\": 0.5138767927593335, \"count\": 1, \"min\": 0.5138767927593335, \"max\": 0.5138767927593335}}}\u001b[0m\n",
            "\u001b[34m#metrics {\"StartTime\": 1650612687.7735648, \"EndTime\": 1650612687.7735815, \"Dimensions\": {\"Algorithm\": \"Linear Learner\", \"Host\": \"algo-1\", \"Operation\": \"training\", \"epoch\": 0, \"model\": 30}, \"Metrics\": {\"validation_binary_classification_cross_entropy_objective\": {\"sum\": 0.5153788323207337, \"count\": 1, \"min\": 0.5153788323207337, \"max\": 0.5153788323207337}}}\u001b[0m\n",
            "\u001b[34m#metrics {\"StartTime\": 1650612687.773634, \"EndTime\": 1650612687.773649, \"Dimensions\": {\"Algorithm\": \"Linear Learner\", \"Host\": \"algo-1\", \"Operation\": \"training\", \"epoch\": 0, \"model\": 31}, \"Metrics\": {\"validation_binary_classification_cross_entropy_objective\": {\"sum\": 0.5137942097027702, \"count\": 1, \"min\": 0.5137942097027702, \"max\": 0.5137942097027702}}}\u001b[0m\n",
            "\u001b[34m[04/22/2022 07:31:27 INFO 139644120127296] #quality_metric: host=algo-1, epoch=0, validation binary_classification_cross_entropy_objective <loss>=0.49214831109271684\u001b[0m\n",
            "\u001b[34m[04/22/2022 07:31:27 INFO 139644120127296] #early_stopping_criteria_metric: host=algo-1, epoch=0, criteria=binary_classification_cross_entropy_objective, value=0.49214831109271684\u001b[0m\n",
            "\u001b[34m[04/22/2022 07:31:27 INFO 139644120127296] Epoch 0: Loss improved. Updating best model\u001b[0m\n",
            "\u001b[34m[04/22/2022 07:31:27 INFO 139644120127296] Saving model for epoch: 0\u001b[0m\n",
            "\u001b[34m[04/22/2022 07:31:27 INFO 139644120127296] Saved checkpoint to \"/tmp/tmp1my19415/mx-mod-0000.params\"\u001b[0m\n",
            "\u001b[34m[04/22/2022 07:31:27 INFO 139644120127296] #progress_metric: host=algo-1, completed 6.666666666666667 % of epochs\u001b[0m\n",
            "\u001b[34m#metrics {\"StartTime\": 1650612623.5749354, \"EndTime\": 1650612687.78844, \"Dimensions\": {\"Algorithm\": \"Linear Learner\", \"Host\": \"algo-1\", \"Operation\": \"training\", \"epoch\": 0, \"Meta\": \"training_data_iter\"}, \"Metrics\": {\"Total Records Seen\": {\"sum\": 1320472.0, \"count\": 1, \"min\": 1320472, \"max\": 1320472}, \"Total Batches Seen\": {\"sum\": 1321.0, \"count\": 1, \"min\": 1321, \"max\": 1321}, \"Max Records Seen Between Resets\": {\"sum\": 1308472.0, \"count\": 1, \"min\": 1308472, \"max\": 1308472}, \"Max Batches Seen Between Resets\": {\"sum\": 1309.0, \"count\": 1, \"min\": 1309, \"max\": 1309}, \"Reset Count\": {\"sum\": 3.0, \"count\": 1, \"min\": 3, \"max\": 3}, \"Number of Records Since Last Reset\": {\"sum\": 1308472.0, \"count\": 1, \"min\": 1308472, \"max\": 1308472}, \"Number of Batches Since Last Reset\": {\"sum\": 1309.0, \"count\": 1, \"min\": 1309, \"max\": 1309}}}\u001b[0m\n",
            "\u001b[34m[04/22/2022 07:31:27 INFO 139644120127296] #throughput_metric: host=algo-1, train throughput=20376.839994430808 records/second\u001b[0m\n",
            "\u001b[34m[2022-04-22 07:32:26.433] [tensorio] [info] epoch_stats={\"data_pipeline\": \"/opt/ml/input/data/train\", \"epoch\": 5, \"duration\": 58643, \"num_examples\": 1309, \"num_bytes\": 549558240}\u001b[0m\n",
            "\u001b[34m#metrics {\"StartTime\": 1650612746.434024, \"EndTime\": 1650612746.4341128, \"Dimensions\": {\"Algorithm\": \"Linear Learner\", \"Host\": \"algo-1\", \"Operation\": \"training\", \"epoch\": 1, \"model\": 0}, \"Metrics\": {\"train_binary_classification_cross_entropy_objective\": {\"sum\": 0.4922148493495556, \"count\": 1, \"min\": 0.4922148493495556, \"max\": 0.4922148493495556}}}\u001b[0m\n",
            "\u001b[34m#metrics {\"StartTime\": 1650612746.4342003, \"EndTime\": 1650612746.434218, \"Dimensions\": {\"Algorithm\": \"Linear Learner\", \"Host\": \"algo-1\", \"Operation\": \"training\", \"epoch\": 1, \"model\": 1}, \"Metrics\": {\"train_binary_classification_cross_entropy_objective\": {\"sum\": 0.4932592500692478, \"count\": 1, \"min\": 0.4932592500692478, \"max\": 0.4932592500692478}}}\u001b[0m\n",
            "\u001b[34m#metrics {\"StartTime\": 1650612746.4342709, \"EndTime\": 1650612746.434284, \"Dimensions\": {\"Algorithm\": \"Linear Learner\", \"Host\": \"algo-1\", \"Operation\": \"training\", \"epoch\": 1, \"model\": 2}, \"Metrics\": {\"train_binary_classification_cross_entropy_objective\": {\"sum\": 0.49221964305912685, \"count\": 1, \"min\": 0.49221964305912685, \"max\": 0.49221964305912685}}}\u001b[0m\n",
            "\u001b[34m#metrics {\"StartTime\": 1650612746.4343264, \"EndTime\": 1650612746.4343376, \"Dimensions\": {\"Algorithm\": \"Linear Learner\", \"Host\": \"algo-1\", \"Operation\": \"training\", \"epoch\": 1, \"model\": 3}, \"Metrics\": {\"train_binary_classification_cross_entropy_objective\": {\"sum\": 0.4932560991526379, \"count\": 1, \"min\": 0.4932560991526379, \"max\": 0.4932560991526379}}}\u001b[0m\n",
            "\u001b[34m#metrics {\"StartTime\": 1650612746.4343762, \"EndTime\": 1650612746.4343872, \"Dimensions\": {\"Algorithm\": \"Linear Learner\", \"Host\": \"algo-1\", \"Operation\": \"training\", \"epoch\": 1, \"model\": 4}, \"Metrics\": {\"train_binary_classification_cross_entropy_objective\": {\"sum\": 0.4963324063735635, \"count\": 1, \"min\": 0.4963324063735635, \"max\": 0.4963324063735635}}}\u001b[0m\n",
            "\u001b[34m#metrics {\"StartTime\": 1650612746.434432, \"EndTime\": 1650612746.4344437, \"Dimensions\": {\"Algorithm\": \"Linear Learner\", \"Host\": \"algo-1\", \"Operation\": \"training\", \"epoch\": 1, \"model\": 5}, \"Metrics\": {\"train_binary_classification_cross_entropy_objective\": {\"sum\": 0.5143099910257789, \"count\": 1, \"min\": 0.5143099910257789, \"max\": 0.5143099910257789}}}\u001b[0m\n",
            "\u001b[34m#metrics {\"StartTime\": 1650612746.4344826, \"EndTime\": 1650612746.4344938, \"Dimensions\": {\"Algorithm\": \"Linear Learner\", \"Host\": \"algo-1\", \"Operation\": \"training\", \"epoch\": 1, \"model\": 6}, \"Metrics\": {\"train_binary_classification_cross_entropy_objective\": {\"sum\": 0.4963324655888642, \"count\": 1, \"min\": 0.4963324655888642, \"max\": 0.4963324655888642}}}\u001b[0m\n",
            "\u001b[34m#metrics {\"StartTime\": 1650612746.4345334, \"EndTime\": 1650612746.4345448, \"Dimensions\": {\"Algorithm\": \"Linear Learner\", \"Host\": \"algo-1\", \"Operation\": \"training\", \"epoch\": 1, \"model\": 7}, \"Metrics\": {\"train_binary_classification_cross_entropy_objective\": {\"sum\": 0.514301525197627, \"count\": 1, \"min\": 0.514301525197627, \"max\": 0.514301525197627}}}\u001b[0m\n",
            "\u001b[34m#metrics {\"StartTime\": 1650612746.4345825, \"EndTime\": 1650612746.4345932, \"Dimensions\": {\"Algorithm\": \"Linear Learner\", \"Host\": \"algo-1\", \"Operation\": \"training\", \"epoch\": 1, \"model\": 8}, \"Metrics\": {\"train_binary_classification_cross_entropy_objective\": {\"sum\": 0.4923952686414806, \"count\": 1, \"min\": 0.4923952686414806, \"max\": 0.4923952686414806}}}\u001b[0m\n",
            "\u001b[34m#metrics {\"StartTime\": 1650612746.4346309, \"EndTime\": 1650612746.4346414, \"Dimensions\": {\"Algorithm\": \"Linear Learner\", \"Host\": \"algo-1\", \"Operation\": \"training\", \"epoch\": 1, \"model\": 9}, \"Metrics\": {\"train_binary_classification_cross_entropy_objective\": {\"sum\": 0.4933934200881818, \"count\": 1, \"min\": 0.4933934200881818, \"max\": 0.4933934200881818}}}\u001b[0m\n",
            "\u001b[34m#metrics {\"StartTime\": 1650612746.4346783, \"EndTime\": 1650612746.4346888, \"Dimensions\": {\"Algorithm\": \"Linear Learner\", \"Host\": \"algo-1\", \"Operation\": \"training\", \"epoch\": 1, \"model\": 10}, \"Metrics\": {\"train_binary_classification_cross_entropy_objective\": {\"sum\": 0.49239471304890575, \"count\": 1, \"min\": 0.49239471304890575, \"max\": 0.49239471304890575}}}\u001b[0m\n",
            "\u001b[34m#metrics {\"StartTime\": 1650612746.4347262, \"EndTime\": 1650612746.4347365, \"Dimensions\": {\"Algorithm\": \"Linear Learner\", \"Host\": \"algo-1\", \"Operation\": \"training\", \"epoch\": 1, \"model\": 11}, \"Metrics\": {\"train_binary_classification_cross_entropy_objective\": {\"sum\": 0.493393445379508, \"count\": 1, \"min\": 0.493393445379508, \"max\": 0.493393445379508}}}\u001b[0m\n",
            "\u001b[34m#metrics {\"StartTime\": 1650612746.4347758, \"EndTime\": 1650612746.4347866, \"Dimensions\": {\"Algorithm\": \"Linear Learner\", \"Host\": \"algo-1\", \"Operation\": \"training\", \"epoch\": 1, \"model\": 12}, \"Metrics\": {\"train_binary_classification_cross_entropy_objective\": {\"sum\": 0.4962742470324222, \"count\": 1, \"min\": 0.4962742470324222, \"max\": 0.4962742470324222}}}\u001b[0m\n",
            "\u001b[34m#metrics {\"StartTime\": 1650612746.4348245, \"EndTime\": 1650612746.434835, \"Dimensions\": {\"Algorithm\": \"Linear Learner\", \"Host\": \"algo-1\", \"Operation\": \"training\", \"epoch\": 1, \"model\": 13}, \"Metrics\": {\"train_binary_classification_cross_entropy_objective\": {\"sum\": 0.5128634219388349, \"count\": 1, \"min\": 0.5128634219388349, \"max\": 0.5128634219388349}}}\u001b[0m\n",
            "\u001b[34m#metrics {\"StartTime\": 1650612746.4348714, \"EndTime\": 1650612746.4348822, \"Dimensions\": {\"Algorithm\": \"Linear Learner\", \"Host\": \"algo-1\", \"Operation\": \"training\", \"epoch\": 1, \"model\": 14}, \"Metrics\": {\"train_binary_classification_cross_entropy_objective\": {\"sum\": 0.49627419670641604, \"count\": 1, \"min\": 0.49627419670641604, \"max\": 0.49627419670641604}}}\u001b[0m\n",
            "\u001b[34m#metrics {\"StartTime\": 1650612746.4349473, \"EndTime\": 1650612746.434961, \"Dimensions\": {\"Algorithm\": \"Linear Learner\", \"Host\": \"algo-1\", \"Operation\": \"training\", \"epoch\": 1, \"model\": 15}, \"Metrics\": {\"train_binary_classification_cross_entropy_objective\": {\"sum\": 0.5128612145240153, \"count\": 1, \"min\": 0.5128612145240153, \"max\": 0.5128612145240153}}}\u001b[0m\n",
            "\u001b[34m#metrics {\"StartTime\": 1650612746.4350019, \"EndTime\": 1650612746.4350128, \"Dimensions\": {\"Algorithm\": \"Linear Learner\", \"Host\": \"algo-1\", \"Operation\": \"training\", \"epoch\": 1, \"model\": 16}, \"Metrics\": {\"train_binary_classification_cross_entropy_objective\": {\"sum\": 0.5077911495477052, \"count\": 1, \"min\": 0.5077911495477052, \"max\": 0.5077911495477052}}}\u001b[0m\n",
            "\u001b[34m#metrics {\"StartTime\": 1650612746.435051, \"EndTime\": 1650612746.4350615, \"Dimensions\": {\"Algorithm\": \"Linear Learner\", \"Host\": \"algo-1\", \"Operation\": \"training\", \"epoch\": 1, \"model\": 17}, \"Metrics\": {\"train_binary_classification_cross_entropy_objective\": {\"sum\": 0.5080085034618319, \"count\": 1, \"min\": 0.5080085034618319, \"max\": 0.5080085034618319}}}\u001b[0m\n",
            "\u001b[34m#metrics {\"StartTime\": 1650612746.4351015, \"EndTime\": 1650612746.4351125, \"Dimensions\": {\"Algorithm\": \"Linear Learner\", \"Host\": \"algo-1\", \"Operation\": \"training\", \"epoch\": 1, \"model\": 18}, \"Metrics\": {\"train_binary_classification_cross_entropy_objective\": {\"sum\": 0.5077910831229767, \"count\": 1, \"min\": 0.5077910831229767, \"max\": 0.5077910831229767}}}\u001b[0m\n",
            "\u001b[34m#metrics {\"StartTime\": 1650612746.4351501, \"EndTime\": 1650612746.4351604, \"Dimensions\": {\"Algorithm\": \"Linear Learner\", \"Host\": \"algo-1\", \"Operation\": \"training\", \"epoch\": 1, \"model\": 19}, \"Metrics\": {\"train_binary_classification_cross_entropy_objective\": {\"sum\": 0.5080084698644982, \"count\": 1, \"min\": 0.5080084698644982, \"max\": 0.5080084698644982}}}\u001b[0m\n",
            "\u001b[34m#metrics {\"StartTime\": 1650612746.435197, \"EndTime\": 1650612746.4352076, \"Dimensions\": {\"Algorithm\": \"Linear Learner\", \"Host\": \"algo-1\", \"Operation\": \"training\", \"epoch\": 1, \"model\": 20}, \"Metrics\": {\"train_binary_classification_cross_entropy_objective\": {\"sum\": 0.5086111930357207, \"count\": 1, \"min\": 0.5086111930357207, \"max\": 0.5086111930357207}}}\u001b[0m\n",
            "\u001b[34m#metrics {\"StartTime\": 1650612746.4352446, \"EndTime\": 1650612746.4352548, \"Dimensions\": {\"Algorithm\": \"Linear Learner\", \"Host\": \"algo-1\", \"Operation\": \"training\", \"epoch\": 1, \"model\": 21}, \"Metrics\": {\"train_binary_classification_cross_entropy_objective\": {\"sum\": 0.511500106741529, \"count\": 1, \"min\": 0.511500106741529, \"max\": 0.511500106741529}}}\u001b[0m\n",
            "\u001b[34m#metrics {\"StartTime\": 1650612746.4352937, \"EndTime\": 1650612746.4353046, \"Dimensions\": {\"Algorithm\": \"Linear Learner\", \"Host\": \"algo-1\", \"Operation\": \"training\", \"epoch\": 1, \"model\": 22}, \"Metrics\": {\"train_binary_classification_cross_entropy_objective\": {\"sum\": 0.5086127133150713, \"count\": 1, \"min\": 0.5086127133150713, \"max\": 0.5086127133150713}}}\u001b[0m\n",
            "\u001b[34m#metrics {\"StartTime\": 1650612746.4353423, \"EndTime\": 1650612746.4353526, \"Dimensions\": {\"Algorithm\": \"Linear Learner\", \"Host\": \"algo-1\", \"Operation\": \"training\", \"epoch\": 1, \"model\": 23}, \"Metrics\": {\"train_binary_classification_cross_entropy_objective\": {\"sum\": 0.5114999850445202, \"count\": 1, \"min\": 0.5114999850445202, \"max\": 0.5114999850445202}}}\u001b[0m\n",
            "\u001b[34m#metrics {\"StartTime\": 1650612746.4353929, \"EndTime\": 1650612746.4354033, \"Dimensions\": {\"Algorithm\": \"Linear Learner\", \"Host\": \"algo-1\", \"Operation\": \"training\", \"epoch\": 1, \"model\": 24}, \"Metrics\": {\"train_binary_classification_cross_entropy_objective\": {\"sum\": 0.5137804314849573, \"count\": 1, \"min\": 0.5137804314849573, \"max\": 0.5137804314849573}}}\u001b[0m\n",
            "\u001b[34m#metrics {\"StartTime\": 1650612746.43544, \"EndTime\": 1650612746.4354503, \"Dimensions\": {\"Algorithm\": \"Linear Learner\", \"Host\": \"algo-1\", \"Operation\": \"training\", \"epoch\": 1, \"model\": 25}, \"Metrics\": {\"train_binary_classification_cross_entropy_objective\": {\"sum\": 0.5138794412642079, \"count\": 1, \"min\": 0.5138794412642079, \"max\": 0.5138794412642079}}}\u001b[0m\n",
            "\u001b[34m#metrics {\"StartTime\": 1650612746.4354875, \"EndTime\": 1650612746.4354978, \"Dimensions\": {\"Algorithm\": \"Linear Learner\", \"Host\": \"algo-1\", \"Operation\": \"training\", \"epoch\": 1, \"model\": 26}, \"Metrics\": {\"train_binary_classification_cross_entropy_objective\": {\"sum\": 0.5137806647764434, \"count\": 1, \"min\": 0.5137806647764434, \"max\": 0.5137806647764434}}}\u001b[0m\n",
            "\u001b[34m#metrics {\"StartTime\": 1650612746.4355352, \"EndTime\": 1650612746.4355454, \"Dimensions\": {\"Algorithm\": \"Linear Learner\", \"Host\": \"algo-1\", \"Operation\": \"training\", \"epoch\": 1, \"model\": 27}, \"Metrics\": {\"train_binary_classification_cross_entropy_objective\": {\"sum\": 0.5138781723815732, \"count\": 1, \"min\": 0.5138781723815732, \"max\": 0.5138781723815732}}}\u001b[0m\n",
            "\u001b[34m#metrics {\"StartTime\": 1650612746.4355817, \"EndTime\": 1650612746.4355924, \"Dimensions\": {\"Algorithm\": \"Linear Learner\", \"Host\": \"algo-1\", \"Operation\": \"training\", \"epoch\": 1, \"model\": 28}, \"Metrics\": {\"train_binary_classification_cross_entropy_objective\": {\"sum\": 0.514163315939247, \"count\": 1, \"min\": 0.514163315939247, \"max\": 0.514163315939247}}}\u001b[0m\n",
            "\u001b[34m#metrics {\"StartTime\": 1650612746.43564, \"EndTime\": 1650612746.4356546, \"Dimensions\": {\"Algorithm\": \"Linear Learner\", \"Host\": \"algo-1\", \"Operation\": \"training\", \"epoch\": 1, \"model\": 29}, \"Metrics\": {\"train_binary_classification_cross_entropy_objective\": {\"sum\": 0.5152631948628557, \"count\": 1, \"min\": 0.5152631948628557, \"max\": 0.5152631948628557}}}\u001b[0m\n",
            "\u001b[34m#metrics {\"StartTime\": 1650612746.4357092, \"EndTime\": 1650612746.4357228, \"Dimensions\": {\"Algorithm\": \"Linear Learner\", \"Host\": \"algo-1\", \"Operation\": \"training\", \"epoch\": 1, \"model\": 30}, \"Metrics\": {\"train_binary_classification_cross_entropy_objective\": {\"sum\": 0.5141624891881914, \"count\": 1, \"min\": 0.5141624891881914, \"max\": 0.5141624891881914}}}\u001b[0m\n",
            "\u001b[34m#metrics {\"StartTime\": 1650612746.4357784, \"EndTime\": 1650612746.4357953, \"Dimensions\": {\"Algorithm\": \"Linear Learner\", \"Host\": \"algo-1\", \"Operation\": \"training\", \"epoch\": 1, \"model\": 31}, \"Metrics\": {\"train_binary_classification_cross_entropy_objective\": {\"sum\": 0.5152606933547087, \"count\": 1, \"min\": 0.5152606933547087, \"max\": 0.5152606933547087}}}\u001b[0m\n",
            "\u001b[34m[04/22/2022 07:32:26 INFO 139644120127296] #quality_metric: host=algo-1, epoch=1, train binary_classification_cross_entropy_objective <loss>=0.4922148493495556\u001b[0m\n",
            "\u001b[34m[2022-04-22 07:32:31.754] [tensorio] [info] epoch_stats={\"data_pipeline\": \"/opt/ml/input/data/validation\", \"epoch\": 5, \"duration\": 5295, \"num_examples\": 164, \"num_bytes\": 68694780}\u001b[0m\n",
            "\u001b[34m#metrics {\"StartTime\": 1650612751.767124, \"EndTime\": 1650612751.7672284, \"Dimensions\": {\"Algorithm\": \"Linear Learner\", \"Host\": \"algo-1\", \"Operation\": \"training\", \"epoch\": 1, \"model\": 0}, \"Metrics\": {\"validation_binary_classification_cross_entropy_objective\": {\"sum\": 0.4917667403306347, \"count\": 1, \"min\": 0.4917667403306347, \"max\": 0.4917667403306347}}}\u001b[0m\n",
            "\u001b[34m#metrics {\"StartTime\": 1650612751.7673469, \"EndTime\": 1650612751.767371, \"Dimensions\": {\"Algorithm\": \"Linear Learner\", \"Host\": \"algo-1\", \"Operation\": \"training\", \"epoch\": 1, \"model\": 1}, \"Metrics\": {\"validation_binary_classification_cross_entropy_objective\": {\"sum\": 0.4934890686710219, \"count\": 1, \"min\": 0.4934890686710219, \"max\": 0.4934890686710219}}}\u001b[0m\n",
            "\u001b[34m#metrics {\"StartTime\": 1650612751.7674353, \"EndTime\": 1650612751.7674537, \"Dimensions\": {\"Algorithm\": \"Linear Learner\", \"Host\": \"algo-1\", \"Operation\": \"training\", \"epoch\": 1, \"model\": 2}, \"Metrics\": {\"validation_binary_classification_cross_entropy_objective\": {\"sum\": 0.4917716887387899, \"count\": 1, \"min\": 0.4917716887387899, \"max\": 0.4917716887387899}}}\u001b[0m\n",
            "\u001b[34m#metrics {\"StartTime\": 1650612751.7675104, \"EndTime\": 1650612751.7675288, \"Dimensions\": {\"Algorithm\": \"Linear Learner\", \"Host\": \"algo-1\", \"Operation\": \"training\", \"epoch\": 1, \"model\": 3}, \"Metrics\": {\"validation_binary_classification_cross_entropy_objective\": {\"sum\": 0.49348711942250195, \"count\": 1, \"min\": 0.49348711942250195, \"max\": 0.49348711942250195}}}\u001b[0m\n",
            "\u001b[34m#metrics {\"StartTime\": 1650612751.767589, \"EndTime\": 1650612751.7676067, \"Dimensions\": {\"Algorithm\": \"Linear Learner\", \"Host\": \"algo-1\", \"Operation\": \"training\", \"epoch\": 1, \"model\": 4}, \"Metrics\": {\"validation_binary_classification_cross_entropy_objective\": {\"sum\": 0.49332684984703296, \"count\": 1, \"min\": 0.49332684984703296, \"max\": 0.49332684984703296}}}\u001b[0m\n",
            "\u001b[34m#metrics {\"StartTime\": 1650612751.767668, \"EndTime\": 1650612751.7676878, \"Dimensions\": {\"Algorithm\": \"Linear Learner\", \"Host\": \"algo-1\", \"Operation\": \"training\", \"epoch\": 1, \"model\": 5}, \"Metrics\": {\"validation_binary_classification_cross_entropy_objective\": {\"sum\": 0.5110918495097478, \"count\": 1, \"min\": 0.5110918495097478, \"max\": 0.5110918495097478}}}\u001b[0m\n",
            "\u001b[34m#metrics {\"StartTime\": 1650612751.7677555, \"EndTime\": 1650612751.767774, \"Dimensions\": {\"Algorithm\": \"Linear Learner\", \"Host\": \"algo-1\", \"Operation\": \"training\", \"epoch\": 1, \"model\": 6}, \"Metrics\": {\"validation_binary_classification_cross_entropy_objective\": {\"sum\": 0.4933268395848841, \"count\": 1, \"min\": 0.4933268395848841, \"max\": 0.4933268395848841}}}\u001b[0m\n",
            "\u001b[34m#metrics {\"StartTime\": 1650612751.7678316, \"EndTime\": 1650612751.7678487, \"Dimensions\": {\"Algorithm\": \"Linear Learner\", \"Host\": \"algo-1\", \"Operation\": \"training\", \"epoch\": 1, \"model\": 7}, \"Metrics\": {\"validation_binary_classification_cross_entropy_objective\": {\"sum\": 0.5110657246910661, \"count\": 1, \"min\": 0.5110657246910661, \"max\": 0.5110657246910661}}}\u001b[0m\n",
            "\u001b[34m#metrics {\"StartTime\": 1650612751.7679183, \"EndTime\": 1650612751.7679424, \"Dimensions\": {\"Algorithm\": \"Linear Learner\", \"Host\": \"algo-1\", \"Operation\": \"training\", \"epoch\": 1, \"model\": 8}, \"Metrics\": {\"validation_binary_classification_cross_entropy_objective\": {\"sum\": 0.49198812342785375, \"count\": 1, \"min\": 0.49198812342785375, \"max\": 0.49198812342785375}}}\u001b[0m\n",
            "\u001b[34m#metrics {\"StartTime\": 1650612751.7680087, \"EndTime\": 1650612751.7680273, \"Dimensions\": {\"Algorithm\": \"Linear Learner\", \"Host\": \"algo-1\", \"Operation\": \"training\", \"epoch\": 1, \"model\": 9}, \"Metrics\": {\"validation_binary_classification_cross_entropy_objective\": {\"sum\": 0.4937158677572127, \"count\": 1, \"min\": 0.4937158677572127, \"max\": 0.4937158677572127}}}\u001b[0m\n",
            "\u001b[34m#metrics {\"StartTime\": 1650612751.7680967, \"EndTime\": 1650612751.7681155, \"Dimensions\": {\"Algorithm\": \"Linear Learner\", \"Host\": \"algo-1\", \"Operation\": \"training\", \"epoch\": 1, \"model\": 10}, \"Metrics\": {\"validation_binary_classification_cross_entropy_objective\": {\"sum\": 0.4919877519380669, \"count\": 1, \"min\": 0.4919877519380669, \"max\": 0.4919877519380669}}}\u001b[0m\n",
            "\u001b[34m#metrics {\"StartTime\": 1650612751.7681754, \"EndTime\": 1650612751.7681916, \"Dimensions\": {\"Algorithm\": \"Linear Learner\", \"Host\": \"algo-1\", \"Operation\": \"training\", \"epoch\": 1, \"model\": 11}, \"Metrics\": {\"validation_binary_classification_cross_entropy_objective\": {\"sum\": 0.4937158765266853, \"count\": 1, \"min\": 0.4937158765266853, \"max\": 0.4937158765266853}}}\u001b[0m\n",
            "\u001b[34m#metrics {\"StartTime\": 1650612751.7682526, \"EndTime\": 1650612751.7682698, \"Dimensions\": {\"Algorithm\": \"Linear Learner\", \"Host\": \"algo-1\", \"Operation\": \"training\", \"epoch\": 1, \"model\": 12}, \"Metrics\": {\"validation_binary_classification_cross_entropy_objective\": {\"sum\": 0.4935430225714254, \"count\": 1, \"min\": 0.4935430225714254, \"max\": 0.4935430225714254}}}\u001b[0m\n",
            "\u001b[34m#metrics {\"StartTime\": 1650612751.7683237, \"EndTime\": 1650612751.768339, \"Dimensions\": {\"Algorithm\": \"Linear Learner\", \"Host\": \"algo-1\", \"Operation\": \"training\", \"epoch\": 1, \"model\": 13}, \"Metrics\": {\"validation_binary_classification_cross_entropy_objective\": {\"sum\": 0.5108873299217881, \"count\": 1, \"min\": 0.5108873299217881, \"max\": 0.5108873299217881}}}\u001b[0m\n",
            "\u001b[34m#metrics {\"StartTime\": 1650612751.7683907, \"EndTime\": 1650612751.7684069, \"Dimensions\": {\"Algorithm\": \"Linear Learner\", \"Host\": \"algo-1\", \"Operation\": \"training\", \"epoch\": 1, \"model\": 14}, \"Metrics\": {\"validation_binary_classification_cross_entropy_objective\": {\"sum\": 0.49354278504932664, \"count\": 1, \"min\": 0.49354278504932664, \"max\": 0.49354278504932664}}}\u001b[0m\n",
            "\u001b[34m#metrics {\"StartTime\": 1650612751.7684724, \"EndTime\": 1650612751.7684917, \"Dimensions\": {\"Algorithm\": \"Linear Learner\", \"Host\": \"algo-1\", \"Operation\": \"training\", \"epoch\": 1, \"model\": 15}, \"Metrics\": {\"validation_binary_classification_cross_entropy_objective\": {\"sum\": 0.5108868927542488, \"count\": 1, \"min\": 0.5108868927542488, \"max\": 0.5108868927542488}}}\u001b[0m\n",
            "\u001b[34m#metrics {\"StartTime\": 1650612751.7685487, \"EndTime\": 1650612751.768567, \"Dimensions\": {\"Algorithm\": \"Linear Learner\", \"Host\": \"algo-1\", \"Operation\": \"training\", \"epoch\": 1, \"model\": 16}, \"Metrics\": {\"validation_binary_classification_cross_entropy_objective\": {\"sum\": 0.5078554517573742, \"count\": 1, \"min\": 0.5078554517573742, \"max\": 0.5078554517573742}}}\u001b[0m\n",
            "\u001b[34m#metrics {\"StartTime\": 1650612751.768622, \"EndTime\": 1650612751.7686386, \"Dimensions\": {\"Algorithm\": \"Linear Learner\", \"Host\": \"algo-1\", \"Operation\": \"training\", \"epoch\": 1, \"model\": 17}, \"Metrics\": {\"validation_binary_classification_cross_entropy_objective\": {\"sum\": 0.5085418210267993, \"count\": 1, \"min\": 0.5085418210267993, \"max\": 0.5085418210267993}}}\u001b[0m\n",
            "\u001b[34m#metrics {\"StartTime\": 1650612751.7687044, \"EndTime\": 1650612751.7687237, \"Dimensions\": {\"Algorithm\": \"Linear Learner\", \"Host\": \"algo-1\", \"Operation\": \"training\", \"epoch\": 1, \"model\": 18}, \"Metrics\": {\"validation_binary_classification_cross_entropy_objective\": {\"sum\": 0.5078561617114873, \"count\": 1, \"min\": 0.5078561617114873, \"max\": 0.5078561617114873}}}\u001b[0m\n",
            "\u001b[34m#metrics {\"StartTime\": 1650612751.7687788, \"EndTime\": 1650612751.768797, \"Dimensions\": {\"Algorithm\": \"Linear Learner\", \"Host\": \"algo-1\", \"Operation\": \"training\", \"epoch\": 1, \"model\": 19}, \"Metrics\": {\"validation_binary_classification_cross_entropy_objective\": {\"sum\": 0.5085412857158006, \"count\": 1, \"min\": 0.5085412857158006, \"max\": 0.5085412857158006}}}\u001b[0m\n",
            "\u001b[34m#metrics {\"StartTime\": 1650612751.7688608, \"EndTime\": 1650612751.768879, \"Dimensions\": {\"Algorithm\": \"Linear Learner\", \"Host\": \"algo-1\", \"Operation\": \"training\", \"epoch\": 1, \"model\": 20}, \"Metrics\": {\"validation_binary_classification_cross_entropy_objective\": {\"sum\": 0.508327666400616, \"count\": 1, \"min\": 0.508327666400616, \"max\": 0.508327666400616}}}\u001b[0m\n",
            "\u001b[34m#metrics {\"StartTime\": 1650612751.768945, \"EndTime\": 1650612751.768964, \"Dimensions\": {\"Algorithm\": \"Linear Learner\", \"Host\": \"algo-1\", \"Operation\": \"training\", \"epoch\": 1, \"model\": 21}, \"Metrics\": {\"validation_binary_classification_cross_entropy_objective\": {\"sum\": 0.5115987819353295, \"count\": 1, \"min\": 0.5115987819353295, \"max\": 0.5115987819353295}}}\u001b[0m\n",
            "\u001b[34m#metrics {\"StartTime\": 1650612751.7690258, \"EndTime\": 1650612751.7690432, \"Dimensions\": {\"Algorithm\": \"Linear Learner\", \"Host\": \"algo-1\", \"Operation\": \"training\", \"epoch\": 1, \"model\": 22}, \"Metrics\": {\"validation_binary_classification_cross_entropy_objective\": {\"sum\": 0.5083268924480114, \"count\": 1, \"min\": 0.5083268924480114, \"max\": 0.5083268924480114}}}\u001b[0m\n",
            "\u001b[34m#metrics {\"StartTime\": 1650612751.7690964, \"EndTime\": 1650612751.7691152, \"Dimensions\": {\"Algorithm\": \"Linear Learner\", \"Host\": \"algo-1\", \"Operation\": \"training\", \"epoch\": 1, \"model\": 23}, \"Metrics\": {\"validation_binary_classification_cross_entropy_objective\": {\"sum\": 0.5115973401967142, \"count\": 1, \"min\": 0.5115973401967142, \"max\": 0.5115973401967142}}}\u001b[0m\n",
            "\u001b[34m#metrics {\"StartTime\": 1650612751.769169, \"EndTime\": 1650612751.7691863, \"Dimensions\": {\"Algorithm\": \"Linear Learner\", \"Host\": \"algo-1\", \"Operation\": \"training\", \"epoch\": 1, \"model\": 24}, \"Metrics\": {\"validation_binary_classification_cross_entropy_objective\": {\"sum\": 0.513756169969569, \"count\": 1, \"min\": 0.513756169969569, \"max\": 0.513756169969569}}}\u001b[0m\n",
            "\u001b[34m#metrics {\"StartTime\": 1650612751.769241, \"EndTime\": 1650612751.769283, \"Dimensions\": {\"Algorithm\": \"Linear Learner\", \"Host\": \"algo-1\", \"Operation\": \"training\", \"epoch\": 1, \"model\": 25}, \"Metrics\": {\"validation_binary_classification_cross_entropy_objective\": {\"sum\": 0.5146318559199562, \"count\": 1, \"min\": 0.5146318559199562, \"max\": 0.5146318559199562}}}\u001b[0m\n",
            "\u001b[34m#metrics {\"StartTime\": 1650612751.7693408, \"EndTime\": 1650612751.7693596, \"Dimensions\": {\"Algorithm\": \"Linear Learner\", \"Host\": \"algo-1\", \"Operation\": \"training\", \"epoch\": 1, \"model\": 26}, \"Metrics\": {\"validation_binary_classification_cross_entropy_objective\": {\"sum\": 0.5137611693152991, \"count\": 1, \"min\": 0.5137611693152991, \"max\": 0.5137611693152991}}}\u001b[0m\n",
            "\u001b[34m#metrics {\"StartTime\": 1650612751.7694194, \"EndTime\": 1650612751.7694352, \"Dimensions\": {\"Algorithm\": \"Linear Learner\", \"Host\": \"algo-1\", \"Operation\": \"training\", \"epoch\": 1, \"model\": 27}, \"Metrics\": {\"validation_binary_classification_cross_entropy_objective\": {\"sum\": 0.5145856594577134, \"count\": 1, \"min\": 0.5145856594577134, \"max\": 0.5145856594577134}}}\u001b[0m\n",
            "\u001b[34m#metrics {\"StartTime\": 1650612751.7694848, \"EndTime\": 1650612751.7695003, \"Dimensions\": {\"Algorithm\": \"Linear Learner\", \"Host\": \"algo-1\", \"Operation\": \"training\", \"epoch\": 1, \"model\": 28}, \"Metrics\": {\"validation_binary_classification_cross_entropy_objective\": {\"sum\": 0.5139730662687446, \"count\": 1, \"min\": 0.5139730662687446, \"max\": 0.5139730662687446}}}\u001b[0m\n",
            "\u001b[34m#metrics {\"StartTime\": 1650612751.7695506, \"EndTime\": 1650612751.7695668, \"Dimensions\": {\"Algorithm\": \"Linear Learner\", \"Host\": \"algo-1\", \"Operation\": \"training\", \"epoch\": 1, \"model\": 29}, \"Metrics\": {\"validation_binary_classification_cross_entropy_objective\": {\"sum\": 0.5138135400460184, \"count\": 1, \"min\": 0.5138135400460184, \"max\": 0.5138135400460184}}}\u001b[0m\n",
            "\u001b[34m#metrics {\"StartTime\": 1650612751.7696235, \"EndTime\": 1650612751.7696402, \"Dimensions\": {\"Algorithm\": \"Linear Learner\", \"Host\": \"algo-1\", \"Operation\": \"training\", \"epoch\": 1, \"model\": 30}, \"Metrics\": {\"validation_binary_classification_cross_entropy_objective\": {\"sum\": 0.5139881695396066, \"count\": 1, \"min\": 0.5139881695396066, \"max\": 0.5139881695396066}}}\u001b[0m\n",
            "\u001b[34m#metrics {\"StartTime\": 1650612751.769706, \"EndTime\": 1650612751.7697234, \"Dimensions\": {\"Algorithm\": \"Linear Learner\", \"Host\": \"algo-1\", \"Operation\": \"training\", \"epoch\": 1, \"model\": 31}, \"Metrics\": {\"validation_binary_classification_cross_entropy_objective\": {\"sum\": 0.513760509552423, \"count\": 1, \"min\": 0.513760509552423, \"max\": 0.513760509552423}}}\u001b[0m\n",
            "\u001b[34m[04/22/2022 07:32:31 INFO 139644120127296] #quality_metric: host=algo-1, epoch=1, validation binary_classification_cross_entropy_objective <loss>=0.4917667403306347\u001b[0m\n",
            "\u001b[34m[04/22/2022 07:32:31 INFO 139644120127296] #early_stopping_criteria_metric: host=algo-1, epoch=1, criteria=binary_classification_cross_entropy_objective, value=0.4917667403306347\u001b[0m\n",
            "\u001b[34m[04/22/2022 07:32:31 INFO 139644120127296] Saving model for epoch: 1\u001b[0m\n",
            "\u001b[34m[04/22/2022 07:32:31 INFO 139644120127296] Saved checkpoint to \"/tmp/tmpr321ei8q/mx-mod-0000.params\"\u001b[0m\n",
            "\u001b[34m[04/22/2022 07:32:31 INFO 139644120127296] #progress_metric: host=algo-1, completed 13.333333333333334 % of epochs\u001b[0m\n",
            "\u001b[34m#metrics {\"StartTime\": 1650612687.7900076, \"EndTime\": 1650612751.7830281, \"Dimensions\": {\"Algorithm\": \"Linear Learner\", \"Host\": \"algo-1\", \"Operation\": \"training\", \"epoch\": 1, \"Meta\": \"training_data_iter\"}, \"Metrics\": {\"Total Records Seen\": {\"sum\": 2628944.0, \"count\": 1, \"min\": 2628944, \"max\": 2628944}, \"Total Batches Seen\": {\"sum\": 2630.0, \"count\": 1, \"min\": 2630, \"max\": 2630}, \"Max Records Seen Between Resets\": {\"sum\": 1308472.0, \"count\": 1, \"min\": 1308472, \"max\": 1308472}, \"Max Batches Seen Between Resets\": {\"sum\": 1309.0, \"count\": 1, \"min\": 1309, \"max\": 1309}, \"Reset Count\": {\"sum\": 4.0, \"count\": 1, \"min\": 4, \"max\": 4}, \"Number of Records Since Last Reset\": {\"sum\": 1308472.0, \"count\": 1, \"min\": 1308472, \"max\": 1308472}, \"Number of Batches Since Last Reset\": {\"sum\": 1309.0, \"count\": 1, \"min\": 1309, \"max\": 1309}}}\u001b[0m\n",
            "\u001b[34m[04/22/2022 07:32:31 INFO 139644120127296] #throughput_metric: host=algo-1, train throughput=20447.053801323967 records/second\u001b[0m\n",
            "\u001b[34m[2022-04-22 07:33:30.714] [tensorio] [info] epoch_stats={\"data_pipeline\": \"/opt/ml/input/data/train\", \"epoch\": 7, \"duration\": 58930, \"num_examples\": 1309, \"num_bytes\": 549558240}\u001b[0m\n",
            "\u001b[34m#metrics {\"StartTime\": 1650612810.7141826, \"EndTime\": 1650612810.7142863, \"Dimensions\": {\"Algorithm\": \"Linear Learner\", \"Host\": \"algo-1\", \"Operation\": \"training\", \"epoch\": 2, \"model\": 0}, \"Metrics\": {\"train_binary_classification_cross_entropy_objective\": {\"sum\": 0.4920396830707515, \"count\": 1, \"min\": 0.4920396830707515, \"max\": 0.4920396830707515}}}\u001b[0m\n",
            "\u001b[34m#metrics {\"StartTime\": 1650612810.7143836, \"EndTime\": 1650612810.7144086, \"Dimensions\": {\"Algorithm\": \"Linear Learner\", \"Host\": \"algo-1\", \"Operation\": \"training\", \"epoch\": 2, \"model\": 1}, \"Metrics\": {\"train_binary_classification_cross_entropy_objective\": {\"sum\": 0.49311073088573026, \"count\": 1, \"min\": 0.49311073088573026, \"max\": 0.49311073088573026}}}\u001b[0m\n",
            "\u001b[34m#metrics {\"StartTime\": 1650612810.7144735, \"EndTime\": 1650612810.714492, \"Dimensions\": {\"Algorithm\": \"Linear Learner\", \"Host\": \"algo-1\", \"Operation\": \"training\", \"epoch\": 2, \"model\": 2}, \"Metrics\": {\"train_binary_classification_cross_entropy_objective\": {\"sum\": 0.49204400338455806, \"count\": 1, \"min\": 0.49204400338455806, \"max\": 0.49204400338455806}}}\u001b[0m\n",
            "\u001b[34m#metrics {\"StartTime\": 1650612810.7145457, \"EndTime\": 1650612810.7145636, \"Dimensions\": {\"Algorithm\": \"Linear Learner\", \"Host\": \"algo-1\", \"Operation\": \"training\", \"epoch\": 2, \"model\": 3}, \"Metrics\": {\"train_binary_classification_cross_entropy_objective\": {\"sum\": 0.493109592262758, \"count\": 1, \"min\": 0.493109592262758, \"max\": 0.493109592262758}}}\u001b[0m\n",
            "\u001b[34m#metrics {\"StartTime\": 1650612810.7146163, \"EndTime\": 1650612810.7146347, \"Dimensions\": {\"Algorithm\": \"Linear Learner\", \"Host\": \"algo-1\", \"Operation\": \"training\", \"epoch\": 2, \"model\": 4}, \"Metrics\": {\"train_binary_classification_cross_entropy_objective\": {\"sum\": 0.4931913769456589, \"count\": 1, \"min\": 0.4931913769456589, \"max\": 0.4931913769456589}}}\u001b[0m\n",
            "\u001b[34m#metrics {\"StartTime\": 1650612810.7146952, \"EndTime\": 1650612810.7147148, \"Dimensions\": {\"Algorithm\": \"Linear Learner\", \"Host\": \"algo-1\", \"Operation\": \"training\", \"epoch\": 2, \"model\": 5}, \"Metrics\": {\"train_binary_classification_cross_entropy_objective\": {\"sum\": 0.5116119366800385, \"count\": 1, \"min\": 0.5116119366800385, \"max\": 0.5116119366800385}}}\u001b[0m\n",
            "\u001b[34m#metrics {\"StartTime\": 1650612810.7147732, \"EndTime\": 1650612810.7147915, \"Dimensions\": {\"Algorithm\": \"Linear Learner\", \"Host\": \"algo-1\", \"Operation\": \"training\", \"epoch\": 2, \"model\": 6}, \"Metrics\": {\"train_binary_classification_cross_entropy_objective\": {\"sum\": 0.49319138837808496, \"count\": 1, \"min\": 0.49319138837808496, \"max\": 0.49319138837808496}}}\u001b[0m\n",
            "\u001b[34m#metrics {\"StartTime\": 1650612810.71485, \"EndTime\": 1650612810.714868, \"Dimensions\": {\"Algorithm\": \"Linear Learner\", \"Host\": \"algo-1\", \"Operation\": \"training\", \"epoch\": 2, \"model\": 7}, \"Metrics\": {\"train_binary_classification_cross_entropy_objective\": {\"sum\": 0.5116113638221671, \"count\": 1, \"min\": 0.5116113638221671, \"max\": 0.5116113638221671}}}\u001b[0m\n",
            "\u001b[34m#metrics {\"StartTime\": 1650612810.714954, \"EndTime\": 1650612810.7149734, \"Dimensions\": {\"Algorithm\": \"Linear Learner\", \"Host\": \"algo-1\", \"Operation\": \"training\", \"epoch\": 2, \"model\": 8}, \"Metrics\": {\"train_binary_classification_cross_entropy_objective\": {\"sum\": 0.49223340000070925, \"count\": 1, \"min\": 0.49223340000070925, \"max\": 0.49223340000070925}}}\u001b[0m\n",
            "\u001b[34m#metrics {\"StartTime\": 1650612810.7150326, \"EndTime\": 1650612810.715051, \"Dimensions\": {\"Algorithm\": \"Linear Learner\", \"Host\": \"algo-1\", \"Operation\": \"training\", \"epoch\": 2, \"model\": 9}, \"Metrics\": {\"train_binary_classification_cross_entropy_objective\": {\"sum\": 0.49326181468905295, \"count\": 1, \"min\": 0.49326181468905295, \"max\": 0.49326181468905295}}}\u001b[0m\n",
            "\u001b[34m#metrics {\"StartTime\": 1650612810.7151082, \"EndTime\": 1650612810.715125, \"Dimensions\": {\"Algorithm\": \"Linear Learner\", \"Host\": \"algo-1\", \"Operation\": \"training\", \"epoch\": 2, \"model\": 10}, \"Metrics\": {\"train_binary_classification_cross_entropy_objective\": {\"sum\": 0.49223312303268946, \"count\": 1, \"min\": 0.49223312303268946, \"max\": 0.49223312303268946}}}\u001b[0m\n",
            "\u001b[34m#metrics {\"StartTime\": 1650612810.7151804, \"EndTime\": 1650612810.7151968, \"Dimensions\": {\"Algorithm\": \"Linear Learner\", \"Host\": \"algo-1\", \"Operation\": \"training\", \"epoch\": 2, \"model\": 11}, \"Metrics\": {\"train_binary_classification_cross_entropy_objective\": {\"sum\": 0.4932618128458659, \"count\": 1, \"min\": 0.4932618128458659, \"max\": 0.4932618128458659}}}\u001b[0m\n",
            "\u001b[34m#metrics {\"StartTime\": 1650612810.71525, \"EndTime\": 1650612810.7152684, \"Dimensions\": {\"Algorithm\": \"Linear Learner\", \"Host\": \"algo-1\", \"Operation\": \"training\", \"epoch\": 2, \"model\": 12}, \"Metrics\": {\"train_binary_classification_cross_entropy_objective\": {\"sum\": 0.49333940537478943, \"count\": 1, \"min\": 0.49333940537478943, \"max\": 0.49333940537478943}}}\u001b[0m\n",
            "\u001b[34m#metrics {\"StartTime\": 1650612810.715325, \"EndTime\": 1650612810.7153533, \"Dimensions\": {\"Algorithm\": \"Linear Learner\", \"Host\": \"algo-1\", \"Operation\": \"training\", \"epoch\": 2, \"model\": 13}, \"Metrics\": {\"train_binary_classification_cross_entropy_objective\": {\"sum\": 0.5104129570777263, \"count\": 1, \"min\": 0.5104129570777263, \"max\": 0.5104129570777263}}}\u001b[0m\n",
            "\u001b[34m#metrics {\"StartTime\": 1650612810.715408, \"EndTime\": 1650612810.7154264, \"Dimensions\": {\"Algorithm\": \"Linear Learner\", \"Host\": \"algo-1\", \"Operation\": \"training\", \"epoch\": 2, \"model\": 14}, \"Metrics\": {\"train_binary_classification_cross_entropy_objective\": {\"sum\": 0.4933393987253172, \"count\": 1, \"min\": 0.4933393987253172, \"max\": 0.4933393987253172}}}\u001b[0m\n",
            "\u001b[34m#metrics {\"StartTime\": 1650612810.7154813, \"EndTime\": 1650612810.7154984, \"Dimensions\": {\"Algorithm\": \"Linear Learner\", \"Host\": \"algo-1\", \"Operation\": \"training\", \"epoch\": 2, \"model\": 15}, \"Metrics\": {\"train_binary_classification_cross_entropy_objective\": {\"sum\": 0.5104127007580679, \"count\": 1, \"min\": 0.5104127007580679, \"max\": 0.5104127007580679}}}\u001b[0m\n",
            "\u001b[34m#metrics {\"StartTime\": 1650612810.7155552, \"EndTime\": 1650612810.7155726, \"Dimensions\": {\"Algorithm\": \"Linear Learner\", \"Host\": \"algo-1\", \"Operation\": \"training\", \"epoch\": 2, \"model\": 16}, \"Metrics\": {\"train_binary_classification_cross_entropy_objective\": {\"sum\": 0.5077639496362902, \"count\": 1, \"min\": 0.5077639496362902, \"max\": 0.5077639496362902}}}\u001b[0m\n",
            "\u001b[34m#metrics {\"StartTime\": 1650612810.7156265, \"EndTime\": 1650612810.7156446, \"Dimensions\": {\"Algorithm\": \"Linear Learner\", \"Host\": \"algo-1\", \"Operation\": \"training\", \"epoch\": 2, \"model\": 17}, \"Metrics\": {\"train_binary_classification_cross_entropy_objective\": {\"sum\": 0.5079912416650615, \"count\": 1, \"min\": 0.5079912416650615, \"max\": 0.5079912416650615}}}\u001b[0m\n",
            "\u001b[34m#metrics {\"StartTime\": 1650612810.7156982, \"EndTime\": 1650612810.715716, \"Dimensions\": {\"Algorithm\": \"Linear Learner\", \"Host\": \"algo-1\", \"Operation\": \"training\", \"epoch\": 2, \"model\": 18}, \"Metrics\": {\"train_binary_classification_cross_entropy_objective\": {\"sum\": 0.5077639364306715, \"count\": 1, \"min\": 0.5077639364306715, \"max\": 0.5077639364306715}}}\u001b[0m\n",
            "\u001b[34m#metrics {\"StartTime\": 1650612810.7157667, \"EndTime\": 1650612810.7157838, \"Dimensions\": {\"Algorithm\": \"Linear Learner\", \"Host\": \"algo-1\", \"Operation\": \"training\", \"epoch\": 2, \"model\": 19}, \"Metrics\": {\"train_binary_classification_cross_entropy_objective\": {\"sum\": 0.5079912636666487, \"count\": 1, \"min\": 0.5079912636666487, \"max\": 0.5079912636666487}}}\u001b[0m\n",
            "\u001b[34m#metrics {\"StartTime\": 1650612810.7158391, \"EndTime\": 1650612810.7158563, \"Dimensions\": {\"Algorithm\": \"Linear Learner\", \"Host\": \"algo-1\", \"Operation\": \"training\", \"epoch\": 2, \"model\": 20}, \"Metrics\": {\"train_binary_classification_cross_entropy_objective\": {\"sum\": 0.5079800527030175, \"count\": 1, \"min\": 0.5079800527030175, \"max\": 0.5079800527030175}}}\u001b[0m\n",
            "\u001b[34m#metrics {\"StartTime\": 1650612810.7159097, \"EndTime\": 1650612810.7159257, \"Dimensions\": {\"Algorithm\": \"Linear Learner\", \"Host\": \"algo-1\", \"Operation\": \"training\", \"epoch\": 2, \"model\": 21}, \"Metrics\": {\"train_binary_classification_cross_entropy_objective\": {\"sum\": 0.5110866215090504, \"count\": 1, \"min\": 0.5110866215090504, \"max\": 0.5110866215090504}}}\u001b[0m\n",
            "\u001b[34m#metrics {\"StartTime\": 1650612810.7159758, \"EndTime\": 1650612810.7159936, \"Dimensions\": {\"Algorithm\": \"Linear Learner\", \"Host\": \"algo-1\", \"Operation\": \"training\", \"epoch\": 2, \"model\": 22}, \"Metrics\": {\"train_binary_classification_cross_entropy_objective\": {\"sum\": 0.5079800881202068, \"count\": 1, \"min\": 0.5079800881202068, \"max\": 0.5079800881202068}}}\u001b[0m\n",
            "\u001b[34m#metrics {\"StartTime\": 1650612810.7160485, \"EndTime\": 1650612810.7160656, \"Dimensions\": {\"Algorithm\": \"Linear Learner\", \"Host\": \"algo-1\", \"Operation\": \"training\", \"epoch\": 2, \"model\": 23}, \"Metrics\": {\"train_binary_classification_cross_entropy_objective\": {\"sum\": 0.5110865732595461, \"count\": 1, \"min\": 0.5110865732595461, \"max\": 0.5110865732595461}}}\u001b[0m\n",
            "\u001b[34m#metrics {\"StartTime\": 1650612810.7161217, \"EndTime\": 1650612810.7161393, \"Dimensions\": {\"Algorithm\": \"Linear Learner\", \"Host\": \"algo-1\", \"Operation\": \"training\", \"epoch\": 2, \"model\": 24}, \"Metrics\": {\"train_binary_classification_cross_entropy_objective\": {\"sum\": 0.5137722404549975, \"count\": 1, \"min\": 0.5137722404549975, \"max\": 0.5137722404549975}}}\u001b[0m\n",
            "\u001b[34m#metrics {\"StartTime\": 1650612810.7161965, \"EndTime\": 1650612810.7162135, \"Dimensions\": {\"Algorithm\": \"Linear Learner\", \"Host\": \"algo-1\", \"Operation\": \"training\", \"epoch\": 2, \"model\": 25}, \"Metrics\": {\"train_binary_classification_cross_entropy_objective\": {\"sum\": 0.513881141825918, \"count\": 1, \"min\": 0.513881141825918, \"max\": 0.513881141825918}}}\u001b[0m\n",
            "\u001b[34m#metrics {\"StartTime\": 1650612810.7162688, \"EndTime\": 1650612810.716286, \"Dimensions\": {\"Algorithm\": \"Linear Learner\", \"Host\": \"algo-1\", \"Operation\": \"training\", \"epoch\": 2, \"model\": 26}, \"Metrics\": {\"train_binary_classification_cross_entropy_objective\": {\"sum\": 0.5137722876312536, \"count\": 1, \"min\": 0.5137722876312536, \"max\": 0.5137722876312536}}}\u001b[0m\n",
            "\u001b[34m#metrics {\"StartTime\": 1650612810.7163386, \"EndTime\": 1650612810.7163563, \"Dimensions\": {\"Algorithm\": \"Linear Learner\", \"Host\": \"algo-1\", \"Operation\": \"training\", \"epoch\": 2, \"model\": 27}, \"Metrics\": {\"train_binary_classification_cross_entropy_objective\": {\"sum\": 0.5138798966714001, \"count\": 1, \"min\": 0.5138798966714001, \"max\": 0.5138798966714001}}}\u001b[0m\n",
            "\u001b[34m#metrics {\"StartTime\": 1650612810.7164123, \"EndTime\": 1650612810.716429, \"Dimensions\": {\"Algorithm\": \"Linear Learner\", \"Host\": \"algo-1\", \"Operation\": \"training\", \"epoch\": 2, \"model\": 28}, \"Metrics\": {\"train_binary_classification_cross_entropy_objective\": {\"sum\": 0.5138750886829622, \"count\": 1, \"min\": 0.5138750886829622, \"max\": 0.5138750886829622}}}\u001b[0m\n",
            "\u001b[34m#metrics {\"StartTime\": 1650612810.716487, \"EndTime\": 1650612810.7165036, \"Dimensions\": {\"Algorithm\": \"Linear Learner\", \"Host\": \"algo-1\", \"Operation\": \"training\", \"epoch\": 2, \"model\": 29}, \"Metrics\": {\"train_binary_classification_cross_entropy_objective\": {\"sum\": 0.515087509715229, \"count\": 1, \"min\": 0.515087509715229, \"max\": 0.515087509715229}}}\u001b[0m\n",
            "\u001b[34m#metrics {\"StartTime\": 1650612810.716555, \"EndTime\": 1650612810.7165725, \"Dimensions\": {\"Algorithm\": \"Linear Learner\", \"Host\": \"algo-1\", \"Operation\": \"training\", \"epoch\": 2, \"model\": 30}, \"Metrics\": {\"train_binary_classification_cross_entropy_objective\": {\"sum\": 0.5138743175308275, \"count\": 1, \"min\": 0.5138743175308275, \"max\": 0.5138743175308275}}}\u001b[0m\n",
            "\u001b[34m#metrics {\"StartTime\": 1650612810.7166286, \"EndTime\": 1650612810.716646, \"Dimensions\": {\"Algorithm\": \"Linear Learner\", \"Host\": \"algo-1\", \"Operation\": \"training\", \"epoch\": 2, \"model\": 31}, \"Metrics\": {\"train_binary_classification_cross_entropy_objective\": {\"sum\": 0.5150875270971829, \"count\": 1, \"min\": 0.5150875270971829, \"max\": 0.5150875270971829}}}\u001b[0m\n",
            "\u001b[34m[04/22/2022 07:33:30 INFO 139644120127296] #quality_metric: host=algo-1, epoch=2, train binary_classification_cross_entropy_objective <loss>=0.4920396830707515\u001b[0m\n",
            "\u001b[34m[2022-04-22 07:33:35.865] [tensorio] [info] epoch_stats={\"data_pipeline\": \"/opt/ml/input/data/validation\", \"epoch\": 8, \"duration\": 5120, \"num_examples\": 164, \"num_bytes\": 68694780}\u001b[0m\n",
            "\u001b[34m#metrics {\"StartTime\": 1650612815.8753674, \"EndTime\": 1650612815.8754284, \"Dimensions\": {\"Algorithm\": \"Linear Learner\", \"Host\": \"algo-1\", \"Operation\": \"training\", \"epoch\": 2, \"model\": 0}, \"Metrics\": {\"validation_binary_classification_cross_entropy_objective\": {\"sum\": 0.4916422983422529, \"count\": 1, \"min\": 0.4916422983422529, \"max\": 0.4916422983422529}}}\u001b[0m\n",
            "\u001b[34m#metrics {\"StartTime\": 1650612815.8755128, \"EndTime\": 1650612815.8755343, \"Dimensions\": {\"Algorithm\": \"Linear Learner\", \"Host\": \"algo-1\", \"Operation\": \"training\", \"epoch\": 2, \"model\": 1}, \"Metrics\": {\"validation_binary_classification_cross_entropy_objective\": {\"sum\": 0.4933390034031584, \"count\": 1, \"min\": 0.4933390034031584, \"max\": 0.4933390034031584}}}\u001b[0m\n",
            "\u001b[34m#metrics {\"StartTime\": 1650612815.8755977, \"EndTime\": 1650612815.8756175, \"Dimensions\": {\"Algorithm\": \"Linear Learner\", \"Host\": \"algo-1\", \"Operation\": \"training\", \"epoch\": 2, \"model\": 2}, \"Metrics\": {\"validation_binary_classification_cross_entropy_objective\": {\"sum\": 0.4916470308721141, \"count\": 1, \"min\": 0.4916470308721141, \"max\": 0.4916470308721141}}}\u001b[0m\n",
            "\u001b[34m#metrics {\"StartTime\": 1650612815.8756757, \"EndTime\": 1650612815.8756948, \"Dimensions\": {\"Algorithm\": \"Linear Learner\", \"Host\": \"algo-1\", \"Operation\": \"training\", \"epoch\": 2, \"model\": 3}, \"Metrics\": {\"validation_binary_classification_cross_entropy_objective\": {\"sum\": 0.49333801693078116, \"count\": 1, \"min\": 0.49333801693078116, \"max\": 0.49333801693078116}}}\u001b[0m\n",
            "\u001b[34m#metrics {\"StartTime\": 1650612815.875752, \"EndTime\": 1650612815.8757699, \"Dimensions\": {\"Algorithm\": \"Linear Learner\", \"Host\": \"algo-1\", \"Operation\": \"training\", \"epoch\": 2, \"model\": 4}, \"Metrics\": {\"validation_binary_classification_cross_entropy_objective\": {\"sum\": 0.4924428114404387, \"count\": 1, \"min\": 0.4924428114404387, \"max\": 0.4924428114404387}}}\u001b[0m\n",
            "\u001b[34m#metrics {\"StartTime\": 1650612815.8758228, \"EndTime\": 1650612815.8758388, \"Dimensions\": {\"Algorithm\": \"Linear Learner\", \"Host\": \"algo-1\", \"Operation\": \"training\", \"epoch\": 2, \"model\": 5}, \"Metrics\": {\"validation_binary_classification_cross_entropy_objective\": {\"sum\": 0.5095336086373553, \"count\": 1, \"min\": 0.5095336086373553, \"max\": 0.5095336086373553}}}\u001b[0m\n",
            "\u001b[34m#metrics {\"StartTime\": 1650612815.8758917, \"EndTime\": 1650612815.875909, \"Dimensions\": {\"Algorithm\": \"Linear Learner\", \"Host\": \"algo-1\", \"Operation\": \"training\", \"epoch\": 2, \"model\": 6}, \"Metrics\": {\"validation_binary_classification_cross_entropy_objective\": {\"sum\": 0.49244281647822086, \"count\": 1, \"min\": 0.49244281647822086, \"max\": 0.49244281647822086}}}\u001b[0m\n",
            "\u001b[34m#metrics {\"StartTime\": 1650612815.8759627, \"EndTime\": 1650612815.8759804, \"Dimensions\": {\"Algorithm\": \"Linear Learner\", \"Host\": \"algo-1\", \"Operation\": \"training\", \"epoch\": 2, \"model\": 7}, \"Metrics\": {\"validation_binary_classification_cross_entropy_objective\": {\"sum\": 0.5095133255935287, \"count\": 1, \"min\": 0.5095133255935287, \"max\": 0.5095133255935287}}}\u001b[0m\n",
            "\u001b[34m#metrics {\"StartTime\": 1650612815.8760338, \"EndTime\": 1650612815.8760502, \"Dimensions\": {\"Algorithm\": \"Linear Learner\", \"Host\": \"algo-1\", \"Operation\": \"training\", \"epoch\": 2, \"model\": 8}, \"Metrics\": {\"validation_binary_classification_cross_entropy_objective\": {\"sum\": 0.49186236172713527, \"count\": 1, \"min\": 0.49186236172713527, \"max\": 0.49186236172713527}}}\u001b[0m\n",
            "\u001b[34m#metrics {\"StartTime\": 1650612815.8761027, \"EndTime\": 1650612815.87612, \"Dimensions\": {\"Algorithm\": \"Linear Learner\", \"Host\": \"algo-1\", \"Operation\": \"training\", \"epoch\": 2, \"model\": 9}, \"Metrics\": {\"validation_binary_classification_cross_entropy_objective\": {\"sum\": 0.4935681560665322, \"count\": 1, \"min\": 0.4935681560665322, \"max\": 0.4935681560665322}}}\u001b[0m\n",
            "\u001b[34m#metrics {\"StartTime\": 1650612815.8761744, \"EndTime\": 1650612815.876191, \"Dimensions\": {\"Algorithm\": \"Linear Learner\", \"Host\": \"algo-1\", \"Operation\": \"training\", \"epoch\": 2, \"model\": 10}, \"Metrics\": {\"validation_binary_classification_cross_entropy_objective\": {\"sum\": 0.4918621298025722, \"count\": 1, \"min\": 0.4918621298025722, \"max\": 0.4918621298025722}}}\u001b[0m\n",
            "\u001b[34m#metrics {\"StartTime\": 1650612815.8762448, \"EndTime\": 1650612815.8763556, \"Dimensions\": {\"Algorithm\": \"Linear Learner\", \"Host\": \"algo-1\", \"Operation\": \"training\", \"epoch\": 2, \"model\": 11}, \"Metrics\": {\"validation_binary_classification_cross_entropy_objective\": {\"sum\": 0.4935681616640679, \"count\": 1, \"min\": 0.4935681616640679, \"max\": 0.4935681616640679}}}\u001b[0m\n",
            "\u001b[34m#metrics {\"StartTime\": 1650612815.8764224, \"EndTime\": 1650612815.8764424, \"Dimensions\": {\"Algorithm\": \"Linear Learner\", \"Host\": \"algo-1\", \"Operation\": \"training\", \"epoch\": 2, \"model\": 12}, \"Metrics\": {\"validation_binary_classification_cross_entropy_objective\": {\"sum\": 0.49265172621344067, \"count\": 1, \"min\": 0.49265172621344067, \"max\": 0.49265172621344067}}}\u001b[0m\n",
            "\u001b[34m#metrics {\"StartTime\": 1650612815.8765, \"EndTime\": 1650612815.8765182, \"Dimensions\": {\"Algorithm\": \"Linear Learner\", \"Host\": \"algo-1\", \"Operation\": \"training\", \"epoch\": 2, \"model\": 13}, \"Metrics\": {\"validation_binary_classification_cross_entropy_objective\": {\"sum\": 0.5096123329393822, \"count\": 1, \"min\": 0.5096123329393822, \"max\": 0.5096123329393822}}}\u001b[0m\n",
            "\u001b[34m#metrics {\"StartTime\": 1650612815.8765807, \"EndTime\": 1650612815.8765984, \"Dimensions\": {\"Algorithm\": \"Linear Learner\", \"Host\": \"algo-1\", \"Operation\": \"training\", \"epoch\": 2, \"model\": 14}, \"Metrics\": {\"validation_binary_classification_cross_entropy_objective\": {\"sum\": 0.492651732743899, \"count\": 1, \"min\": 0.492651732743899, \"max\": 0.492651732743899}}}\u001b[0m\n",
            "\u001b[34m#metrics {\"StartTime\": 1650612815.8766544, \"EndTime\": 1650612815.8766708, \"Dimensions\": {\"Algorithm\": \"Linear Learner\", \"Host\": \"algo-1\", \"Operation\": \"training\", \"epoch\": 2, \"model\": 15}, \"Metrics\": {\"validation_binary_classification_cross_entropy_objective\": {\"sum\": 0.5096121325476037, \"count\": 1, \"min\": 0.5096121325476037, \"max\": 0.5096121325476037}}}\u001b[0m\n",
            "\u001b[34m#metrics {\"StartTime\": 1650612815.876737, \"EndTime\": 1650612815.8767557, \"Dimensions\": {\"Algorithm\": \"Linear Learner\", \"Host\": \"algo-1\", \"Operation\": \"training\", \"epoch\": 2, \"model\": 16}, \"Metrics\": {\"validation_binary_classification_cross_entropy_objective\": {\"sum\": 0.5077357749511453, \"count\": 1, \"min\": 0.5077357749511453, \"max\": 0.5077357749511453}}}\u001b[0m\n",
            "\u001b[34m#metrics {\"StartTime\": 1650612815.8768237, \"EndTime\": 1650612815.8768415, \"Dimensions\": {\"Algorithm\": \"Linear Learner\", \"Host\": \"algo-1\", \"Operation\": \"training\", \"epoch\": 2, \"model\": 17}, \"Metrics\": {\"validation_binary_classification_cross_entropy_objective\": {\"sum\": 0.5084840296424952, \"count\": 1, \"min\": 0.5084840296424952, \"max\": 0.5084840296424952}}}\u001b[0m\n",
            "\u001b[34m#metrics {\"StartTime\": 1650612815.8768961, \"EndTime\": 1650612815.8769126, \"Dimensions\": {\"Algorithm\": \"Linear Learner\", \"Host\": \"algo-1\", \"Operation\": \"training\", \"epoch\": 2, \"model\": 18}, \"Metrics\": {\"validation_binary_classification_cross_entropy_objective\": {\"sum\": 0.507736517930719, \"count\": 1, \"min\": 0.507736517930719, \"max\": 0.507736517930719}}}\u001b[0m\n",
            "\u001b[34m#metrics {\"StartTime\": 1650612815.8769734, \"EndTime\": 1650612815.8769894, \"Dimensions\": {\"Algorithm\": \"Linear Learner\", \"Host\": \"algo-1\", \"Operation\": \"training\", \"epoch\": 2, \"model\": 19}, \"Metrics\": {\"validation_binary_classification_cross_entropy_objective\": {\"sum\": 0.5084839604196368, \"count\": 1, \"min\": 0.5084839604196368, \"max\": 0.5084839604196368}}}\u001b[0m\n",
            "\u001b[34m#metrics {\"StartTime\": 1650612815.8770425, \"EndTime\": 1650612815.8770592, \"Dimensions\": {\"Algorithm\": \"Linear Learner\", \"Host\": \"algo-1\", \"Operation\": \"training\", \"epoch\": 2, \"model\": 20}, \"Metrics\": {\"validation_binary_classification_cross_entropy_objective\": {\"sum\": 0.5080781879655597, \"count\": 1, \"min\": 0.5080781879655597, \"max\": 0.5080781879655597}}}\u001b[0m\n",
            "\u001b[34m#metrics {\"StartTime\": 1650612815.877113, \"EndTime\": 1650612815.8771307, \"Dimensions\": {\"Algorithm\": \"Linear Learner\", \"Host\": \"algo-1\", \"Operation\": \"training\", \"epoch\": 2, \"model\": 21}, \"Metrics\": {\"validation_binary_classification_cross_entropy_objective\": {\"sum\": 0.5120802410953864, \"count\": 1, \"min\": 0.5120802410953864, \"max\": 0.5120802410953864}}}\u001b[0m\n",
            "\u001b[34m#metrics {\"StartTime\": 1650612815.877182, \"EndTime\": 1650612815.877198, \"Dimensions\": {\"Algorithm\": \"Linear Learner\", \"Host\": \"algo-1\", \"Operation\": \"training\", \"epoch\": 2, \"model\": 22}, \"Metrics\": {\"validation_binary_classification_cross_entropy_objective\": {\"sum\": 0.5080782069971812, \"count\": 1, \"min\": 0.5080782069971812, \"max\": 0.5080782069971812}}}\u001b[0m\n",
            "\u001b[34m#metrics {\"StartTime\": 1650612815.8772526, \"EndTime\": 1650612815.877269, \"Dimensions\": {\"Algorithm\": \"Linear Learner\", \"Host\": \"algo-1\", \"Operation\": \"training\", \"epoch\": 2, \"model\": 23}, \"Metrics\": {\"validation_binary_classification_cross_entropy_objective\": {\"sum\": 0.5120802211308424, \"count\": 1, \"min\": 0.5120802211308424, \"max\": 0.5120802211308424}}}\u001b[0m\n",
            "\u001b[34m#metrics {\"StartTime\": 1650612815.8773224, \"EndTime\": 1650612815.8773394, \"Dimensions\": {\"Algorithm\": \"Linear Learner\", \"Host\": \"algo-1\", \"Operation\": \"training\", \"epoch\": 2, \"model\": 24}, \"Metrics\": {\"validation_binary_classification_cross_entropy_objective\": {\"sum\": 0.5137668202141864, \"count\": 1, \"min\": 0.5137668202141864, \"max\": 0.5137668202141864}}}\u001b[0m\n",
            "\u001b[34m#metrics {\"StartTime\": 1650612815.877397, \"EndTime\": 1650612815.8774145, \"Dimensions\": {\"Algorithm\": \"Linear Learner\", \"Host\": \"algo-1\", \"Operation\": \"training\", \"epoch\": 2, \"model\": 25}, \"Metrics\": {\"validation_binary_classification_cross_entropy_objective\": {\"sum\": 0.5145435820354175, \"count\": 1, \"min\": 0.5145435820354175, \"max\": 0.5145435820354175}}}\u001b[0m\n",
            "\u001b[34m#metrics {\"StartTime\": 1650612815.877467, \"EndTime\": 1650612815.8774846, \"Dimensions\": {\"Algorithm\": \"Linear Learner\", \"Host\": \"algo-1\", \"Operation\": \"training\", \"epoch\": 2, \"model\": 26}, \"Metrics\": {\"validation_binary_classification_cross_entropy_objective\": {\"sum\": 0.5137659772253079, \"count\": 1, \"min\": 0.5137659772253079, \"max\": 0.5137659772253079}}}\u001b[0m\n",
            "\u001b[34m#metrics {\"StartTime\": 1650612815.877539, \"EndTime\": 1650612815.877555, \"Dimensions\": {\"Algorithm\": \"Linear Learner\", \"Host\": \"algo-1\", \"Operation\": \"training\", \"epoch\": 2, \"model\": 27}, \"Metrics\": {\"validation_binary_classification_cross_entropy_objective\": {\"sum\": 0.5145659214272807, \"count\": 1, \"min\": 0.5145659214272807, \"max\": 0.5145659214272807}}}\u001b[0m\n",
            "\u001b[34m#metrics {\"StartTime\": 1650612815.8776078, \"EndTime\": 1650612815.877625, \"Dimensions\": {\"Algorithm\": \"Linear Learner\", \"Host\": \"algo-1\", \"Operation\": \"training\", \"epoch\": 2, \"model\": 28}, \"Metrics\": {\"validation_binary_classification_cross_entropy_objective\": {\"sum\": 0.5139829948044241, \"count\": 1, \"min\": 0.5139829948044241, \"max\": 0.5139829948044241}}}\u001b[0m\n",
            "\u001b[34m#metrics {\"StartTime\": 1650612815.8776796, \"EndTime\": 1650612815.8776975, \"Dimensions\": {\"Algorithm\": \"Linear Learner\", \"Host\": \"algo-1\", \"Operation\": \"training\", \"epoch\": 2, \"model\": 29}, \"Metrics\": {\"validation_binary_classification_cross_entropy_objective\": {\"sum\": 0.5137199382404032, \"count\": 1, \"min\": 0.5137199382404032, \"max\": 0.5137199382404032}}}\u001b[0m\n",
            "\u001b[34m#metrics {\"StartTime\": 1650612815.877751, \"EndTime\": 1650612815.877769, \"Dimensions\": {\"Algorithm\": \"Linear Learner\", \"Host\": \"algo-1\", \"Operation\": \"training\", \"epoch\": 2, \"model\": 30}, \"Metrics\": {\"validation_binary_classification_cross_entropy_objective\": {\"sum\": 0.5139660098286398, \"count\": 1, \"min\": 0.5139660098286398, \"max\": 0.5139660098286398}}}\u001b[0m\n",
            "\u001b[34m#metrics {\"StartTime\": 1650612815.8778222, \"EndTime\": 1650612815.8778389, \"Dimensions\": {\"Algorithm\": \"Linear Learner\", \"Host\": \"algo-1\", \"Operation\": \"training\", \"epoch\": 2, \"model\": 31}, \"Metrics\": {\"validation_binary_classification_cross_entropy_objective\": {\"sum\": 0.5137199429050163, \"count\": 1, \"min\": 0.5137199429050163, \"max\": 0.5137199429050163}}}\u001b[0m\n",
            "\u001b[34m[04/22/2022 07:33:35 INFO 139644120127296] #quality_metric: host=algo-1, epoch=2, validation binary_classification_cross_entropy_objective <loss>=0.4916422983422529\u001b[0m\n",
            "\u001b[34m[04/22/2022 07:33:35 INFO 139644120127296] #early_stopping_criteria_metric: host=algo-1, epoch=2, criteria=binary_classification_cross_entropy_objective, value=0.4916422983422529\u001b[0m\n",
            "\u001b[34m[04/22/2022 07:33:35 INFO 139644120127296] Saving model for epoch: 2\u001b[0m\n",
            "\u001b[34m[04/22/2022 07:33:35 INFO 139644120127296] Saved checkpoint to \"/tmp/tmpzl3r5afd/mx-mod-0000.params\"\u001b[0m\n",
            "\u001b[34m[04/22/2022 07:33:35 INFO 139644120127296] #progress_metric: host=algo-1, completed 20.0 % of epochs\u001b[0m\n",
            "\u001b[34m#metrics {\"StartTime\": 1650612751.783584, \"EndTime\": 1650612815.8850133, \"Dimensions\": {\"Algorithm\": \"Linear Learner\", \"Host\": \"algo-1\", \"Operation\": \"training\", \"epoch\": 2, \"Meta\": \"training_data_iter\"}, \"Metrics\": {\"Total Records Seen\": {\"sum\": 3937416.0, \"count\": 1, \"min\": 3937416, \"max\": 3937416}, \"Total Batches Seen\": {\"sum\": 3939.0, \"count\": 1, \"min\": 3939, \"max\": 3939}, \"Max Records Seen Between Resets\": {\"sum\": 1308472.0, \"count\": 1, \"min\": 1308472, \"max\": 1308472}, \"Max Batches Seen Between Resets\": {\"sum\": 1309.0, \"count\": 1, \"min\": 1309, \"max\": 1309}, \"Reset Count\": {\"sum\": 5.0, \"count\": 1, \"min\": 5, \"max\": 5}, \"Number of Records Since Last Reset\": {\"sum\": 1308472.0, \"count\": 1, \"min\": 1308472, \"max\": 1308472}, \"Number of Batches Since Last Reset\": {\"sum\": 1309.0, \"count\": 1, \"min\": 1309, \"max\": 1309}}}\u001b[0m\n",
            "\u001b[34m[04/22/2022 07:33:35 INFO 139644120127296] #throughput_metric: host=algo-1, train throughput=20412.47356585789 records/second\u001b[0m\n",
            "\u001b[34m[2022-04-22 07:34:34.254] [tensorio] [info] epoch_stats={\"data_pipeline\": \"/opt/ml/input/data/train\", \"epoch\": 9, \"duration\": 58368, \"num_examples\": 1309, \"num_bytes\": 549558240}\u001b[0m\n",
            "\u001b[34m#metrics {\"StartTime\": 1650612874.2541792, \"EndTime\": 1650612874.254283, \"Dimensions\": {\"Algorithm\": \"Linear Learner\", \"Host\": \"algo-1\", \"Operation\": \"training\", \"epoch\": 3, \"model\": 0}, \"Metrics\": {\"train_binary_classification_cross_entropy_objective\": {\"sum\": 0.4919663686723155, \"count\": 1, \"min\": 0.4919663686723155, \"max\": 0.4919663686723155}}}\u001b[0m\n",
            "\u001b[34m#metrics {\"StartTime\": 1650612874.2543848, \"EndTime\": 1650612874.2544107, \"Dimensions\": {\"Algorithm\": \"Linear Learner\", \"Host\": \"algo-1\", \"Operation\": \"training\", \"epoch\": 3, \"model\": 1}, \"Metrics\": {\"train_binary_classification_cross_entropy_objective\": {\"sum\": 0.49296955087644245, \"count\": 1, \"min\": 0.49296955087644245, \"max\": 0.49296955087644245}}}\u001b[0m\n",
            "\u001b[34m#metrics {\"StartTime\": 1650612874.2544746, \"EndTime\": 1650612874.254495, \"Dimensions\": {\"Algorithm\": \"Linear Learner\", \"Host\": \"algo-1\", \"Operation\": \"training\", \"epoch\": 3, \"model\": 2}, \"Metrics\": {\"train_binary_classification_cross_entropy_objective\": {\"sum\": 0.49198746768123147, \"count\": 1, \"min\": 0.49198746768123147, \"max\": 0.49198746768123147}}}\u001b[0m\n",
            "\u001b[34m#metrics {\"StartTime\": 1650612874.2546315, \"EndTime\": 1650612874.2546525, \"Dimensions\": {\"Algorithm\": \"Linear Learner\", \"Host\": \"algo-1\", \"Operation\": \"training\", \"epoch\": 3, \"model\": 3}, \"Metrics\": {\"train_binary_classification_cross_entropy_objective\": {\"sum\": 0.49296904402333297, \"count\": 1, \"min\": 0.49296904402333297, \"max\": 0.49296904402333297}}}\u001b[0m\n",
            "\u001b[34m#metrics {\"StartTime\": 1650612874.254713, \"EndTime\": 1650612874.254732, \"Dimensions\": {\"Algorithm\": \"Linear Learner\", \"Host\": \"algo-1\", \"Operation\": \"training\", \"epoch\": 3, \"model\": 4}, \"Metrics\": {\"train_binary_classification_cross_entropy_objective\": {\"sum\": 0.4922885732154963, \"count\": 1, \"min\": 0.4922885732154963, \"max\": 0.4922885732154963}}}\u001b[0m\n",
            "\u001b[34m#metrics {\"StartTime\": 1650612874.2547903, \"EndTime\": 1650612874.2548065, \"Dimensions\": {\"Algorithm\": \"Linear Learner\", \"Host\": \"algo-1\", \"Operation\": \"training\", \"epoch\": 3, \"model\": 5}, \"Metrics\": {\"train_binary_classification_cross_entropy_objective\": {\"sum\": 0.5091726514717125, \"count\": 1, \"min\": 0.5091726514717125, \"max\": 0.5091726514717125}}}\u001b[0m\n",
            "\u001b[34m#metrics {\"StartTime\": 1650612874.2548616, \"EndTime\": 1650612874.2548795, \"Dimensions\": {\"Algorithm\": \"Linear Learner\", \"Host\": \"algo-1\", \"Operation\": \"training\", \"epoch\": 3, \"model\": 6}, \"Metrics\": {\"train_binary_classification_cross_entropy_objective\": {\"sum\": 0.4922885737521204, \"count\": 1, \"min\": 0.4922885737521204, \"max\": 0.4922885737521204}}}\u001b[0m\n",
            "\u001b[34m#metrics {\"StartTime\": 1650612874.255016, \"EndTime\": 1650612874.2550375, \"Dimensions\": {\"Algorithm\": \"Linear Learner\", \"Host\": \"algo-1\", \"Operation\": \"training\", \"epoch\": 3, \"model\": 7}, \"Metrics\": {\"train_binary_classification_cross_entropy_objective\": {\"sum\": 0.509185828159344, \"count\": 1, \"min\": 0.509185828159344, \"max\": 0.509185828159344}}}\u001b[0m\n",
            "\u001b[34m#metrics {\"StartTime\": 1650612874.2550964, \"EndTime\": 1650612874.255115, \"Dimensions\": {\"Algorithm\": \"Linear Learner\", \"Host\": \"algo-1\", \"Operation\": \"training\", \"epoch\": 3, \"model\": 8}, \"Metrics\": {\"train_binary_classification_cross_entropy_objective\": {\"sum\": 0.4921677857378572, \"count\": 1, \"min\": 0.4921677857378572, \"max\": 0.4921677857378572}}}\u001b[0m\n",
            "\u001b[34m#metrics {\"StartTime\": 1650612874.255173, \"EndTime\": 1650612874.2551901, \"Dimensions\": {\"Algorithm\": \"Linear Learner\", \"Host\": \"algo-1\", \"Operation\": \"training\", \"epoch\": 3, \"model\": 9}, \"Metrics\": {\"train_binary_classification_cross_entropy_objective\": {\"sum\": 0.493131644875996, \"count\": 1, \"min\": 0.493131644875996, \"max\": 0.493131644875996}}}\u001b[0m\n",
            "\u001b[34m#metrics {\"StartTime\": 1650612874.2552452, \"EndTime\": 1650612874.255264, \"Dimensions\": {\"Algorithm\": \"Linear Learner\", \"Host\": \"algo-1\", \"Operation\": \"training\", \"epoch\": 3, \"model\": 10}, \"Metrics\": {\"train_binary_classification_cross_entropy_objective\": {\"sum\": 0.4921840695255758, \"count\": 1, \"min\": 0.4921840695255758, \"max\": 0.4921840695255758}}}\u001b[0m\n",
            "\u001b[34m#metrics {\"StartTime\": 1650612874.25532, \"EndTime\": 1650612874.255338, \"Dimensions\": {\"Algorithm\": \"Linear Learner\", \"Host\": \"algo-1\", \"Operation\": \"training\", \"epoch\": 3, \"model\": 11}, \"Metrics\": {\"train_binary_classification_cross_entropy_objective\": {\"sum\": 0.49313164394273673, \"count\": 1, \"min\": 0.49313164394273673, \"max\": 0.49313164394273673}}}\u001b[0m\n",
            "\u001b[34m#metrics {\"StartTime\": 1650612874.2553906, \"EndTime\": 1650612874.2554069, \"Dimensions\": {\"Algorithm\": \"Linear Learner\", \"Host\": \"algo-1\", \"Operation\": \"training\", \"epoch\": 3, \"model\": 12}, \"Metrics\": {\"train_binary_classification_cross_entropy_objective\": {\"sum\": 0.4924896207103671, \"count\": 1, \"min\": 0.4924896207103671, \"max\": 0.4924896207103671}}}\u001b[0m\n",
            "\u001b[34m#metrics {\"StartTime\": 1650612874.2554705, \"EndTime\": 1650612874.2554855, \"Dimensions\": {\"Algorithm\": \"Linear Learner\", \"Host\": \"algo-1\", \"Operation\": \"training\", \"epoch\": 3, \"model\": 13}, \"Metrics\": {\"train_binary_classification_cross_entropy_objective\": {\"sum\": 0.5081921708926513, \"count\": 1, \"min\": 0.5081921708926513, \"max\": 0.5081921708926513}}}\u001b[0m\n",
            "\u001b[34m#metrics {\"StartTime\": 1650612874.2555392, \"EndTime\": 1650612874.255556, \"Dimensions\": {\"Algorithm\": \"Linear Learner\", \"Host\": \"algo-1\", \"Operation\": \"training\", \"epoch\": 3, \"model\": 14}, \"Metrics\": {\"train_binary_classification_cross_entropy_objective\": {\"sum\": 0.4924896196837819, \"count\": 1, \"min\": 0.4924896196837819, \"max\": 0.4924896196837819}}}\u001b[0m\n",
            "\u001b[34m#metrics {\"StartTime\": 1650612874.2556105, \"EndTime\": 1650612874.2556264, \"Dimensions\": {\"Algorithm\": \"Linear Learner\", \"Host\": \"algo-1\", \"Operation\": \"training\", \"epoch\": 3, \"model\": 15}, \"Metrics\": {\"train_binary_classification_cross_entropy_objective\": {\"sum\": 0.5081921529740733, \"count\": 1, \"min\": 0.5081921529740733, \"max\": 0.5081921529740733}}}\u001b[0m\n",
            "\u001b[34m#metrics {\"StartTime\": 1650612874.255682, \"EndTime\": 1650612874.2556992, \"Dimensions\": {\"Algorithm\": \"Linear Learner\", \"Host\": \"algo-1\", \"Operation\": \"training\", \"epoch\": 3, \"model\": 16}, \"Metrics\": {\"train_binary_classification_cross_entropy_objective\": {\"sum\": 0.5077469249340373, \"count\": 1, \"min\": 0.5077469249340373, \"max\": 0.5077469249340373}}}\u001b[0m\n",
            "\u001b[34m#metrics {\"StartTime\": 1650612874.2557535, \"EndTime\": 1650612874.255771, \"Dimensions\": {\"Algorithm\": \"Linear Learner\", \"Host\": \"algo-1\", \"Operation\": \"training\", \"epoch\": 3, \"model\": 17}, \"Metrics\": {\"train_binary_classification_cross_entropy_objective\": {\"sum\": 0.5079639716892067, \"count\": 1, \"min\": 0.5079639716892067, \"max\": 0.5079639716892067}}}\u001b[0m\n",
            "\u001b[34m#metrics {\"StartTime\": 1650612874.2558212, \"EndTime\": 1650612874.255837, \"Dimensions\": {\"Algorithm\": \"Linear Learner\", \"Host\": \"algo-1\", \"Operation\": \"training\", \"epoch\": 3, \"model\": 18}, \"Metrics\": {\"train_binary_classification_cross_entropy_objective\": {\"sum\": 0.5077557473138932, \"count\": 1, \"min\": 0.5077557473138932, \"max\": 0.5077557473138932}}}\u001b[0m\n",
            "\u001b[34m#metrics {\"StartTime\": 1650612874.255891, \"EndTime\": 1650612874.255908, \"Dimensions\": {\"Algorithm\": \"Linear Learner\", \"Host\": \"algo-1\", \"Operation\": \"training\", \"epoch\": 3, \"model\": 19}, \"Metrics\": {\"train_binary_classification_cross_entropy_objective\": {\"sum\": 0.5079639787819772, \"count\": 1, \"min\": 0.5079639787819772, \"max\": 0.5079639787819772}}}\u001b[0m\n",
            "\u001b[34m#metrics {\"StartTime\": 1650612874.255965, \"EndTime\": 1650612874.2559798, \"Dimensions\": {\"Algorithm\": \"Linear Learner\", \"Host\": \"algo-1\", \"Operation\": \"training\", \"epoch\": 3, \"model\": 20}, \"Metrics\": {\"train_binary_classification_cross_entropy_objective\": {\"sum\": 0.5078080263050324, \"count\": 1, \"min\": 0.5078080263050324, \"max\": 0.5078080263050324}}}\u001b[0m\n",
            "\u001b[34m#metrics {\"StartTime\": 1650612874.2560322, \"EndTime\": 1650612874.2560477, \"Dimensions\": {\"Algorithm\": \"Linear Learner\", \"Host\": \"algo-1\", \"Operation\": \"training\", \"epoch\": 3, \"model\": 21}, \"Metrics\": {\"train_binary_classification_cross_entropy_objective\": {\"sum\": 0.510703439368385, \"count\": 1, \"min\": 0.510703439368385, \"max\": 0.510703439368385}}}\u001b[0m\n",
            "\u001b[34m#metrics {\"StartTime\": 1650612874.2561102, \"EndTime\": 1650612874.2561293, \"Dimensions\": {\"Algorithm\": \"Linear Learner\", \"Host\": \"algo-1\", \"Operation\": \"training\", \"epoch\": 3, \"model\": 22}, \"Metrics\": {\"train_binary_classification_cross_entropy_objective\": {\"sum\": 0.5078080298980806, \"count\": 1, \"min\": 0.5078080298980806, \"max\": 0.5078080298980806}}}\u001b[0m\n",
            "\u001b[34m#metrics {\"StartTime\": 1650612874.256181, \"EndTime\": 1650612874.2561991, \"Dimensions\": {\"Algorithm\": \"Linear Learner\", \"Host\": \"algo-1\", \"Operation\": \"training\", \"epoch\": 3, \"model\": 23}, \"Metrics\": {\"train_binary_classification_cross_entropy_objective\": {\"sum\": 0.5107034262794238, \"count\": 1, \"min\": 0.5107034262794238, \"max\": 0.5107034262794238}}}\u001b[0m\n",
            "\u001b[34m#metrics {\"StartTime\": 1650612874.2562585, \"EndTime\": 1650612874.2562768, \"Dimensions\": {\"Algorithm\": \"Linear Learner\", \"Host\": \"algo-1\", \"Operation\": \"training\", \"epoch\": 3, \"model\": 24}, \"Metrics\": {\"train_binary_classification_cross_entropy_objective\": {\"sum\": 0.513767828611788, \"count\": 1, \"min\": 0.513767828611788, \"max\": 0.513767828611788}}}\u001b[0m\n",
            "\u001b[34m#metrics {\"StartTime\": 1650612874.2563362, \"EndTime\": 1650612874.2563546, \"Dimensions\": {\"Algorithm\": \"Linear Learner\", \"Host\": \"algo-1\", \"Operation\": \"training\", \"epoch\": 3, \"model\": 25}, \"Metrics\": {\"train_binary_classification_cross_entropy_objective\": {\"sum\": 0.5138703423362989, \"count\": 1, \"min\": 0.5138703423362989, \"max\": 0.5138703423362989}}}\u001b[0m\n",
            "\u001b[34m#metrics {\"StartTime\": 1650612874.2564151, \"EndTime\": 1650612874.2564332, \"Dimensions\": {\"Algorithm\": \"Linear Learner\", \"Host\": \"algo-1\", \"Operation\": \"training\", \"epoch\": 3, \"model\": 26}, \"Metrics\": {\"train_binary_classification_cross_entropy_objective\": {\"sum\": 0.5137694546760769, \"count\": 1, \"min\": 0.5137694546760769, \"max\": 0.5137694546760769}}}\u001b[0m\n",
            "\u001b[34m#metrics {\"StartTime\": 1650612874.2564888, \"EndTime\": 1650612874.2565055, \"Dimensions\": {\"Algorithm\": \"Linear Learner\", \"Host\": \"algo-1\", \"Operation\": \"training\", \"epoch\": 3, \"model\": 27}, \"Metrics\": {\"train_binary_classification_cross_entropy_objective\": {\"sum\": 0.5138691461778927, \"count\": 1, \"min\": 0.5138691461778927, \"max\": 0.5138691461778927}}}\u001b[0m\n",
            "\u001b[34m#metrics {\"StartTime\": 1650612874.2565591, \"EndTime\": 1650612874.2565768, \"Dimensions\": {\"Algorithm\": \"Linear Learner\", \"Host\": \"algo-1\", \"Operation\": \"training\", \"epoch\": 3, \"model\": 28}, \"Metrics\": {\"train_binary_classification_cross_entropy_objective\": {\"sum\": 0.5137878757208495, \"count\": 1, \"min\": 0.5137878757208495, \"max\": 0.5137878757208495}}}\u001b[0m\n",
            "\u001b[34m#metrics {\"StartTime\": 1650612874.2566304, \"EndTime\": 1650612874.2566473, \"Dimensions\": {\"Algorithm\": \"Linear Learner\", \"Host\": \"algo-1\", \"Operation\": \"training\", \"epoch\": 3, \"model\": 29}, \"Metrics\": {\"train_binary_classification_cross_entropy_objective\": {\"sum\": 0.5148805055530793, \"count\": 1, \"min\": 0.5148805055530793, \"max\": 0.5148805055530793}}}\u001b[0m\n",
            "\u001b[34m#metrics {\"StartTime\": 1650612874.2567024, \"EndTime\": 1650612874.2567186, \"Dimensions\": {\"Algorithm\": \"Linear Learner\", \"Host\": \"algo-1\", \"Operation\": \"training\", \"epoch\": 3, \"model\": 30}, \"Metrics\": {\"train_binary_classification_cross_entropy_objective\": {\"sum\": 0.5137881213313578, \"count\": 1, \"min\": 0.5137881213313578, \"max\": 0.5137881213313578}}}\u001b[0m\n",
            "\u001b[34m#metrics {\"StartTime\": 1650612874.256774, \"EndTime\": 1650612874.2567909, \"Dimensions\": {\"Algorithm\": \"Linear Learner\", \"Host\": \"algo-1\", \"Operation\": \"training\", \"epoch\": 3, \"model\": 31}, \"Metrics\": {\"train_binary_classification_cross_entropy_objective\": {\"sum\": 0.5148805093327794, \"count\": 1, \"min\": 0.5148805093327794, \"max\": 0.5148805093327794}}}\u001b[0m\n",
            "\u001b[34m[04/22/2022 07:34:34 INFO 139644120127296] #quality_metric: host=algo-1, epoch=3, train binary_classification_cross_entropy_objective <loss>=0.4919663686723155\u001b[0m\n",
            "\u001b[34m[2022-04-22 07:34:39.518] [tensorio] [info] epoch_stats={\"data_pipeline\": \"/opt/ml/input/data/validation\", \"epoch\": 11, \"duration\": 5229, \"num_examples\": 164, \"num_bytes\": 68694780}\u001b[0m\n",
            "\u001b[34m#metrics {\"StartTime\": 1650612879.527839, \"EndTime\": 1650612879.527946, \"Dimensions\": {\"Algorithm\": \"Linear Learner\", \"Host\": \"algo-1\", \"Operation\": \"training\", \"epoch\": 3, \"model\": 0}, \"Metrics\": {\"validation_binary_classification_cross_entropy_objective\": {\"sum\": 0.49161758764767705, \"count\": 1, \"min\": 0.49161758764767705, \"max\": 0.49161758764767705}}}\u001b[0m\n",
            "\u001b[34m#metrics {\"StartTime\": 1650612879.5280704, \"EndTime\": 1650612879.5280952, \"Dimensions\": {\"Algorithm\": \"Linear Learner\", \"Host\": \"algo-1\", \"Operation\": \"training\", \"epoch\": 3, \"model\": 1}, \"Metrics\": {\"validation_binary_classification_cross_entropy_objective\": {\"sum\": 0.4931364117930829, \"count\": 1, \"min\": 0.4931364117930829, \"max\": 0.4931364117930829}}}\u001b[0m\n",
            "\u001b[34m#metrics {\"StartTime\": 1650612879.5281625, \"EndTime\": 1650612879.5281816, \"Dimensions\": {\"Algorithm\": \"Linear Learner\", \"Host\": \"algo-1\", \"Operation\": \"training\", \"epoch\": 3, \"model\": 2}, \"Metrics\": {\"validation_binary_classification_cross_entropy_objective\": {\"sum\": 0.4916453086969596, \"count\": 1, \"min\": 0.4916453086969596, \"max\": 0.4916453086969596}}}\u001b[0m\n",
            "\u001b[34m#metrics {\"StartTime\": 1650612879.5282826, \"EndTime\": 1650612879.5283058, \"Dimensions\": {\"Algorithm\": \"Linear Learner\", \"Host\": \"algo-1\", \"Operation\": \"training\", \"epoch\": 3, \"model\": 3}, \"Metrics\": {\"validation_binary_classification_cross_entropy_objective\": {\"sum\": 0.49313584998708176, \"count\": 1, \"min\": 0.49313584998708176, \"max\": 0.49313584998708176}}}\u001b[0m\n",
            "\u001b[34m#metrics {\"StartTime\": 1650612879.5283678, \"EndTime\": 1650612879.5283852, \"Dimensions\": {\"Algorithm\": \"Linear Learner\", \"Host\": \"algo-1\", \"Operation\": \"training\", \"epoch\": 3, \"model\": 4}, \"Metrics\": {\"validation_binary_classification_cross_entropy_objective\": {\"sum\": 0.49181210089421096, \"count\": 1, \"min\": 0.49181210089421096, \"max\": 0.49181210089421096}}}\u001b[0m\n",
            "\u001b[34m#metrics {\"StartTime\": 1650612879.5284483, \"EndTime\": 1650612879.5284698, \"Dimensions\": {\"Algorithm\": \"Linear Learner\", \"Host\": \"algo-1\", \"Operation\": \"training\", \"epoch\": 3, \"model\": 5}, \"Metrics\": {\"validation_binary_classification_cross_entropy_objective\": {\"sum\": 0.5087323975264659, \"count\": 1, \"min\": 0.5087323975264659, \"max\": 0.5087323975264659}}}\u001b[0m\n",
            "\u001b[34m#metrics {\"StartTime\": 1650612879.5285254, \"EndTime\": 1650612879.5285425, \"Dimensions\": {\"Algorithm\": \"Linear Learner\", \"Host\": \"algo-1\", \"Operation\": \"training\", \"epoch\": 3, \"model\": 6}, \"Metrics\": {\"validation_binary_classification_cross_entropy_objective\": {\"sum\": 0.4918121038795633, \"count\": 1, \"min\": 0.4918121038795633, \"max\": 0.4918121038795633}}}\u001b[0m\n",
            "\u001b[34m#metrics {\"StartTime\": 1650612879.5286047, \"EndTime\": 1650612879.5286255, \"Dimensions\": {\"Algorithm\": \"Linear Learner\", \"Host\": \"algo-1\", \"Operation\": \"training\", \"epoch\": 3, \"model\": 7}, \"Metrics\": {\"validation_binary_classification_cross_entropy_objective\": {\"sum\": 0.508757270362993, \"count\": 1, \"min\": 0.508757270362993, \"max\": 0.508757270362993}}}\u001b[0m\n",
            "\u001b[34m#metrics {\"StartTime\": 1650612879.5286987, \"EndTime\": 1650612879.5287168, \"Dimensions\": {\"Algorithm\": \"Linear Learner\", \"Host\": \"algo-1\", \"Operation\": \"training\", \"epoch\": 3, \"model\": 8}, \"Metrics\": {\"validation_binary_classification_cross_entropy_objective\": {\"sum\": 0.4918339393066278, \"count\": 1, \"min\": 0.4918339393066278, \"max\": 0.4918339393066278}}}\u001b[0m\n",
            "\u001b[34m#metrics {\"StartTime\": 1650612879.528779, \"EndTime\": 1650612879.5287957, \"Dimensions\": {\"Algorithm\": \"Linear Learner\", \"Host\": \"algo-1\", \"Operation\": \"training\", \"epoch\": 3, \"model\": 9}, \"Metrics\": {\"validation_binary_classification_cross_entropy_objective\": {\"sum\": 0.4933624147231107, \"count\": 1, \"min\": 0.4933624147231107, \"max\": 0.4933624147231107}}}\u001b[0m\n",
            "\u001b[34m#metrics {\"StartTime\": 1650612879.5288544, \"EndTime\": 1650612879.5288715, \"Dimensions\": {\"Algorithm\": \"Linear Learner\", \"Host\": \"algo-1\", \"Operation\": \"training\", \"epoch\": 3, \"model\": 10}, \"Metrics\": {\"validation_binary_classification_cross_entropy_objective\": {\"sum\": 0.49186089834471525, \"count\": 1, \"min\": 0.49186089834471525, \"max\": 0.49186089834471525}}}\u001b[0m\n",
            "\u001b[34m#metrics {\"StartTime\": 1650612879.5289278, \"EndTime\": 1650612879.5289493, \"Dimensions\": {\"Algorithm\": \"Linear Learner\", \"Host\": \"algo-1\", \"Operation\": \"training\", \"epoch\": 3, \"model\": 11}, \"Metrics\": {\"validation_binary_classification_cross_entropy_objective\": {\"sum\": 0.49336241808163217, \"count\": 1, \"min\": 0.49336241808163217, \"max\": 0.49336241808163217}}}\u001b[0m\n",
            "\u001b[34m#metrics {\"StartTime\": 1650612879.5290236, \"EndTime\": 1650612879.5290406, \"Dimensions\": {\"Algorithm\": \"Linear Learner\", \"Host\": \"algo-1\", \"Operation\": \"training\", \"epoch\": 3, \"model\": 12}, \"Metrics\": {\"validation_binary_classification_cross_entropy_objective\": {\"sum\": 0.4920521556913092, \"count\": 1, \"min\": 0.4920521556913092, \"max\": 0.4920521556913092}}}\u001b[0m\n",
            "\u001b[34m#metrics {\"StartTime\": 1650612879.5290964, \"EndTime\": 1650612879.529114, \"Dimensions\": {\"Algorithm\": \"Linear Learner\", \"Host\": \"algo-1\", \"Operation\": \"training\", \"epoch\": 3, \"model\": 13}, \"Metrics\": {\"validation_binary_classification_cross_entropy_objective\": {\"sum\": 0.5084273322032541, \"count\": 1, \"min\": 0.5084273322032541, \"max\": 0.5084273322032541}}}\u001b[0m\n",
            "\u001b[34m#metrics {\"StartTime\": 1650612879.5291688, \"EndTime\": 1650612879.529185, \"Dimensions\": {\"Algorithm\": \"Linear Learner\", \"Host\": \"algo-1\", \"Operation\": \"training\", \"epoch\": 3, \"model\": 14}, \"Metrics\": {\"validation_binary_classification_cross_entropy_objective\": {\"sum\": 0.492052154198633, \"count\": 1, \"min\": 0.492052154198633, \"max\": 0.492052154198633}}}\u001b[0m\n",
            "\u001b[34m#metrics {\"StartTime\": 1650612879.5292354, \"EndTime\": 1650612879.5292509, \"Dimensions\": {\"Algorithm\": \"Linear Learner\", \"Host\": \"algo-1\", \"Operation\": \"training\", \"epoch\": 3, \"model\": 15}, \"Metrics\": {\"validation_binary_classification_cross_entropy_objective\": {\"sum\": 0.508427252718247, \"count\": 1, \"min\": 0.508427252718247, \"max\": 0.508427252718247}}}\u001b[0m\n",
            "\u001b[34m#metrics {\"StartTime\": 1650612879.5292885, \"EndTime\": 1650612879.5293038, \"Dimensions\": {\"Algorithm\": \"Linear Learner\", \"Host\": \"algo-1\", \"Operation\": \"training\", \"epoch\": 3, \"model\": 16}, \"Metrics\": {\"validation_binary_classification_cross_entropy_objective\": {\"sum\": 0.5077163748252852, \"count\": 1, \"min\": 0.5077163748252852, \"max\": 0.5077163748252852}}}\u001b[0m\n",
            "\u001b[34m#metrics {\"StartTime\": 1650612879.5293515, \"EndTime\": 1650612879.529368, \"Dimensions\": {\"Algorithm\": \"Linear Learner\", \"Host\": \"algo-1\", \"Operation\": \"training\", \"epoch\": 3, \"model\": 17}, \"Metrics\": {\"validation_binary_classification_cross_entropy_objective\": {\"sum\": 0.5083935734653665, \"count\": 1, \"min\": 0.5083935734653665, \"max\": 0.5083935734653665}}}\u001b[0m\n",
            "\u001b[34m#metrics {\"StartTime\": 1650612879.5294197, \"EndTime\": 1650612879.529437, \"Dimensions\": {\"Algorithm\": \"Linear Learner\", \"Host\": \"algo-1\", \"Operation\": \"training\", \"epoch\": 3, \"model\": 18}, \"Metrics\": {\"validation_binary_classification_cross_entropy_objective\": {\"sum\": 0.5077379536986295, \"count\": 1, \"min\": 0.5077379536986295, \"max\": 0.5077379536986295}}}\u001b[0m\n",
            "\u001b[34m#metrics {\"StartTime\": 1650612879.5294902, \"EndTime\": 1650612879.529508, \"Dimensions\": {\"Algorithm\": \"Linear Learner\", \"Host\": \"algo-1\", \"Operation\": \"training\", \"epoch\": 3, \"model\": 19}, \"Metrics\": {\"validation_binary_classification_cross_entropy_objective\": {\"sum\": 0.508393550142301, \"count\": 1, \"min\": 0.508393550142301, \"max\": 0.508393550142301}}}\u001b[0m\n",
            "\u001b[34m#metrics {\"StartTime\": 1650612879.5295615, \"EndTime\": 1650612879.5295799, \"Dimensions\": {\"Algorithm\": \"Linear Learner\", \"Host\": \"algo-1\", \"Operation\": \"training\", \"epoch\": 3, \"model\": 20}, \"Metrics\": {\"validation_binary_classification_cross_entropy_objective\": {\"sum\": 0.5079071819434233, \"count\": 1, \"min\": 0.5079071819434233, \"max\": 0.5079071819434233}}}\u001b[0m\n",
            "\u001b[34m#metrics {\"StartTime\": 1650612879.529634, \"EndTime\": 1650612879.5296507, \"Dimensions\": {\"Algorithm\": \"Linear Learner\", \"Host\": \"algo-1\", \"Operation\": \"training\", \"epoch\": 3, \"model\": 21}, \"Metrics\": {\"validation_binary_classification_cross_entropy_objective\": {\"sum\": 0.5118302697040183, \"count\": 1, \"min\": 0.5118302697040183, \"max\": 0.5118302697040183}}}\u001b[0m\n",
            "\u001b[34m#metrics {\"StartTime\": 1650612879.5297034, \"EndTime\": 1650612879.5297215, \"Dimensions\": {\"Algorithm\": \"Linear Learner\", \"Host\": \"algo-1\", \"Operation\": \"training\", \"epoch\": 3, \"model\": 22}, \"Metrics\": {\"validation_binary_classification_cross_entropy_objective\": {\"sum\": 0.507907187914128, \"count\": 1, \"min\": 0.507907187914128, \"max\": 0.507907187914128}}}\u001b[0m\n",
            "\u001b[34m#metrics {\"StartTime\": 1650612879.5297754, \"EndTime\": 1650612879.5297928, \"Dimensions\": {\"Algorithm\": \"Linear Learner\", \"Host\": \"algo-1\", \"Operation\": \"training\", \"epoch\": 3, \"model\": 23}, \"Metrics\": {\"validation_binary_classification_cross_entropy_objective\": {\"sum\": 0.511830283138104, \"count\": 1, \"min\": 0.511830283138104, \"max\": 0.511830283138104}}}\u001b[0m\n",
            "\u001b[34m#metrics {\"StartTime\": 1650612879.5298476, \"EndTime\": 1650612879.5298657, \"Dimensions\": {\"Algorithm\": \"Linear Learner\", \"Host\": \"algo-1\", \"Operation\": \"training\", \"epoch\": 3, \"model\": 24}, \"Metrics\": {\"validation_binary_classification_cross_entropy_objective\": {\"sum\": 0.5137643220339975, \"count\": 1, \"min\": 0.5137643220339975, \"max\": 0.5137643220339975}}}\u001b[0m\n",
            "\u001b[34m#metrics {\"StartTime\": 1650612879.5299318, \"EndTime\": 1650612879.5299487, \"Dimensions\": {\"Algorithm\": \"Linear Learner\", \"Host\": \"algo-1\", \"Operation\": \"training\", \"epoch\": 3, \"model\": 25}, \"Metrics\": {\"validation_binary_classification_cross_entropy_objective\": {\"sum\": 0.5144273357722429, \"count\": 1, \"min\": 0.5144273357722429, \"max\": 0.5144273357722429}}}\u001b[0m\n",
            "\u001b[34m#metrics {\"StartTime\": 1650612879.5300107, \"EndTime\": 1650612879.5300272, \"Dimensions\": {\"Algorithm\": \"Linear Learner\", \"Host\": \"algo-1\", \"Operation\": \"training\", \"epoch\": 3, \"model\": 26}, \"Metrics\": {\"validation_binary_classification_cross_entropy_objective\": {\"sum\": 0.513764270536669, \"count\": 1, \"min\": 0.513764270536669, \"max\": 0.513764270536669}}}\u001b[0m\n",
            "\u001b[34m#metrics {\"StartTime\": 1650612879.5300798, \"EndTime\": 1650612879.5300987, \"Dimensions\": {\"Algorithm\": \"Linear Learner\", \"Host\": \"algo-1\", \"Operation\": \"training\", \"epoch\": 3, \"model\": 27}, \"Metrics\": {\"validation_binary_classification_cross_entropy_objective\": {\"sum\": 0.5144287448585664, \"count\": 1, \"min\": 0.5144287448585664, \"max\": 0.5144287448585664}}}\u001b[0m\n",
            "\u001b[34m#metrics {\"StartTime\": 1650612879.5301566, \"EndTime\": 1650612879.5301754, \"Dimensions\": {\"Algorithm\": \"Linear Learner\", \"Host\": \"algo-1\", \"Operation\": \"training\", \"epoch\": 3, \"model\": 28}, \"Metrics\": {\"validation_binary_classification_cross_entropy_objective\": {\"sum\": 0.5137649648176819, \"count\": 1, \"min\": 0.5137649648176819, \"max\": 0.5137649648176819}}}\u001b[0m\n",
            "\u001b[34m#metrics {\"StartTime\": 1650612879.5302324, \"EndTime\": 1650612879.530249, \"Dimensions\": {\"Algorithm\": \"Linear Learner\", \"Host\": \"algo-1\", \"Operation\": \"training\", \"epoch\": 3, \"model\": 29}, \"Metrics\": {\"validation_binary_classification_cross_entropy_objective\": {\"sum\": 0.5137097193792048, \"count\": 1, \"min\": 0.5137097193792048, \"max\": 0.5137097193792048}}}\u001b[0m\n",
            "\u001b[34m#metrics {\"StartTime\": 1650612879.5303087, \"EndTime\": 1650612879.5303266, \"Dimensions\": {\"Algorithm\": \"Linear Learner\", \"Host\": \"algo-1\", \"Operation\": \"training\", \"epoch\": 3, \"model\": 30}, \"Metrics\": {\"validation_binary_classification_cross_entropy_objective\": {\"sum\": 0.5137666354955078, \"count\": 1, \"min\": 0.5137666354955078, \"max\": 0.5137666354955078}}}\u001b[0m\n",
            "\u001b[34m#metrics {\"StartTime\": 1650612879.5303843, \"EndTime\": 1650612879.530402, \"Dimensions\": {\"Algorithm\": \"Linear Learner\", \"Host\": \"algo-1\", \"Operation\": \"training\", \"epoch\": 3, \"model\": 31}, \"Metrics\": {\"validation_binary_classification_cross_entropy_objective\": {\"sum\": 0.5137097229243107, \"count\": 1, \"min\": 0.5137097229243107, \"max\": 0.5137097229243107}}}\u001b[0m\n",
            "\u001b[34m[04/22/2022 07:34:39 INFO 139644120127296] #quality_metric: host=algo-1, epoch=3, validation binary_classification_cross_entropy_objective <loss>=0.49161758764767705\u001b[0m\n",
            "\u001b[34m[04/22/2022 07:34:39 INFO 139644120127296] #early_stopping_criteria_metric: host=algo-1, epoch=3, criteria=binary_classification_cross_entropy_objective, value=0.49161758764767705\u001b[0m\n",
            "\u001b[34m[04/22/2022 07:34:39 INFO 139644120127296] Saving model for epoch: 3\u001b[0m\n",
            "\u001b[34m[04/22/2022 07:34:39 INFO 139644120127296] Saved checkpoint to \"/tmp/tmpwup2vo79/mx-mod-0000.params\"\u001b[0m\n",
            "\u001b[34m[04/22/2022 07:34:39 INFO 139644120127296] #progress_metric: host=algo-1, completed 26.666666666666668 % of epochs\u001b[0m\n",
            "\u001b[34m#metrics {\"StartTime\": 1650612815.885288, \"EndTime\": 1650612879.536753, \"Dimensions\": {\"Algorithm\": \"Linear Learner\", \"Host\": \"algo-1\", \"Operation\": \"training\", \"epoch\": 3, \"Meta\": \"training_data_iter\"}, \"Metrics\": {\"Total Records Seen\": {\"sum\": 5245888.0, \"count\": 1, \"min\": 5245888, \"max\": 5245888}, \"Total Batches Seen\": {\"sum\": 5248.0, \"count\": 1, \"min\": 5248, \"max\": 5248}, \"Max Records Seen Between Resets\": {\"sum\": 1308472.0, \"count\": 1, \"min\": 1308472, \"max\": 1308472}, \"Max Batches Seen Between Resets\": {\"sum\": 1309.0, \"count\": 1, \"min\": 1309, \"max\": 1309}, \"Reset Count\": {\"sum\": 6.0, \"count\": 1, \"min\": 6, \"max\": 6}, \"Number of Records Since Last Reset\": {\"sum\": 1308472.0, \"count\": 1, \"min\": 1308472, \"max\": 1308472}, \"Number of Batches Since Last Reset\": {\"sum\": 1309.0, \"count\": 1, \"min\": 1309, \"max\": 1309}}}\u001b[0m\n",
            "\u001b[34m[04/22/2022 07:34:39 INFO 139644120127296] #throughput_metric: host=algo-1, train throughput=20556.778241924174 records/second\u001b[0m\n",
            "\u001b[34m[2022-04-22 07:35:38.235] [tensorio] [info] epoch_stats={\"data_pipeline\": \"/opt/ml/input/data/train\", \"epoch\": 11, \"duration\": 58669, \"num_examples\": 1309, \"num_bytes\": 549558240}\u001b[0m\n",
            "\u001b[34m#metrics {\"StartTime\": 1650612938.2355623, \"EndTime\": 1650612938.2356646, \"Dimensions\": {\"Algorithm\": \"Linear Learner\", \"Host\": \"algo-1\", \"Operation\": \"training\", \"epoch\": 4, \"model\": 0}, \"Metrics\": {\"train_binary_classification_cross_entropy_objective\": {\"sum\": 0.49193931311277805, \"count\": 1, \"min\": 0.49193931311277805, \"max\": 0.49193931311277805}}}\u001b[0m\n",
            "\u001b[34m#metrics {\"StartTime\": 1650612938.2357605, \"EndTime\": 1650612938.2357845, \"Dimensions\": {\"Algorithm\": \"Linear Learner\", \"Host\": \"algo-1\", \"Operation\": \"training\", \"epoch\": 4, \"model\": 1}, \"Metrics\": {\"train_binary_classification_cross_entropy_objective\": {\"sum\": 0.4928427723175889, \"count\": 1, \"min\": 0.4928427723175889, \"max\": 0.4928427723175889}}}\u001b[0m\n",
            "\u001b[34m#metrics {\"StartTime\": 1650612938.2358482, \"EndTime\": 1650612938.2358658, \"Dimensions\": {\"Algorithm\": \"Linear Learner\", \"Host\": \"algo-1\", \"Operation\": \"training\", \"epoch\": 4, \"model\": 2}, \"Metrics\": {\"train_binary_classification_cross_entropy_objective\": {\"sum\": 0.4919865111604743, \"count\": 1, \"min\": 0.4919865111604743, \"max\": 0.4919865111604743}}}\u001b[0m\n",
            "\u001b[34m#metrics {\"StartTime\": 1650612938.235926, \"EndTime\": 1650612938.2359452, \"Dimensions\": {\"Algorithm\": \"Linear Learner\", \"Host\": \"algo-1\", \"Operation\": \"training\", \"epoch\": 4, \"model\": 3}, \"Metrics\": {\"train_binary_classification_cross_entropy_objective\": {\"sum\": 0.4928425096051044, \"count\": 1, \"min\": 0.4928425096051044, \"max\": 0.4928425096051044}}}\u001b[0m\n",
            "\u001b[34m#metrics {\"StartTime\": 1650612938.236012, \"EndTime\": 1650612938.2360337, \"Dimensions\": {\"Algorithm\": \"Linear Learner\", \"Host\": \"algo-1\", \"Operation\": \"training\", \"epoch\": 4, \"model\": 4}, \"Metrics\": {\"train_binary_classification_cross_entropy_objective\": {\"sum\": 0.4920506535801319, \"count\": 1, \"min\": 0.4920506535801319, \"max\": 0.4920506535801319}}}\u001b[0m\n",
            "\u001b[34m#metrics {\"StartTime\": 1650612938.2360878, \"EndTime\": 1650612938.2361047, \"Dimensions\": {\"Algorithm\": \"Linear Learner\", \"Host\": \"algo-1\", \"Operation\": \"training\", \"epoch\": 4, \"model\": 5}, \"Metrics\": {\"train_binary_classification_cross_entropy_objective\": {\"sum\": 0.507108661756603, \"count\": 1, \"min\": 0.507108661756603, \"max\": 0.507108661756603}}}\u001b[0m\n",
            "\u001b[34m#metrics {\"StartTime\": 1650612938.236161, \"EndTime\": 1650612938.2361789, \"Dimensions\": {\"Algorithm\": \"Linear Learner\", \"Host\": \"algo-1\", \"Operation\": \"training\", \"epoch\": 4, \"model\": 6}, \"Metrics\": {\"train_binary_classification_cross_entropy_objective\": {\"sum\": 0.4920506526702041, \"count\": 1, \"min\": 0.4920506526702041, \"max\": 0.4920506526702041}}}\u001b[0m\n",
            "\u001b[34m#metrics {\"StartTime\": 1650612938.2362328, \"EndTime\": 1650612938.2362509, \"Dimensions\": {\"Algorithm\": \"Linear Learner\", \"Host\": \"algo-1\", \"Operation\": \"training\", \"epoch\": 4, \"model\": 7}, \"Metrics\": {\"train_binary_classification_cross_entropy_objective\": {\"sum\": 0.5071143524683215, \"count\": 1, \"min\": 0.5071143524683215, \"max\": 0.5071143524683215}}}\u001b[0m\n",
            "\u001b[34m#metrics {\"StartTime\": 1650612938.2363064, \"EndTime\": 1650612938.2363248, \"Dimensions\": {\"Algorithm\": \"Linear Learner\", \"Host\": \"algo-1\", \"Operation\": \"training\", \"epoch\": 4, \"model\": 8}, \"Metrics\": {\"train_binary_classification_cross_entropy_objective\": {\"sum\": 0.4921410396704251, \"count\": 1, \"min\": 0.4921410396704251, \"max\": 0.4921410396704251}}}\u001b[0m\n",
            "\u001b[34m#metrics {\"StartTime\": 1650612938.2363799, \"EndTime\": 1650612938.2363963, \"Dimensions\": {\"Algorithm\": \"Linear Learner\", \"Host\": \"algo-1\", \"Operation\": \"training\", \"epoch\": 4, \"model\": 9}, \"Metrics\": {\"train_binary_classification_cross_entropy_objective\": {\"sum\": 0.49301331350344035, \"count\": 1, \"min\": 0.49301331350344035, \"max\": 0.49301331350344035}}}\u001b[0m\n",
            "\u001b[34m#metrics {\"StartTime\": 1650612938.2364526, \"EndTime\": 1650612938.2364707, \"Dimensions\": {\"Algorithm\": \"Linear Learner\", \"Host\": \"algo-1\", \"Operation\": \"training\", \"epoch\": 4, \"model\": 10}, \"Metrics\": {\"train_binary_classification_cross_entropy_objective\": {\"sum\": 0.4921837441680628, \"count\": 1, \"min\": 0.4921837441680628, \"max\": 0.4921837441680628}}}\u001b[0m\n",
            "\u001b[34m#metrics {\"StartTime\": 1650612938.2365263, \"EndTime\": 1650612938.2365444, \"Dimensions\": {\"Algorithm\": \"Linear Learner\", \"Host\": \"algo-1\", \"Operation\": \"training\", \"epoch\": 4, \"model\": 11}, \"Metrics\": {\"train_binary_classification_cross_entropy_objective\": {\"sum\": 0.49301331261684406, \"count\": 1, \"min\": 0.49301331261684406, \"max\": 0.49301331261684406}}}\u001b[0m\n",
            "\u001b[34m#metrics {\"StartTime\": 1650612938.2366004, \"EndTime\": 1650612938.2366178, \"Dimensions\": {\"Algorithm\": \"Linear Learner\", \"Host\": \"algo-1\", \"Operation\": \"training\", \"epoch\": 4, \"model\": 12}, \"Metrics\": {\"train_binary_classification_cross_entropy_objective\": {\"sum\": 0.4922616222509915, \"count\": 1, \"min\": 0.4922616222509915, \"max\": 0.4922616222509915}}}\u001b[0m\n",
            "\u001b[34m#metrics {\"StartTime\": 1650612938.2366743, \"EndTime\": 1650612938.2366917, \"Dimensions\": {\"Algorithm\": \"Linear Learner\", \"Host\": \"algo-1\", \"Operation\": \"training\", \"epoch\": 4, \"model\": 13}, \"Metrics\": {\"train_binary_classification_cross_entropy_objective\": {\"sum\": 0.506268866676074, \"count\": 1, \"min\": 0.506268866676074, \"max\": 0.506268866676074}}}\u001b[0m\n",
            "\u001b[34m#metrics {\"StartTime\": 1650612938.2367482, \"EndTime\": 1650612938.2367654, \"Dimensions\": {\"Algorithm\": \"Linear Learner\", \"Host\": \"algo-1\", \"Operation\": \"training\", \"epoch\": 4, \"model\": 14}, \"Metrics\": {\"train_binary_classification_cross_entropy_objective\": {\"sum\": 0.4922616224376434, \"count\": 1, \"min\": 0.4922616224376434, \"max\": 0.4922616224376434}}}\u001b[0m\n",
            "\u001b[34m#metrics {\"StartTime\": 1650612938.23682, \"EndTime\": 1650612938.2368352, \"Dimensions\": {\"Algorithm\": \"Linear Learner\", \"Host\": \"algo-1\", \"Operation\": \"training\", \"epoch\": 4, \"model\": 15}, \"Metrics\": {\"train_binary_classification_cross_entropy_objective\": {\"sum\": 0.506268866676074, \"count\": 1, \"min\": 0.506268866676074, \"max\": 0.506268866676074}}}\u001b[0m\n",
            "\u001b[34m#metrics {\"StartTime\": 1650612938.2368867, \"EndTime\": 1650612938.236904, \"Dimensions\": {\"Algorithm\": \"Linear Learner\", \"Host\": \"algo-1\", \"Operation\": \"training\", \"epoch\": 4, \"model\": 16}, \"Metrics\": {\"train_binary_classification_cross_entropy_objective\": {\"sum\": 0.5077445504891398, \"count\": 1, \"min\": 0.5077445504891398, \"max\": 0.5077445504891398}}}\u001b[0m\n",
            "\u001b[34m#metrics {\"StartTime\": 1650612938.2369552, \"EndTime\": 1650612938.2369716, \"Dimensions\": {\"Algorithm\": \"Linear Learner\", \"Host\": \"algo-1\", \"Operation\": \"training\", \"epoch\": 4, \"model\": 17}, \"Metrics\": {\"train_binary_classification_cross_entropy_objective\": {\"sum\": 0.5079375591219748, \"count\": 1, \"min\": 0.5079375591219748, \"max\": 0.5079375591219748}}}\u001b[0m\n",
            "\u001b[34m#metrics {\"StartTime\": 1650612938.2370334, \"EndTime\": 1650612938.2370508, \"Dimensions\": {\"Algorithm\": \"Linear Learner\", \"Host\": \"algo-1\", \"Operation\": \"training\", \"epoch\": 4, \"model\": 18}, \"Metrics\": {\"train_binary_classification_cross_entropy_objective\": {\"sum\": 0.5077559262430267, \"count\": 1, \"min\": 0.5077559262430267, \"max\": 0.5077559262430267}}}\u001b[0m\n",
            "\u001b[34m#metrics {\"StartTime\": 1650612938.2371068, \"EndTime\": 1650612938.2371235, \"Dimensions\": {\"Algorithm\": \"Linear Learner\", \"Host\": \"algo-1\", \"Operation\": \"training\", \"epoch\": 4, \"model\": 19}, \"Metrics\": {\"train_binary_classification_cross_entropy_objective\": {\"sum\": 0.5079375608018414, \"count\": 1, \"min\": 0.5079375608018414, \"max\": 0.5079375608018414}}}\u001b[0m\n",
            "\u001b[34m#metrics {\"StartTime\": 1650612938.2371805, \"EndTime\": 1650612938.2371976, \"Dimensions\": {\"Algorithm\": \"Linear Learner\", \"Host\": \"algo-1\", \"Operation\": \"training\", \"epoch\": 4, \"model\": 20}, \"Metrics\": {\"train_binary_classification_cross_entropy_objective\": {\"sum\": 0.5077702476198156, \"count\": 1, \"min\": 0.5077702476198156, \"max\": 0.5077702476198156}}}\u001b[0m\n",
            "\u001b[34m#metrics {\"StartTime\": 1650612938.2372522, \"EndTime\": 1650612938.23727, \"Dimensions\": {\"Algorithm\": \"Linear Learner\", \"Host\": \"algo-1\", \"Operation\": \"training\", \"epoch\": 4, \"model\": 21}, \"Metrics\": {\"train_binary_classification_cross_entropy_objective\": {\"sum\": 0.5103689235255623, \"count\": 1, \"min\": 0.5103689235255623, \"max\": 0.5103689235255623}}}\u001b[0m\n",
            "\u001b[34m#metrics {\"StartTime\": 1650612938.237326, \"EndTime\": 1650612938.2373433, \"Dimensions\": {\"Algorithm\": \"Linear Learner\", \"Host\": \"algo-1\", \"Operation\": \"training\", \"epoch\": 4, \"model\": 22}, \"Metrics\": {\"train_binary_classification_cross_entropy_objective\": {\"sum\": 0.5077702486697322, \"count\": 1, \"min\": 0.5077702486697322, \"max\": 0.5077702486697322}}}\u001b[0m\n",
            "\u001b[34m#metrics {\"StartTime\": 1650612938.2373974, \"EndTime\": 1650612938.237414, \"Dimensions\": {\"Algorithm\": \"Linear Learner\", \"Host\": \"algo-1\", \"Operation\": \"training\", \"epoch\": 4, \"model\": 23}, \"Metrics\": {\"train_binary_classification_cross_entropy_objective\": {\"sum\": 0.510368919442553, \"count\": 1, \"min\": 0.510368919442553, \"max\": 0.510368919442553}}}\u001b[0m\n",
            "\u001b[34m#metrics {\"StartTime\": 1650612938.2374694, \"EndTime\": 1650612938.2374856, \"Dimensions\": {\"Algorithm\": \"Linear Learner\", \"Host\": \"algo-1\", \"Operation\": \"training\", \"epoch\": 4, \"model\": 24}, \"Metrics\": {\"train_binary_classification_cross_entropy_objective\": {\"sum\": 0.5137660565390864, \"count\": 1, \"min\": 0.5137660565390864, \"max\": 0.5137660565390864}}}\u001b[0m\n",
            "\u001b[34m#metrics {\"StartTime\": 1650612938.237539, \"EndTime\": 1650612938.237556, \"Dimensions\": {\"Algorithm\": \"Linear Learner\", \"Host\": \"algo-1\", \"Operation\": \"training\", \"epoch\": 4, \"model\": 25}, \"Metrics\": {\"train_binary_classification_cross_entropy_objective\": {\"sum\": 0.5138562073313862, \"count\": 1, \"min\": 0.5138562073313862, \"max\": 0.5138562073313862}}}\u001b[0m\n",
            "\u001b[34m#metrics {\"StartTime\": 1650612938.2376096, \"EndTime\": 1650612938.2376258, \"Dimensions\": {\"Algorithm\": \"Linear Learner\", \"Host\": \"algo-1\", \"Operation\": \"training\", \"epoch\": 4, \"model\": 26}, \"Metrics\": {\"train_binary_classification_cross_entropy_objective\": {\"sum\": 0.5137693962073836, \"count\": 1, \"min\": 0.5137693962073836, \"max\": 0.5137693962073836}}}\u001b[0m\n",
            "\u001b[34m#metrics {\"StartTime\": 1650612938.2376888, \"EndTime\": 1650612938.2377055, \"Dimensions\": {\"Algorithm\": \"Linear Learner\", \"Host\": \"algo-1\", \"Operation\": \"training\", \"epoch\": 4, \"model\": 27}, \"Metrics\": {\"train_binary_classification_cross_entropy_objective\": {\"sum\": 0.5138559832791669, \"count\": 1, \"min\": 0.5138559832791669, \"max\": 0.5138559832791669}}}\u001b[0m\n",
            "\u001b[34m#metrics {\"StartTime\": 1650612938.2377603, \"EndTime\": 1650612938.237779, \"Dimensions\": {\"Algorithm\": \"Linear Learner\", \"Host\": \"algo-1\", \"Operation\": \"training\", \"epoch\": 4, \"model\": 28}, \"Metrics\": {\"train_binary_classification_cross_entropy_objective\": {\"sum\": 0.5137749934065232, \"count\": 1, \"min\": 0.5137749934065232, \"max\": 0.5137749934065232}}}\u001b[0m\n",
            "\u001b[34m#metrics {\"StartTime\": 1650612938.237834, \"EndTime\": 1650612938.2378523, \"Dimensions\": {\"Algorithm\": \"Linear Learner\", \"Host\": \"algo-1\", \"Operation\": \"training\", \"epoch\": 4, \"model\": 29}, \"Metrics\": {\"train_binary_classification_cross_entropy_objective\": {\"sum\": 0.5147319275275647, \"count\": 1, \"min\": 0.5147319275275647, \"max\": 0.5147319275275647}}}\u001b[0m\n",
            "\u001b[34m#metrics {\"StartTime\": 1650612938.2379205, \"EndTime\": 1650612938.2379391, \"Dimensions\": {\"Algorithm\": \"Linear Learner\", \"Host\": \"algo-1\", \"Operation\": \"training\", \"epoch\": 4, \"model\": 30}, \"Metrics\": {\"train_binary_classification_cross_entropy_objective\": {\"sum\": 0.5137749454369968, \"count\": 1, \"min\": 0.5137749454369968, \"max\": 0.5137749454369968}}}\u001b[0m\n",
            "\u001b[34m#metrics {\"StartTime\": 1650612938.2380042, \"EndTime\": 1650612938.238022, \"Dimensions\": {\"Algorithm\": \"Linear Learner\", \"Host\": \"algo-1\", \"Operation\": \"training\", \"epoch\": 4, \"model\": 31}, \"Metrics\": {\"train_binary_classification_cross_entropy_objective\": {\"sum\": 0.5147319288341278, \"count\": 1, \"min\": 0.5147319288341278, \"max\": 0.5147319288341278}}}\u001b[0m\n",
            "\u001b[34m[04/22/2022 07:35:38 INFO 139644120127296] #quality_metric: host=algo-1, epoch=4, train binary_classification_cross_entropy_objective <loss>=0.49193931311277805\u001b[0m\n",
            "\u001b[34m[2022-04-22 07:35:43.380] [tensorio] [info] epoch_stats={\"data_pipeline\": \"/opt/ml/input/data/validation\", \"epoch\": 14, \"duration\": 5118, \"num_examples\": 164, \"num_bytes\": 68694780}\u001b[0m\n",
            "\u001b[34m#metrics {\"StartTime\": 1650612943.389793, \"EndTime\": 1650612943.3898692, \"Dimensions\": {\"Algorithm\": \"Linear Learner\", \"Host\": \"algo-1\", \"Operation\": \"training\", \"epoch\": 4, \"model\": 0}, \"Metrics\": {\"validation_binary_classification_cross_entropy_objective\": {\"sum\": 0.49161265286019207, \"count\": 1, \"min\": 0.49161265286019207, \"max\": 0.49161265286019207}}}\u001b[0m\n",
            "\u001b[34m#metrics {\"StartTime\": 1650612943.389952, \"EndTime\": 1650612943.3899674, \"Dimensions\": {\"Algorithm\": \"Linear Learner\", \"Host\": \"algo-1\", \"Operation\": \"training\", \"epoch\": 4, \"model\": 1}, \"Metrics\": {\"validation_binary_classification_cross_entropy_objective\": {\"sum\": 0.492917877841542, \"count\": 1, \"min\": 0.492917877841542, \"max\": 0.492917877841542}}}\u001b[0m\n",
            "\u001b[34m#metrics {\"StartTime\": 1650612943.390027, \"EndTime\": 1650612943.3900454, \"Dimensions\": {\"Algorithm\": \"Linear Learner\", \"Host\": \"algo-1\", \"Operation\": \"training\", \"epoch\": 4, \"model\": 2}, \"Metrics\": {\"validation_binary_classification_cross_entropy_objective\": {\"sum\": 0.49164442951068354, \"count\": 1, \"min\": 0.49164442951068354, \"max\": 0.49164442951068354}}}\u001b[0m\n",
            "\u001b[34m#metrics {\"StartTime\": 1650612943.3900876, \"EndTime\": 1650612943.3901033, \"Dimensions\": {\"Algorithm\": \"Linear Learner\", \"Host\": \"algo-1\", \"Operation\": \"training\", \"epoch\": 4, \"model\": 3}, \"Metrics\": {\"validation_binary_classification_cross_entropy_objective\": {\"sum\": 0.4929175384442932, \"count\": 1, \"min\": 0.4929175384442932, \"max\": 0.4929175384442932}}}\u001b[0m\n",
            "\u001b[34m#metrics {\"StartTime\": 1650612943.390153, \"EndTime\": 1650612943.3901699, \"Dimensions\": {\"Algorithm\": \"Linear Learner\", \"Host\": \"algo-1\", \"Operation\": \"training\", \"epoch\": 4, \"model\": 4}, \"Metrics\": {\"validation_binary_classification_cross_entropy_objective\": {\"sum\": 0.4916356949293718, \"count\": 1, \"min\": 0.4916356949293718, \"max\": 0.4916356949293718}}}\u001b[0m\n",
            "\u001b[34m#metrics {\"StartTime\": 1650612943.3902194, \"EndTime\": 1650612943.3902361, \"Dimensions\": {\"Algorithm\": \"Linear Learner\", \"Host\": \"algo-1\", \"Operation\": \"training\", \"epoch\": 4, \"model\": 5}, \"Metrics\": {\"validation_binary_classification_cross_entropy_objective\": {\"sum\": 0.5072192065544175, \"count\": 1, \"min\": 0.5072192065544175, \"max\": 0.5072192065544175}}}\u001b[0m\n",
            "\u001b[34m#metrics {\"StartTime\": 1650612943.3902867, \"EndTime\": 1650612943.3903043, \"Dimensions\": {\"Algorithm\": \"Linear Learner\", \"Host\": \"algo-1\", \"Operation\": \"training\", \"epoch\": 4, \"model\": 6}, \"Metrics\": {\"validation_binary_classification_cross_entropy_objective\": {\"sum\": 0.49163569306352656, \"count\": 1, \"min\": 0.49163569306352656, \"max\": 0.49163569306352656}}}\u001b[0m\n",
            "\u001b[34m#metrics {\"StartTime\": 1650612943.390358, \"EndTime\": 1650612943.3903747, \"Dimensions\": {\"Algorithm\": \"Linear Learner\", \"Host\": \"algo-1\", \"Operation\": \"training\", \"epoch\": 4, \"model\": 7}, \"Metrics\": {\"validation_binary_classification_cross_entropy_objective\": {\"sum\": 0.507220629821165, \"count\": 1, \"min\": 0.507220629821165, \"max\": 0.507220629821165}}}\u001b[0m\n",
            "\u001b[34m#metrics {\"StartTime\": 1650612943.390429, \"EndTime\": 1650612943.390445, \"Dimensions\": {\"Algorithm\": \"Linear Learner\", \"Host\": \"algo-1\", \"Operation\": \"training\", \"epoch\": 4, \"model\": 8}, \"Metrics\": {\"validation_binary_classification_cross_entropy_objective\": {\"sum\": 0.491828103315893, \"count\": 1, \"min\": 0.491828103315893, \"max\": 0.491828103315893}}}\u001b[0m\n",
            "\u001b[34m#metrics {\"StartTime\": 1650612943.3904986, \"EndTime\": 1650612943.390515, \"Dimensions\": {\"Algorithm\": \"Linear Learner\", \"Host\": \"algo-1\", \"Operation\": \"training\", \"epoch\": 4, \"model\": 9}, \"Metrics\": {\"validation_binary_classification_cross_entropy_objective\": {\"sum\": 0.4931384541472802, \"count\": 1, \"min\": 0.4931384541472802, \"max\": 0.4931384541472802}}}\u001b[0m\n",
            "\u001b[34m#metrics {\"StartTime\": 1650612943.3905663, \"EndTime\": 1650612943.3905835, \"Dimensions\": {\"Algorithm\": \"Linear Learner\", \"Host\": \"algo-1\", \"Operation\": \"training\", \"epoch\": 4, \"model\": 10}, \"Metrics\": {\"validation_binary_classification_cross_entropy_objective\": {\"sum\": 0.4918607324710736, \"count\": 1, \"min\": 0.4918607324710736, \"max\": 0.4918607324710736}}}\u001b[0m\n",
            "\u001b[34m#metrics {\"StartTime\": 1650612943.3906357, \"EndTime\": 1650612943.390653, \"Dimensions\": {\"Algorithm\": \"Linear Learner\", \"Host\": \"algo-1\", \"Operation\": \"training\", \"epoch\": 4, \"model\": 11}, \"Metrics\": {\"validation_binary_classification_cross_entropy_objective\": {\"sum\": 0.49313845396069567, \"count\": 1, \"min\": 0.49313845396069567, \"max\": 0.49313845396069567}}}\u001b[0m\n",
            "\u001b[34m#metrics {\"StartTime\": 1650612943.390705, \"EndTime\": 1650612943.3907225, \"Dimensions\": {\"Algorithm\": \"Linear Learner\", \"Host\": \"algo-1\", \"Operation\": \"training\", \"epoch\": 4, \"model\": 12}, \"Metrics\": {\"validation_binary_classification_cross_entropy_objective\": {\"sum\": 0.4918842747733616, \"count\": 1, \"min\": 0.4918842747733616, \"max\": 0.4918842747733616}}}\u001b[0m\n",
            "\u001b[34m#metrics {\"StartTime\": 1650612943.3907747, \"EndTime\": 1650612943.3907897, \"Dimensions\": {\"Algorithm\": \"Linear Learner\", \"Host\": \"algo-1\", \"Operation\": \"training\", \"epoch\": 4, \"model\": 13}, \"Metrics\": {\"validation_binary_classification_cross_entropy_objective\": {\"sum\": 0.5070939971438895, \"count\": 1, \"min\": 0.5070939971438895, \"max\": 0.5070939971438895}}}\u001b[0m\n",
            "\u001b[34m#metrics {\"StartTime\": 1650612943.3908384, \"EndTime\": 1650612943.3908532, \"Dimensions\": {\"Algorithm\": \"Linear Learner\", \"Host\": \"algo-1\", \"Operation\": \"training\", \"epoch\": 4, \"model\": 14}, \"Metrics\": {\"validation_binary_classification_cross_entropy_objective\": {\"sum\": 0.4918842684294878, \"count\": 1, \"min\": 0.4918842684294878, \"max\": 0.4918842684294878}}}\u001b[0m\n",
            "\u001b[34m#metrics {\"StartTime\": 1650612943.3908987, \"EndTime\": 1650612943.3909307, \"Dimensions\": {\"Algorithm\": \"Linear Learner\", \"Host\": \"algo-1\", \"Operation\": \"training\", \"epoch\": 4, \"model\": 15}, \"Metrics\": {\"validation_binary_classification_cross_entropy_objective\": {\"sum\": 0.5070939760598383, \"count\": 1, \"min\": 0.5070939760598383, \"max\": 0.5070939760598383}}}\u001b[0m\n",
            "\u001b[34m#metrics {\"StartTime\": 1650612943.3909895, \"EndTime\": 1650612943.391008, \"Dimensions\": {\"Algorithm\": \"Linear Learner\", \"Host\": \"algo-1\", \"Operation\": \"training\", \"epoch\": 4, \"model\": 16}, \"Metrics\": {\"validation_binary_classification_cross_entropy_objective\": {\"sum\": 0.5076881774257135, \"count\": 1, \"min\": 0.5076881774257135, \"max\": 0.5076881774257135}}}\u001b[0m\n",
            "\u001b[34m#metrics {\"StartTime\": 1650612943.3910615, \"EndTime\": 1650612943.3910794, \"Dimensions\": {\"Algorithm\": \"Linear Learner\", \"Host\": \"algo-1\", \"Operation\": \"training\", \"epoch\": 4, \"model\": 17}, \"Metrics\": {\"validation_binary_classification_cross_entropy_objective\": {\"sum\": 0.5082940763351379, \"count\": 1, \"min\": 0.5082940763351379, \"max\": 0.5082940763351379}}}\u001b[0m\n",
            "\u001b[34m#metrics {\"StartTime\": 1650612943.3911314, \"EndTime\": 1650612943.3911483, \"Dimensions\": {\"Algorithm\": \"Linear Learner\", \"Host\": \"algo-1\", \"Operation\": \"training\", \"epoch\": 4, \"model\": 18}, \"Metrics\": {\"validation_binary_classification_cross_entropy_objective\": {\"sum\": 0.5077380421396938, \"count\": 1, \"min\": 0.5077380421396938, \"max\": 0.5077380421396938}}}\u001b[0m\n",
            "\u001b[34m#metrics {\"StartTime\": 1650612943.391203, \"EndTime\": 1650612943.3912196, \"Dimensions\": {\"Algorithm\": \"Linear Learner\", \"Host\": \"algo-1\", \"Operation\": \"training\", \"epoch\": 4, \"model\": 19}, \"Metrics\": {\"validation_binary_classification_cross_entropy_objective\": {\"sum\": 0.5082940712973558, \"count\": 1, \"min\": 0.5082940712973558, \"max\": 0.5082940712973558}}}\u001b[0m\n",
            "\u001b[34m#metrics {\"StartTime\": 1650612943.391274, \"EndTime\": 1650612943.39129, \"Dimensions\": {\"Algorithm\": \"Linear Learner\", \"Host\": \"algo-1\", \"Operation\": \"training\", \"epoch\": 4, \"model\": 20}, \"Metrics\": {\"validation_binary_classification_cross_entropy_objective\": {\"sum\": 0.5077556868783542, \"count\": 1, \"min\": 0.5077556868783542, \"max\": 0.5077556868783542}}}\u001b[0m\n",
            "\u001b[34m#metrics {\"StartTime\": 1650612943.39134, \"EndTime\": 1650612943.3913577, \"Dimensions\": {\"Algorithm\": \"Linear Learner\", \"Host\": \"algo-1\", \"Operation\": \"training\", \"epoch\": 4, \"model\": 21}, \"Metrics\": {\"validation_binary_classification_cross_entropy_objective\": {\"sum\": 0.5110001527321205, \"count\": 1, \"min\": 0.5110001527321205, \"max\": 0.5110001527321205}}}\u001b[0m\n",
            "\u001b[34m#metrics {\"StartTime\": 1650612943.3914104, \"EndTime\": 1650612943.391426, \"Dimensions\": {\"Algorithm\": \"Linear Learner\", \"Host\": \"algo-1\", \"Operation\": \"training\", \"epoch\": 4, \"model\": 22}, \"Metrics\": {\"validation_binary_classification_cross_entropy_objective\": {\"sum\": 0.5077556885576148, \"count\": 1, \"min\": 0.5077556885576148, \"max\": 0.5077556885576148}}}\u001b[0m\n",
            "\u001b[34m#metrics {\"StartTime\": 1650612943.3914747, \"EndTime\": 1650612943.3914917, \"Dimensions\": {\"Algorithm\": \"Linear Learner\", \"Host\": \"algo-1\", \"Operation\": \"training\", \"epoch\": 4, \"model\": 23}, \"Metrics\": {\"validation_binary_classification_cross_entropy_objective\": {\"sum\": 0.5110001577699026, \"count\": 1, \"min\": 0.5110001577699026, \"max\": 0.5110001577699026}}}\u001b[0m\n",
            "\u001b[34m#metrics {\"StartTime\": 1650612943.391545, \"EndTime\": 1650612943.3915625, \"Dimensions\": {\"Algorithm\": \"Linear Learner\", \"Host\": \"algo-1\", \"Operation\": \"training\", \"epoch\": 4, \"model\": 24}, \"Metrics\": {\"validation_binary_classification_cross_entropy_objective\": {\"sum\": 0.5137623681208644, \"count\": 1, \"min\": 0.5137623681208644, \"max\": 0.5137623681208644}}}\u001b[0m\n",
            "\u001b[34m#metrics {\"StartTime\": 1650612943.3916156, \"EndTime\": 1650612943.3916323, \"Dimensions\": {\"Algorithm\": \"Linear Learner\", \"Host\": \"algo-1\", \"Operation\": \"training\", \"epoch\": 4, \"model\": 25}, \"Metrics\": {\"validation_binary_classification_cross_entropy_objective\": {\"sum\": 0.5142762457821748, \"count\": 1, \"min\": 0.5142762457821748, \"max\": 0.5142762457821748}}}\u001b[0m\n",
            "\u001b[34m#metrics {\"StartTime\": 1650612943.3916857, \"EndTime\": 1650612943.3917015, \"Dimensions\": {\"Algorithm\": \"Linear Learner\", \"Host\": \"algo-1\", \"Operation\": \"training\", \"epoch\": 4, \"model\": 26}, \"Metrics\": {\"validation_binary_classification_cross_entropy_objective\": {\"sum\": 0.5137626181441263, \"count\": 1, \"min\": 0.5137626181441263, \"max\": 0.5137626181441263}}}\u001b[0m\n",
            "\u001b[34m#metrics {\"StartTime\": 1650612943.3917542, \"EndTime\": 1650612943.391771, \"Dimensions\": {\"Algorithm\": \"Linear Learner\", \"Host\": \"algo-1\", \"Operation\": \"training\", \"epoch\": 4, \"model\": 27}, \"Metrics\": {\"validation_binary_classification_cross_entropy_objective\": {\"sum\": 0.5142829736469332, \"count\": 1, \"min\": 0.5142829736469332, \"max\": 0.5142829736469332}}}\u001b[0m\n",
            "\u001b[34m#metrics {\"StartTime\": 1650612943.3918245, \"EndTime\": 1650612943.391841, \"Dimensions\": {\"Algorithm\": \"Linear Learner\", \"Host\": \"algo-1\", \"Operation\": \"training\", \"epoch\": 4, \"model\": 28}, \"Metrics\": {\"validation_binary_classification_cross_entropy_objective\": {\"sum\": 0.5137629269415132, \"count\": 1, \"min\": 0.5137629269415132, \"max\": 0.5137629269415132}}}\u001b[0m\n",
            "\u001b[34m#metrics {\"StartTime\": 1650612943.3918912, \"EndTime\": 1650612943.391906, \"Dimensions\": {\"Algorithm\": \"Linear Learner\", \"Host\": \"algo-1\", \"Operation\": \"training\", \"epoch\": 4, \"model\": 29}, \"Metrics\": {\"validation_binary_classification_cross_entropy_objective\": {\"sum\": 0.5136973197180924, \"count\": 1, \"min\": 0.5136973197180924, \"max\": 0.5136973197180924}}}\u001b[0m\n",
            "\u001b[34m#metrics {\"StartTime\": 1650612943.3919587, \"EndTime\": 1650612943.3919759, \"Dimensions\": {\"Algorithm\": \"Linear Learner\", \"Host\": \"algo-1\", \"Operation\": \"training\", \"epoch\": 4, \"model\": 30}, \"Metrics\": {\"validation_binary_classification_cross_entropy_objective\": {\"sum\": 0.5137641998211344, \"count\": 1, \"min\": 0.5137641998211344, \"max\": 0.5137641998211344}}}\u001b[0m\n",
            "\u001b[34m#metrics {\"StartTime\": 1650612943.3920271, \"EndTime\": 1650612943.3920445, \"Dimensions\": {\"Algorithm\": \"Linear Learner\", \"Host\": \"algo-1\", \"Operation\": \"training\", \"epoch\": 4, \"model\": 31}, \"Metrics\": {\"validation_binary_classification_cross_entropy_objective\": {\"sum\": 0.5136973230766139, \"count\": 1, \"min\": 0.5136973230766139, \"max\": 0.5136973230766139}}}\u001b[0m\n",
            "\u001b[34m[04/22/2022 07:35:43 INFO 139644120127296] #quality_metric: host=algo-1, epoch=4, validation binary_classification_cross_entropy_objective <loss>=0.49161265286019207\u001b[0m\n",
            "\u001b[34m[04/22/2022 07:35:43 INFO 139644120127296] #early_stopping_criteria_metric: host=algo-1, epoch=4, criteria=binary_classification_cross_entropy_objective, value=0.49161265286019207\u001b[0m\n",
            "\u001b[34m[04/22/2022 07:35:43 INFO 139644120127296] Saving model for epoch: 4\u001b[0m\n",
            "\u001b[34m[04/22/2022 07:35:43 INFO 139644120127296] Saved checkpoint to \"/tmp/tmpe50pl0ml/mx-mod-0000.params\"\u001b[0m\n",
            "\u001b[34m[04/22/2022 07:35:43 INFO 139644120127296] Early stop condition met. Stopping training.\u001b[0m\n",
            "\u001b[34m[04/22/2022 07:35:43 INFO 139644120127296] #progress_metric: host=algo-1, completed 100 % epochs\u001b[0m\n",
            "\u001b[34m#metrics {\"StartTime\": 1650612879.5658975, \"EndTime\": 1650612943.4050965, \"Dimensions\": {\"Algorithm\": \"Linear Learner\", \"Host\": \"algo-1\", \"Operation\": \"training\", \"epoch\": 4, \"Meta\": \"training_data_iter\"}, \"Metrics\": {\"Total Records Seen\": {\"sum\": 6554360.0, \"count\": 1, \"min\": 6554360, \"max\": 6554360}, \"Total Batches Seen\": {\"sum\": 6557.0, \"count\": 1, \"min\": 6557, \"max\": 6557}, \"Max Records Seen Between Resets\": {\"sum\": 1308472.0, \"count\": 1, \"min\": 1308472, \"max\": 1308472}, \"Max Batches Seen Between Resets\": {\"sum\": 1309.0, \"count\": 1, \"min\": 1309, \"max\": 1309}, \"Reset Count\": {\"sum\": 7.0, \"count\": 1, \"min\": 7, \"max\": 7}, \"Number of Records Since Last Reset\": {\"sum\": 1308472.0, \"count\": 1, \"min\": 1308472, \"max\": 1308472}, \"Number of Batches Since Last Reset\": {\"sum\": 1309.0, \"count\": 1, \"min\": 1309, \"max\": 1309}}}\u001b[0m\n",
            "\u001b[34m[04/22/2022 07:35:43 INFO 139644120127296] #throughput_metric: host=algo-1, train throughput=20496.291295031377 records/second\u001b[0m\n",
            "\u001b[34m[04/22/2022 07:35:43 WARNING 139644120127296] wait_for_all_workers will not sync workers since the kv store is not running distributed\u001b[0m\n",
            "\u001b[34m[04/22/2022 07:35:43 WARNING 139644120127296] wait_for_all_workers will not sync workers since the kv store is not running distributed\u001b[0m\n",
            "\u001b[34m[2022-04-22 07:35:48.499] [tensorio] [info] epoch_stats={\"data_pipeline\": \"/opt/ml/input/data/validation\", \"epoch\": 17, \"duration\": 5070, \"num_examples\": 164, \"num_bytes\": 68694780}\u001b[0m\n",
            "\u001b[34m[04/22/2022 07:35:48 INFO 139644120127296] #early_stopping_criteria_metric: host=algo-1, epoch=4, criteria=binary_classification_cross_entropy_objective, value=0.49161265286019207\u001b[0m\n",
            "\u001b[34m[2022-04-22 07:35:49.319] [tensorio] [info] epoch_stats={\"data_pipeline\": \"/opt/ml/input/data/validation\", \"epoch\": 19, \"duration\": 807, \"num_examples\": 164, \"num_bytes\": 68694780}\u001b[0m\n",
            "\u001b[34m[04/22/2022 07:35:49 INFO 139644120127296] #validation_score (algo-1) : ('binary_classification_cross_entropy_objective', 0.49214831109271684)\u001b[0m\n",
            "\u001b[34m[04/22/2022 07:35:49 INFO 139644120127296] #validation_score (algo-1) : ('binary_classification_accuracy', 0.7901980325142609)\u001b[0m\n",
            "\u001b[34m[04/22/2022 07:35:49 INFO 139644120127296] #validation_score (algo-1) : ('binary_f_1.000', 0.009181994051915802)\u001b[0m\n",
            "\u001b[34m[04/22/2022 07:35:49 INFO 139644120127296] #validation_score (algo-1) : ('precision', 0.53)\u001b[0m\n",
            "\u001b[34m[04/22/2022 07:35:49 INFO 139644120127296] #validation_score (algo-1) : ('recall', 0.004631112923426441)\u001b[0m\n",
            "\u001b[34m[04/22/2022 07:35:49 INFO 139644120127296] #validation_score (algo-1) : ('roc_auc_score', 0.64353954703587)\u001b[0m\n",
            "\u001b[34m[04/22/2022 07:35:49 INFO 139644120127296] #validation_score (algo-1) : ('binary_balanced_accuracy', 0.5)\u001b[0m\n",
            "\u001b[34m[04/22/2022 07:35:49 INFO 139644120127296] #validation_score (algo-1) : ('binary_log_loss', 0.753184196197892)\u001b[0m\n",
            "\u001b[34m[04/22/2022 07:35:49 INFO 139644120127296] #quality_metric: host=algo-1, validation binary_classification_cross_entropy_objective <loss>=0.49214831109271684\u001b[0m\n",
            "\u001b[34m[04/22/2022 07:35:49 INFO 139644120127296] #quality_metric: host=algo-1, validation binary_classification_accuracy <score>=0.7901980325142609\u001b[0m\n",
            "\u001b[34m[04/22/2022 07:35:49 INFO 139644120127296] #quality_metric: host=algo-1, validation binary_f_1.000 <score>=0.009181994051915802\u001b[0m\n",
            "\u001b[34m[04/22/2022 07:35:49 INFO 139644120127296] #quality_metric: host=algo-1, validation precision <score>=0.53\u001b[0m\n",
            "\u001b[34m[04/22/2022 07:35:49 INFO 139644120127296] #quality_metric: host=algo-1, validation recall <score>=0.004631112923426441\u001b[0m\n",
            "\u001b[34m[04/22/2022 07:35:49 INFO 139644120127296] #quality_metric: host=algo-1, validation roc_auc_score <score>=0.64353954703587\u001b[0m\n",
            "\u001b[34m[04/22/2022 07:35:49 INFO 139644120127296] #quality_metric: host=algo-1, validation binary_balanced_accuracy <score>=0.5\u001b[0m\n",
            "\u001b[34m[04/22/2022 07:35:49 INFO 139644120127296] #quality_metric: host=algo-1, validation binary_log_loss <score>=0.753184196197892\u001b[0m\n",
            "\u001b[34m[04/22/2022 07:35:49 INFO 139644120127296] Best model found for hyperparameters: {\"optimizer\": \"adam\", \"learning_rate\": 0.005, \"l1\": 0.0, \"wd\": 0.0001, \"lr_scheduler_step\": 10, \"lr_scheduler_factor\": 0.99, \"lr_scheduler_minimum_lr\": 1e-05}\u001b[0m\n",
            "\u001b[34m[04/22/2022 07:35:49 INFO 139644120127296] Saved checkpoint to \"/tmp/tmpp9pfw_fn/mx-mod-0000.params\"\u001b[0m\n",
            "\u001b[34m[2022-04-22 07:35:49.609] [tensorio] [info] epoch_stats={\"data_pipeline\": \"/opt/ml/input/data/test\", \"epoch\": 0, \"duration\": 326490, \"num_examples\": 1, \"num_bytes\": 420000}\u001b[0m\n",
            "\u001b[34m[2022-04-22 07:35:50.481] [tensorio] [info] epoch_stats={\"data_pipeline\": \"/opt/ml/input/data/test\", \"epoch\": 1, \"duration\": 871, \"num_examples\": 164, \"num_bytes\": 68694780}\u001b[0m\n",
            "\u001b[34m#metrics {\"StartTime\": 1650612949.6068153, \"EndTime\": 1650612950.8461204, \"Dimensions\": {\"Algorithm\": \"Linear Learner\", \"Host\": \"algo-1\", \"Operation\": \"training\", \"Meta\": \"test_data_iter\"}, \"Metrics\": {\"Total Records Seen\": {\"sum\": 163559.0, \"count\": 1, \"min\": 163559, \"max\": 163559}, \"Total Batches Seen\": {\"sum\": 164.0, \"count\": 1, \"min\": 164, \"max\": 164}, \"Max Records Seen Between Resets\": {\"sum\": 163559.0, \"count\": 1, \"min\": 163559, \"max\": 163559}, \"Max Batches Seen Between Resets\": {\"sum\": 164.0, \"count\": 1, \"min\": 164, \"max\": 164}, \"Reset Count\": {\"sum\": 1.0, \"count\": 1, \"min\": 1, \"max\": 1}, \"Number of Records Since Last Reset\": {\"sum\": 163559.0, \"count\": 1, \"min\": 163559, \"max\": 163559}, \"Number of Batches Since Last Reset\": {\"sum\": 164.0, \"count\": 1, \"min\": 164, \"max\": 164}}}\u001b[0m\n",
            "\u001b[34m[04/22/2022 07:35:50 INFO 139644120127296] #test_score (algo-1) : ('binary_classification_cross_entropy_objective', 0.4930333740349311)\u001b[0m\n",
            "\u001b[34m[04/22/2022 07:35:50 INFO 139644120127296] #test_score (algo-1) : ('binary_classification_accuracy', 0.7901185504924828)\u001b[0m\n",
            "\u001b[34m[04/22/2022 07:35:50 INFO 139644120127296] #test_score (algo-1) : ('binary_f_1.000', 0.009064141793199008)\u001b[0m\n",
            "\u001b[34m[04/22/2022 07:35:50 INFO 139644120127296] #test_score (algo-1) : ('precision', 0.5080906148867314)\u001b[0m\n",
            "\u001b[34m[04/22/2022 07:35:50 INFO 139644120127296] #test_score (algo-1) : ('recall', 0.004572859930678939)\u001b[0m\n",
            "\u001b[34m[04/22/2022 07:35:50 INFO 139644120127296] #test_score (algo-1) : ('roc_auc_score', 0.641522818563801)\u001b[0m\n",
            "\u001b[34m[04/22/2022 07:35:50 INFO 139644120127296] #test_score (algo-1) : ('binary_balanced_accuracy', 0.5)\u001b[0m\n",
            "\u001b[34m[04/22/2022 07:35:50 INFO 139644120127296] #test_score (algo-1) : ('binary_log_loss', 0.7533426221451207)\u001b[0m\n",
            "\u001b[34m[04/22/2022 07:35:50 INFO 139644120127296] #quality_metric: host=algo-1, test binary_classification_cross_entropy_objective <loss>=0.4930333740349311\u001b[0m\n",
            "\u001b[34m[04/22/2022 07:35:50 INFO 139644120127296] #quality_metric: host=algo-1, test binary_classification_accuracy <score>=0.7901185504924828\u001b[0m\n",
            "\u001b[34m[04/22/2022 07:35:50 INFO 139644120127296] #quality_metric: host=algo-1, test binary_f_1.000 <score>=0.009064141793199008\u001b[0m\n",
            "\u001b[34m[04/22/2022 07:35:50 INFO 139644120127296] #quality_metric: host=algo-1, test precision <score>=0.5080906148867314\u001b[0m\n",
            "\u001b[34m[04/22/2022 07:35:50 INFO 139644120127296] #quality_metric: host=algo-1, test recall <score>=0.004572859930678939\u001b[0m\n",
            "\u001b[34m[04/22/2022 07:35:50 INFO 139644120127296] #quality_metric: host=algo-1, test roc_auc_score <score>=0.641522818563801\u001b[0m\n",
            "\u001b[34m[04/22/2022 07:35:50 INFO 139644120127296] #quality_metric: host=algo-1, test binary_balanced_accuracy <score>=0.5\u001b[0m\n",
            "\u001b[34m[04/22/2022 07:35:50 INFO 139644120127296] #quality_metric: host=algo-1, test binary_log_loss <score>=0.7533426221451207\u001b[0m\n",
            "\u001b[34m#metrics {\"StartTime\": 1650612623.0921745, \"EndTime\": 1650612950.8558192, \"Dimensions\": {\"Algorithm\": \"Linear Learner\", \"Host\": \"algo-1\", \"Operation\": \"training\"}, \"Metrics\": {\"initialize.time\": {\"sum\": 440.2780532836914, \"count\": 1, \"min\": 440.2780532836914, \"max\": 440.2780532836914}, \"epochs\": {\"sum\": 15.0, \"count\": 1, \"min\": 15, \"max\": 15}, \"check_early_stopping.time\": {\"sum\": 2.5243759155273438, \"count\": 6, \"min\": 0.22149085998535156, \"max\": 1.1060237884521484}, \"update.time\": {\"sum\": 319770.956993103, \"count\": 5, \"min\": 63648.460388183594, \"max\": 64205.02066612244}, \"finalize.time\": {\"sum\": 6197.742700576782, \"count\": 1, \"min\": 6197.742700576782, \"max\": 6197.742700576782}, \"setuptime\": {\"sum\": 31.239748001098633, \"count\": 1, \"min\": 31.239748001098633, \"max\": 31.239748001098633}, \"totaltime\": {\"sum\": 328061.0122680664, \"count\": 1, \"min\": 328061.0122680664, \"max\": 328061.0122680664}}}\u001b[0m\n",
            "\u001b[34m[04/22/2022 07:35:50 INFO 139644120127296 integration.py:636] worker closed\u001b[0m\n",
            "\n",
            "2022-04-22 07:36:16 Uploading - Uploading generated training model\n",
            "2022-04-22 07:36:31 Completed - Training job completed\n",
            "Training seconds: 454\n",
            "Billable seconds: 454\n"
          ]
        }
      ],
      "source": [
        "### Fit the classifier\n",
        "# Enter your code here\n",
        "classifier_estimator.fit([train_records,val_records,test_records])"
      ]
    },
    {
      "cell_type": "markdown",
      "metadata": {
        "id": "n8l2PIKTEX0I"
      },
      "source": [
        "## Model evaluation\n",
        "In this section, you will evaluate your trained model. "
      ]
    },
    {
      "cell_type": "markdown",
      "metadata": {
        "id": "nr_f8z-cEX0I"
      },
      "source": [
        "First, examine the metrics for the training job:"
      ]
    },
    {
      "cell_type": "code",
      "execution_count": null,
      "metadata": {
        "id": "5lvpoIOqEX0I",
        "outputId": "6c1c8edd-cd86-4977-d75f-b92ec337e81e"
      },
      "outputs": [
        {
          "data": {
            "text/html": [
              "<div>\n",
              "<style scoped>\n",
              "    .dataframe tbody tr th:only-of-type {\n",
              "        vertical-align: middle;\n",
              "    }\n",
              "\n",
              "    .dataframe tbody tr th {\n",
              "        vertical-align: top;\n",
              "    }\n",
              "\n",
              "    .dataframe thead th {\n",
              "        text-align: right;\n",
              "    }\n",
              "</style>\n",
              "<table border=\"1\" class=\"dataframe\">\n",
              "  <thead>\n",
              "    <tr style=\"text-align: right;\">\n",
              "      <th></th>\n",
              "      <th>timestamp</th>\n",
              "      <th>metric_name</th>\n",
              "      <th>value</th>\n",
              "    </tr>\n",
              "  </thead>\n",
              "  <tbody>\n",
              "    <tr>\n",
              "      <th>0</th>\n",
              "      <td>0.0</td>\n",
              "      <td>test:objective_loss</td>\n",
              "      <td>0.493033</td>\n",
              "    </tr>\n",
              "    <tr>\n",
              "      <th>1</th>\n",
              "      <td>0.0</td>\n",
              "      <td>test:binary_f_beta</td>\n",
              "      <td>0.009064</td>\n",
              "    </tr>\n",
              "    <tr>\n",
              "      <th>2</th>\n",
              "      <td>0.0</td>\n",
              "      <td>test:precision</td>\n",
              "      <td>0.508091</td>\n",
              "    </tr>\n",
              "    <tr>\n",
              "      <th>3</th>\n",
              "      <td>0.0</td>\n",
              "      <td>test:recall</td>\n",
              "      <td>0.004573</td>\n",
              "    </tr>\n",
              "  </tbody>\n",
              "</table>\n",
              "</div>"
            ],
            "text/plain": [
              "   timestamp          metric_name     value\n",
              "0        0.0  test:objective_loss  0.493033\n",
              "1        0.0   test:binary_f_beta  0.009064\n",
              "2        0.0       test:precision  0.508091\n",
              "3        0.0          test:recall  0.004573"
            ]
          },
          "execution_count": 42,
          "metadata": {},
          "output_type": "execute_result"
        }
      ],
      "source": [
        "sagemaker.analytics.TrainingJobAnalytics(classifier_estimator._current_job_name, \n",
        "                                         metric_names = ['test:objective_loss', \n",
        "                                                         'test:binary_f_beta',\n",
        "                                                         'test:precision',\n",
        "                                                         'test:recall']\n",
        "                                        ).dataframe()"
      ]
    },
    {
      "cell_type": "markdown",
      "metadata": {
        "id": "3zxzNCs8EX0I"
      },
      "source": [
        "Next, set up some functions that will help load the test data into Amazon S3 and perform a prediction by using the batch prediction function. Using batch prediction will help reduce costs because the instances will only run when predictions are performed on the supplied test data.\n",
        "\n",
        "**Note:** Replace `<LabBucketName>` with the name of the lab bucket that was created during the lab setup."
      ]
    },
    {
      "cell_type": "code",
      "execution_count": null,
      "metadata": {
        "id": "t-zSGn-IEX0I"
      },
      "outputs": [],
      "source": [
        "import io\n",
        "bucket='sagemaker-us-east-1-100817210503'\n",
        "prefix='flight-linear'\n",
        "train_file='flight_train.csv'\n",
        "test_file='flight_test.csv'\n",
        "validate_file='flight_validate.csv'\n",
        "whole_file='flight.csv'\n",
        "s3_resource = boto3.Session().resource('s3')\n",
        "\n",
        "def upload_s3_csv(filename, folder, dataframe):\n",
        "    csv_buffer = io.StringIO()\n",
        "    dataframe.to_csv(csv_buffer, header=False, index=False )\n",
        "    s3_resource.Bucket(bucket).Object(os.path.join(prefix, folder, filename)).put(Body=csv_buffer.getvalue())"
      ]
    },
    {
      "cell_type": "code",
      "execution_count": null,
      "metadata": {
        "id": "8EGXLeG_EX0J"
      },
      "outputs": [],
      "source": [
        "def batch_linear_predict(test_data, estimator):\n",
        "    batch_X = test_data.iloc[:,1:];\n",
        "    batch_X_file='batch-in.csv'\n",
        "    upload_s3_csv(batch_X_file, 'batch-in', batch_X)\n",
        "\n",
        "    batch_output = \"s3://{}/{}/batch-out/\".format(bucket,prefix)\n",
        "    batch_input = \"s3://{}/{}/batch-in/{}\".format(bucket,prefix,batch_X_file)\n",
        "\n",
        "    classifier_transformer = estimator.transformer(instance_count=1,\n",
        "                                           instance_type='ml.m4.xlarge',\n",
        "                                           strategy='MultiRecord',\n",
        "                                           assemble_with='Line',\n",
        "                                           output_path=batch_output)\n",
        "\n",
        "    classifier_transformer.transform(data=batch_input,\n",
        "                             data_type='S3Prefix',\n",
        "                             content_type='text/csv',\n",
        "                             split_type='Line')\n",
        "    \n",
        "    classifier_transformer.wait()\n",
        "\n",
        "    s3 = boto3.client('s3')\n",
        "    obj = s3.get_object(Bucket=bucket, Key=\"{}/batch-out/{}\".format(prefix,'batch-in.csv.out'))\n",
        "    target_predicted_df = pd.read_json(io.BytesIO(obj['Body'].read()),orient=\"records\",lines=True)\n",
        "    return test_data.iloc[:,0], target_predicted_df.iloc[:,0]"
      ]
    },
    {
      "cell_type": "markdown",
      "metadata": {
        "id": "mgDkocVCEX0J"
      },
      "source": [
        "\n",
        "To run the predictions on the test dataset, run the `batch_linear_predict` function (which was defined previously) on your test dataset.\n"
      ]
    },
    {
      "cell_type": "code",
      "execution_count": null,
      "metadata": {
        "id": "fv_7IdQtEX0J",
        "outputId": "b0b7e788-76a7-4726-ceb6-a0052a3f33cf"
      },
      "outputs": [
        {
          "name": "stderr",
          "output_type": "stream",
          "text": [
            "Defaulting to the only supported framework/algorithm version: 1. Ignoring framework/algorithm version: 1.\n"
          ]
        },
        {
          "name": "stdout",
          "output_type": "stream",
          "text": [
            ".................................\u001b[34mDocker entrypoint called with argument(s): serve\u001b[0m\n",
            "\u001b[34mRunning default environment configuration script\u001b[0m\n",
            "\u001b[35mDocker entrypoint called with argument(s): serve\u001b[0m\n",
            "\u001b[35mRunning default environment configuration script\u001b[0m\n",
            "\u001b[34m[04/22/2022 07:42:56 INFO 140238458427200] loaded entry point class algorithm.serve.server_config:config_api\u001b[0m\n",
            "\u001b[34m[04/22/2022 07:42:56 INFO 140238458427200] loading entry points\u001b[0m\n",
            "\u001b[34m[04/22/2022 07:42:56 INFO 140238458427200] loaded request iterator application/json\u001b[0m\n",
            "\u001b[34m[04/22/2022 07:42:56 INFO 140238458427200] loaded request iterator application/jsonlines\u001b[0m\n",
            "\u001b[34m[04/22/2022 07:42:56 INFO 140238458427200] loaded request iterator application/x-recordio-protobuf\u001b[0m\n",
            "\u001b[34m[04/22/2022 07:42:56 INFO 140238458427200] loaded request iterator text/csv\u001b[0m\n",
            "\u001b[34m[04/22/2022 07:42:56 INFO 140238458427200] loaded response encoder application/json\u001b[0m\n",
            "\u001b[34m[04/22/2022 07:42:56 INFO 140238458427200] loaded response encoder application/jsonlines\u001b[0m\n",
            "\u001b[34m[04/22/2022 07:42:56 INFO 140238458427200] loaded response encoder application/x-recordio-protobuf\u001b[0m\n",
            "\u001b[34m[04/22/2022 07:42:56 INFO 140238458427200] loaded response encoder text/csv\u001b[0m\n",
            "\u001b[34m[04/22/2022 07:42:56 INFO 140238458427200] loaded entry point class algorithm:model\u001b[0m\n",
            "\u001b[34m[04/22/2022 07:42:56 INFO 140238458427200] Number of server workers: 4\u001b[0m\n",
            "\u001b[34m[04/22/2022 07:42:56 INFO 140238458427200] loading model...\u001b[0m\n",
            "\u001b[35m[04/22/2022 07:42:56 INFO 140238458427200] loaded entry point class algorithm.serve.server_config:config_api\u001b[0m\n",
            "\u001b[35m[04/22/2022 07:42:56 INFO 140238458427200] loading entry points\u001b[0m\n",
            "\u001b[35m[04/22/2022 07:42:56 INFO 140238458427200] loaded request iterator application/json\u001b[0m\n",
            "\u001b[35m[04/22/2022 07:42:56 INFO 140238458427200] loaded request iterator application/jsonlines\u001b[0m\n",
            "\u001b[35m[04/22/2022 07:42:56 INFO 140238458427200] loaded request iterator application/x-recordio-protobuf\u001b[0m\n",
            "\u001b[35m[04/22/2022 07:42:56 INFO 140238458427200] loaded request iterator text/csv\u001b[0m\n",
            "\u001b[35m[04/22/2022 07:42:56 INFO 140238458427200] loaded response encoder application/json\u001b[0m\n",
            "\u001b[35m[04/22/2022 07:42:56 INFO 140238458427200] loaded response encoder application/jsonlines\u001b[0m\n",
            "\u001b[35m[04/22/2022 07:42:56 INFO 140238458427200] loaded response encoder application/x-recordio-protobuf\u001b[0m\n",
            "\u001b[35m[04/22/2022 07:42:56 INFO 140238458427200] loaded response encoder text/csv\u001b[0m\n",
            "\u001b[35m[04/22/2022 07:42:56 INFO 140238458427200] loaded entry point class algorithm:model\u001b[0m\n",
            "\u001b[35m[04/22/2022 07:42:56 INFO 140238458427200] Number of server workers: 4\u001b[0m\n",
            "\u001b[35m[04/22/2022 07:42:56 INFO 140238458427200] loading model...\u001b[0m\n",
            "\u001b[34m[04/22/2022 07:42:56 INFO 140238458427200] ...model loaded.\u001b[0m\n",
            "\u001b[34m[2022-04-22 07:42:56 +0000] [1] [INFO] Starting gunicorn 20.1.0\u001b[0m\n",
            "\u001b[34m[2022-04-22 07:42:56 +0000] [1] [INFO] Listening at: http://0.0.0.0:8080 (1)\u001b[0m\n",
            "\u001b[34m[2022-04-22 07:42:56 +0000] [1] [INFO] Using worker: sync\u001b[0m\n",
            "\u001b[34m[2022-04-22 07:42:56 +0000] [60] [INFO] Booting worker with pid: 60\u001b[0m\n",
            "\u001b[34m[2022-04-22 07:42:56 +0000] [69] [INFO] Booting worker with pid: 69\u001b[0m\n",
            "\u001b[34m[2022-04-22 07:42:56 +0000] [78] [INFO] Booting worker with pid: 78\u001b[0m\n",
            "\u001b[34m[2022-04-22 07:42:56 +0000] [87] [INFO] Booting worker with pid: 87\u001b[0m\n",
            "\u001b[35m[04/22/2022 07:42:56 INFO 140238458427200] ...model loaded.\u001b[0m\n",
            "\u001b[35m[2022-04-22 07:42:56 +0000] [1] [INFO] Starting gunicorn 20.1.0\u001b[0m\n",
            "\u001b[35m[2022-04-22 07:42:56 +0000] [1] [INFO] Listening at: http://0.0.0.0:8080 (1)\u001b[0m\n",
            "\u001b[35m[2022-04-22 07:42:56 +0000] [1] [INFO] Using worker: sync\u001b[0m\n",
            "\u001b[35m[2022-04-22 07:42:56 +0000] [60] [INFO] Booting worker with pid: 60\u001b[0m\n",
            "\u001b[35m[2022-04-22 07:42:56 +0000] [69] [INFO] Booting worker with pid: 69\u001b[0m\n",
            "\u001b[35m[2022-04-22 07:42:56 +0000] [78] [INFO] Booting worker with pid: 78\u001b[0m\n",
            "\u001b[35m[2022-04-22 07:42:56 +0000] [87] [INFO] Booting worker with pid: 87\u001b[0m\n",
            "\u001b[34m#metrics {\"StartTime\": 1650613376.4949102, \"EndTime\": 1650613377.7618077, \"Dimensions\": {\"Algorithm\": \"LinearLearnerModel\", \"Host\": \"UNKNOWN\", \"Operation\": \"scoring\"}, \"Metrics\": {\"execution_parameters.count\": {\"sum\": 1.0, \"count\": 1, \"min\": 1, \"max\": 1}}}\u001b[0m\n",
            "\u001b[35m#metrics {\"StartTime\": 1650613376.4949102, \"EndTime\": 1650613377.7618077, \"Dimensions\": {\"Algorithm\": \"LinearLearnerModel\", \"Host\": \"UNKNOWN\", \"Operation\": \"scoring\"}, \"Metrics\": {\"execution_parameters.count\": {\"sum\": 1.0, \"count\": 1, \"min\": 1, \"max\": 1}}}\u001b[0m\n",
            "\u001b[34m#metrics {\"StartTime\": 1650613376.4949102, \"EndTime\": 1650613380.4941928, \"Dimensions\": {\"Algorithm\": \"LinearLearnerModel\", \"Host\": \"UNKNOWN\", \"Operation\": \"scoring\"}, \"Metrics\": {\"json.encoder.time\": {\"sum\": 177.67643928527832, \"count\": 1, \"min\": 177.67643928527832, \"max\": 177.67643928527832}, \"invocations.count\": {\"sum\": 1.0, \"count\": 1, \"min\": 1, \"max\": 1}}}\u001b[0m\n",
            "\u001b[34m#metrics {\"StartTime\": 1650613376.4949102, \"EndTime\": 1650613380.5003643, \"Dimensions\": {\"Algorithm\": \"LinearLearnerModel\", \"Host\": \"UNKNOWN\", \"Operation\": \"scoring\"}, \"Metrics\": {\"json.encoder.time\": {\"sum\": 157.72032737731934, \"count\": 1, \"min\": 157.72032737731934, \"max\": 157.72032737731934}, \"invocations.count\": {\"sum\": 1.0, \"count\": 1, \"min\": 1, \"max\": 1}}}\u001b[0m\n",
            "\u001b[34m#metrics {\"StartTime\": 1650613376.4949102, \"EndTime\": 1650613380.6222382, \"Dimensions\": {\"Algorithm\": \"LinearLearnerModel\", \"Host\": \"UNKNOWN\", \"Operation\": \"scoring\"}, \"Metrics\": {\"json.encoder.time\": {\"sum\": 153.80454063415527, \"count\": 1, \"min\": 153.80454063415527, \"max\": 153.80454063415527}, \"invocations.count\": {\"sum\": 1.0, \"count\": 1, \"min\": 1, \"max\": 1}}}\u001b[0m\n",
            "\u001b[34m#metrics {\"StartTime\": 1650613377.7621362, \"EndTime\": 1650613380.6664858, \"Dimensions\": {\"Algorithm\": \"LinearLearnerModel\", \"Host\": \"UNKNOWN\", \"Operation\": \"scoring\"}, \"Metrics\": {\"json.encoder.time\": {\"sum\": 137.35437393188477, \"count\": 1, \"min\": 137.35437393188477, \"max\": 137.35437393188477}, \"invocations.count\": {\"sum\": 1.0, \"count\": 1, \"min\": 1, \"max\": 1}}}\u001b[0m\n",
            "\u001b[35m#metrics {\"StartTime\": 1650613376.4949102, \"EndTime\": 1650613380.4941928, \"Dimensions\": {\"Algorithm\": \"LinearLearnerModel\", \"Host\": \"UNKNOWN\", \"Operation\": \"scoring\"}, \"Metrics\": {\"json.encoder.time\": {\"sum\": 177.67643928527832, \"count\": 1, \"min\": 177.67643928527832, \"max\": 177.67643928527832}, \"invocations.count\": {\"sum\": 1.0, \"count\": 1, \"min\": 1, \"max\": 1}}}\u001b[0m\n",
            "\u001b[35m#metrics {\"StartTime\": 1650613376.4949102, \"EndTime\": 1650613380.5003643, \"Dimensions\": {\"Algorithm\": \"LinearLearnerModel\", \"Host\": \"UNKNOWN\", \"Operation\": \"scoring\"}, \"Metrics\": {\"json.encoder.time\": {\"sum\": 157.72032737731934, \"count\": 1, \"min\": 157.72032737731934, \"max\": 157.72032737731934}, \"invocations.count\": {\"sum\": 1.0, \"count\": 1, \"min\": 1, \"max\": 1}}}\u001b[0m\n",
            "\u001b[35m#metrics {\"StartTime\": 1650613376.4949102, \"EndTime\": 1650613380.6222382, \"Dimensions\": {\"Algorithm\": \"LinearLearnerModel\", \"Host\": \"UNKNOWN\", \"Operation\": \"scoring\"}, \"Metrics\": {\"json.encoder.time\": {\"sum\": 153.80454063415527, \"count\": 1, \"min\": 153.80454063415527, \"max\": 153.80454063415527}, \"invocations.count\": {\"sum\": 1.0, \"count\": 1, \"min\": 1, \"max\": 1}}}\u001b[0m\n",
            "\u001b[35m#metrics {\"StartTime\": 1650613377.7621362, \"EndTime\": 1650613380.6664858, \"Dimensions\": {\"Algorithm\": \"LinearLearnerModel\", \"Host\": \"UNKNOWN\", \"Operation\": \"scoring\"}, \"Metrics\": {\"json.encoder.time\": {\"sum\": 137.35437393188477, \"count\": 1, \"min\": 137.35437393188477, \"max\": 137.35437393188477}, \"invocations.count\": {\"sum\": 1.0, \"count\": 1, \"min\": 1, \"max\": 1}}}\u001b[0m\n",
            "\u001b[32m2022-04-22T07:42:57.769:[sagemaker logs]: MaxConcurrentTransforms=4, MaxPayloadInMB=6, BatchStrategy=MULTI_RECORD\u001b[0m\n",
            "\u001b[34m#metrics {\"StartTime\": 1650613380.500528, \"EndTime\": 1650613381.439565, \"Dimensions\": {\"Algorithm\": \"LinearLearnerModel\", \"Host\": \"UNKNOWN\", \"Operation\": \"scoring\"}, \"Metrics\": {\"json.encoder.time\": {\"sum\": 70.0075626373291, \"count\": 1, \"min\": 70.0075626373291, \"max\": 70.0075626373291}, \"invocations.count\": {\"sum\": 1.0, \"count\": 1, \"min\": 1, \"max\": 1}}}\u001b[0m\n",
            "\u001b[35m#metrics {\"StartTime\": 1650613380.500528, \"EndTime\": 1650613381.439565, \"Dimensions\": {\"Algorithm\": \"LinearLearnerModel\", \"Host\": \"UNKNOWN\", \"Operation\": \"scoring\"}, \"Metrics\": {\"json.encoder.time\": {\"sum\": 70.0075626373291, \"count\": 1, \"min\": 70.0075626373291, \"max\": 70.0075626373291}, \"invocations.count\": {\"sum\": 1.0, \"count\": 1, \"min\": 1, \"max\": 1}}}\u001b[0m\n",
            "\n",
            "\u001b[34mDocker entrypoint called with argument(s): serve\u001b[0m\n",
            "\u001b[34mRunning default environment configuration script\u001b[0m\n",
            "\u001b[35mDocker entrypoint called with argument(s): serve\u001b[0m\n",
            "\u001b[35mRunning default environment configuration script\u001b[0m\n",
            "\u001b[34m[04/22/2022 07:42:56 INFO 140238458427200] loaded entry point class algorithm.serve.server_config:config_api\u001b[0m\n",
            "\u001b[34m[04/22/2022 07:42:56 INFO 140238458427200] loading entry points\u001b[0m\n",
            "\u001b[34m[04/22/2022 07:42:56 INFO 140238458427200] loaded request iterator application/json\u001b[0m\n",
            "\u001b[34m[04/22/2022 07:42:56 INFO 140238458427200] loaded request iterator application/jsonlines\u001b[0m\n",
            "\u001b[34m[04/22/2022 07:42:56 INFO 140238458427200] loaded request iterator application/x-recordio-protobuf\u001b[0m\n",
            "\u001b[34m[04/22/2022 07:42:56 INFO 140238458427200] loaded request iterator text/csv\u001b[0m\n",
            "\u001b[34m[04/22/2022 07:42:56 INFO 140238458427200] loaded response encoder application/json\u001b[0m\n",
            "\u001b[34m[04/22/2022 07:42:56 INFO 140238458427200] loaded response encoder application/jsonlines\u001b[0m\n",
            "\u001b[34m[04/22/2022 07:42:56 INFO 140238458427200] loaded response encoder application/x-recordio-protobuf\u001b[0m\n",
            "\u001b[34m[04/22/2022 07:42:56 INFO 140238458427200] loaded response encoder text/csv\u001b[0m\n",
            "\u001b[34m[04/22/2022 07:42:56 INFO 140238458427200] loaded entry point class algorithm:model\u001b[0m\n",
            "\u001b[34m[04/22/2022 07:42:56 INFO 140238458427200] Number of server workers: 4\u001b[0m\n",
            "\u001b[34m[04/22/2022 07:42:56 INFO 140238458427200] loading model...\u001b[0m\n",
            "\u001b[35m[04/22/2022 07:42:56 INFO 140238458427200] loaded entry point class algorithm.serve.server_config:config_api\u001b[0m\n",
            "\u001b[35m[04/22/2022 07:42:56 INFO 140238458427200] loading entry points\u001b[0m\n",
            "\u001b[35m[04/22/2022 07:42:56 INFO 140238458427200] loaded request iterator application/json\u001b[0m\n",
            "\u001b[35m[04/22/2022 07:42:56 INFO 140238458427200] loaded request iterator application/jsonlines\u001b[0m\n",
            "\u001b[35m[04/22/2022 07:42:56 INFO 140238458427200] loaded request iterator application/x-recordio-protobuf\u001b[0m\n",
            "\u001b[35m[04/22/2022 07:42:56 INFO 140238458427200] loaded request iterator text/csv\u001b[0m\n",
            "\u001b[35m[04/22/2022 07:42:56 INFO 140238458427200] loaded response encoder application/json\u001b[0m\n",
            "\u001b[35m[04/22/2022 07:42:56 INFO 140238458427200] loaded response encoder application/jsonlines\u001b[0m\n",
            "\u001b[35m[04/22/2022 07:42:56 INFO 140238458427200] loaded response encoder application/x-recordio-protobuf\u001b[0m\n",
            "\u001b[35m[04/22/2022 07:42:56 INFO 140238458427200] loaded response encoder text/csv\u001b[0m\n",
            "\u001b[35m[04/22/2022 07:42:56 INFO 140238458427200] loaded entry point class algorithm:model\u001b[0m\n",
            "\u001b[35m[04/22/2022 07:42:56 INFO 140238458427200] Number of server workers: 4\u001b[0m\n",
            "\u001b[35m[04/22/2022 07:42:56 INFO 140238458427200] loading model...\u001b[0m\n",
            "\u001b[34m[04/22/2022 07:42:56 INFO 140238458427200] ...model loaded.\u001b[0m\n",
            "\u001b[34m[2022-04-22 07:42:56 +0000] [1] [INFO] Starting gunicorn 20.1.0\u001b[0m\n",
            "\u001b[34m[2022-04-22 07:42:56 +0000] [1] [INFO] Listening at: http://0.0.0.0:8080 (1)\u001b[0m\n",
            "\u001b[34m[2022-04-22 07:42:56 +0000] [1] [INFO] Using worker: sync\u001b[0m\n",
            "\u001b[34m[2022-04-22 07:42:56 +0000] [60] [INFO] Booting worker with pid: 60\u001b[0m\n",
            "\u001b[34m[2022-04-22 07:42:56 +0000] [69] [INFO] Booting worker with pid: 69\u001b[0m\n",
            "\u001b[34m[2022-04-22 07:42:56 +0000] [78] [INFO] Booting worker with pid: 78\u001b[0m\n",
            "\u001b[34m[2022-04-22 07:42:56 +0000] [87] [INFO] Booting worker with pid: 87\u001b[0m\n",
            "\u001b[35m[04/22/2022 07:42:56 INFO 140238458427200] ...model loaded.\u001b[0m\n",
            "\u001b[35m[2022-04-22 07:42:56 +0000] [1] [INFO] Starting gunicorn 20.1.0\u001b[0m\n",
            "\u001b[35m[2022-04-22 07:42:56 +0000] [1] [INFO] Listening at: http://0.0.0.0:8080 (1)\u001b[0m\n",
            "\u001b[35m[2022-04-22 07:42:56 +0000] [1] [INFO] Using worker: sync\u001b[0m\n",
            "\u001b[35m[2022-04-22 07:42:56 +0000] [60] [INFO] Booting worker with pid: 60\u001b[0m\n",
            "\u001b[35m[2022-04-22 07:42:56 +0000] [69] [INFO] Booting worker with pid: 69\u001b[0m\n",
            "\u001b[35m[2022-04-22 07:42:56 +0000] [78] [INFO] Booting worker with pid: 78\u001b[0m\n",
            "\u001b[35m[2022-04-22 07:42:56 +0000] [87] [INFO] Booting worker with pid: 87\u001b[0m\n",
            "\u001b[34m#metrics {\"StartTime\": 1650613376.4949102, \"EndTime\": 1650613377.7618077, \"Dimensions\": {\"Algorithm\": \"LinearLearnerModel\", \"Host\": \"UNKNOWN\", \"Operation\": \"scoring\"}, \"Metrics\": {\"execution_parameters.count\": {\"sum\": 1.0, \"count\": 1, \"min\": 1, \"max\": 1}}}\u001b[0m\n",
            "\u001b[35m#metrics {\"StartTime\": 1650613376.4949102, \"EndTime\": 1650613377.7618077, \"Dimensions\": {\"Algorithm\": \"LinearLearnerModel\", \"Host\": \"UNKNOWN\", \"Operation\": \"scoring\"}, \"Metrics\": {\"execution_parameters.count\": {\"sum\": 1.0, \"count\": 1, \"min\": 1, \"max\": 1}}}\u001b[0m\n",
            "\u001b[34m#metrics {\"StartTime\": 1650613376.4949102, \"EndTime\": 1650613380.4941928, \"Dimensions\": {\"Algorithm\": \"LinearLearnerModel\", \"Host\": \"UNKNOWN\", \"Operation\": \"scoring\"}, \"Metrics\": {\"json.encoder.time\": {\"sum\": 177.67643928527832, \"count\": 1, \"min\": 177.67643928527832, \"max\": 177.67643928527832}, \"invocations.count\": {\"sum\": 1.0, \"count\": 1, \"min\": 1, \"max\": 1}}}\u001b[0m\n",
            "\u001b[34m#metrics {\"StartTime\": 1650613376.4949102, \"EndTime\": 1650613380.5003643, \"Dimensions\": {\"Algorithm\": \"LinearLearnerModel\", \"Host\": \"UNKNOWN\", \"Operation\": \"scoring\"}, \"Metrics\": {\"json.encoder.time\": {\"sum\": 157.72032737731934, \"count\": 1, \"min\": 157.72032737731934, \"max\": 157.72032737731934}, \"invocations.count\": {\"sum\": 1.0, \"count\": 1, \"min\": 1, \"max\": 1}}}\u001b[0m\n",
            "\u001b[34m#metrics {\"StartTime\": 1650613376.4949102, \"EndTime\": 1650613380.6222382, \"Dimensions\": {\"Algorithm\": \"LinearLearnerModel\", \"Host\": \"UNKNOWN\", \"Operation\": \"scoring\"}, \"Metrics\": {\"json.encoder.time\": {\"sum\": 153.80454063415527, \"count\": 1, \"min\": 153.80454063415527, \"max\": 153.80454063415527}, \"invocations.count\": {\"sum\": 1.0, \"count\": 1, \"min\": 1, \"max\": 1}}}\u001b[0m\n",
            "\u001b[34m#metrics {\"StartTime\": 1650613377.7621362, \"EndTime\": 1650613380.6664858, \"Dimensions\": {\"Algorithm\": \"LinearLearnerModel\", \"Host\": \"UNKNOWN\", \"Operation\": \"scoring\"}, \"Metrics\": {\"json.encoder.time\": {\"sum\": 137.35437393188477, \"count\": 1, \"min\": 137.35437393188477, \"max\": 137.35437393188477}, \"invocations.count\": {\"sum\": 1.0, \"count\": 1, \"min\": 1, \"max\": 1}}}\u001b[0m\n",
            "\u001b[35m#metrics {\"StartTime\": 1650613376.4949102, \"EndTime\": 1650613380.4941928, \"Dimensions\": {\"Algorithm\": \"LinearLearnerModel\", \"Host\": \"UNKNOWN\", \"Operation\": \"scoring\"}, \"Metrics\": {\"json.encoder.time\": {\"sum\": 177.67643928527832, \"count\": 1, \"min\": 177.67643928527832, \"max\": 177.67643928527832}, \"invocations.count\": {\"sum\": 1.0, \"count\": 1, \"min\": 1, \"max\": 1}}}\u001b[0m\n",
            "\u001b[35m#metrics {\"StartTime\": 1650613376.4949102, \"EndTime\": 1650613380.5003643, \"Dimensions\": {\"Algorithm\": \"LinearLearnerModel\", \"Host\": \"UNKNOWN\", \"Operation\": \"scoring\"}, \"Metrics\": {\"json.encoder.time\": {\"sum\": 157.72032737731934, \"count\": 1, \"min\": 157.72032737731934, \"max\": 157.72032737731934}, \"invocations.count\": {\"sum\": 1.0, \"count\": 1, \"min\": 1, \"max\": 1}}}\u001b[0m\n",
            "\u001b[35m#metrics {\"StartTime\": 1650613376.4949102, \"EndTime\": 1650613380.6222382, \"Dimensions\": {\"Algorithm\": \"LinearLearnerModel\", \"Host\": \"UNKNOWN\", \"Operation\": \"scoring\"}, \"Metrics\": {\"json.encoder.time\": {\"sum\": 153.80454063415527, \"count\": 1, \"min\": 153.80454063415527, \"max\": 153.80454063415527}, \"invocations.count\": {\"sum\": 1.0, \"count\": 1, \"min\": 1, \"max\": 1}}}\u001b[0m\n",
            "\u001b[35m#metrics {\"StartTime\": 1650613377.7621362, \"EndTime\": 1650613380.6664858, \"Dimensions\": {\"Algorithm\": \"LinearLearnerModel\", \"Host\": \"UNKNOWN\", \"Operation\": \"scoring\"}, \"Metrics\": {\"json.encoder.time\": {\"sum\": 137.35437393188477, \"count\": 1, \"min\": 137.35437393188477, \"max\": 137.35437393188477}, \"invocations.count\": {\"sum\": 1.0, \"count\": 1, \"min\": 1, \"max\": 1}}}\u001b[0m\n",
            "\u001b[32m2022-04-22T07:42:57.769:[sagemaker logs]: MaxConcurrentTransforms=4, MaxPayloadInMB=6, BatchStrategy=MULTI_RECORD\u001b[0m\n",
            "\u001b[34m#metrics {\"StartTime\": 1650613380.500528, \"EndTime\": 1650613381.439565, \"Dimensions\": {\"Algorithm\": \"LinearLearnerModel\", \"Host\": \"UNKNOWN\", \"Operation\": \"scoring\"}, \"Metrics\": {\"json.encoder.time\": {\"sum\": 70.0075626373291, \"count\": 1, \"min\": 70.0075626373291, \"max\": 70.0075626373291}, \"invocations.count\": {\"sum\": 1.0, \"count\": 1, \"min\": 1, \"max\": 1}}}\u001b[0m\n",
            "\u001b[35m#metrics {\"StartTime\": 1650613380.500528, \"EndTime\": 1650613381.439565, \"Dimensions\": {\"Algorithm\": \"LinearLearnerModel\", \"Host\": \"UNKNOWN\", \"Operation\": \"scoring\"}, \"Metrics\": {\"json.encoder.time\": {\"sum\": 70.0075626373291, \"count\": 1, \"min\": 70.0075626373291, \"max\": 70.0075626373291}, \"invocations.count\": {\"sum\": 1.0, \"count\": 1, \"min\": 1, \"max\": 1}}}\u001b[0m\n"
          ]
        }
      ],
      "source": [
        "test_labels, target_predicted = batch_linear_predict(test, classifier_estimator)"
      ]
    },
    {
      "cell_type": "markdown",
      "metadata": {
        "id": "eMiKRXN7EX0J"
      },
      "source": [
        "To view a plot of the confusion matrix, and various scoring metrics, create a couple of functions:"
      ]
    },
    {
      "cell_type": "code",
      "execution_count": null,
      "metadata": {
        "id": "uQZxkI2OEX0J"
      },
      "outputs": [],
      "source": [
        "from sklearn.metrics import confusion_matrix\n",
        "\n",
        "def plot_confusion_matrix(test_labels, target_predicted):\n",
        "    matrix = confusion_matrix(test_labels, target_predicted)\n",
        "    df_confusion = pd.DataFrame(matrix)\n",
        "    colormap = sns.color_palette(\"BrBG\", 10)\n",
        "    sns.heatmap(df_confusion, annot=True, fmt='.2f', cbar=None, cmap=colormap)\n",
        "    plt.title(\"Confusion Matrix\")\n",
        "    plt.tight_layout()\n",
        "    plt.ylabel(\"True Class\")\n",
        "    plt.xlabel(\"Predicted Class\")\n",
        "    plt.show()\n",
        "    "
      ]
    },
    {
      "cell_type": "code",
      "execution_count": null,
      "metadata": {
        "id": "0dQkQXRTEX0J"
      },
      "outputs": [],
      "source": [
        "from sklearn import metrics\n",
        "\n",
        "def plot_roc(test_labels, target_predicted):\n",
        "    TN, FP, FN, TP = confusion_matrix(test_labels, target_predicted).ravel()\n",
        "    # Sensitivity, hit rate, recall, or true positive rate\n",
        "    Sensitivity  = float(TP)/(TP+FN)*100\n",
        "    # Specificity or true negative rate\n",
        "    Specificity  = float(TN)/(TN+FP)*100\n",
        "    # Precision or positive predictive value\n",
        "    Precision = float(TP)/(TP+FP)*100\n",
        "    # Negative predictive value\n",
        "    NPV = float(TN)/(TN+FN)*100\n",
        "    # Fall out or false positive rate\n",
        "    FPR = float(FP)/(FP+TN)*100\n",
        "    # False negative rate\n",
        "    FNR = float(FN)/(TP+FN)*100\n",
        "    # False discovery rate\n",
        "    FDR = float(FP)/(TP+FP)*100\n",
        "    # Overall accuracy\n",
        "    ACC = float(TP+TN)/(TP+FP+FN+TN)*100\n",
        "\n",
        "    print(\"Sensitivity or TPR: \", Sensitivity, \"%\") \n",
        "    print( \"Specificity or TNR: \",Specificity, \"%\") \n",
        "    print(\"Precision: \",Precision, \"%\") \n",
        "    print(\"Negative Predictive Value: \",NPV, \"%\") \n",
        "    print( \"False Positive Rate: \",FPR,\"%\")\n",
        "    print(\"False Negative Rate: \",FNR, \"%\") \n",
        "    print(\"False Discovery Rate: \",FDR, \"%\" )\n",
        "    print(\"Accuracy: \",ACC, \"%\") \n",
        "\n",
        "    test_labels = test.iloc[:,0];\n",
        "    print(\"Validation AUC\", metrics.roc_auc_score(test_labels, target_predicted) )\n",
        "\n",
        "    fpr, tpr, thresholds = metrics.roc_curve(test_labels, target_predicted)\n",
        "    roc_auc = metrics.auc(fpr, tpr)\n",
        "\n",
        "    plt.figure()\n",
        "    plt.plot(fpr, tpr, label='ROC curve (area = %0.2f)' % (roc_auc))\n",
        "    plt.plot([0, 1], [0, 1], 'k--')\n",
        "    plt.xlim([0.0, 1.0])\n",
        "    plt.ylim([0.0, 1.05])\n",
        "    plt.xlabel('False Positive Rate')\n",
        "    plt.ylabel('True Positive Rate')\n",
        "    plt.title('Receiver operating characteristic')\n",
        "    plt.legend(loc=\"lower right\")\n",
        "\n",
        "    # create the axis of thresholds (scores)\n",
        "    ax2 = plt.gca().twinx()\n",
        "    ax2.plot(fpr, thresholds, markeredgecolor='r',linestyle='dashed', color='r')\n",
        "    ax2.set_ylabel('Threshold',color='r')\n",
        "    ax2.set_ylim([thresholds[-1],thresholds[0]])\n",
        "    ax2.set_xlim([fpr[0],fpr[-1]])\n",
        "\n",
        "    print(plt.figure())"
      ]
    },
    {
      "cell_type": "markdown",
      "metadata": {
        "id": "CfpHSVsGEX0J"
      },
      "source": [
        "To plot the confusion matrix, call the `plot_confusion_matrix` function on the `test_labels` and the `target_predicted` data from your batch job:"
      ]
    },
    {
      "cell_type": "code",
      "execution_count": null,
      "metadata": {
        "id": "v04_vSoKEX0K",
        "outputId": "f352e95a-5681-44a5-93f6-2a695fc4727c"
      },
      "outputs": [
        {
          "data": {
            "image/png": "[encoded data removed]",
            "text/plain": [
              "<Figure size 432x288 with 1 Axes>"
            ]
          },
          "metadata": {
            "needs_background": "light"
          },
          "output_type": "display_data"
        }
      ],
      "source": [
        "# Enter your code here\n",
        "plot_confusion_matrix(test_labels,target_predicted)"
      ]
    },
    {
      "cell_type": "markdown",
      "metadata": {
        "id": "_Pxln_1IEX0K"
      },
      "source": [
        "To print statistics and plot a receiver operating characteristic (ROC) curve, call the `plot_roc` function on the `test_labels` and `target_predicted` data from your batch job:"
      ]
    },
    {
      "cell_type": "code",
      "execution_count": null,
      "metadata": {
        "id": "yH0Zfc9eEX0K",
        "outputId": "aef90dce-a855-4178-ab99-0e57855e3eda"
      },
      "outputs": [
        {
          "name": "stdout",
          "output_type": "stream",
          "text": [
            "Sensitivity or TPR:  0.45728599306789386 %\n",
            "Specificity or TNR:  99.88237661151781 %\n",
            "Precision:  50.80906148867314 %\n",
            "Negative Predictive Value:  79.06523736600306 %\n",
            "False Positive Rate:  0.11762338848219399 %\n",
            "False Negative Rate:  99.54271400693212 %\n",
            "False Discovery Rate:  49.19093851132686 %\n",
            "Accuracy:  79.01185504924828 %\n",
            "Validation AUC 0.5016983130229284\n",
            "Figure(432x288)\n"
          ]
        },
        {
          "data": {
            "image/png": "[encoded data removed]",
            "text/plain": [
              "<Figure size 432x288 with 2 Axes>"
            ]
          },
          "metadata": {
            "needs_background": "light"
          },
          "output_type": "display_data"
        },
        {
          "data": {
            "text/plain": [
              "<Figure size 432x288 with 0 Axes>"
            ]
          },
          "metadata": {},
          "output_type": "display_data"
        }
      ],
      "source": [
        "# Enter your code here\n",
        "plot_roc(test_labels,target_predicted)"
      ]
    },
    {
      "cell_type": "markdown",
      "metadata": {
        "id": "OQJ9W0-3EX0K"
      },
      "source": [
        "### Key questions to consider:\n",
        "\n",
        "1. How does your model's performance on the test set compare to its performance on the training set? What can you deduce from this comparison? \n",
        "2. Are there obvious differences between the outcomes of metrics like accuracy, precision, and recall? If so, why might you be seeing those differences? \n",
        "3. Given your business situation and goals, which metric (or metrics) is the most important for you to consider? Why?\n",
        "4. From a business standpoint, is the outcome for the metric (or metrics) that you consider to be the most important sufficient for what you need? If not, what are some things you might change in your next iteration? (This will happen in the feature engineering section, which is next.)\n",
        "\n",
        "Use the following cells to answer these (and other) questions. Insert and delete cells where needed.\n",
        "\n",
        "#### <span style=\"color: blue;\">Project presentation: In your project presentation, write down your answers to these questions -- and other similar questions that you might answer -- in this section. Record the key details and decisions that you made.</span>"
      ]
    },
    {
      "cell_type": "markdown",
      "metadata": {
        "id": "GUxOgSahEX0K"
      },
      "source": [
        "\n",
        "**Question**: What can you summarize from the confusion matrix?\n"
      ]
    },
    {
      "cell_type": "code",
      "execution_count": null,
      "metadata": {
        "id": "gTd_xUllEX0K"
      },
      "outputs": [],
      "source": [
        "# Enter your answer here\n",
        "จากการทำนายจะเห็นว่าค่า TP เท่ากับ 129107 นั้นก็คือเป็นค่าที่ทำนายไว้ว่าเที่ยวบินจะไม่ดีเลย์ซึ่งตรงกับสิ่งที่เกิดขึ้นจริงว่าเที่ยวบินไม่ดีเลย์\n",
        "ค่า TN เท่ากับ 34200 นั้นคือค่าที่ทำนายไว้ว่าเที่ยวบินจะไม่ดีเลย์แต่ในความเป็นจริงเที่ยวบินนั้นดีเลย์\n",
        "ค่า FP เท่ากับ 133 นั้นคือค่าที่ทำนายไว้ว่าเที่ยวบินนั้นดีเลย์ซึ่งตรงกับสิ่งที่เกิดขึ้นจริงว่าเที่ยวบินนั้นดีเลย์\n",
        "ค่า FN เท่ากับ 119 นั้นคือค่าที่ทำนายไว้ว่าเที่ยวบินนั้นดีเลย์แต่ในความเป็นจริงเที่ยวบินนั้นไม่ดีเลย์"
      ]
    },
    {
      "cell_type": "markdown",
      "metadata": {
        "id": "U31XzyELEX0K"
      },
      "source": [
        "## <span style=\"color:red\"> End of Step 3 </span>\n",
        "\n",
        "Save the project file to your local computer. Follow these steps:\n",
        "\n",
        "1. In the file explorer on the left, right-click the notebook that you're working on. \n",
        "\n",
        "2. Select **Download**, and save the file locally.  \n",
        "\n",
        "This action downloads the current notebook to the default download folder on your computer."
      ]
    },
    {
      "cell_type": "markdown",
      "metadata": {
        "id": "LPZZB0SrEX0K"
      },
      "source": [
        "# Iteration II"
      ]
    },
    {
      "cell_type": "markdown",
      "metadata": {
        "id": "hJmkIA25EX0L"
      },
      "source": [
        "# Step 4: Feature engineering\n",
        "\n",
        "You have now gone through one iteration of training and evaluating your model. Given that the first outcome that you reached for your model probably wasn't sufficient for solving your business problem, what could you change about your data to possibly improve model performance?\n",
        "\n",
        "### Key questions to consider:\n",
        "\n",
        "1. How might the balance of your two main classes (*delay* and *no delay*) impact model performance?\n",
        "2. Do you have any features that are correlated?\n",
        "3. At this stage, could you perform any feature-reduction techniques that might have a positive impact on model performance? \n",
        "4. Can you think of adding some more data or datasets?\n",
        "5. After performing some feature engineering, how does the performance of your model compare to the first iteration?\n",
        "\n",
        "Use the following cells to perform specific feature-engineering techniques that you think could improve your model performance (use the previous questions as a guide). Insert and delete cells where needed.\n",
        "\n",
        "#### <span style=\"color: blue;\">Project presentation: In your project presentation, record your key decisions and the methods that you use in this section. Also include any new performance metrics that you obtain after you evaluate your model again.</span>\n",
        "\n",
        "Before you start, think about why the precision and recall are around 80 percent, and the accuracy is at 99 percent."
      ]
    },
    {
      "cell_type": "markdown",
      "metadata": {
        "id": "OxEvtEtZEX0L"
      },
      "source": [
        "Add more features:\n",
        "\n",
        "1. Holidays\n",
        "2. Weather"
      ]
    },
    {
      "cell_type": "markdown",
      "metadata": {
        "id": "AsZPbVJxEX0L"
      },
      "source": [
        "Because the list of holidays from 2014 to 2018 is known, you can create an indicator variable **is_holiday** to mark them.\n",
        "\n",
        "The hypothesis is that airplane delays could be higher during holidays compared to the rest of the days. Add a boolean variable `is_holiday` that includes the holidays for the years 2014-2018."
      ]
    },
    {
      "cell_type": "code",
      "execution_count": null,
      "metadata": {
        "id": "xokT3s5KEX0L"
      },
      "outputs": [],
      "source": [
        "# Source: http://www.calendarpedia.com/holidays/federal-holidays-2014.html\n",
        "\n",
        "holidays_14 = ['2014-01-01',  '2014-01-20', '2014-02-17', '2014-05-26', '2014-07-04', '2014-09-01', '2014-10-13', '2014-11-11', '2014-11-27', '2014-12-25' ] \n",
        "holidays_15 = ['2015-01-01',  '2015-01-19', '2015-02-16', '2015-05-25', '2015-06-03', '2015-07-04', '2015-09-07', '2015-10-12', '2015-11-11', '2015-11-26', '2015-12-25'] \n",
        "holidays_16 = ['2016-01-01',  '2016-01-18', '2016-02-15', '2016-05-30', '2016-07-04', '2016-09-05', '2016-10-10', '2016-11-11', '2016-11-24', '2016-12-25', '2016-12-26']\n",
        "holidays_17 = ['2017-01-02', '2017-01-16', '2017-02-20', '2017-05-29' , '2017-07-04', '2017-09-04' ,'2017-10-09', '2017-11-10', '2017-11-23', '2017-12-25']\n",
        "holidays_18 = ['2018-01-01', '2018-01-15', '2018-02-19', '2018-05-28' , '2018-07-04', '2018-09-03' ,'2018-10-08', '2018-11-12','2018-11-22', '2018-12-25']\n",
        "holidays = holidays_14+ holidays_15+ holidays_16 + holidays_17+ holidays_18\n",
        "\n",
        "### Add indicator variable for holidays\n",
        "data_orig['is_holiday'] = np.isin(data_orig['FlightDate'],holidays) # Enter your code here "
      ]
    },
    {
      "cell_type": "markdown",
      "metadata": {
        "id": "e15Jk4_jEX0L"
      },
      "source": [
        "Weather data was fetched from https://www.ncei.noaa.gov/access/services/data/v1?dataset=daily-summaries&stations=USW00023174,USW00012960,USW00003017,USW00094846,USW00013874,USW00023234,USW00003927,USW00023183,USW00013881&dataTypes=AWND,PRCP,SNOW,SNWD,TAVG,TMIN,TMAX&startDate=2014-01-01&endDate=2018-12-31.\n",
        "<br>\n",
        "\n",
        "This dataset has information on wind speed, precipitation, snow, and temperature for cities by their airport codes.\n",
        "\n",
        "**Question**: Could bad weather because of rain, heavy winds, or snow lead to airplane delays? You will now check."
      ]
    },
    {
      "cell_type": "code",
      "execution_count": null,
      "metadata": {
        "id": "WMxC23xrEX0L",
        "outputId": "97c63161-b185-45a0-bb38-73ab7f313280"
      },
      "outputs": [
        {
          "name": "stdout",
          "output_type": "stream",
          "text": [
            "download: s3://aws-tc-largeobjects/CUR-TF-200-ACMLFO-1/flight_delay_project/data2/daily-summaries.csv to ../project/data/daily-summaries.csv\n"
          ]
        }
      ],
      "source": [
        "!aws s3 cp s3://aws-tc-largeobjects/CUR-TF-200-ACMLFO-1/flight_delay_project/data2/daily-summaries.csv /home/ec2-user/SageMaker/project/data/\n",
        "#!wget 'https://www.ncei.noaa.gov/access/services/data/v1?dataset=daily-summaries&stations=USW00023174,USW00012960,USW00003017,USW00094846,USW00013874,USW00023234,USW00003927,USW00023183,USW00013881&dataTypes=AWND,PRCP,SNOW,SNWD,TAVG,TMIN,TMAX&startDate=2014-01-01&endDate=2018-12-31' -O /home/ec2-user/SageMaker/project/data/daily-summaries.csv"
      ]
    },
    {
      "cell_type": "markdown",
      "metadata": {
        "id": "k1POH0SBEX0L"
      },
      "source": [
        "Import the weather data that was prepared for the airport codes in the dataset. Use the following stations and airports  for the analysis. Create a new column called *airport* that maps the weather station to the airport name."
      ]
    },
    {
      "cell_type": "code",
      "execution_count": null,
      "metadata": {
        "id": "YQxdgWSDEX0L"
      },
      "outputs": [],
      "source": [
        "weather = pd.read_csv('/home/ec2-user/SageMaker/project/data/daily-summaries.csv')\n",
        "station = ['USW00023174','USW00012960','USW00003017','USW00094846','USW00013874','USW00023234','USW00003927','USW00023183','USW00013881'] \n",
        "airports = ['LAX', 'IAH', 'DEN', 'ORD', 'ATL', 'SFO', 'DFW', 'PHX', 'CLT']\n",
        "\n",
        "### Map weather stations to airport code\n",
        "station_map = {s:a for s,a in zip(station, airports)}\n",
        "weather['airport'] = weather['STATION'].map(station_map)"
      ]
    },
    {
      "cell_type": "markdown",
      "metadata": {
        "id": "-gk8Ff_7EX0M"
      },
      "source": [
        "From the **DATE** column, create another column called *MONTH*."
      ]
    },
    {
      "cell_type": "code",
      "execution_count": null,
      "metadata": {
        "id": "PMyTIaWNEX0M",
        "outputId": "f6e4103a-4f4a-4dcf-dd0f-393235d55199"
      },
      "outputs": [
        {
          "data": {
            "text/html": [
              "<div>\n",
              "<style scoped>\n",
              "    .dataframe tbody tr th:only-of-type {\n",
              "        vertical-align: middle;\n",
              "    }\n",
              "\n",
              "    .dataframe tbody tr th {\n",
              "        vertical-align: top;\n",
              "    }\n",
              "\n",
              "    .dataframe thead th {\n",
              "        text-align: right;\n",
              "    }\n",
              "</style>\n",
              "<table border=\"1\" class=\"dataframe\">\n",
              "  <thead>\n",
              "    <tr style=\"text-align: right;\">\n",
              "      <th></th>\n",
              "      <th>STATION</th>\n",
              "      <th>DATE</th>\n",
              "      <th>AWND</th>\n",
              "      <th>PRCP</th>\n",
              "      <th>SNOW</th>\n",
              "      <th>SNWD</th>\n",
              "      <th>TAVG</th>\n",
              "      <th>TMAX</th>\n",
              "      <th>TMIN</th>\n",
              "      <th>airport</th>\n",
              "      <th>MONTH</th>\n",
              "    </tr>\n",
              "  </thead>\n",
              "  <tbody>\n",
              "    <tr>\n",
              "      <th>0</th>\n",
              "      <td>USW00023174</td>\n",
              "      <td>2014-01-01</td>\n",
              "      <td>16</td>\n",
              "      <td>0</td>\n",
              "      <td>NaN</td>\n",
              "      <td>NaN</td>\n",
              "      <td>131.0</td>\n",
              "      <td>178.0</td>\n",
              "      <td>78.0</td>\n",
              "      <td>LAX</td>\n",
              "      <td>01</td>\n",
              "    </tr>\n",
              "    <tr>\n",
              "      <th>1</th>\n",
              "      <td>USW00023174</td>\n",
              "      <td>2014-01-02</td>\n",
              "      <td>22</td>\n",
              "      <td>0</td>\n",
              "      <td>NaN</td>\n",
              "      <td>NaN</td>\n",
              "      <td>159.0</td>\n",
              "      <td>256.0</td>\n",
              "      <td>100.0</td>\n",
              "      <td>LAX</td>\n",
              "      <td>01</td>\n",
              "    </tr>\n",
              "    <tr>\n",
              "      <th>2</th>\n",
              "      <td>USW00023174</td>\n",
              "      <td>2014-01-03</td>\n",
              "      <td>17</td>\n",
              "      <td>0</td>\n",
              "      <td>NaN</td>\n",
              "      <td>NaN</td>\n",
              "      <td>140.0</td>\n",
              "      <td>178.0</td>\n",
              "      <td>83.0</td>\n",
              "      <td>LAX</td>\n",
              "      <td>01</td>\n",
              "    </tr>\n",
              "    <tr>\n",
              "      <th>3</th>\n",
              "      <td>USW00023174</td>\n",
              "      <td>2014-01-04</td>\n",
              "      <td>18</td>\n",
              "      <td>0</td>\n",
              "      <td>NaN</td>\n",
              "      <td>NaN</td>\n",
              "      <td>136.0</td>\n",
              "      <td>183.0</td>\n",
              "      <td>100.0</td>\n",
              "      <td>LAX</td>\n",
              "      <td>01</td>\n",
              "    </tr>\n",
              "    <tr>\n",
              "      <th>4</th>\n",
              "      <td>USW00023174</td>\n",
              "      <td>2014-01-05</td>\n",
              "      <td>18</td>\n",
              "      <td>0</td>\n",
              "      <td>NaN</td>\n",
              "      <td>NaN</td>\n",
              "      <td>151.0</td>\n",
              "      <td>244.0</td>\n",
              "      <td>83.0</td>\n",
              "      <td>LAX</td>\n",
              "      <td>01</td>\n",
              "    </tr>\n",
              "  </tbody>\n",
              "</table>\n",
              "</div>"
            ],
            "text/plain": [
              "       STATION        DATE  AWND  PRCP  SNOW  SNWD   TAVG   TMAX   TMIN  \\\n",
              "0  USW00023174  2014-01-01    16     0   NaN   NaN  131.0  178.0   78.0   \n",
              "1  USW00023174  2014-01-02    22     0   NaN   NaN  159.0  256.0  100.0   \n",
              "2  USW00023174  2014-01-03    17     0   NaN   NaN  140.0  178.0   83.0   \n",
              "3  USW00023174  2014-01-04    18     0   NaN   NaN  136.0  183.0  100.0   \n",
              "4  USW00023174  2014-01-05    18     0   NaN   NaN  151.0  244.0   83.0   \n",
              "\n",
              "  airport MONTH  \n",
              "0     LAX    01  \n",
              "1     LAX    01  \n",
              "2     LAX    01  \n",
              "3     LAX    01  \n",
              "4     LAX    01  "
            ]
          },
          "execution_count": 54,
          "metadata": {},
          "output_type": "execute_result"
        }
      ],
      "source": [
        "weather['MONTH'] = weather['DATE'].apply(lambda x: x.split('-')[1])\n",
        "weather.head()"
      ]
    },
    {
      "cell_type": "markdown",
      "metadata": {
        "id": "p3JtqVMSEX0M"
      },
      "source": [
        "### Sample output\n",
        "```\n",
        "  STATION     DATE      AWND PRCP SNOW SNWD TAVG TMAX  TMIN airport MONTH\n",
        "0 USW00023174 2014-01-01 16   0   NaN  NaN 131.0 178.0 78.0  LAX    01\n",
        "1 USW00023174 2014-01-02 22   0   NaN  NaN 159.0 256.0 100.0 LAX    01\n",
        "2 USW00023174 2014-01-03 17   0   NaN  NaN 140.0 178.0 83.0  LAX    01\n",
        "3 USW00023174 2014-01-04 18   0   NaN  NaN 136.0 183.0 100.0 LAX    01\n",
        "4 USW00023174 2014-01-05 18   0   NaN  NaN 151.0 244.0 83.0  LAX    01\n",
        "```"
      ]
    },
    {
      "cell_type": "markdown",
      "metadata": {
        "id": "PzFlrlwDEX0M"
      },
      "source": [
        "Analyze and handle the **SNOW** and **SNWD** columns for missing values by using `fillna()`. To check the missing values for all the columns, use the `isna()` function."
      ]
    },
    {
      "cell_type": "code",
      "execution_count": null,
      "metadata": {
        "id": "rZOK3b2sEX0M",
        "outputId": "24940c05-7dea-45e0-ce78-72b51cf8368b"
      },
      "outputs": [
        {
          "data": {
            "text/plain": [
              "STATION     0\n",
              "DATE        0\n",
              "AWND        0\n",
              "PRCP        0\n",
              "SNOW        0\n",
              "SNWD        0\n",
              "TAVG       62\n",
              "TMAX       20\n",
              "TMIN       20\n",
              "airport     0\n",
              "MONTH       0\n",
              "dtype: int64"
            ]
          },
          "execution_count": 55,
          "metadata": {},
          "output_type": "execute_result"
        }
      ],
      "source": [
        "weather.SNOW.fillna(0, inplace=True)\n",
        "weather.SNWD.fillna(0, inplace=True)\n",
        "weather.isna().sum()"
      ]
    },
    {
      "cell_type": "markdown",
      "metadata": {
        "id": "Q9TMPbHVEX0M"
      },
      "source": [
        "**Question**: Print the index of the rows that have missing values for *TAVG*, *TMAX*, *TMIN*.\n",
        "\n",
        "**Hint**: To find the rows that are missing, use the `isna()` function. Then, to get the index, use the list on the *idx* variable."
      ]
    },
    {
      "cell_type": "code",
      "execution_count": null,
      "metadata": {
        "id": "HcXeMwmlEX0M",
        "outputId": "52200c15-db23-4200-e110-88ff8f0aa293"
      },
      "outputs": [
        {
          "data": {
            "text/plain": [
              "array([ 3956,  3957,  3958,  3959,  3960,  3961,  3962,  3963,  3964,\n",
              "        3965,  3966,  3967,  3968,  3969,  3970,  3971,  3972,  3973,\n",
              "        3974,  3975,  3976,  3977,  3978,  3979,  3980,  3981,  3982,\n",
              "        3983,  3984,  3985,  4017,  4018,  4019,  4020,  4021,  4022,\n",
              "        4023,  4024,  4025,  4026,  4027,  4028,  4029,  4030,  4031,\n",
              "        4032,  4033,  4034,  4035,  4036,  4037,  4038,  4039,  4040,\n",
              "        4041,  4042,  4043,  4044,  4045,  4046,  4047, 13420])"
            ]
          },
          "execution_count": 56,
          "metadata": {},
          "output_type": "execute_result"
        }
      ],
      "source": [
        "idx = np.array([i for i in range(len(weather))])\n",
        "TAVG_idx = idx[weather.TAVG.isna()] \n",
        "TMAX_idx = idx[weather.TMAX.isna()] # Enter your code here \n",
        "TMIN_idx = idx[weather.TMIN.isna()] # Enter your code here \n",
        "TAVG_idx"
      ]
    },
    {
      "cell_type": "markdown",
      "metadata": {
        "id": "TkS5EpHiEX0M"
      },
      "source": [
        "### Sample output\n",
        "\n",
        "```\n",
        "array([ 3956,  3957,  3958,  3959,  3960,  3961,  3962,  3963,  3964,\n",
        "        3965,  3966,  3967,  3968,  3969,  3970,  3971,  3972,  3973,\n",
        "        3974,  3975,  3976,  3977,  3978,  3979,  3980,  3981,  3982,\n",
        "        3983,  3984,  3985,  4017,  4018,  4019,  4020,  4021,  4022,\n",
        "        4023,  4024,  4025,  4026,  4027,  4028,  4029,  4030,  4031,\n",
        "        4032,  4033,  4034,  4035,  4036,  4037,  4038,  4039,  4040,\n",
        "        4041,  4042,  4043,  4044,  4045,  4046,  4047, 13420])\n",
        "```"
      ]
    },
    {
      "cell_type": "markdown",
      "metadata": {
        "id": "92x-G47QEX0N"
      },
      "source": [
        "You can replace the missing *TAVG*, *TMAX*, and *TMIN* values with the average value for a particular station or airport. Because consecutive rows of *TAVG_idx* are missing, replacing them with a previous value would not be possible. Instead, replace them with the mean. Use the `groupby` function to aggregate the variables with a mean value.\n",
        "\n",
        "**Hint:** Group by `MONTH` and `STATION`."
      ]
    },
    {
      "cell_type": "code",
      "execution_count": null,
      "metadata": {
        "id": "irGtqfuiEX0N",
        "outputId": "9c06d86d-a765-4ada-8063-60deecbb7aaa"
      },
      "outputs": [
        {
          "data": {
            "text/html": [
              "<div>\n",
              "<style scoped>\n",
              "    .dataframe tbody tr th:only-of-type {\n",
              "        vertical-align: middle;\n",
              "    }\n",
              "\n",
              "    .dataframe tbody tr th {\n",
              "        vertical-align: top;\n",
              "    }\n",
              "\n",
              "    .dataframe thead th {\n",
              "        text-align: right;\n",
              "    }\n",
              "</style>\n",
              "<table border=\"1\" class=\"dataframe\">\n",
              "  <thead>\n",
              "    <tr style=\"text-align: right;\">\n",
              "      <th></th>\n",
              "      <th>MONTH</th>\n",
              "      <th>STATION</th>\n",
              "      <th>TAVG</th>\n",
              "      <th>TMAX</th>\n",
              "      <th>TMIN</th>\n",
              "    </tr>\n",
              "  </thead>\n",
              "  <tbody>\n",
              "    <tr>\n",
              "      <th>0</th>\n",
              "      <td>01</td>\n",
              "      <td>USW00003017</td>\n",
              "      <td>-2.741935</td>\n",
              "      <td>74.000000</td>\n",
              "      <td>-69.858065</td>\n",
              "    </tr>\n",
              "    <tr>\n",
              "      <th>1</th>\n",
              "      <td>01</td>\n",
              "      <td>USW00003927</td>\n",
              "      <td>79.529032</td>\n",
              "      <td>143.767742</td>\n",
              "      <td>20.696774</td>\n",
              "    </tr>\n",
              "  </tbody>\n",
              "</table>\n",
              "</div>"
            ],
            "text/plain": [
              "  MONTH      STATION       TAVG        TMAX       TMIN\n",
              "0    01  USW00003017  -2.741935   74.000000 -69.858065\n",
              "1    01  USW00003927  79.529032  143.767742  20.696774"
            ]
          },
          "execution_count": 57,
          "metadata": {},
          "output_type": "execute_result"
        }
      ],
      "source": [
        "weather_impute = weather.groupby(['MONTH','STATION']).agg({'TAVG':'mean','TMAX':'mean', 'TMIN':'mean' }).reset_index()# Enter your code here\n",
        "weather_impute.head(2)"
      ]
    },
    {
      "cell_type": "markdown",
      "metadata": {
        "id": "AtnrbGvOEX0N"
      },
      "source": [
        "Merge the mean data with the weather data."
      ]
    },
    {
      "cell_type": "code",
      "execution_count": null,
      "metadata": {
        "id": "OoRvfOZbEX0N"
      },
      "outputs": [],
      "source": [
        "\n",
        "weather = pd.merge(weather, weather_impute,  how='left', left_on=['MONTH','STATION'], right_on = ['MONTH','STATION'])\\\n",
        ".rename(columns = {'TAVG_y':'TAVG_AVG',\n",
        "                   'TMAX_y':'TMAX_AVG', \n",
        "                   'TMIN_y':'TMIN_AVG',\n",
        "                   'TAVG_x':'TAVG',\n",
        "                   'TMAX_x':'TMAX', \n",
        "                   'TMIN_x':'TMIN'})"
      ]
    },
    {
      "cell_type": "markdown",
      "metadata": {
        "id": "PsIGg2_7EX0N"
      },
      "source": [
        "Check for missing values again."
      ]
    },
    {
      "cell_type": "code",
      "execution_count": null,
      "metadata": {
        "id": "XuVTIaVtEX0N",
        "outputId": "93347d15-1907-4fab-bb02-1329e0b624a0"
      },
      "outputs": [
        {
          "data": {
            "text/plain": [
              "STATION     0\n",
              "DATE        0\n",
              "AWND        0\n",
              "PRCP        0\n",
              "SNOW        0\n",
              "SNWD        0\n",
              "TAVG        0\n",
              "TMAX        0\n",
              "TMIN        0\n",
              "airport     0\n",
              "MONTH       0\n",
              "TAVG_AVG    0\n",
              "TMAX_AVG    0\n",
              "TMIN_AVG    0\n",
              "dtype: int64"
            ]
          },
          "execution_count": 59,
          "metadata": {},
          "output_type": "execute_result"
        }
      ],
      "source": [
        "weather.TAVG[TAVG_idx] = weather.TAVG_AVG[TAVG_idx]\n",
        "weather.TMAX[TMAX_idx] = weather.TMAX_AVG[TMAX_idx]\n",
        "weather.TMIN[TMIN_idx] = weather.TMIN_AVG[TMIN_idx]\n",
        "weather.isna().sum()"
      ]
    },
    {
      "cell_type": "markdown",
      "metadata": {
        "id": "fZpCoqjjEX0N"
      },
      "source": [
        "Drop `STATION,MONTH,TAVG_AVG,TMAX_AVG,TMIN_AVG,TMAX,TMIN,SNWD` from the dataset."
      ]
    },
    {
      "cell_type": "code",
      "execution_count": null,
      "metadata": {
        "id": "7MF62Lu6EX0N"
      },
      "outputs": [],
      "source": [
        "weather.drop(columns=['STATION','MONTH','TAVG_AVG', 'TMAX_AVG', 'TMIN_AVG', 'TMAX' ,'TMIN', 'SNWD'],inplace=True)"
      ]
    },
    {
      "cell_type": "markdown",
      "metadata": {
        "id": "1UdTSPNIEX0O"
      },
      "source": [
        "Add the origin and destination weather conditions to the dataset."
      ]
    },
    {
      "cell_type": "code",
      "execution_count": null,
      "metadata": {
        "id": "qkE7cOXuEX0O"
      },
      "outputs": [],
      "source": [
        "### Add origin weather conditions\n",
        "data_orig = pd.merge(data_orig, weather,  how='left', left_on=['FlightDate','Origin'], right_on = ['DATE','airport'])\\\n",
        ".rename(columns = {'AWND':'AWND_O','PRCP':'PRCP_O', 'TAVG':'TAVG_O', 'SNOW': 'SNOW_O'})\\\n",
        ".drop(columns=['DATE','airport'])\n",
        "\n",
        "### Add destination weather conditions\n",
        "data_orig = pd.merge(data_orig, weather,  how='left', left_on=['FlightDate','Dest'], right_on = ['DATE','airport'])\\\n",
        ".rename(columns = {'AWND':'AWND_D','PRCP':'PRCP_D', 'TAVG':'TAVG_D', 'SNOW': 'SNOW_D'})\\\n",
        ".drop(columns=['DATE','airport'])"
      ]
    },
    {
      "cell_type": "markdown",
      "metadata": {
        "id": "tkpGkQ4TEX0O"
      },
      "source": [
        "**Note**: It's always a good practice to check for nulls or NAs after joins."
      ]
    },
    {
      "cell_type": "code",
      "execution_count": null,
      "metadata": {
        "id": "ipXZubiuEX0O",
        "outputId": "7b335aa2-ecaa-44b7-e0aa-da9240aa6e83"
      },
      "outputs": [
        {
          "data": {
            "text/plain": [
              "0"
            ]
          },
          "execution_count": 62,
          "metadata": {},
          "output_type": "execute_result"
        }
      ],
      "source": [
        "sum(data.isna().any())"
      ]
    },
    {
      "cell_type": "code",
      "execution_count": null,
      "metadata": {
        "id": "SWkzLEbfEX0O",
        "outputId": "a58df02e-4b48-4b62-c778-392477b9b104"
      },
      "outputs": [
        {
          "data": {
            "text/plain": [
              "Index(['Year', 'Quarter', 'Month', 'DayofMonth', 'DayOfWeek', 'FlightDate',\n",
              "       'Reporting_Airline', 'Origin', 'OriginState', 'Dest', 'DestState',\n",
              "       'CRSDepTime', 'Cancelled', 'Diverted', 'Distance', 'DistanceGroup',\n",
              "       'ArrDelay', 'ArrDelayMinutes', 'is_delay', 'AirTime', 'DepHourofDay',\n",
              "       'is_holiday', 'AWND_O', 'PRCP_O', 'SNOW_O', 'TAVG_O', 'AWND_D',\n",
              "       'PRCP_D', 'SNOW_D', 'TAVG_D'],\n",
              "      dtype='object')"
            ]
          },
          "execution_count": 63,
          "metadata": {},
          "output_type": "execute_result"
        }
      ],
      "source": [
        "data_orig.columns"
      ]
    },
    {
      "cell_type": "markdown",
      "metadata": {
        "id": "3NuVHEy9EX0O"
      },
      "source": [
        "Convert the categorical data into numerical data by using one-hot encoding."
      ]
    },
    {
      "cell_type": "code",
      "execution_count": null,
      "metadata": {
        "id": "P3FIPWgREX0O"
      },
      "outputs": [],
      "source": [
        "data = data_orig.copy()\n",
        "data = data[['is_delay', 'Year', 'Quarter', 'Month', 'DayofMonth', 'DayOfWeek', \n",
        "       'Reporting_Airline', 'Origin', 'Dest','Distance','DepHourofDay','is_holiday', 'AWND_O', 'PRCP_O',\n",
        "       'TAVG_O', 'AWND_D', 'PRCP_D', 'TAVG_D', 'SNOW_O', 'SNOW_D']]\n",
        "\n",
        "\n",
        "categorical_columns  = ['Year', 'Quarter', 'Month', 'DayofMonth', 'DayOfWeek', \n",
        "       'Reporting_Airline', 'Origin', 'Dest', 'is_holiday']\n",
        "for c in categorical_columns:\n",
        "    data[c] = data[c].astype('category')"
      ]
    },
    {
      "cell_type": "code",
      "execution_count": null,
      "metadata": {
        "id": "-ghVmuN6EX0O"
      },
      "outputs": [],
      "source": [
        "data_dummies = pd.get_dummies(data[['Year', 'Quarter', 'Month', 'DayofMonth', 'DayOfWeek', 'Reporting_Airline', 'Origin', 'Dest', 'is_holiday']], drop_first=True)\n",
        "data = pd.concat([data, data_dummies], axis = 1)\n",
        "data.drop(categorical_columns,axis=1, inplace=True)"
      ]
    },
    {
      "cell_type": "markdown",
      "metadata": {
        "id": "xnuscdM_EX0P"
      },
      "source": [
        "Check the new columns."
      ]
    },
    {
      "cell_type": "code",
      "execution_count": null,
      "metadata": {
        "id": "6BHlbxl9EX0P",
        "outputId": "a7aaa3b6-c70e-4d9e-c3a3-9f72178cbe3f"
      },
      "outputs": [
        {
          "data": {
            "text/plain": [
              "(1635590, 86)"
            ]
          },
          "execution_count": 66,
          "metadata": {},
          "output_type": "execute_result"
        }
      ],
      "source": [
        "data.shape"
      ]
    },
    {
      "cell_type": "code",
      "execution_count": null,
      "metadata": {
        "id": "bJDDuzz5EX0P",
        "outputId": "d59f8e5e-c770-446b-876c-bc359c5c65f1"
      },
      "outputs": [
        {
          "data": {
            "text/plain": [
              "Index(['is_delay', 'Distance', 'DepHourofDay', 'AWND_O', 'PRCP_O', 'TAVG_O',\n",
              "       'AWND_D', 'PRCP_D', 'TAVG_D', 'SNOW_O', 'SNOW_D', 'Year_2015',\n",
              "       'Year_2016', 'Year_2017', 'Year_2018', 'Quarter_2', 'Quarter_3',\n",
              "       'Quarter_4', 'Month_2', 'Month_3', 'Month_4', 'Month_5', 'Month_6',\n",
              "       'Month_7', 'Month_8', 'Month_9', 'Month_10', 'Month_11', 'Month_12',\n",
              "       'DayofMonth_2', 'DayofMonth_3', 'DayofMonth_4', 'DayofMonth_5',\n",
              "       'DayofMonth_6', 'DayofMonth_7', 'DayofMonth_8', 'DayofMonth_9',\n",
              "       'DayofMonth_10', 'DayofMonth_11', 'DayofMonth_12', 'DayofMonth_13',\n",
              "       'DayofMonth_14', 'DayofMonth_15', 'DayofMonth_16', 'DayofMonth_17',\n",
              "       'DayofMonth_18', 'DayofMonth_19', 'DayofMonth_20', 'DayofMonth_21',\n",
              "       'DayofMonth_22', 'DayofMonth_23', 'DayofMonth_24', 'DayofMonth_25',\n",
              "       'DayofMonth_26', 'DayofMonth_27', 'DayofMonth_28', 'DayofMonth_29',\n",
              "       'DayofMonth_30', 'DayofMonth_31', 'DayOfWeek_2', 'DayOfWeek_3',\n",
              "       'DayOfWeek_4', 'DayOfWeek_5', 'DayOfWeek_6', 'DayOfWeek_7',\n",
              "       'Reporting_Airline_DL', 'Reporting_Airline_OO', 'Reporting_Airline_UA',\n",
              "       'Reporting_Airline_WN', 'Origin_CLT', 'Origin_DEN', 'Origin_DFW',\n",
              "       'Origin_IAH', 'Origin_LAX', 'Origin_ORD', 'Origin_PHX', 'Origin_SFO',\n",
              "       'Dest_CLT', 'Dest_DEN', 'Dest_DFW', 'Dest_IAH', 'Dest_LAX', 'Dest_ORD',\n",
              "       'Dest_PHX', 'Dest_SFO', 'is_holiday_True'],\n",
              "      dtype='object')"
            ]
          },
          "execution_count": 67,
          "metadata": {},
          "output_type": "execute_result"
        }
      ],
      "source": [
        "data.columns"
      ]
    },
    {
      "cell_type": "markdown",
      "metadata": {
        "id": "eHHYEoTGEX0P"
      },
      "source": [
        "### Sample output\n",
        "\n",
        "```\n",
        "Index(['Distance', 'DepHourofDay', 'is_delay', 'AWND_O', 'PRCP_O', 'TAVG_O',\n",
        "       'AWND_D', 'PRCP_D', 'TAVG_D', 'SNOW_O', 'SNOW_D', 'Year_2015',\n",
        "       'Year_2016', 'Year_2017', 'Year_2018', 'Quarter_2', 'Quarter_3',\n",
        "       'Quarter_4', 'Month_2', 'Month_3', 'Month_4', 'Month_5', 'Month_6',\n",
        "       'Month_7', 'Month_8', 'Month_9', 'Month_10', 'Month_11', 'Month_12',\n",
        "       'DayofMonth_2', 'DayofMonth_3', 'DayofMonth_4', 'DayofMonth_5',\n",
        "       'DayofMonth_6', 'DayofMonth_7', 'DayofMonth_8', 'DayofMonth_9',\n",
        "       'DayofMonth_10', 'DayofMonth_11', 'DayofMonth_12', 'DayofMonth_13',\n",
        "       'DayofMonth_14', 'DayofMonth_15', 'DayofMonth_16', 'DayofMonth_17',\n",
        "       'DayofMonth_18', 'DayofMonth_19', 'DayofMonth_20', 'DayofMonth_21',\n",
        "       'DayofMonth_22', 'DayofMonth_23', 'DayofMonth_24', 'DayofMonth_25',\n",
        "       'DayofMonth_26', 'DayofMonth_27', 'DayofMonth_28', 'DayofMonth_29',\n",
        "       'DayofMonth_30', 'DayofMonth_31', 'DayOfWeek_2', 'DayOfWeek_3',\n",
        "       'DayOfWeek_4', 'DayOfWeek_5', 'DayOfWeek_6', 'DayOfWeek_7',\n",
        "       'Reporting_Airline_DL', 'Reporting_Airline_OO', 'Reporting_Airline_UA',\n",
        "       'Reporting_Airline_WN', 'Origin_CLT', 'Origin_DEN', 'Origin_DFW',\n",
        "       'Origin_IAH', 'Origin_LAX', 'Origin_ORD', 'Origin_PHX', 'Origin_SFO',\n",
        "       'Dest_CLT', 'Dest_DEN', 'Dest_DFW', 'Dest_IAH', 'Dest_LAX', 'Dest_ORD',\n",
        "       'Dest_PHX', 'Dest_SFO', 'is_holiday_1'],\n",
        "      dtype='object')\n",
        "```"
      ]
    },
    {
      "cell_type": "markdown",
      "metadata": {
        "id": "2REkZ_svEX0P"
      },
      "source": [
        "Rename the **is_delay** column to *target* again. Use the same code that you used previously."
      ]
    },
    {
      "cell_type": "code",
      "execution_count": null,
      "metadata": {
        "id": "h3k3P--eEX0P"
      },
      "outputs": [],
      "source": [
        "data.rename(columns = {'is_delay':'target'}, inplace=True )# Enter your code here"
      ]
    },
    {
      "cell_type": "markdown",
      "metadata": {
        "id": "EQzoBa3jEX0P"
      },
      "source": [
        "Create the training sets again.\n",
        "\n",
        "**Hint:** Use the `split_data` function that you defined (and used) earlier."
      ]
    },
    {
      "cell_type": "code",
      "execution_count": null,
      "metadata": {
        "id": "6P_02cecEX0P",
        "outputId": "d2d89797-f355-4bf4-e928-3900782277b3"
      },
      "outputs": [
        {
          "name": "stdout",
          "output_type": "stream",
          "text": [
            "0.0    1033806\n",
            "1.0     274666\n",
            "Name: target, dtype: int64\n",
            "0.0    129226\n",
            "1.0     34333\n",
            "Name: target, dtype: int64\n",
            "0.0    129226\n",
            "1.0     34333\n",
            "Name: target, dtype: int64\n"
          ]
        }
      ],
      "source": [
        "# Enter your code here\n",
        "train, validate, test = split_data(data)\n",
        "print(train['target'].value_counts())\n",
        "print(test['target'].value_counts())\n",
        "print(validate['target'].value_counts())"
      ]
    },
    {
      "cell_type": "markdown",
      "metadata": {
        "id": "9QxOci_WEX0P"
      },
      "source": [
        "### New baseline classifier\n",
        "\n",
        "Now, see if these new features add any predictive power to the model."
      ]
    },
    {
      "cell_type": "code",
      "execution_count": null,
      "metadata": {
        "id": "FHZVJjEFEX0Q"
      },
      "outputs": [],
      "source": [
        "# Instantiate the LinearLearner estimator object\n",
        "classifier_estimator2 = sagemaker.LinearLearner(role=sagemaker.get_execution_role(),\n",
        "                                               instance_count=1,\n",
        "                                               instance_type='ml.m4.xlarge',\n",
        "                                               predictor_type='binary_classifier',\n",
        "                                               binary_classifier_model_selection_criteria = 'cross_entropy_loss') # Enter your code here"
      ]
    },
    {
      "cell_type": "markdown",
      "metadata": {
        "id": "9eV2E2A4EX0Q"
      },
      "source": [
        "### Sample code\n",
        "\n",
        "```\n",
        "num_classes = len(pd.unique(train_labels)) \n",
        "classifier_estimator2 = sagemaker.LinearLearner(role=sagemaker.get_execution_role(),\n",
        "                                               instance_count=1,\n",
        "                                               instance_type='ml.m4.xlarge',\n",
        "                                               predictor_type='binary_classifier',\n",
        "                                               binary_classifier_model_selection_criteria = 'cross_entropy_loss')\n",
        "```"
      ]
    },
    {
      "cell_type": "code",
      "execution_count": null,
      "metadata": {
        "id": "F7yd7C3OEX0Q"
      },
      "outputs": [],
      "source": [
        "train_records = classifier_estimator2.record_set(train.values[:, 1:].astype(np.float32), train.values[:, 0].astype(np.float32), channel='train')\n",
        "val_records = classifier_estimator2.record_set(validate.values[:, 1:].astype(np.float32), validate.values[:, 0].astype(np.float32), channel='validation')\n",
        "test_records = classifier_estimator2.record_set(test.values[:, 1:].astype(np.float32), test.values[:, 0].astype(np.float32), channel='test')"
      ]
    },
    {
      "cell_type": "markdown",
      "metadata": {
        "id": "JsprMtAYEX0Q"
      },
      "source": [
        "Train your model by using the three datasets that you just created."
      ]
    },
    {
      "cell_type": "code",
      "execution_count": null,
      "metadata": {
        "id": "dJTPCCs0EX0Q",
        "outputId": "ba19a292-34c7-4ce6-e2f9-666b2b80d37d"
      },
      "outputs": [
        {
          "name": "stderr",
          "output_type": "stream",
          "text": [
            "Defaulting to the only supported framework/algorithm version: 1. Ignoring framework/algorithm version: 1.\n"
          ]
        },
        {
          "name": "stdout",
          "output_type": "stream",
          "text": [
            "2022-04-22 08:05:56 Starting - Starting the training job...\n",
            "2022-04-22 08:06:22 Starting - Preparing the instances for trainingProfilerReport-1650614755: InProgress\n",
            ".........\n",
            "2022-04-22 08:07:53 Downloading - Downloading input data.........\n",
            "2022-04-22 08:09:20 Training - Training image download completed. Training in progress.\u001b[34mDocker entrypoint called with argument(s): train\u001b[0m\n",
            "\u001b[34mRunning default environment configuration script\u001b[0m\n",
            "\u001b[34m[04/22/2022 08:09:18 INFO 139911885301568 integration.py:636] worker started\u001b[0m\n",
            "\u001b[34m[04/22/2022 08:09:18 INFO 139911885301568] Reading default configuration from /opt/amazon/lib/python3.7/site-packages/algorithm/resources/default-input.json: {'mini_batch_size': '1000', 'epochs': '15', 'feature_dim': 'auto', 'use_bias': 'true', 'binary_classifier_model_selection_criteria': 'accuracy', 'f_beta': '1.0', 'target_recall': '0.8', 'target_precision': '0.8', 'num_models': 'auto', 'num_calibration_samples': '10000000', 'init_method': 'uniform', 'init_scale': '0.07', 'init_sigma': '0.01', 'init_bias': '0.0', 'optimizer': 'auto', 'loss': 'auto', 'margin': '1.0', 'quantile': '0.5', 'loss_insensitivity': '0.01', 'huber_delta': '1.0', 'num_classes': '1', 'accuracy_top_k': '3', 'wd': 'auto', 'l1': 'auto', 'momentum': 'auto', 'learning_rate': 'auto', 'beta_1': 'auto', 'beta_2': 'auto', 'bias_lr_mult': 'auto', 'bias_wd_mult': 'auto', 'use_lr_scheduler': 'true', 'lr_scheduler_step': 'auto', 'lr_scheduler_factor': 'auto', 'lr_scheduler_minimum_lr': 'auto', 'positive_example_weight_mult': '1.0', 'balance_multiclass_weights': 'false', 'normalize_data': 'true', 'normalize_label': 'auto', 'unbias_data': 'auto', 'unbias_label': 'auto', 'num_point_for_scaler': '10000', '_kvstore': 'auto', '_num_gpus': 'auto', '_num_kv_servers': 'auto', '_log_level': 'info', '_tuning_objective_metric': '', 'early_stopping_patience': '3', 'early_stopping_tolerance': '0.001', '_enable_profiler': 'false'}\u001b[0m\n",
            "\u001b[34m[04/22/2022 08:09:18 INFO 139911885301568] Merging with provided configuration from /opt/ml/input/config/hyperparameters.json: {'binary_classifier_model_selection_criteria': 'cross_entropy_loss', 'feature_dim': '85', 'mini_batch_size': '1000', 'predictor_type': 'binary_classifier'}\u001b[0m\n",
            "\u001b[34m[04/22/2022 08:09:18 INFO 139911885301568] Final configuration: {'mini_batch_size': '1000', 'epochs': '15', 'feature_dim': '85', 'use_bias': 'true', 'binary_classifier_model_selection_criteria': 'cross_entropy_loss', 'f_beta': '1.0', 'target_recall': '0.8', 'target_precision': '0.8', 'num_models': 'auto', 'num_calibration_samples': '10000000', 'init_method': 'uniform', 'init_scale': '0.07', 'init_sigma': '0.01', 'init_bias': '0.0', 'optimizer': 'auto', 'loss': 'auto', 'margin': '1.0', 'quantile': '0.5', 'loss_insensitivity': '0.01', 'huber_delta': '1.0', 'num_classes': '1', 'accuracy_top_k': '3', 'wd': 'auto', 'l1': 'auto', 'momentum': 'auto', 'learning_rate': 'auto', 'beta_1': 'auto', 'beta_2': 'auto', 'bias_lr_mult': 'auto', 'bias_wd_mult': 'auto', 'use_lr_scheduler': 'true', 'lr_scheduler_step': 'auto', 'lr_scheduler_factor': 'auto', 'lr_scheduler_minimum_lr': 'auto', 'positive_example_weight_mult': '1.0', 'balance_multiclass_weights': 'false', 'normalize_data': 'true', 'normalize_label': 'auto', 'unbias_data': 'auto', 'unbias_label': 'auto', 'num_point_for_scaler': '10000', '_kvstore': 'auto', '_num_gpus': 'auto', '_num_kv_servers': 'auto', '_log_level': 'info', '_tuning_objective_metric': '', 'early_stopping_patience': '3', 'early_stopping_tolerance': '0.001', '_enable_profiler': 'false', 'predictor_type': 'binary_classifier'}\u001b[0m\n",
            "\u001b[34m[04/22/2022 08:09:18 WARNING 139911885301568] Loggers have already been setup.\u001b[0m\n",
            "\u001b[34mProcess 1 is a worker.\u001b[0m\n",
            "\u001b[34m[04/22/2022 08:09:18 INFO 139911885301568] Using default worker.\u001b[0m\n",
            "\u001b[34m[04/22/2022 08:09:18 INFO 139911885301568] Checkpoint loading and saving are disabled.\u001b[0m\n",
            "\u001b[34m[2022-04-22 08:09:18.736] [tensorio] [warning] TensorIO is already initialized; ignoring the initialization routine.\u001b[0m\n",
            "\u001b[34m[2022-04-22 08:09:18.746] [tensorio] [warning] TensorIO is already initialized; ignoring the initialization routine.\u001b[0m\n",
            "\u001b[34m[2022-04-22 08:09:18.811] [tensorio] [info] epoch_stats={\"data_pipeline\": \"/opt/ml/input/data/train\", \"epoch\": 0, \"duration\": 82, \"num_examples\": 1, \"num_bytes\": 388000}\u001b[0m\n",
            "\u001b[34m[04/22/2022 08:09:18 INFO 139911885301568] Create Store: local\u001b[0m\n",
            "\u001b[34m[2022-04-22 08:09:18.987] [tensorio] [info] epoch_stats={\"data_pipeline\": \"/opt/ml/input/data/train\", \"epoch\": 1, \"duration\": 173, \"num_examples\": 11, \"num_bytes\": 4268000}\u001b[0m\n",
            "\u001b[34m[04/22/2022 08:09:18 INFO 139911885301568] Scaler algorithm parameters\n",
            " <algorithm.scaler.ScalerAlgorithmStable object at 0x7f3f65f72fd0>\u001b[0m\n",
            "\u001b[34m[04/22/2022 08:09:18 INFO 139911885301568] Scaling model computed with parameters:\n",
            " {'stdev_label': None, 'stdev_weight': \u001b[0m\n",
            "\u001b[34m[5.4021075e+02 4.9620123e+00 1.6134853e+01 8.8421600e+01 8.8516701e+01\n",
            " 1.6183062e+01 7.6823975e+01 9.0350838e+01 6.7275343e+00 6.6822128e+00\n",
            " 3.9387313e-01 4.1942468e-01 4.0827569e-01 3.9986360e-01 4.3504041e-01\n",
            " 4.3808559e-01 4.3687826e-01 2.6206654e-01 2.7533180e-01 2.7656808e-01\n",
            " 2.7820411e-01 2.7969170e-01 2.8303030e-01 2.8156847e-01 2.7793238e-01\n",
            " 2.8156844e-01 2.7311417e-01 2.8448114e-01 1.7839867e-01 1.8515393e-01\n",
            " 1.7768295e-01 1.7331763e-01 1.8099520e-01 1.7911112e-01 1.8216139e-01\n",
            " 1.7208263e-01 1.7672350e-01 1.7744365e-01 1.7744364e-01 1.8239363e-01\n",
            " 1.7672351e-01 1.7648272e-01 1.7575808e-01 1.7624155e-01 1.8515390e-01\n",
            " 1.7672351e-01 1.7744368e-01 1.8786736e-01 1.7982028e-01 1.7816047e-01\n",
            " 1.7600000e-01 1.7911109e-01 1.8354958e-01 1.8400961e-01 1.8029134e-01\n",
            " 1.6806139e-01 1.6856998e-01 1.2155246e-01 3.5546011e-01 3.4726980e-01\n",
            " 3.6077440e-01 3.5875630e-01 3.3092499e-01 3.4230527e-01 3.7370476e-01\n",
            " 2.3966353e-01 4.6063808e-01 3.1424469e-01 2.3765521e-01 3.1118241e-01\n",
            " 3.2760054e-01 2.7629402e-01 3.5519010e-01 3.3630344e-01 3.0120832e-01\n",
            " 3.3225873e-01 2.4636538e-01 3.1625912e-01 3.2749566e-01 2.8461251e-01\n",
            " 3.6138391e-01 3.3184940e-01 3.0060509e-01 3.2770535e-01 1.6392864e-01]\u001b[0m\n",
            "\u001b[34m<NDArray 85 @cpu(0)>, 'mean_label': None, 'mean_weight': \u001b[0m\n",
            "\u001b[34m[1.01894336e+03 1.29057293e+01 3.83559074e+01 2.12276363e+01\n",
            " 1.72871338e+02 3.83266373e+01 2.04052753e+01 1.72329742e+02\n",
            " 5.81545532e-01 5.87545455e-01 1.92000017e-01 2.27818191e-01\n",
            " 2.11363658e-01 1.99818209e-01 2.53545493e-01 2.59000033e-01\n",
            " 2.56818205e-01 7.41818249e-02 8.26363713e-02 8.34545568e-02\n",
            " 8.45454633e-02 8.55454654e-02 8.78181905e-02 8.68181884e-02\n",
            " 8.43636394e-02 8.68181884e-02 8.11818317e-02 8.88181925e-02\n",
            " 3.29090916e-02 3.55454534e-02 3.26363668e-02 3.10000032e-02\n",
            " 3.39090936e-02 3.31818238e-02 3.43636386e-02 3.05454526e-02\n",
            " 3.22727263e-02 3.25454548e-02 3.25454585e-02 3.44545469e-02\n",
            " 3.22727263e-02 3.21818218e-02 3.19090933e-02 3.20909098e-02\n",
            " 3.55454572e-02 3.22727300e-02 3.25454548e-02 3.66363712e-02\n",
            " 3.34545448e-02 3.28181833e-02 3.20000015e-02 3.31818201e-02\n",
            " 3.49090919e-02 3.50909159e-02 3.36363651e-02 2.90909111e-02\n",
            " 2.92727295e-02 1.50000015e-02 1.48363665e-01 1.40272722e-01\n",
            " 1.53818190e-01 1.51727289e-01 1.25181839e-01 1.35545462e-01\n",
            " 1.67818204e-01 6.11818209e-02 3.05545479e-01 1.11090921e-01\n",
            " 6.00909144e-02 1.08636372e-01 1.22272745e-01 8.32727402e-02\n",
            " 1.48090944e-01 1.30000025e-01 1.00909099e-01 1.26363650e-01\n",
            " 6.49090931e-02 1.12727277e-01 1.22181840e-01 8.89090970e-02\n",
            " 1.54454559e-01 1.26000017e-01 1.00454554e-01 1.22363649e-01\n",
            " 2.76363678e-02]\u001b[0m\n",
            "\u001b[34m<NDArray 85 @cpu(0)>}\u001b[0m\n",
            "\u001b[34m[04/22/2022 08:09:19 INFO 139911885301568] nvidia-smi: took 0.089 seconds to run.\u001b[0m\n",
            "\u001b[34m[04/22/2022 08:09:19 INFO 139911885301568] nvidia-smi identified 0 GPUs.\u001b[0m\n",
            "\u001b[34m[04/22/2022 08:09:19 INFO 139911885301568] Number of GPUs being used: 0\u001b[0m\n",
            "\u001b[34m#metrics {\"StartTime\": 1650614959.2076614, \"EndTime\": 1650614959.207709, \"Dimensions\": {\"Algorithm\": \"Linear Learner\", \"Host\": \"algo-1\", \"Operation\": \"training\", \"Meta\": \"init_train_data_iter\"}, \"Metrics\": {\"Total Records Seen\": {\"sum\": 12000.0, \"count\": 1, \"min\": 12000, \"max\": 12000}, \"Total Batches Seen\": {\"sum\": 12.0, \"count\": 1, \"min\": 12, \"max\": 12}, \"Max Records Seen Between Resets\": {\"sum\": 11000.0, \"count\": 1, \"min\": 11000, \"max\": 11000}, \"Max Batches Seen Between Resets\": {\"sum\": 11.0, \"count\": 1, \"min\": 11, \"max\": 11}, \"Reset Count\": {\"sum\": 2.0, \"count\": 1, \"min\": 2, \"max\": 2}, \"Number of Records Since Last Reset\": {\"sum\": 0.0, \"count\": 1, \"min\": 0, \"max\": 0}, \"Number of Batches Since Last Reset\": {\"sum\": 0.0, \"count\": 1, \"min\": 0, \"max\": 0}}}\u001b[0m\n",
            "\u001b[34m[2022-04-22 08:10:20.053] [tensorio] [info] epoch_stats={\"data_pipeline\": \"/opt/ml/input/data/train\", \"epoch\": 3, \"duration\": 60844, \"num_examples\": 1309, \"num_bytes\": 507687136}\u001b[0m\n",
            "\u001b[34m#metrics {\"StartTime\": 1650615020.0533686, \"EndTime\": 1650615020.0534947, \"Dimensions\": {\"Algorithm\": \"Linear Learner\", \"Host\": \"algo-1\", \"Operation\": \"training\", \"epoch\": 0, \"model\": 0}, \"Metrics\": {\"train_binary_classification_cross_entropy_objective\": {\"sum\": 0.48315144033169527, \"count\": 1, \"min\": 0.48315144033169527, \"max\": 0.48315144033169527}}}\u001b[0m\n",
            "\u001b[34m#metrics {\"StartTime\": 1650615020.0536203, \"EndTime\": 1650615020.0536468, \"Dimensions\": {\"Algorithm\": \"Linear Learner\", \"Host\": \"algo-1\", \"Operation\": \"training\", \"epoch\": 0, \"model\": 1}, \"Metrics\": {\"train_binary_classification_cross_entropy_objective\": {\"sum\": 0.4837308207987281, \"count\": 1, \"min\": 0.4837308207987281, \"max\": 0.4837308207987281}}}\u001b[0m\n",
            "\u001b[34m#metrics {\"StartTime\": 1650615020.0537205, \"EndTime\": 1650615020.0537422, \"Dimensions\": {\"Algorithm\": \"Linear Learner\", \"Host\": \"algo-1\", \"Operation\": \"training\", \"epoch\": 0, \"model\": 2}, \"Metrics\": {\"train_binary_classification_cross_entropy_objective\": {\"sum\": 0.4832576171688348, \"count\": 1, \"min\": 0.4832576171688348, \"max\": 0.4832576171688348}}}\u001b[0m\n",
            "\u001b[34m#metrics {\"StartTime\": 1650615020.0537996, \"EndTime\": 1650615020.0538173, \"Dimensions\": {\"Algorithm\": \"Linear Learner\", \"Host\": \"algo-1\", \"Operation\": \"training\", \"epoch\": 0, \"model\": 3}, \"Metrics\": {\"train_binary_classification_cross_entropy_objective\": {\"sum\": 0.4838036368133825, \"count\": 1, \"min\": 0.4838036368133825, \"max\": 0.4838036368133825}}}\u001b[0m\n",
            "\u001b[34m#metrics {\"StartTime\": 1650615020.0538738, \"EndTime\": 1650615020.053892, \"Dimensions\": {\"Algorithm\": \"Linear Learner\", \"Host\": \"algo-1\", \"Operation\": \"training\", \"epoch\": 0, \"model\": 4}, \"Metrics\": {\"train_binary_classification_cross_entropy_objective\": {\"sum\": 0.4950872549821113, \"count\": 1, \"min\": 0.4950872549821113, \"max\": 0.4950872549821113}}}\u001b[0m\n",
            "\u001b[34m#metrics {\"StartTime\": 1650615020.0539482, \"EndTime\": 1650615020.0539653, \"Dimensions\": {\"Algorithm\": \"Linear Learner\", \"Host\": \"algo-1\", \"Operation\": \"training\", \"epoch\": 0, \"model\": 5}, \"Metrics\": {\"train_binary_classification_cross_entropy_objective\": {\"sum\": 0.5045803795677442, \"count\": 1, \"min\": 0.5045803795677442, \"max\": 0.5045803795677442}}}\u001b[0m\n",
            "\u001b[34m#metrics {\"StartTime\": 1650615020.0540178, \"EndTime\": 1650615020.054044, \"Dimensions\": {\"Algorithm\": \"Linear Learner\", \"Host\": \"algo-1\", \"Operation\": \"training\", \"epoch\": 0, \"model\": 6}, \"Metrics\": {\"train_binary_classification_cross_entropy_objective\": {\"sum\": 0.49512367936813867, \"count\": 1, \"min\": 0.49512367936813867, \"max\": 0.49512367936813867}}}\u001b[0m\n",
            "\u001b[34m#metrics {\"StartTime\": 1650615020.0541446, \"EndTime\": 1650615020.0541637, \"Dimensions\": {\"Algorithm\": \"Linear Learner\", \"Host\": \"algo-1\", \"Operation\": \"training\", \"epoch\": 0, \"model\": 7}, \"Metrics\": {\"train_binary_classification_cross_entropy_objective\": {\"sum\": 0.5045834600932737, \"count\": 1, \"min\": 0.5045834600932737, \"max\": 0.5045834600932737}}}\u001b[0m\n",
            "\u001b[34m#metrics {\"StartTime\": 1650615020.0542178, \"EndTime\": 1650615020.0542343, \"Dimensions\": {\"Algorithm\": \"Linear Learner\", \"Host\": \"algo-1\", \"Operation\": \"training\", \"epoch\": 0, \"model\": 8}, \"Metrics\": {\"train_binary_classification_cross_entropy_objective\": {\"sum\": 0.483440035362127, \"count\": 1, \"min\": 0.483440035362127, \"max\": 0.483440035362127}}}\u001b[0m\n",
            "\u001b[34m#metrics {\"StartTime\": 1650615020.0542877, \"EndTime\": 1650615020.054304, \"Dimensions\": {\"Algorithm\": \"Linear Learner\", \"Host\": \"algo-1\", \"Operation\": \"training\", \"epoch\": 0, \"model\": 9}, \"Metrics\": {\"train_binary_classification_cross_entropy_objective\": {\"sum\": 0.4839363235100329, \"count\": 1, \"min\": 0.4839363235100329, \"max\": 0.4839363235100329}}}\u001b[0m\n",
            "\u001b[34m#metrics {\"StartTime\": 1650615020.0543582, \"EndTime\": 1650615020.0543754, \"Dimensions\": {\"Algorithm\": \"Linear Learner\", \"Host\": \"algo-1\", \"Operation\": \"training\", \"epoch\": 0, \"model\": 10}, \"Metrics\": {\"train_binary_classification_cross_entropy_objective\": {\"sum\": 0.48340280585332746, \"count\": 1, \"min\": 0.48340280585332746, \"max\": 0.48340280585332746}}}\u001b[0m\n",
            "\u001b[34m#metrics {\"StartTime\": 1650615020.0544279, \"EndTime\": 1650615020.0544434, \"Dimensions\": {\"Algorithm\": \"Linear Learner\", \"Host\": \"algo-1\", \"Operation\": \"training\", \"epoch\": 0, \"model\": 11}, \"Metrics\": {\"train_binary_classification_cross_entropy_objective\": {\"sum\": 0.48390828177542494, \"count\": 1, \"min\": 0.48390828177542494, \"max\": 0.48390828177542494}}}\u001b[0m\n",
            "\u001b[34m#metrics {\"StartTime\": 1650615020.0544953, \"EndTime\": 1650615020.0545115, \"Dimensions\": {\"Algorithm\": \"Linear Learner\", \"Host\": \"algo-1\", \"Operation\": \"training\", \"epoch\": 0, \"model\": 12}, \"Metrics\": {\"train_binary_classification_cross_entropy_objective\": {\"sum\": 0.4943625572274584, \"count\": 1, \"min\": 0.4943625572274584, \"max\": 0.4943625572274584}}}\u001b[0m\n",
            "\u001b[34m#metrics {\"StartTime\": 1650615020.054562, \"EndTime\": 1650615020.0545788, \"Dimensions\": {\"Algorithm\": \"Linear Learner\", \"Host\": \"algo-1\", \"Operation\": \"training\", \"epoch\": 0, \"model\": 13}, \"Metrics\": {\"train_binary_classification_cross_entropy_objective\": {\"sum\": 0.5030138996135933, \"count\": 1, \"min\": 0.5030138996135933, \"max\": 0.5030138996135933}}}\u001b[0m\n",
            "\u001b[34m#metrics {\"StartTime\": 1650615020.05463, \"EndTime\": 1650615020.0546458, \"Dimensions\": {\"Algorithm\": \"Linear Learner\", \"Host\": \"algo-1\", \"Operation\": \"training\", \"epoch\": 0, \"model\": 14}, \"Metrics\": {\"train_binary_classification_cross_entropy_objective\": {\"sum\": 0.49432418657588667, \"count\": 1, \"min\": 0.49432418657588667, \"max\": 0.49432418657588667}}}\u001b[0m\n",
            "\u001b[34m#metrics {\"StartTime\": 1650615020.0546951, \"EndTime\": 1650615020.0547116, \"Dimensions\": {\"Algorithm\": \"Linear Learner\", \"Host\": \"algo-1\", \"Operation\": \"training\", \"epoch\": 0, \"model\": 15}, \"Metrics\": {\"train_binary_classification_cross_entropy_objective\": {\"sum\": 0.5030177300362777, \"count\": 1, \"min\": 0.5030177300362777, \"max\": 0.5030177300362777}}}\u001b[0m\n",
            "\u001b[34m#metrics {\"StartTime\": 1650615020.054762, \"EndTime\": 1650615020.0547788, \"Dimensions\": {\"Algorithm\": \"Linear Learner\", \"Host\": \"algo-1\", \"Operation\": \"training\", \"epoch\": 0, \"model\": 16}, \"Metrics\": {\"train_binary_classification_cross_entropy_objective\": {\"sum\": 0.5059269590698615, \"count\": 1, \"min\": 0.5059269590698615, \"max\": 0.5059269590698615}}}\u001b[0m\n",
            "\u001b[34m#metrics {\"StartTime\": 1650615020.0548306, \"EndTime\": 1650615020.0548468, \"Dimensions\": {\"Algorithm\": \"Linear Learner\", \"Host\": \"algo-1\", \"Operation\": \"training\", \"epoch\": 0, \"model\": 17}, \"Metrics\": {\"train_binary_classification_cross_entropy_objective\": {\"sum\": 0.5060987204222139, \"count\": 1, \"min\": 0.5060987204222139, \"max\": 0.5060987204222139}}}\u001b[0m\n",
            "\u001b[34m#metrics {\"StartTime\": 1650615020.0549002, \"EndTime\": 1650615020.0549157, \"Dimensions\": {\"Algorithm\": \"Linear Learner\", \"Host\": \"algo-1\", \"Operation\": \"training\", \"epoch\": 0, \"model\": 18}, \"Metrics\": {\"train_binary_classification_cross_entropy_objective\": {\"sum\": 0.5059168724736671, \"count\": 1, \"min\": 0.5059168724736671, \"max\": 0.5059168724736671}}}\u001b[0m\n",
            "\u001b[34m#metrics {\"StartTime\": 1650615020.054968, \"EndTime\": 1650615020.0549843, \"Dimensions\": {\"Algorithm\": \"Linear Learner\", \"Host\": \"algo-1\", \"Operation\": \"training\", \"epoch\": 0, \"model\": 19}, \"Metrics\": {\"train_binary_classification_cross_entropy_objective\": {\"sum\": 0.5060328213519641, \"count\": 1, \"min\": 0.5060328213519641, \"max\": 0.5060328213519641}}}\u001b[0m\n",
            "\u001b[34m#metrics {\"StartTime\": 1650615020.055036, \"EndTime\": 1650615020.0550525, \"Dimensions\": {\"Algorithm\": \"Linear Learner\", \"Host\": \"algo-1\", \"Operation\": \"training\", \"epoch\": 0, \"model\": 20}, \"Metrics\": {\"train_binary_classification_cross_entropy_objective\": {\"sum\": 0.507279172308219, \"count\": 1, \"min\": 0.507279172308219, \"max\": 0.507279172308219}}}\u001b[0m\n",
            "\u001b[34m#metrics {\"StartTime\": 1650615020.0551064, \"EndTime\": 1650615020.055121, \"Dimensions\": {\"Algorithm\": \"Linear Learner\", \"Host\": \"algo-1\", \"Operation\": \"training\", \"epoch\": 0, \"model\": 21}, \"Metrics\": {\"train_binary_classification_cross_entropy_objective\": {\"sum\": 0.5089487060873515, \"count\": 1, \"min\": 0.5089487060873515, \"max\": 0.5089487060873515}}}\u001b[0m\n",
            "\u001b[34m#metrics {\"StartTime\": 1650615020.0551703, \"EndTime\": 1650615020.0551853, \"Dimensions\": {\"Algorithm\": \"Linear Learner\", \"Host\": \"algo-1\", \"Operation\": \"training\", \"epoch\": 0, \"model\": 22}, \"Metrics\": {\"train_binary_classification_cross_entropy_objective\": {\"sum\": 0.5072296835289818, \"count\": 1, \"min\": 0.5072296835289818, \"max\": 0.5072296835289818}}}\u001b[0m\n",
            "\u001b[34m#metrics {\"StartTime\": 1650615020.0552356, \"EndTime\": 1650615020.0552514, \"Dimensions\": {\"Algorithm\": \"Linear Learner\", \"Host\": \"algo-1\", \"Operation\": \"training\", \"epoch\": 0, \"model\": 23}, \"Metrics\": {\"train_binary_classification_cross_entropy_objective\": {\"sum\": 0.5089740164053914, \"count\": 1, \"min\": 0.5089740164053914, \"max\": 0.5089740164053914}}}\u001b[0m\n",
            "\u001b[34m#metrics {\"StartTime\": 1650615020.055302, \"EndTime\": 1650615020.0553179, \"Dimensions\": {\"Algorithm\": \"Linear Learner\", \"Host\": \"algo-1\", \"Operation\": \"training\", \"epoch\": 0, \"model\": 24}, \"Metrics\": {\"train_binary_classification_cross_entropy_objective\": {\"sum\": 0.515020981324922, \"count\": 1, \"min\": 0.515020981324922, \"max\": 0.515020981324922}}}\u001b[0m\n",
            "\u001b[34m#metrics {\"StartTime\": 1650615020.0553684, \"EndTime\": 1650615020.0553832, \"Dimensions\": {\"Algorithm\": \"Linear Learner\", \"Host\": \"algo-1\", \"Operation\": \"training\", \"epoch\": 0, \"model\": 25}, \"Metrics\": {\"train_binary_classification_cross_entropy_objective\": {\"sum\": 0.5150799078518462, \"count\": 1, \"min\": 0.5150799078518462, \"max\": 0.5150799078518462}}}\u001b[0m\n",
            "\u001b[34m#metrics {\"StartTime\": 1650615020.0554361, \"EndTime\": 1650615020.0554535, \"Dimensions\": {\"Algorithm\": \"Linear Learner\", \"Host\": \"algo-1\", \"Operation\": \"training\", \"epoch\": 0, \"model\": 26}, \"Metrics\": {\"train_binary_classification_cross_entropy_objective\": {\"sum\": 0.5150348255495777, \"count\": 1, \"min\": 0.5150348255495777, \"max\": 0.5150348255495777}}}\u001b[0m\n",
            "\u001b[34m#metrics {\"StartTime\": 1650615020.0554965, \"EndTime\": 1650615020.0555062, \"Dimensions\": {\"Algorithm\": \"Linear Learner\", \"Host\": \"algo-1\", \"Operation\": \"training\", \"epoch\": 0, \"model\": 27}, \"Metrics\": {\"train_binary_classification_cross_entropy_objective\": {\"sum\": 0.5150951270007212, \"count\": 1, \"min\": 0.5150951270007212, \"max\": 0.5150951270007212}}}\u001b[0m\n",
            "\u001b[34m#metrics {\"StartTime\": 1650615020.0555515, \"EndTime\": 1650615020.0555658, \"Dimensions\": {\"Algorithm\": \"Linear Learner\", \"Host\": \"algo-1\", \"Operation\": \"training\", \"epoch\": 0, \"model\": 28}, \"Metrics\": {\"train_binary_classification_cross_entropy_objective\": {\"sum\": 0.5150208847559191, \"count\": 1, \"min\": 0.5150208847559191, \"max\": 0.5150208847559191}}}\u001b[0m\n",
            "\u001b[34m#metrics {\"StartTime\": 1650615020.0555947, \"EndTime\": 1650615020.0556028, \"Dimensions\": {\"Algorithm\": \"Linear Learner\", \"Host\": \"algo-1\", \"Operation\": \"training\", \"epoch\": 0, \"model\": 29}, \"Metrics\": {\"train_binary_classification_cross_entropy_objective\": {\"sum\": 0.5157363647787578, \"count\": 1, \"min\": 0.5157363647787578, \"max\": 0.5157363647787578}}}\u001b[0m\n",
            "\u001b[34m#metrics {\"StartTime\": 1650615020.0556276, \"EndTime\": 1650615020.055635, \"Dimensions\": {\"Algorithm\": \"Linear Learner\", \"Host\": \"algo-1\", \"Operation\": \"training\", \"epoch\": 0, \"model\": 30}, \"Metrics\": {\"train_binary_classification_cross_entropy_objective\": {\"sum\": 0.5150027761430186, \"count\": 1, \"min\": 0.5150027761430186, \"max\": 0.5150027761430186}}}\u001b[0m\n",
            "\u001b[34m#metrics {\"StartTime\": 1650615020.055695, \"EndTime\": 1650615020.0557132, \"Dimensions\": {\"Algorithm\": \"Linear Learner\", \"Host\": \"algo-1\", \"Operation\": \"training\", \"epoch\": 0, \"model\": 31}, \"Metrics\": {\"train_binary_classification_cross_entropy_objective\": {\"sum\": 0.5157454896279431, \"count\": 1, \"min\": 0.5157454896279431, \"max\": 0.5157454896279431}}}\u001b[0m\n",
            "\u001b[34m[04/22/2022 08:10:20 INFO 139911885301568] #quality_metric: host=algo-1, epoch=0, train binary_classification_cross_entropy_objective <loss>=0.48315144033169527\u001b[0m\n",
            "\u001b[34m[2022-04-22 08:10:20.093] [tensorio] [info] epoch_stats={\"data_pipeline\": \"/opt/ml/input/data/validation\", \"epoch\": 0, \"duration\": 61355, \"num_examples\": 1, \"num_bytes\": 388000}\u001b[0m\n",
            "\u001b[34m[2022-04-22 08:10:26.063] [tensorio] [info] epoch_stats={\"data_pipeline\": \"/opt/ml/input/data/validation\", \"epoch\": 2, \"duration\": 5970, \"num_examples\": 164, \"num_bytes\": 63460892}\u001b[0m\n",
            "\u001b[34m#metrics {\"StartTime\": 1650615026.0777674, \"EndTime\": 1650615026.0778732, \"Dimensions\": {\"Algorithm\": \"Linear Learner\", \"Host\": \"algo-1\", \"Operation\": \"training\", \"epoch\": 0, \"model\": 0}, \"Metrics\": {\"validation_binary_classification_cross_entropy_objective\": {\"sum\": 0.480094289227781, \"count\": 1, \"min\": 0.480094289227781, \"max\": 0.480094289227781}}}\u001b[0m\n",
            "\u001b[34m#metrics {\"StartTime\": 1650615026.0780168, \"EndTime\": 1650615026.078052, \"Dimensions\": {\"Algorithm\": \"Linear Learner\", \"Host\": \"algo-1\", \"Operation\": \"training\", \"epoch\": 0, \"model\": 1}, \"Metrics\": {\"validation_binary_classification_cross_entropy_objective\": {\"sum\": 0.48113722301482664, \"count\": 1, \"min\": 0.48113722301482664, \"max\": 0.48113722301482664}}}\u001b[0m\n",
            "\u001b[34m#metrics {\"StartTime\": 1650615026.0781186, \"EndTime\": 1650615026.078139, \"Dimensions\": {\"Algorithm\": \"Linear Learner\", \"Host\": \"algo-1\", \"Operation\": \"training\", \"epoch\": 0, \"model\": 2}, \"Metrics\": {\"validation_binary_classification_cross_entropy_objective\": {\"sum\": 0.4800958531792594, \"count\": 1, \"min\": 0.4800958531792594, \"max\": 0.4800958531792594}}}\u001b[0m\n",
            "\u001b[34m#metrics {\"StartTime\": 1650615026.0782077, \"EndTime\": 1650615026.078224, \"Dimensions\": {\"Algorithm\": \"Linear Learner\", \"Host\": \"algo-1\", \"Operation\": \"training\", \"epoch\": 0, \"model\": 3}, \"Metrics\": {\"validation_binary_classification_cross_entropy_objective\": {\"sum\": 0.481136876900535, \"count\": 1, \"min\": 0.481136876900535, \"max\": 0.481136876900535}}}\u001b[0m\n",
            "\u001b[34m#metrics {\"StartTime\": 1650615026.0782897, \"EndTime\": 1650615026.078304, \"Dimensions\": {\"Algorithm\": \"Linear Learner\", \"Host\": \"algo-1\", \"Operation\": \"training\", \"epoch\": 0, \"model\": 4}, \"Metrics\": {\"validation_binary_classification_cross_entropy_objective\": {\"sum\": 0.4853963026700347, \"count\": 1, \"min\": 0.4853963026700347, \"max\": 0.4853963026700347}}}\u001b[0m\n",
            "\u001b[34m#metrics {\"StartTime\": 1650615026.0783684, \"EndTime\": 1650615026.078385, \"Dimensions\": {\"Algorithm\": \"Linear Learner\", \"Host\": \"algo-1\", \"Operation\": \"training\", \"epoch\": 0, \"model\": 5}, \"Metrics\": {\"validation_binary_classification_cross_entropy_objective\": {\"sum\": 0.49628154396466356, \"count\": 1, \"min\": 0.49628154396466356, \"max\": 0.49628154396466356}}}\u001b[0m\n",
            "\u001b[34m#metrics {\"StartTime\": 1650615026.0784478, \"EndTime\": 1650615026.0784638, \"Dimensions\": {\"Algorithm\": \"Linear Learner\", \"Host\": \"algo-1\", \"Operation\": \"training\", \"epoch\": 0, \"model\": 6}, \"Metrics\": {\"validation_binary_classification_cross_entropy_objective\": {\"sum\": 0.4853953391475539, \"count\": 1, \"min\": 0.4853953391475539, \"max\": 0.4853953391475539}}}\u001b[0m\n",
            "\u001b[34m#metrics {\"StartTime\": 1650615026.078523, \"EndTime\": 1650615026.0785341, \"Dimensions\": {\"Algorithm\": \"Linear Learner\", \"Host\": \"algo-1\", \"Operation\": \"training\", \"epoch\": 0, \"model\": 7}, \"Metrics\": {\"validation_binary_classification_cross_entropy_objective\": {\"sum\": 0.49627978167383646, \"count\": 1, \"min\": 0.49627978167383646, \"max\": 0.49627978167383646}}}\u001b[0m\n",
            "\u001b[34m#metrics {\"StartTime\": 1650615026.078571, \"EndTime\": 1650615026.0785801, \"Dimensions\": {\"Algorithm\": \"Linear Learner\", \"Host\": \"algo-1\", \"Operation\": \"training\", \"epoch\": 0, \"model\": 8}, \"Metrics\": {\"validation_binary_classification_cross_entropy_objective\": {\"sum\": 0.48038160439207667, \"count\": 1, \"min\": 0.48038160439207667, \"max\": 0.48038160439207667}}}\u001b[0m\n",
            "\u001b[34m#metrics {\"StartTime\": 1650615026.0786216, \"EndTime\": 1650615026.0786374, \"Dimensions\": {\"Algorithm\": \"Linear Learner\", \"Host\": \"algo-1\", \"Operation\": \"training\", \"epoch\": 0, \"model\": 9}, \"Metrics\": {\"validation_binary_classification_cross_entropy_objective\": {\"sum\": 0.4814005771811629, \"count\": 1, \"min\": 0.4814005771811629, \"max\": 0.4814005771811629}}}\u001b[0m\n",
            "\u001b[34m#metrics {\"StartTime\": 1650615026.07869, \"EndTime\": 1650615026.0787003, \"Dimensions\": {\"Algorithm\": \"Linear Learner\", \"Host\": \"algo-1\", \"Operation\": \"training\", \"epoch\": 0, \"model\": 10}, \"Metrics\": {\"validation_binary_classification_cross_entropy_objective\": {\"sum\": 0.4803807515142185, \"count\": 1, \"min\": 0.4803807515142185, \"max\": 0.4803807515142185}}}\u001b[0m\n",
            "\u001b[34m#metrics {\"StartTime\": 1650615026.0787358, \"EndTime\": 1650615026.0787435, \"Dimensions\": {\"Algorithm\": \"Linear Learner\", \"Host\": \"algo-1\", \"Operation\": \"training\", \"epoch\": 0, \"model\": 11}, \"Metrics\": {\"validation_binary_classification_cross_entropy_objective\": {\"sum\": 0.48140071544029506, \"count\": 1, \"min\": 0.48140071544029506, \"max\": 0.48140071544029506}}}\u001b[0m\n",
            "\u001b[34m#metrics {\"StartTime\": 1650615026.078783, \"EndTime\": 1650615026.0787976, \"Dimensions\": {\"Algorithm\": \"Linear Learner\", \"Host\": \"algo-1\", \"Operation\": \"training\", \"epoch\": 0, \"model\": 12}, \"Metrics\": {\"validation_binary_classification_cross_entropy_objective\": {\"sum\": 0.4857863910156274, \"count\": 1, \"min\": 0.4857863910156274, \"max\": 0.4857863910156274}}}\u001b[0m\n",
            "\u001b[34m#metrics {\"StartTime\": 1650615026.0788436, \"EndTime\": 1650615026.0788531, \"Dimensions\": {\"Algorithm\": \"Linear Learner\", \"Host\": \"algo-1\", \"Operation\": \"training\", \"epoch\": 0, \"model\": 13}, \"Metrics\": {\"validation_binary_classification_cross_entropy_objective\": {\"sum\": 0.4957679185656294, \"count\": 1, \"min\": 0.4957679185656294, \"max\": 0.4957679185656294}}}\u001b[0m\n",
            "\u001b[34m#metrics {\"StartTime\": 1650615026.0788808, \"EndTime\": 1650615026.0788877, \"Dimensions\": {\"Algorithm\": \"Linear Learner\", \"Host\": \"algo-1\", \"Operation\": \"training\", \"epoch\": 0, \"model\": 14}, \"Metrics\": {\"validation_binary_classification_cross_entropy_objective\": {\"sum\": 0.4857857288271525, \"count\": 1, \"min\": 0.4857857288271525, \"max\": 0.4857857288271525}}}\u001b[0m\n",
            "\u001b[34m#metrics {\"StartTime\": 1650615026.07894, \"EndTime\": 1650615026.078951, \"Dimensions\": {\"Algorithm\": \"Linear Learner\", \"Host\": \"algo-1\", \"Operation\": \"training\", \"epoch\": 0, \"model\": 15}, \"Metrics\": {\"validation_binary_classification_cross_entropy_objective\": {\"sum\": 0.49576568813423216, \"count\": 1, \"min\": 0.49576568813423216, \"max\": 0.49576568813423216}}}\u001b[0m\n",
            "\u001b[34m#metrics {\"StartTime\": 1650615026.0790024, \"EndTime\": 1650615026.0790124, \"Dimensions\": {\"Algorithm\": \"Linear Learner\", \"Host\": \"algo-1\", \"Operation\": \"training\", \"epoch\": 0, \"model\": 16}, \"Metrics\": {\"validation_binary_classification_cross_entropy_objective\": {\"sum\": 0.5043932499740752, \"count\": 1, \"min\": 0.5043932499740752, \"max\": 0.5043932499740752}}}\u001b[0m\n",
            "\u001b[34m#metrics {\"StartTime\": 1650615026.079048, \"EndTime\": 1650615026.0790567, \"Dimensions\": {\"Algorithm\": \"Linear Learner\", \"Host\": \"algo-1\", \"Operation\": \"training\", \"epoch\": 0, \"model\": 17}, \"Metrics\": {\"validation_binary_classification_cross_entropy_objective\": {\"sum\": 0.504767548231174, \"count\": 1, \"min\": 0.504767548231174, \"max\": 0.504767548231174}}}\u001b[0m\n",
            "\u001b[34m#metrics {\"StartTime\": 1650615026.079094, \"EndTime\": 1650615026.0791087, \"Dimensions\": {\"Algorithm\": \"Linear Learner\", \"Host\": \"algo-1\", \"Operation\": \"training\", \"epoch\": 0, \"model\": 18}, \"Metrics\": {\"validation_binary_classification_cross_entropy_objective\": {\"sum\": 0.5043892398994901, \"count\": 1, \"min\": 0.5043892398994901, \"max\": 0.5043892398994901}}}\u001b[0m\n",
            "\u001b[34m#metrics {\"StartTime\": 1650615026.0791538, \"EndTime\": 1650615026.0791633, \"Dimensions\": {\"Algorithm\": \"Linear Learner\", \"Host\": \"algo-1\", \"Operation\": \"training\", \"epoch\": 0, \"model\": 19}, \"Metrics\": {\"validation_binary_classification_cross_entropy_objective\": {\"sum\": 0.5047837320130131, \"count\": 1, \"min\": 0.5047837320130131, \"max\": 0.5047837320130131}}}\u001b[0m\n",
            "\u001b[34m#metrics {\"StartTime\": 1650615026.079191, \"EndTime\": 1650615026.0791988, \"Dimensions\": {\"Algorithm\": \"Linear Learner\", \"Host\": \"algo-1\", \"Operation\": \"training\", \"epoch\": 0, \"model\": 20}, \"Metrics\": {\"validation_binary_classification_cross_entropy_objective\": {\"sum\": 0.5084443968506299, \"count\": 1, \"min\": 0.5084443968506299, \"max\": 0.5084443968506299}}}\u001b[0m\n",
            "\u001b[34m#metrics {\"StartTime\": 1650615026.079242, \"EndTime\": 1650615026.0792568, \"Dimensions\": {\"Algorithm\": \"Linear Learner\", \"Host\": \"algo-1\", \"Operation\": \"training\", \"epoch\": 0, \"model\": 21}, \"Metrics\": {\"validation_binary_classification_cross_entropy_objective\": {\"sum\": 0.5118880872101558, \"count\": 1, \"min\": 0.5118880872101558, \"max\": 0.5118880872101558}}}\u001b[0m\n",
            "\u001b[34m#metrics {\"StartTime\": 1650615026.079302, \"EndTime\": 1650615026.0793116, \"Dimensions\": {\"Algorithm\": \"Linear Learner\", \"Host\": \"algo-1\", \"Operation\": \"training\", \"epoch\": 0, \"model\": 22}, \"Metrics\": {\"validation_binary_classification_cross_entropy_objective\": {\"sum\": 0.5084552064384307, \"count\": 1, \"min\": 0.5084552064384307, \"max\": 0.5084552064384307}}}\u001b[0m\n",
            "\u001b[34m#metrics {\"StartTime\": 1650615026.0793467, \"EndTime\": 1650615026.0793552, \"Dimensions\": {\"Algorithm\": \"Linear Learner\", \"Host\": \"algo-1\", \"Operation\": \"training\", \"epoch\": 0, \"model\": 23}, \"Metrics\": {\"validation_binary_classification_cross_entropy_objective\": {\"sum\": 0.5118794675649107, \"count\": 1, \"min\": 0.5118794675649107, \"max\": 0.5118794675649107}}}\u001b[0m\n",
            "\u001b[34m#metrics {\"StartTime\": 1650615026.079394, \"EndTime\": 1650615026.0794086, \"Dimensions\": {\"Algorithm\": \"Linear Learner\", \"Host\": \"algo-1\", \"Operation\": \"training\", \"epoch\": 0, \"model\": 24}, \"Metrics\": {\"validation_binary_classification_cross_entropy_objective\": {\"sum\": 0.5137634818438869, \"count\": 1, \"min\": 0.5137634818438869, \"max\": 0.5137634818438869}}}\u001b[0m\n",
            "\u001b[34m#metrics {\"StartTime\": 1650615026.0794535, \"EndTime\": 1650615026.079463, \"Dimensions\": {\"Algorithm\": \"Linear Learner\", \"Host\": \"algo-1\", \"Operation\": \"training\", \"epoch\": 0, \"model\": 25}, \"Metrics\": {\"validation_binary_classification_cross_entropy_objective\": {\"sum\": 0.5143849385440733, \"count\": 1, \"min\": 0.5143849385440733, \"max\": 0.5143849385440733}}}\u001b[0m\n",
            "\u001b[34m#metrics {\"StartTime\": 1650615026.0794978, \"EndTime\": 1650615026.0795064, \"Dimensions\": {\"Algorithm\": \"Linear Learner\", \"Host\": \"algo-1\", \"Operation\": \"training\", \"epoch\": 0, \"model\": 26}, \"Metrics\": {\"validation_binary_classification_cross_entropy_objective\": {\"sum\": 0.5137464020831646, \"count\": 1, \"min\": 0.5137464020831646, \"max\": 0.5137464020831646}}}\u001b[0m\n",
            "\u001b[34m#metrics {\"StartTime\": 1650615026.0795588, \"EndTime\": 1650615026.0795696, \"Dimensions\": {\"Algorithm\": \"Linear Learner\", \"Host\": \"algo-1\", \"Operation\": \"training\", \"epoch\": 0, \"model\": 27}, \"Metrics\": {\"validation_binary_classification_cross_entropy_objective\": {\"sum\": 0.5143958292961418, \"count\": 1, \"min\": 0.5143958292961418, \"max\": 0.5143958292961418}}}\u001b[0m\n",
            "\u001b[34m#metrics {\"StartTime\": 1650615026.0796146, \"EndTime\": 1650615026.0796244, \"Dimensions\": {\"Algorithm\": \"Linear Learner\", \"Host\": \"algo-1\", \"Operation\": \"training\", \"epoch\": 0, \"model\": 28}, \"Metrics\": {\"validation_binary_classification_cross_entropy_objective\": {\"sum\": 0.5152175617192946, \"count\": 1, \"min\": 0.5152175617192946, \"max\": 0.5152175617192946}}}\u001b[0m\n",
            "\u001b[34m#metrics {\"StartTime\": 1650615026.0796602, \"EndTime\": 1650615026.0796688, \"Dimensions\": {\"Algorithm\": \"Linear Learner\", \"Host\": \"algo-1\", \"Operation\": \"training\", \"epoch\": 0, \"model\": 29}, \"Metrics\": {\"validation_binary_classification_cross_entropy_objective\": {\"sum\": 0.5138857626237298, \"count\": 1, \"min\": 0.5138857626237298, \"max\": 0.5138857626237298}}}\u001b[0m\n",
            "\u001b[34m#metrics {\"StartTime\": 1650615026.079705, \"EndTime\": 1650615026.0797203, \"Dimensions\": {\"Algorithm\": \"Linear Learner\", \"Host\": \"algo-1\", \"Operation\": \"training\", \"epoch\": 0, \"model\": 30}, \"Metrics\": {\"validation_binary_classification_cross_entropy_objective\": {\"sum\": 0.5152989366410664, \"count\": 1, \"min\": 0.5152989366410664, \"max\": 0.5152989366410664}}}\u001b[0m\n",
            "\u001b[34m#metrics {\"StartTime\": 1650615026.0797822, \"EndTime\": 1650615026.0797932, \"Dimensions\": {\"Algorithm\": \"Linear Learner\", \"Host\": \"algo-1\", \"Operation\": \"training\", \"epoch\": 0, \"model\": 31}, \"Metrics\": {\"validation_binary_classification_cross_entropy_objective\": {\"sum\": 0.513942519583434, \"count\": 1, \"min\": 0.513942519583434, \"max\": 0.513942519583434}}}\u001b[0m\n",
            "\u001b[34m[04/22/2022 08:10:26 INFO 139911885301568] #quality_metric: host=algo-1, epoch=0, validation binary_classification_cross_entropy_objective <loss>=0.480094289227781\u001b[0m\n",
            "\u001b[34m[04/22/2022 08:10:26 INFO 139911885301568] #early_stopping_criteria_metric: host=algo-1, epoch=0, criteria=binary_classification_cross_entropy_objective, value=0.480094289227781\u001b[0m\n",
            "\u001b[34m[04/22/2022 08:10:26 INFO 139911885301568] Epoch 0: Loss improved. Updating best model\u001b[0m\n",
            "\u001b[34m[04/22/2022 08:10:26 INFO 139911885301568] Saving model for epoch: 0\u001b[0m\n",
            "\u001b[34m[04/22/2022 08:10:26 INFO 139911885301568] Saved checkpoint to \"/tmp/tmpjrwujn6r/mx-mod-0000.params\"\u001b[0m\n",
            "\u001b[34m[04/22/2022 08:10:26 INFO 139911885301568] #progress_metric: host=algo-1, completed 6.666666666666667 % of epochs\u001b[0m\n",
            "\u001b[34m#metrics {\"StartTime\": 1650614959.2082012, \"EndTime\": 1650615026.093973, \"Dimensions\": {\"Algorithm\": \"Linear Learner\", \"Host\": \"algo-1\", \"Operation\": \"training\", \"epoch\": 0, \"Meta\": \"training_data_iter\"}, \"Metrics\": {\"Total Records Seen\": {\"sum\": 1320472.0, \"count\": 1, \"min\": 1320472, \"max\": 1320472}, \"Total Batches Seen\": {\"sum\": 1321.0, \"count\": 1, \"min\": 1321, \"max\": 1321}, \"Max Records Seen Between Resets\": {\"sum\": 1308472.0, \"count\": 1, \"min\": 1308472, \"max\": 1308472}, \"Max Batches Seen Between Resets\": {\"sum\": 1309.0, \"count\": 1, \"min\": 1309, \"max\": 1309}, \"Reset Count\": {\"sum\": 3.0, \"count\": 1, \"min\": 3, \"max\": 3}, \"Number of Records Since Last Reset\": {\"sum\": 1308472.0, \"count\": 1, \"min\": 1308472, \"max\": 1308472}, \"Number of Batches Since Last Reset\": {\"sum\": 1309.0, \"count\": 1, \"min\": 1309, \"max\": 1309}}}\u001b[0m\n",
            "\u001b[34m[04/22/2022 08:10:26 INFO 139911885301568] #throughput_metric: host=algo-1, train throughput=19562.73869280569 records/second\u001b[0m\n",
            "\u001b[34m[2022-04-22 08:11:26.800] [tensorio] [info] epoch_stats={\"data_pipeline\": \"/opt/ml/input/data/train\", \"epoch\": 5, \"duration\": 60702, \"num_examples\": 1309, \"num_bytes\": 507687136}\u001b[0m\n",
            "\u001b[34m#metrics {\"StartTime\": 1650615086.8003154, \"EndTime\": 1650615086.8004344, \"Dimensions\": {\"Algorithm\": \"Linear Learner\", \"Host\": \"algo-1\", \"Operation\": \"training\", \"epoch\": 1, \"model\": 0}, \"Metrics\": {\"train_binary_classification_cross_entropy_objective\": {\"sum\": 0.4808737584618618, \"count\": 1, \"min\": 0.4808737584618618, \"max\": 0.4808737584618618}}}\u001b[0m\n",
            "\u001b[34m#metrics {\"StartTime\": 1650615086.8005626, \"EndTime\": 1650615086.8005898, \"Dimensions\": {\"Algorithm\": \"Linear Learner\", \"Host\": \"algo-1\", \"Operation\": \"training\", \"epoch\": 1, \"model\": 1}, \"Metrics\": {\"train_binary_classification_cross_entropy_objective\": {\"sum\": 0.4818427792237075, \"count\": 1, \"min\": 0.4818427792237075, \"max\": 0.4818427792237075}}}\u001b[0m\n",
            "\u001b[34m#metrics {\"StartTime\": 1650615086.8006687, \"EndTime\": 1650615086.8006852, \"Dimensions\": {\"Algorithm\": \"Linear Learner\", \"Host\": \"algo-1\", \"Operation\": \"training\", \"epoch\": 1, \"model\": 2}, \"Metrics\": {\"train_binary_classification_cross_entropy_objective\": {\"sum\": 0.4808741372251365, \"count\": 1, \"min\": 0.4808741372251365, \"max\": 0.4808741372251365}}}\u001b[0m\n",
            "\u001b[34m#metrics {\"StartTime\": 1650615086.800741, \"EndTime\": 1650615086.8007588, \"Dimensions\": {\"Algorithm\": \"Linear Learner\", \"Host\": \"algo-1\", \"Operation\": \"training\", \"epoch\": 1, \"model\": 3}, \"Metrics\": {\"train_binary_classification_cross_entropy_objective\": {\"sum\": 0.48184247260137436, \"count\": 1, \"min\": 0.48184247260137436, \"max\": 0.48184247260137436}}}\u001b[0m\n",
            "\u001b[34m#metrics {\"StartTime\": 1650615086.8008149, \"EndTime\": 1650615086.80083, \"Dimensions\": {\"Algorithm\": \"Linear Learner\", \"Host\": \"algo-1\", \"Operation\": \"training\", \"epoch\": 1, \"model\": 4}, \"Metrics\": {\"train_binary_classification_cross_entropy_objective\": {\"sum\": 0.4846866986802594, \"count\": 1, \"min\": 0.4846866986802594, \"max\": 0.4846866986802594}}}\u001b[0m\n",
            "\u001b[34m#metrics {\"StartTime\": 1650615086.800883, \"EndTime\": 1650615086.8008993, \"Dimensions\": {\"Algorithm\": \"Linear Learner\", \"Host\": \"algo-1\", \"Operation\": \"training\", \"epoch\": 1, \"model\": 5}, \"Metrics\": {\"train_binary_classification_cross_entropy_objective\": {\"sum\": 0.5011679003420955, \"count\": 1, \"min\": 0.5011679003420955, \"max\": 0.5011679003420955}}}\u001b[0m\n",
            "\u001b[34m#metrics {\"StartTime\": 1650615086.800951, \"EndTime\": 1650615086.8009686, \"Dimensions\": {\"Algorithm\": \"Linear Learner\", \"Host\": \"algo-1\", \"Operation\": \"training\", \"epoch\": 1, \"model\": 6}, \"Metrics\": {\"train_binary_classification_cross_entropy_objective\": {\"sum\": 0.48468614637742347, \"count\": 1, \"min\": 0.48468614637742347, \"max\": 0.48468614637742347}}}\u001b[0m\n",
            "\u001b[34m#metrics {\"StartTime\": 1650615086.8010366, \"EndTime\": 1650615086.8010519, \"Dimensions\": {\"Algorithm\": \"Linear Learner\", \"Host\": \"algo-1\", \"Operation\": \"training\", \"epoch\": 1, \"model\": 7}, \"Metrics\": {\"train_binary_classification_cross_entropy_objective\": {\"sum\": 0.5011684910252189, \"count\": 1, \"min\": 0.5011684910252189, \"max\": 0.5011684910252189}}}\u001b[0m\n",
            "\u001b[34m#metrics {\"StartTime\": 1650615086.8011026, \"EndTime\": 1650615086.8011181, \"Dimensions\": {\"Algorithm\": \"Linear Learner\", \"Host\": \"algo-1\", \"Operation\": \"training\", \"epoch\": 1, \"model\": 8}, \"Metrics\": {\"train_binary_classification_cross_entropy_objective\": {\"sum\": 0.4811248167312109, \"count\": 1, \"min\": 0.4811248167312109, \"max\": 0.4811248167312109}}}\u001b[0m\n",
            "\u001b[34m#metrics {\"StartTime\": 1650615086.8011692, \"EndTime\": 1650615086.8011851, \"Dimensions\": {\"Algorithm\": \"Linear Learner\", \"Host\": \"algo-1\", \"Operation\": \"training\", \"epoch\": 1, \"model\": 9}, \"Metrics\": {\"train_binary_classification_cross_entropy_objective\": {\"sum\": 0.4820409094200951, \"count\": 1, \"min\": 0.4820409094200951, \"max\": 0.4820409094200951}}}\u001b[0m\n",
            "\u001b[34m#metrics {\"StartTime\": 1650615086.8012366, \"EndTime\": 1650615086.8012526, \"Dimensions\": {\"Algorithm\": \"Linear Learner\", \"Host\": \"algo-1\", \"Operation\": \"training\", \"epoch\": 1, \"model\": 10}, \"Metrics\": {\"train_binary_classification_cross_entropy_objective\": {\"sum\": 0.4811245483025134, \"count\": 1, \"min\": 0.4811245483025134, \"max\": 0.4811245483025134}}}\u001b[0m\n",
            "\u001b[34m#metrics {\"StartTime\": 1650615086.801304, \"EndTime\": 1650615086.8013194, \"Dimensions\": {\"Algorithm\": \"Linear Learner\", \"Host\": \"algo-1\", \"Operation\": \"training\", \"epoch\": 1, \"model\": 11}, \"Metrics\": {\"train_binary_classification_cross_entropy_objective\": {\"sum\": 0.4820408230702811, \"count\": 1, \"min\": 0.4820408230702811, \"max\": 0.4820408230702811}}}\u001b[0m\n",
            "\u001b[34m#metrics {\"StartTime\": 1650615086.8013709, \"EndTime\": 1650615086.8013864, \"Dimensions\": {\"Algorithm\": \"Linear Learner\", \"Host\": \"algo-1\", \"Operation\": \"training\", \"epoch\": 1, \"model\": 12}, \"Metrics\": {\"train_binary_classification_cross_entropy_objective\": {\"sum\": 0.48468796494976824, \"count\": 1, \"min\": 0.48468796494976824, \"max\": 0.48468796494976824}}}\u001b[0m\n",
            "\u001b[34m#metrics {\"StartTime\": 1650615086.8014362, \"EndTime\": 1650615086.8014517, \"Dimensions\": {\"Algorithm\": \"Linear Learner\", \"Host\": \"algo-1\", \"Operation\": \"training\", \"epoch\": 1, \"model\": 13}, \"Metrics\": {\"train_binary_classification_cross_entropy_objective\": {\"sum\": 0.4999248672158711, \"count\": 1, \"min\": 0.4999248672158711, \"max\": 0.4999248672158711}}}\u001b[0m\n",
            "\u001b[34m#metrics {\"StartTime\": 1650615086.8015003, \"EndTime\": 1650615086.8015153, \"Dimensions\": {\"Algorithm\": \"Linear Learner\", \"Host\": \"algo-1\", \"Operation\": \"training\", \"epoch\": 1, \"model\": 14}, \"Metrics\": {\"train_binary_classification_cross_entropy_objective\": {\"sum\": 0.48468793837521057, \"count\": 1, \"min\": 0.48468793837521057, \"max\": 0.48468793837521057}}}\u001b[0m\n",
            "\u001b[34m#metrics {\"StartTime\": 1650615086.801626, \"EndTime\": 1650615086.801646, \"Dimensions\": {\"Algorithm\": \"Linear Learner\", \"Host\": \"algo-1\", \"Operation\": \"training\", \"epoch\": 1, \"model\": 15}, \"Metrics\": {\"train_binary_classification_cross_entropy_objective\": {\"sum\": 0.4999237968141515, \"count\": 1, \"min\": 0.4999237968141515, \"max\": 0.4999237968141515}}}\u001b[0m\n",
            "\u001b[34m#metrics {\"StartTime\": 1650615086.8017015, \"EndTime\": 1650615086.8017185, \"Dimensions\": {\"Algorithm\": \"Linear Learner\", \"Host\": \"algo-1\", \"Operation\": \"training\", \"epoch\": 1, \"model\": 16}, \"Metrics\": {\"train_binary_classification_cross_entropy_objective\": {\"sum\": 0.5045277941175922, \"count\": 1, \"min\": 0.5045277941175922, \"max\": 0.5045277941175922}}}\u001b[0m\n",
            "\u001b[34m#metrics {\"StartTime\": 1650615086.8017719, \"EndTime\": 1650615086.8017876, \"Dimensions\": {\"Algorithm\": \"Linear Learner\", \"Host\": \"algo-1\", \"Operation\": \"training\", \"epoch\": 1, \"model\": 17}, \"Metrics\": {\"train_binary_classification_cross_entropy_objective\": {\"sum\": 0.5047542978689211, \"count\": 1, \"min\": 0.5047542978689211, \"max\": 0.5047542978689211}}}\u001b[0m\n",
            "\u001b[34m#metrics {\"StartTime\": 1650615086.8018396, \"EndTime\": 1650615086.8018558, \"Dimensions\": {\"Algorithm\": \"Linear Learner\", \"Host\": \"algo-1\", \"Operation\": \"training\", \"epoch\": 1, \"model\": 18}, \"Metrics\": {\"train_binary_classification_cross_entropy_objective\": {\"sum\": 0.50452790225901, \"count\": 1, \"min\": 0.50452790225901, \"max\": 0.50452790225901}}}\u001b[0m\n",
            "\u001b[34m#metrics {\"StartTime\": 1650615086.801907, \"EndTime\": 1650615086.8019245, \"Dimensions\": {\"Algorithm\": \"Linear Learner\", \"Host\": \"algo-1\", \"Operation\": \"training\", \"epoch\": 1, \"model\": 19}, \"Metrics\": {\"train_binary_classification_cross_entropy_objective\": {\"sum\": 0.5047542597219484, \"count\": 1, \"min\": 0.5047542597219484, \"max\": 0.5047542597219484}}}\u001b[0m\n",
            "\u001b[34m#metrics {\"StartTime\": 1650615086.801973, \"EndTime\": 1650615086.801989, \"Dimensions\": {\"Algorithm\": \"Linear Learner\", \"Host\": \"algo-1\", \"Operation\": \"training\", \"epoch\": 1, \"model\": 20}, \"Metrics\": {\"train_binary_classification_cross_entropy_objective\": {\"sum\": 0.505354916493827, \"count\": 1, \"min\": 0.505354916493827, \"max\": 0.505354916493827}}}\u001b[0m\n",
            "\u001b[34m#metrics {\"StartTime\": 1650615086.8020427, \"EndTime\": 1650615086.8020575, \"Dimensions\": {\"Algorithm\": \"Linear Learner\", \"Host\": \"algo-1\", \"Operation\": \"training\", \"epoch\": 1, \"model\": 21}, \"Metrics\": {\"train_binary_classification_cross_entropy_objective\": {\"sum\": 0.5081973893751792, \"count\": 1, \"min\": 0.5081973893751792, \"max\": 0.5081973893751792}}}\u001b[0m\n",
            "\u001b[34m#metrics {\"StartTime\": 1650615086.8021061, \"EndTime\": 1650615086.8021212, \"Dimensions\": {\"Algorithm\": \"Linear Learner\", \"Host\": \"algo-1\", \"Operation\": \"training\", \"epoch\": 1, \"model\": 22}, \"Metrics\": {\"train_binary_classification_cross_entropy_objective\": {\"sum\": 0.5053552848979238, \"count\": 1, \"min\": 0.5053552848979238, \"max\": 0.5053552848979238}}}\u001b[0m\n",
            "\u001b[34m#metrics {\"StartTime\": 1650615086.802176, \"EndTime\": 1650615086.8021913, \"Dimensions\": {\"Algorithm\": \"Linear Learner\", \"Host\": \"algo-1\", \"Operation\": \"training\", \"epoch\": 1, \"model\": 23}, \"Metrics\": {\"train_binary_classification_cross_entropy_objective\": {\"sum\": 0.5081973299732266, \"count\": 1, \"min\": 0.5081973299732266, \"max\": 0.5081973299732266}}}\u001b[0m\n",
            "\u001b[34m#metrics {\"StartTime\": 1650615086.8022447, \"EndTime\": 1650615086.802262, \"Dimensions\": {\"Algorithm\": \"Linear Learner\", \"Host\": \"algo-1\", \"Operation\": \"training\", \"epoch\": 1, \"model\": 24}, \"Metrics\": {\"train_binary_classification_cross_entropy_objective\": {\"sum\": 0.5137391149538373, \"count\": 1, \"min\": 0.5137391149538373, \"max\": 0.5137391149538373}}}\u001b[0m\n",
            "\u001b[34m#metrics {\"StartTime\": 1650615086.802314, \"EndTime\": 1650615086.80233, \"Dimensions\": {\"Algorithm\": \"Linear Learner\", \"Host\": \"algo-1\", \"Operation\": \"training\", \"epoch\": 1, \"model\": 25}, \"Metrics\": {\"train_binary_classification_cross_entropy_objective\": {\"sum\": 0.5138377049064053, \"count\": 1, \"min\": 0.5138377049064053, \"max\": 0.5138377049064053}}}\u001b[0m\n",
            "\u001b[34m#metrics {\"StartTime\": 1650615086.8023813, \"EndTime\": 1650615086.802398, \"Dimensions\": {\"Algorithm\": \"Linear Learner\", \"Host\": \"algo-1\", \"Operation\": \"training\", \"epoch\": 1, \"model\": 26}, \"Metrics\": {\"train_binary_classification_cross_entropy_objective\": {\"sum\": 0.5137389008408293, \"count\": 1, \"min\": 0.5137389008408293, \"max\": 0.5137389008408293}}}\u001b[0m\n",
            "\u001b[34m#metrics {\"StartTime\": 1650615086.8024492, \"EndTime\": 1650615086.8024664, \"Dimensions\": {\"Algorithm\": \"Linear Learner\", \"Host\": \"algo-1\", \"Operation\": \"training\", \"epoch\": 1, \"model\": 27}, \"Metrics\": {\"train_binary_classification_cross_entropy_objective\": {\"sum\": 0.5138369813738248, \"count\": 1, \"min\": 0.5138369813738248, \"max\": 0.5138369813738248}}}\u001b[0m\n",
            "\u001b[34m#metrics {\"StartTime\": 1650615086.8025188, \"EndTime\": 1650615086.8025346, \"Dimensions\": {\"Algorithm\": \"Linear Learner\", \"Host\": \"algo-1\", \"Operation\": \"training\", \"epoch\": 1, \"model\": 28}, \"Metrics\": {\"train_binary_classification_cross_entropy_objective\": {\"sum\": 0.5141210870771962, \"count\": 1, \"min\": 0.5141210870771962, \"max\": 0.5141210870771962}}}\u001b[0m\n",
            "\u001b[34m#metrics {\"StartTime\": 1650615086.802583, \"EndTime\": 1650615086.8026, \"Dimensions\": {\"Algorithm\": \"Linear Learner\", \"Host\": \"algo-1\", \"Operation\": \"training\", \"epoch\": 1, \"model\": 29}, \"Metrics\": {\"train_binary_classification_cross_entropy_objective\": {\"sum\": 0.5152218910707246, \"count\": 1, \"min\": 0.5152218910707246, \"max\": 0.5152218910707246}}}\u001b[0m\n",
            "\u001b[34m#metrics {\"StartTime\": 1650615086.8026516, \"EndTime\": 1650615086.8026667, \"Dimensions\": {\"Algorithm\": \"Linear Learner\", \"Host\": \"algo-1\", \"Operation\": \"training\", \"epoch\": 1, \"model\": 30}, \"Metrics\": {\"train_binary_classification_cross_entropy_objective\": {\"sum\": 0.5141196367222964, \"count\": 1, \"min\": 0.5141196367222964, \"max\": 0.5141196367222964}}}\u001b[0m\n",
            "\u001b[34m#metrics {\"StartTime\": 1650615086.8027139, \"EndTime\": 1650615086.8027294, \"Dimensions\": {\"Algorithm\": \"Linear Learner\", \"Host\": \"algo-1\", \"Operation\": \"training\", \"epoch\": 1, \"model\": 31}, \"Metrics\": {\"train_binary_classification_cross_entropy_objective\": {\"sum\": 0.5152258942630313, \"count\": 1, \"min\": 0.5152258942630313, \"max\": 0.5152258942630313}}}\u001b[0m\n",
            "\u001b[34m[04/22/2022 08:11:26 INFO 139911885301568] #quality_metric: host=algo-1, epoch=1, train binary_classification_cross_entropy_objective <loss>=0.4808737584618618\u001b[0m\n",
            "\u001b[34m[2022-04-22 08:11:32.258] [tensorio] [info] epoch_stats={\"data_pipeline\": \"/opt/ml/input/data/validation\", \"epoch\": 5, \"duration\": 5426, \"num_examples\": 164, \"num_bytes\": 63460892}\u001b[0m\n",
            "\u001b[34m#metrics {\"StartTime\": 1650615092.267374, \"EndTime\": 1650615092.2674878, \"Dimensions\": {\"Algorithm\": \"Linear Learner\", \"Host\": \"algo-1\", \"Operation\": \"training\", \"epoch\": 1, \"model\": 0}, \"Metrics\": {\"validation_binary_classification_cross_entropy_objective\": {\"sum\": 0.4797899618463607, \"count\": 1, \"min\": 0.4797899618463607, \"max\": 0.4797899618463607}}}\u001b[0m\n",
            "\u001b[34m#metrics {\"StartTime\": 1650615092.267606, \"EndTime\": 1650615092.2676306, \"Dimensions\": {\"Algorithm\": \"Linear Learner\", \"Host\": \"algo-1\", \"Operation\": \"training\", \"epoch\": 1, \"model\": 1}, \"Metrics\": {\"validation_binary_classification_cross_entropy_objective\": {\"sum\": 0.48117317412086863, \"count\": 1, \"min\": 0.48117317412086863, \"max\": 0.48117317412086863}}}\u001b[0m\n",
            "\u001b[34m#metrics {\"StartTime\": 1650615092.2677073, \"EndTime\": 1650615092.2677639, \"Dimensions\": {\"Algorithm\": \"Linear Learner\", \"Host\": \"algo-1\", \"Operation\": \"training\", \"epoch\": 1, \"model\": 2}, \"Metrics\": {\"validation_binary_classification_cross_entropy_objective\": {\"sum\": 0.4797906828089606, \"count\": 1, \"min\": 0.4797906828089606, \"max\": 0.4797906828089606}}}\u001b[0m\n",
            "\u001b[34m#metrics {\"StartTime\": 1650615092.2678626, \"EndTime\": 1650615092.2678826, \"Dimensions\": {\"Algorithm\": \"Linear Learner\", \"Host\": \"algo-1\", \"Operation\": \"training\", \"epoch\": 1, \"model\": 3}, \"Metrics\": {\"validation_binary_classification_cross_entropy_objective\": {\"sum\": 0.4811731078833627, \"count\": 1, \"min\": 0.4811731078833627, \"max\": 0.4811731078833627}}}\u001b[0m\n",
            "\u001b[34m#metrics {\"StartTime\": 1650615092.2679482, \"EndTime\": 1650615092.267968, \"Dimensions\": {\"Algorithm\": \"Linear Learner\", \"Host\": \"algo-1\", \"Operation\": \"training\", \"epoch\": 1, \"model\": 4}, \"Metrics\": {\"validation_binary_classification_cross_entropy_objective\": {\"sum\": 0.4810811297362735, \"count\": 1, \"min\": 0.4810811297362735, \"max\": 0.4810811297362735}}}\u001b[0m\n",
            "\u001b[34m#metrics {\"StartTime\": 1650615092.268019, \"EndTime\": 1650615092.2680366, \"Dimensions\": {\"Algorithm\": \"Linear Learner\", \"Host\": \"algo-1\", \"Operation\": \"training\", \"epoch\": 1, \"model\": 5}, \"Metrics\": {\"validation_binary_classification_cross_entropy_objective\": {\"sum\": 0.49496628838589973, \"count\": 1, \"min\": 0.49496628838589973, \"max\": 0.49496628838589973}}}\u001b[0m\n",
            "\u001b[34m#metrics {\"StartTime\": 1650615092.268088, \"EndTime\": 1650615092.2681048, \"Dimensions\": {\"Algorithm\": \"Linear Learner\", \"Host\": \"algo-1\", \"Operation\": \"training\", \"epoch\": 1, \"model\": 6}, \"Metrics\": {\"validation_binary_classification_cross_entropy_objective\": {\"sum\": 0.4810811439166973, \"count\": 1, \"min\": 0.4810811439166973, \"max\": 0.4810811439166973}}}\u001b[0m\n",
            "\u001b[34m#metrics {\"StartTime\": 1650615092.2681549, \"EndTime\": 1650615092.2681715, \"Dimensions\": {\"Algorithm\": \"Linear Learner\", \"Host\": \"algo-1\", \"Operation\": \"training\", \"epoch\": 1, \"model\": 7}, \"Metrics\": {\"validation_binary_classification_cross_entropy_objective\": {\"sum\": 0.49496598313361884, \"count\": 1, \"min\": 0.49496598313361884, \"max\": 0.49496598313361884}}}\u001b[0m\n",
            "\u001b[34m#metrics {\"StartTime\": 1650615092.2682343, \"EndTime\": 1650615092.268251, \"Dimensions\": {\"Algorithm\": \"Linear Learner\", \"Host\": \"algo-1\", \"Operation\": \"training\", \"epoch\": 1, \"model\": 8}, \"Metrics\": {\"validation_binary_classification_cross_entropy_objective\": {\"sum\": 0.4801401328586894, \"count\": 1, \"min\": 0.4801401328586894, \"max\": 0.4801401328586894}}}\u001b[0m\n",
            "\u001b[34m#metrics {\"StartTime\": 1650615092.2683032, \"EndTime\": 1650615092.2683196, \"Dimensions\": {\"Algorithm\": \"Linear Learner\", \"Host\": \"algo-1\", \"Operation\": \"training\", \"epoch\": 1, \"model\": 9}, \"Metrics\": {\"validation_binary_classification_cross_entropy_objective\": {\"sum\": 0.48143846559431536, \"count\": 1, \"min\": 0.48143846559431536, \"max\": 0.48143846559431536}}}\u001b[0m\n",
            "\u001b[34m#metrics {\"StartTime\": 1650615092.2683713, \"EndTime\": 1650615092.268388, \"Dimensions\": {\"Algorithm\": \"Linear Learner\", \"Host\": \"algo-1\", \"Operation\": \"training\", \"epoch\": 1, \"model\": 10}, \"Metrics\": {\"validation_binary_classification_cross_entropy_objective\": {\"sum\": 0.4801399244437763, \"count\": 1, \"min\": 0.4801399244437763, \"max\": 0.4801399244437763}}}\u001b[0m\n",
            "\u001b[34m#metrics {\"StartTime\": 1650615092.2684367, \"EndTime\": 1650615092.2684522, \"Dimensions\": {\"Algorithm\": \"Linear Learner\", \"Host\": \"algo-1\", \"Operation\": \"training\", \"epoch\": 1, \"model\": 11}, \"Metrics\": {\"validation_binary_classification_cross_entropy_objective\": {\"sum\": 0.481438470818682, \"count\": 1, \"min\": 0.481438470818682, \"max\": 0.481438470818682}}}\u001b[0m\n",
            "\u001b[34m#metrics {\"StartTime\": 1650615092.2685134, \"EndTime\": 1650615092.2685318, \"Dimensions\": {\"Algorithm\": \"Linear Learner\", \"Host\": \"algo-1\", \"Operation\": \"training\", \"epoch\": 1, \"model\": 12}, \"Metrics\": {\"validation_binary_classification_cross_entropy_objective\": {\"sum\": 0.4813578476459565, \"count\": 1, \"min\": 0.4813578476459565, \"max\": 0.4813578476459565}}}\u001b[0m\n",
            "\u001b[34m#metrics {\"StartTime\": 1650615092.268591, \"EndTime\": 1650615092.268608, \"Dimensions\": {\"Algorithm\": \"Linear Learner\", \"Host\": \"algo-1\", \"Operation\": \"training\", \"epoch\": 1, \"model\": 13}, \"Metrics\": {\"validation_binary_classification_cross_entropy_objective\": {\"sum\": 0.49444815211941867, \"count\": 1, \"min\": 0.49444815211941867, \"max\": 0.49444815211941867}}}\u001b[0m\n",
            "\u001b[34m#metrics {\"StartTime\": 1650615092.2686713, \"EndTime\": 1650615092.2686896, \"Dimensions\": {\"Algorithm\": \"Linear Learner\", \"Host\": \"algo-1\", \"Operation\": \"training\", \"epoch\": 1, \"model\": 14}, \"Metrics\": {\"validation_binary_classification_cross_entropy_objective\": {\"sum\": 0.48135831933163264, \"count\": 1, \"min\": 0.48135831933163264, \"max\": 0.48135831933163264}}}\u001b[0m\n",
            "\u001b[34m#metrics {\"StartTime\": 1650615092.2687442, \"EndTime\": 1650615092.268761, \"Dimensions\": {\"Algorithm\": \"Linear Learner\", \"Host\": \"algo-1\", \"Operation\": \"training\", \"epoch\": 1, \"model\": 15}, \"Metrics\": {\"validation_binary_classification_cross_entropy_objective\": {\"sum\": 0.49444712926305934, \"count\": 1, \"min\": 0.49444712926305934, \"max\": 0.49444712926305934}}}\u001b[0m\n",
            "\u001b[34m#metrics {\"StartTime\": 1650615092.268825, \"EndTime\": 1650615092.268842, \"Dimensions\": {\"Algorithm\": \"Linear Learner\", \"Host\": \"algo-1\", \"Operation\": \"training\", \"epoch\": 1, \"model\": 16}, \"Metrics\": {\"validation_binary_classification_cross_entropy_objective\": {\"sum\": 0.5042912063382661, \"count\": 1, \"min\": 0.5042912063382661, \"max\": 0.5042912063382661}}}\u001b[0m\n",
            "\u001b[34m#metrics {\"StartTime\": 1650615092.2688954, \"EndTime\": 1650615092.268912, \"Dimensions\": {\"Algorithm\": \"Linear Learner\", \"Host\": \"algo-1\", \"Operation\": \"training\", \"epoch\": 1, \"model\": 17}, \"Metrics\": {\"validation_binary_classification_cross_entropy_objective\": {\"sum\": 0.5049048050312335, \"count\": 1, \"min\": 0.5049048050312335, \"max\": 0.5049048050312335}}}\u001b[0m\n",
            "\u001b[34m#metrics {\"StartTime\": 1650615092.2689679, \"EndTime\": 1650615092.2689884, \"Dimensions\": {\"Algorithm\": \"Linear Learner\", \"Host\": \"algo-1\", \"Operation\": \"training\", \"epoch\": 1, \"model\": 18}, \"Metrics\": {\"validation_binary_classification_cross_entropy_objective\": {\"sum\": 0.5042907109563555, \"count\": 1, \"min\": 0.5042907109563555, \"max\": 0.5042907109563555}}}\u001b[0m\n",
            "\u001b[34m#metrics {\"StartTime\": 1650615092.2690358, \"EndTime\": 1650615092.2690527, \"Dimensions\": {\"Algorithm\": \"Linear Learner\", \"Host\": \"algo-1\", \"Operation\": \"training\", \"epoch\": 1, \"model\": 19}, \"Metrics\": {\"validation_binary_classification_cross_entropy_objective\": {\"sum\": 0.5049054506136857, \"count\": 1, \"min\": 0.5049054506136857, \"max\": 0.5049054506136857}}}\u001b[0m\n",
            "\u001b[34m#metrics {\"StartTime\": 1650615092.26911, \"EndTime\": 1650615092.2691264, \"Dimensions\": {\"Algorithm\": \"Linear Learner\", \"Host\": \"algo-1\", \"Operation\": \"training\", \"epoch\": 1, \"model\": 20}, \"Metrics\": {\"validation_binary_classification_cross_entropy_objective\": {\"sum\": 0.5048869449740326, \"count\": 1, \"min\": 0.5048869449740326, \"max\": 0.5048869449740326}}}\u001b[0m\n",
            "\u001b[34m#metrics {\"StartTime\": 1650615092.2691784, \"EndTime\": 1650615092.269195, \"Dimensions\": {\"Algorithm\": \"Linear Learner\", \"Host\": \"algo-1\", \"Operation\": \"training\", \"epoch\": 1, \"model\": 21}, \"Metrics\": {\"validation_binary_classification_cross_entropy_objective\": {\"sum\": 0.5104233882497462, \"count\": 1, \"min\": 0.5104233882497462, \"max\": 0.5104233882497462}}}\u001b[0m\n",
            "\u001b[34m#metrics {\"StartTime\": 1650615092.269261, \"EndTime\": 1650615092.2692783, \"Dimensions\": {\"Algorithm\": \"Linear Learner\", \"Host\": \"algo-1\", \"Operation\": \"training\", \"epoch\": 1, \"model\": 22}, \"Metrics\": {\"validation_binary_classification_cross_entropy_objective\": {\"sum\": 0.5048869535569208, \"count\": 1, \"min\": 0.5048869535569208, \"max\": 0.5048869535569208}}}\u001b[0m\n",
            "\u001b[34m#metrics {\"StartTime\": 1650615092.269331, \"EndTime\": 1650615092.2693462, \"Dimensions\": {\"Algorithm\": \"Linear Learner\", \"Host\": \"algo-1\", \"Operation\": \"training\", \"epoch\": 1, \"model\": 23}, \"Metrics\": {\"validation_binary_classification_cross_entropy_objective\": {\"sum\": 0.5104253723895721, \"count\": 1, \"min\": 0.5104253723895721, \"max\": 0.5104253723895721}}}\u001b[0m\n",
            "\u001b[34m#metrics {\"StartTime\": 1650615092.269401, \"EndTime\": 1650615092.269418, \"Dimensions\": {\"Algorithm\": \"Linear Learner\", \"Host\": \"algo-1\", \"Operation\": \"training\", \"epoch\": 1, \"model\": 24}, \"Metrics\": {\"validation_binary_classification_cross_entropy_objective\": {\"sum\": 0.5137312355601491, \"count\": 1, \"min\": 0.5137312355601491, \"max\": 0.5137312355601491}}}\u001b[0m\n",
            "\u001b[34m#metrics {\"StartTime\": 1650615092.2694657, \"EndTime\": 1650615092.2694807, \"Dimensions\": {\"Algorithm\": \"Linear Learner\", \"Host\": \"algo-1\", \"Operation\": \"training\", \"epoch\": 1, \"model\": 25}, \"Metrics\": {\"validation_binary_classification_cross_entropy_objective\": {\"sum\": 0.5145093661654467, \"count\": 1, \"min\": 0.5145093661654467, \"max\": 0.5145093661654467}}}\u001b[0m\n",
            "\u001b[34m#metrics {\"StartTime\": 1650615092.2695425, \"EndTime\": 1650615092.2695594, \"Dimensions\": {\"Algorithm\": \"Linear Learner\", \"Host\": \"algo-1\", \"Operation\": \"training\", \"epoch\": 1, \"model\": 26}, \"Metrics\": {\"validation_binary_classification_cross_entropy_objective\": {\"sum\": 0.5137226218856088, \"count\": 1, \"min\": 0.5137226218856088, \"max\": 0.5137226218856088}}}\u001b[0m\n",
            "\u001b[34m#metrics {\"StartTime\": 1650615092.2696066, \"EndTime\": 1650615092.269623, \"Dimensions\": {\"Algorithm\": \"Linear Learner\", \"Host\": \"algo-1\", \"Operation\": \"training\", \"epoch\": 1, \"model\": 27}, \"Metrics\": {\"validation_binary_classification_cross_entropy_objective\": {\"sum\": 0.5145368006209008, \"count\": 1, \"min\": 0.5145368006209008, \"max\": 0.5145368006209008}}}\u001b[0m\n",
            "\u001b[34m#metrics {\"StartTime\": 1650615092.2696702, \"EndTime\": 1650615092.269687, \"Dimensions\": {\"Algorithm\": \"Linear Learner\", \"Host\": \"algo-1\", \"Operation\": \"training\", \"epoch\": 1, \"model\": 28}, \"Metrics\": {\"validation_binary_classification_cross_entropy_objective\": {\"sum\": 0.5139420212161709, \"count\": 1, \"min\": 0.5139420212161709, \"max\": 0.5139420212161709}}}\u001b[0m\n",
            "\u001b[34m#metrics {\"StartTime\": 1650615092.2697413, \"EndTime\": 1650615092.269758, \"Dimensions\": {\"Algorithm\": \"Linear Learner\", \"Host\": \"algo-1\", \"Operation\": \"training\", \"epoch\": 1, \"model\": 29}, \"Metrics\": {\"validation_binary_classification_cross_entropy_objective\": {\"sum\": 0.5139378915409061, \"count\": 1, \"min\": 0.5139378915409061, \"max\": 0.5139378915409061}}}\u001b[0m\n",
            "\u001b[34m#metrics {\"StartTime\": 1650615092.269809, \"EndTime\": 1650615092.2698257, \"Dimensions\": {\"Algorithm\": \"Linear Learner\", \"Host\": \"algo-1\", \"Operation\": \"training\", \"epoch\": 1, \"model\": 30}, \"Metrics\": {\"validation_binary_classification_cross_entropy_objective\": {\"sum\": 0.5139256846216068, \"count\": 1, \"min\": 0.5139256846216068, \"max\": 0.5139256846216068}}}\u001b[0m\n",
            "\u001b[34m#metrics {\"StartTime\": 1650615092.269876, \"EndTime\": 1650615092.2698913, \"Dimensions\": {\"Algorithm\": \"Linear Learner\", \"Host\": \"algo-1\", \"Operation\": \"training\", \"epoch\": 1, \"model\": 31}, \"Metrics\": {\"validation_binary_classification_cross_entropy_objective\": {\"sum\": 0.513940966453858, \"count\": 1, \"min\": 0.513940966453858, \"max\": 0.513940966453858}}}\u001b[0m\n",
            "\u001b[34m[04/22/2022 08:11:32 INFO 139911885301568] #quality_metric: host=algo-1, epoch=1, validation binary_classification_cross_entropy_objective <loss>=0.4797899618463607\u001b[0m\n",
            "\u001b[34m[04/22/2022 08:11:32 INFO 139911885301568] #early_stopping_criteria_metric: host=algo-1, epoch=1, criteria=binary_classification_cross_entropy_objective, value=0.4797899618463607\u001b[0m\n",
            "\u001b[34m[04/22/2022 08:11:32 INFO 139911885301568] Saving model for epoch: 1\u001b[0m\n",
            "\u001b[34m[04/22/2022 08:11:32 INFO 139911885301568] Saved checkpoint to \"/tmp/tmpqtv7pzg5/mx-mod-0000.params\"\u001b[0m\n",
            "\u001b[34m[04/22/2022 08:11:32 INFO 139911885301568] #progress_metric: host=algo-1, completed 13.333333333333334 % of epochs\u001b[0m\n",
            "\u001b[34m#metrics {\"StartTime\": 1650615026.0977113, \"EndTime\": 1650615092.2778847, \"Dimensions\": {\"Algorithm\": \"Linear Learner\", \"Host\": \"algo-1\", \"Operation\": \"training\", \"epoch\": 1, \"Meta\": \"training_data_iter\"}, \"Metrics\": {\"Total Records Seen\": {\"sum\": 2628944.0, \"count\": 1, \"min\": 2628944, \"max\": 2628944}, \"Total Batches Seen\": {\"sum\": 2630.0, \"count\": 1, \"min\": 2630, \"max\": 2630}, \"Max Records Seen Between Resets\": {\"sum\": 1308472.0, \"count\": 1, \"min\": 1308472, \"max\": 1308472}, \"Max Batches Seen Between Resets\": {\"sum\": 1309.0, \"count\": 1, \"min\": 1309, \"max\": 1309}, \"Reset Count\": {\"sum\": 4.0, \"count\": 1, \"min\": 4, \"max\": 4}, \"Number of Records Since Last Reset\": {\"sum\": 1308472.0, \"count\": 1, \"min\": 1308472, \"max\": 1308472}, \"Number of Batches Since Last Reset\": {\"sum\": 1309.0, \"count\": 1, \"min\": 1309, \"max\": 1309}}}\u001b[0m\n",
            "\u001b[34m[04/22/2022 08:11:32 INFO 139911885301568] #throughput_metric: host=algo-1, train throughput=19771.307575080158 records/second\u001b[0m\n",
            "\u001b[34m[2022-04-22 08:12:32.786] [tensorio] [info] epoch_stats={\"data_pipeline\": \"/opt/ml/input/data/train\", \"epoch\": 7, \"duration\": 60508, \"num_examples\": 1309, \"num_bytes\": 507687136}\u001b[0m\n",
            "\u001b[34m#metrics {\"StartTime\": 1650615152.7869215, \"EndTime\": 1650615152.7870345, \"Dimensions\": {\"Algorithm\": \"Linear Learner\", \"Host\": \"algo-1\", \"Operation\": \"training\", \"epoch\": 2, \"model\": 0}, \"Metrics\": {\"train_binary_classification_cross_entropy_objective\": {\"sum\": 0.4807218713089596, \"count\": 1, \"min\": 0.4807218713089596, \"max\": 0.4807218713089596}}}\u001b[0m\n",
            "\u001b[34m#metrics {\"StartTime\": 1650615152.7871501, \"EndTime\": 1650615152.7871745, \"Dimensions\": {\"Algorithm\": \"Linear Learner\", \"Host\": \"algo-1\", \"Operation\": \"training\", \"epoch\": 2, \"model\": 1}, \"Metrics\": {\"train_binary_classification_cross_entropy_objective\": {\"sum\": 0.4817156719942705, \"count\": 1, \"min\": 0.4817156719942705, \"max\": 0.4817156719942705}}}\u001b[0m\n",
            "\u001b[34m#metrics {\"StartTime\": 1650615152.7872329, \"EndTime\": 1650615152.7872508, \"Dimensions\": {\"Algorithm\": \"Linear Learner\", \"Host\": \"algo-1\", \"Operation\": \"training\", \"epoch\": 2, \"model\": 2}, \"Metrics\": {\"train_binary_classification_cross_entropy_objective\": {\"sum\": 0.4807221626958351, \"count\": 1, \"min\": 0.4807221626958351, \"max\": 0.4807221626958351}}}\u001b[0m\n",
            "\u001b[34m#metrics {\"StartTime\": 1650615152.7873106, \"EndTime\": 1650615152.787326, \"Dimensions\": {\"Algorithm\": \"Linear Learner\", \"Host\": \"algo-1\", \"Operation\": \"training\", \"epoch\": 2, \"model\": 3}, \"Metrics\": {\"train_binary_classification_cross_entropy_objective\": {\"sum\": 0.48171562257819217, \"count\": 1, \"min\": 0.48171562257819217, \"max\": 0.48171562257819217}}}\u001b[0m\n",
            "\u001b[34m#metrics {\"StartTime\": 1650615152.787378, \"EndTime\": 1650615152.7873943, \"Dimensions\": {\"Algorithm\": \"Linear Learner\", \"Host\": \"algo-1\", \"Operation\": \"training\", \"epoch\": 2, \"model\": 4}, \"Metrics\": {\"train_binary_classification_cross_entropy_objective\": {\"sum\": 0.4817970385070241, \"count\": 1, \"min\": 0.4817970385070241, \"max\": 0.4817970385070241}}}\u001b[0m\n",
            "\u001b[34m#metrics {\"StartTime\": 1650615152.7874434, \"EndTime\": 1650615152.7874606, \"Dimensions\": {\"Algorithm\": \"Linear Learner\", \"Host\": \"algo-1\", \"Operation\": \"training\", \"epoch\": 2, \"model\": 5}, \"Metrics\": {\"train_binary_classification_cross_entropy_objective\": {\"sum\": 0.49875074693405663, \"count\": 1, \"min\": 0.49875074693405663, \"max\": 0.49875074693405663}}}\u001b[0m\n",
            "\u001b[34m#metrics {\"StartTime\": 1650615152.7875144, \"EndTime\": 1650615152.7875319, \"Dimensions\": {\"Algorithm\": \"Linear Learner\", \"Host\": \"algo-1\", \"Operation\": \"training\", \"epoch\": 2, \"model\": 6}, \"Metrics\": {\"train_binary_classification_cross_entropy_objective\": {\"sum\": 0.48179700647289964, \"count\": 1, \"min\": 0.48179700647289964, \"max\": 0.48179700647289964}}}\u001b[0m\n",
            "\u001b[34m#metrics {\"StartTime\": 1650615152.7875853, \"EndTime\": 1650615152.7876036, \"Dimensions\": {\"Algorithm\": \"Linear Learner\", \"Host\": \"algo-1\", \"Operation\": \"training\", \"epoch\": 2, \"model\": 7}, \"Metrics\": {\"train_binary_classification_cross_entropy_objective\": {\"sum\": 0.49875086730117096, \"count\": 1, \"min\": 0.49875086730117096, \"max\": 0.49875086730117096}}}\u001b[0m\n",
            "\u001b[34m#metrics {\"StartTime\": 1650615152.7876565, \"EndTime\": 1650615152.787674, \"Dimensions\": {\"Algorithm\": \"Linear Learner\", \"Host\": \"algo-1\", \"Operation\": \"training\", \"epoch\": 2, \"model\": 8}, \"Metrics\": {\"train_binary_classification_cross_entropy_objective\": {\"sum\": 0.48098221219497356, \"count\": 1, \"min\": 0.48098221219497356, \"max\": 0.48098221219497356}}}\u001b[0m\n",
            "\u001b[34m#metrics {\"StartTime\": 1650615152.7877288, \"EndTime\": 1650615152.7877452, \"Dimensions\": {\"Algorithm\": \"Linear Learner\", \"Host\": \"algo-1\", \"Operation\": \"training\", \"epoch\": 2, \"model\": 9}, \"Metrics\": {\"train_binary_classification_cross_entropy_objective\": {\"sum\": 0.4819225657518486, \"count\": 1, \"min\": 0.4819225657518486, \"max\": 0.4819225657518486}}}\u001b[0m\n",
            "\u001b[34m#metrics {\"StartTime\": 1650615152.7878377, \"EndTime\": 1650615152.7878556, \"Dimensions\": {\"Algorithm\": \"Linear Learner\", \"Host\": \"algo-1\", \"Operation\": \"training\", \"epoch\": 2, \"model\": 10}, \"Metrics\": {\"train_binary_classification_cross_entropy_objective\": {\"sum\": 0.4809820898680147, \"count\": 1, \"min\": 0.4809820898680147, \"max\": 0.4809820898680147}}}\u001b[0m\n",
            "\u001b[34m#metrics {\"StartTime\": 1650615152.7879107, \"EndTime\": 1650615152.7879267, \"Dimensions\": {\"Algorithm\": \"Linear Learner\", \"Host\": \"algo-1\", \"Operation\": \"training\", \"epoch\": 2, \"model\": 11}, \"Metrics\": {\"train_binary_classification_cross_entropy_objective\": {\"sum\": 0.48192255116967253, \"count\": 1, \"min\": 0.48192255116967253, \"max\": 0.48192255116967253}}}\u001b[0m\n",
            "\u001b[34m#metrics {\"StartTime\": 1650615152.7879834, \"EndTime\": 1650615152.788001, \"Dimensions\": {\"Algorithm\": \"Linear Learner\", \"Host\": \"algo-1\", \"Operation\": \"training\", \"epoch\": 2, \"model\": 12}, \"Metrics\": {\"train_binary_classification_cross_entropy_objective\": {\"sum\": 0.4819978933305186, \"count\": 1, \"min\": 0.4819978933305186, \"max\": 0.4819978933305186}}}\u001b[0m\n",
            "\u001b[34m#metrics {\"StartTime\": 1650615152.7880528, \"EndTime\": 1650615152.7880678, \"Dimensions\": {\"Algorithm\": \"Linear Learner\", \"Host\": \"algo-1\", \"Operation\": \"training\", \"epoch\": 2, \"model\": 13}, \"Metrics\": {\"train_binary_classification_cross_entropy_objective\": {\"sum\": 0.4977145482334522, \"count\": 1, \"min\": 0.4977145482334522, \"max\": 0.4977145482334522}}}\u001b[0m\n",
            "\u001b[34m#metrics {\"StartTime\": 1650615152.7881193, \"EndTime\": 1650615152.788137, \"Dimensions\": {\"Algorithm\": \"Linear Learner\", \"Host\": \"algo-1\", \"Operation\": \"training\", \"epoch\": 2, \"model\": 14}, \"Metrics\": {\"train_binary_classification_cross_entropy_objective\": {\"sum\": 0.4819978915339945, \"count\": 1, \"min\": 0.4819978915339945, \"max\": 0.4819978915339945}}}\u001b[0m\n",
            "\u001b[34m#metrics {\"StartTime\": 1650615152.7881875, \"EndTime\": 1650615152.7882042, \"Dimensions\": {\"Algorithm\": \"Linear Learner\", \"Host\": \"algo-1\", \"Operation\": \"training\", \"epoch\": 2, \"model\": 15}, \"Metrics\": {\"train_binary_classification_cross_entropy_objective\": {\"sum\": 0.49771440840788206, \"count\": 1, \"min\": 0.49771440840788206, \"max\": 0.49771440840788206}}}\u001b[0m\n",
            "\u001b[34m#metrics {\"StartTime\": 1650615152.7882588, \"EndTime\": 1650615152.7882757, \"Dimensions\": {\"Algorithm\": \"Linear Learner\", \"Host\": \"algo-1\", \"Operation\": \"training\", \"epoch\": 2, \"model\": 16}, \"Metrics\": {\"train_binary_classification_cross_entropy_objective\": {\"sum\": 0.5044968778277756, \"count\": 1, \"min\": 0.5044968778277756, \"max\": 0.5044968778277756}}}\u001b[0m\n",
            "\u001b[34m#metrics {\"StartTime\": 1650615152.7883308, \"EndTime\": 1650615152.7883465, \"Dimensions\": {\"Algorithm\": \"Linear Learner\", \"Host\": \"algo-1\", \"Operation\": \"training\", \"epoch\": 2, \"model\": 17}, \"Metrics\": {\"train_binary_classification_cross_entropy_objective\": {\"sum\": 0.5047356190346067, \"count\": 1, \"min\": 0.5047356190346067, \"max\": 0.5047356190346067}}}\u001b[0m\n",
            "\u001b[34m#metrics {\"StartTime\": 1650615152.788402, \"EndTime\": 1650615152.7884188, \"Dimensions\": {\"Algorithm\": \"Linear Learner\", \"Host\": \"algo-1\", \"Operation\": \"training\", \"epoch\": 2, \"model\": 18}, \"Metrics\": {\"train_binary_classification_cross_entropy_objective\": {\"sum\": 0.5044969161147371, \"count\": 1, \"min\": 0.5044969161147371, \"max\": 0.5044969161147371}}}\u001b[0m\n",
            "\u001b[34m#metrics {\"StartTime\": 1650615152.7884707, \"EndTime\": 1650615152.7884877, \"Dimensions\": {\"Algorithm\": \"Linear Learner\", \"Host\": \"algo-1\", \"Operation\": \"training\", \"epoch\": 2, \"model\": 19}, \"Metrics\": {\"train_binary_classification_cross_entropy_objective\": {\"sum\": 0.5047356581848331, \"count\": 1, \"min\": 0.5047356581848331, \"max\": 0.5047356581848331}}}\u001b[0m\n",
            "\u001b[34m#metrics {\"StartTime\": 1650615152.7885427, \"EndTime\": 1650615152.7885597, \"Dimensions\": {\"Algorithm\": \"Linear Learner\", \"Host\": \"algo-1\", \"Operation\": \"training\", \"epoch\": 2, \"model\": 20}, \"Metrics\": {\"train_binary_classification_cross_entropy_objective\": {\"sum\": 0.5047246718100451, \"count\": 1, \"min\": 0.5047246718100451, \"max\": 0.5047246718100451}}}\u001b[0m\n",
            "\u001b[34m#metrics {\"StartTime\": 1650615152.7886138, \"EndTime\": 1650615152.788631, \"Dimensions\": {\"Algorithm\": \"Linear Learner\", \"Host\": \"algo-1\", \"Operation\": \"training\", \"epoch\": 2, \"model\": 21}, \"Metrics\": {\"train_binary_classification_cross_entropy_objective\": {\"sum\": 0.5077934683936816, \"count\": 1, \"min\": 0.5077934683936816, \"max\": 0.5077934683936816}}}\u001b[0m\n",
            "\u001b[34m#metrics {\"StartTime\": 1650615152.788686, \"EndTime\": 1650615152.7887075, \"Dimensions\": {\"Algorithm\": \"Linear Learner\", \"Host\": \"algo-1\", \"Operation\": \"training\", \"epoch\": 2, \"model\": 22}, \"Metrics\": {\"train_binary_classification_cross_entropy_objective\": {\"sum\": 0.5047247102603271, \"count\": 1, \"min\": 0.5047247102603271, \"max\": 0.5047247102603271}}}\u001b[0m\n",
            "\u001b[34m#metrics {\"StartTime\": 1650615152.78877, \"EndTime\": 1650615152.788785, \"Dimensions\": {\"Algorithm\": \"Linear Learner\", \"Host\": \"algo-1\", \"Operation\": \"training\", \"epoch\": 2, \"model\": 23}, \"Metrics\": {\"train_binary_classification_cross_entropy_objective\": {\"sum\": 0.5077933951794918, \"count\": 1, \"min\": 0.5077933951794918, \"max\": 0.5077933951794918}}}\u001b[0m\n",
            "\u001b[34m#metrics {\"StartTime\": 1650615152.7888346, \"EndTime\": 1650615152.7888513, \"Dimensions\": {\"Algorithm\": \"Linear Learner\", \"Host\": \"algo-1\", \"Operation\": \"training\", \"epoch\": 2, \"model\": 24}, \"Metrics\": {\"train_binary_classification_cross_entropy_objective\": {\"sum\": 0.5137306636145356, \"count\": 1, \"min\": 0.5137306636145356, \"max\": 0.5137306636145356}}}\u001b[0m\n",
            "\u001b[34m#metrics {\"StartTime\": 1650615152.7889047, \"EndTime\": 1650615152.7889214, \"Dimensions\": {\"Algorithm\": \"Linear Learner\", \"Host\": \"algo-1\", \"Operation\": \"training\", \"epoch\": 2, \"model\": 25}, \"Metrics\": {\"train_binary_classification_cross_entropy_objective\": {\"sum\": 0.5138386748660959, \"count\": 1, \"min\": 0.5138386748660959, \"max\": 0.5138386748660959}}}\u001b[0m\n",
            "\u001b[34m#metrics {\"StartTime\": 1650615152.7889724, \"EndTime\": 1650615152.7889884, \"Dimensions\": {\"Algorithm\": \"Linear Learner\", \"Host\": \"algo-1\", \"Operation\": \"training\", \"epoch\": 2, \"model\": 26}, \"Metrics\": {\"train_binary_classification_cross_entropy_objective\": {\"sum\": 0.5137309398126164, \"count\": 1, \"min\": 0.5137309398126164, \"max\": 0.5137309398126164}}}\u001b[0m\n",
            "\u001b[34m#metrics {\"StartTime\": 1650615152.789045, \"EndTime\": 1650615152.7890592, \"Dimensions\": {\"Algorithm\": \"Linear Learner\", \"Host\": \"algo-1\", \"Operation\": \"training\", \"epoch\": 2, \"model\": 27}, \"Metrics\": {\"train_binary_classification_cross_entropy_objective\": {\"sum\": 0.5138382923231213, \"count\": 1, \"min\": 0.5138382923231213, \"max\": 0.5138382923231213}}}\u001b[0m\n",
            "\u001b[34m#metrics {\"StartTime\": 1650615152.789089, \"EndTime\": 1650615152.7890973, \"Dimensions\": {\"Algorithm\": \"Linear Learner\", \"Host\": \"algo-1\", \"Operation\": \"training\", \"epoch\": 2, \"model\": 28}, \"Metrics\": {\"train_binary_classification_cross_entropy_objective\": {\"sum\": 0.5138313446044922, \"count\": 1, \"min\": 0.5138313446044922, \"max\": 0.5138313446044922}}}\u001b[0m\n",
            "\u001b[34m#metrics {\"StartTime\": 1650615152.7891226, \"EndTime\": 1650615152.7891304, \"Dimensions\": {\"Algorithm\": \"Linear Learner\", \"Host\": \"algo-1\", \"Operation\": \"training\", \"epoch\": 2, \"model\": 29}, \"Metrics\": {\"train_binary_classification_cross_entropy_objective\": {\"sum\": 0.5150411699394203, \"count\": 1, \"min\": 0.5150411699394203, \"max\": 0.5150411699394203}}}\u001b[0m\n",
            "\u001b[34m#metrics {\"StartTime\": 1650615152.7891579, \"EndTime\": 1650615152.7891657, \"Dimensions\": {\"Algorithm\": \"Linear Learner\", \"Host\": \"algo-1\", \"Operation\": \"training\", \"epoch\": 2, \"model\": 30}, \"Metrics\": {\"train_binary_classification_cross_entropy_objective\": {\"sum\": 0.5138328558545594, \"count\": 1, \"min\": 0.5138328558545594, \"max\": 0.5138328558545594}}}\u001b[0m\n",
            "\u001b[34m#metrics {\"StartTime\": 1650615152.789204, \"EndTime\": 1650615152.7892134, \"Dimensions\": {\"Algorithm\": \"Linear Learner\", \"Host\": \"algo-1\", \"Operation\": \"training\", \"epoch\": 2, \"model\": 31}, \"Metrics\": {\"train_binary_classification_cross_entropy_objective\": {\"sum\": 0.5150414491472624, \"count\": 1, \"min\": 0.5150414491472624, \"max\": 0.5150414491472624}}}\u001b[0m\n",
            "\u001b[34m[04/22/2022 08:12:32 INFO 139911885301568] #quality_metric: host=algo-1, epoch=2, train binary_classification_cross_entropy_objective <loss>=0.4807218713089596\u001b[0m\n",
            "\u001b[34m[2022-04-22 08:12:38.172] [tensorio] [info] epoch_stats={\"data_pipeline\": \"/opt/ml/input/data/validation\", \"epoch\": 8, \"duration\": 5343, \"num_examples\": 164, \"num_bytes\": 63460892}\u001b[0m\n",
            "\u001b[34m#metrics {\"StartTime\": 1650615158.1810539, \"EndTime\": 1650615158.1811492, \"Dimensions\": {\"Algorithm\": \"Linear Learner\", \"Host\": \"algo-1\", \"Operation\": \"training\", \"epoch\": 2, \"model\": 0}, \"Metrics\": {\"validation_binary_classification_cross_entropy_objective\": {\"sum\": 0.479697042380349, \"count\": 1, \"min\": 0.479697042380349, \"max\": 0.479697042380349}}}\u001b[0m\n",
            "\u001b[34m#metrics {\"StartTime\": 1650615158.1813068, \"EndTime\": 1650615158.181333, \"Dimensions\": {\"Algorithm\": \"Linear Learner\", \"Host\": \"algo-1\", \"Operation\": \"training\", \"epoch\": 2, \"model\": 1}, \"Metrics\": {\"validation_binary_classification_cross_entropy_objective\": {\"sum\": 0.48106505100152125, \"count\": 1, \"min\": 0.48106505100152125, \"max\": 0.48106505100152125}}}\u001b[0m\n",
            "\u001b[34m#metrics {\"StartTime\": 1650615158.1813989, \"EndTime\": 1650615158.181417, \"Dimensions\": {\"Algorithm\": \"Linear Learner\", \"Host\": \"algo-1\", \"Operation\": \"training\", \"epoch\": 2, \"model\": 2}, \"Metrics\": {\"validation_binary_classification_cross_entropy_objective\": {\"sum\": 0.479697595603462, \"count\": 1, \"min\": 0.479697595603462, \"max\": 0.479697595603462}}}\u001b[0m\n",
            "\u001b[34m#metrics {\"StartTime\": 1650615158.1814754, \"EndTime\": 1650615158.1814942, \"Dimensions\": {\"Algorithm\": \"Linear Learner\", \"Host\": \"algo-1\", \"Operation\": \"training\", \"epoch\": 2, \"model\": 3}, \"Metrics\": {\"validation_binary_classification_cross_entropy_objective\": {\"sum\": 0.4810650733916641, \"count\": 1, \"min\": 0.4810650733916641, \"max\": 0.4810650733916641}}}\u001b[0m\n",
            "\u001b[34m#metrics {\"StartTime\": 1650615158.181548, \"EndTime\": 1650615158.1815658, \"Dimensions\": {\"Algorithm\": \"Linear Learner\", \"Host\": \"algo-1\", \"Operation\": \"training\", \"epoch\": 2, \"model\": 4}, \"Metrics\": {\"validation_binary_classification_cross_entropy_objective\": {\"sum\": 0.48036585927045294, \"count\": 1, \"min\": 0.48036585927045294, \"max\": 0.48036585927045294}}}\u001b[0m\n",
            "\u001b[34m#metrics {\"StartTime\": 1650615158.1816187, \"EndTime\": 1650615158.181638, \"Dimensions\": {\"Algorithm\": \"Linear Learner\", \"Host\": \"algo-1\", \"Operation\": \"training\", \"epoch\": 2, \"model\": 5}, \"Metrics\": {\"validation_binary_classification_cross_entropy_objective\": {\"sum\": 0.494062308571742, \"count\": 1, \"min\": 0.494062308571742, \"max\": 0.494062308571742}}}\u001b[0m\n",
            "\u001b[34m#metrics {\"StartTime\": 1650615158.1817074, \"EndTime\": 1650615158.181726, \"Dimensions\": {\"Algorithm\": \"Linear Learner\", \"Host\": \"algo-1\", \"Operation\": \"training\", \"epoch\": 2, \"model\": 6}, \"Metrics\": {\"validation_binary_classification_cross_entropy_objective\": {\"sum\": 0.4803658460229518, \"count\": 1, \"min\": 0.4803658460229518, \"max\": 0.4803658460229518}}}\u001b[0m\n",
            "\u001b[34m#metrics {\"StartTime\": 1650615158.1817842, \"EndTime\": 1650615158.1818006, \"Dimensions\": {\"Algorithm\": \"Linear Learner\", \"Host\": \"algo-1\", \"Operation\": \"training\", \"epoch\": 2, \"model\": 7}, \"Metrics\": {\"validation_binary_classification_cross_entropy_objective\": {\"sum\": 0.4940620732886575, \"count\": 1, \"min\": 0.4940620732886575, \"max\": 0.4940620732886575}}}\u001b[0m\n",
            "\u001b[34m#metrics {\"StartTime\": 1650615158.1818533, \"EndTime\": 1650615158.18187, \"Dimensions\": {\"Algorithm\": \"Linear Learner\", \"Host\": \"algo-1\", \"Operation\": \"training\", \"epoch\": 2, \"model\": 8}, \"Metrics\": {\"validation_binary_classification_cross_entropy_objective\": {\"sum\": 0.48005578807105254, \"count\": 1, \"min\": 0.48005578807105254, \"max\": 0.48005578807105254}}}\u001b[0m\n",
            "\u001b[34m#metrics {\"StartTime\": 1650615158.181925, \"EndTime\": 1650615158.1819422, \"Dimensions\": {\"Algorithm\": \"Linear Learner\", \"Host\": \"algo-1\", \"Operation\": \"training\", \"epoch\": 2, \"model\": 9}, \"Metrics\": {\"validation_binary_classification_cross_entropy_objective\": {\"sum\": 0.48132851208078964, \"count\": 1, \"min\": 0.48132851208078964, \"max\": 0.48132851208078964}}}\u001b[0m\n",
            "\u001b[34m#metrics {\"StartTime\": 1650615158.1819975, \"EndTime\": 1650615158.1820123, \"Dimensions\": {\"Algorithm\": \"Linear Learner\", \"Host\": \"algo-1\", \"Operation\": \"training\", \"epoch\": 2, \"model\": 10}, \"Metrics\": {\"validation_binary_classification_cross_entropy_objective\": {\"sum\": 0.480055693472699, \"count\": 1, \"min\": 0.480055693472699, \"max\": 0.480055693472699}}}\u001b[0m\n",
            "\u001b[34m#metrics {\"StartTime\": 1650615158.182067, \"EndTime\": 1650615158.1820846, \"Dimensions\": {\"Algorithm\": \"Linear Learner\", \"Host\": \"algo-1\", \"Operation\": \"training\", \"epoch\": 2, \"model\": 11}, \"Metrics\": {\"validation_binary_classification_cross_entropy_objective\": {\"sum\": 0.4813284827870194, \"count\": 1, \"min\": 0.4813284827870194, \"max\": 0.4813284827870194}}}\u001b[0m\n",
            "\u001b[34m#metrics {\"StartTime\": 1650615158.1821396, \"EndTime\": 1650615158.1821594, \"Dimensions\": {\"Algorithm\": \"Linear Learner\", \"Host\": \"algo-1\", \"Operation\": \"training\", \"epoch\": 2, \"model\": 12}, \"Metrics\": {\"validation_binary_classification_cross_entropy_objective\": {\"sum\": 0.48063404821496947, \"count\": 1, \"min\": 0.48063404821496947, \"max\": 0.48063404821496947}}}\u001b[0m\n",
            "\u001b[34m#metrics {\"StartTime\": 1650615158.1822116, \"EndTime\": 1650615158.182229, \"Dimensions\": {\"Algorithm\": \"Linear Learner\", \"Host\": \"algo-1\", \"Operation\": \"training\", \"epoch\": 2, \"model\": 13}, \"Metrics\": {\"validation_binary_classification_cross_entropy_objective\": {\"sum\": 0.49326815072902064, \"count\": 1, \"min\": 0.49326815072902064, \"max\": 0.49326815072902064}}}\u001b[0m\n",
            "\u001b[34m#metrics {\"StartTime\": 1650615158.1822827, \"EndTime\": 1650615158.1822999, \"Dimensions\": {\"Algorithm\": \"Linear Learner\", \"Host\": \"algo-1\", \"Operation\": \"training\", \"epoch\": 2, \"model\": 14}, \"Metrics\": {\"validation_binary_classification_cross_entropy_objective\": {\"sum\": 0.48063398925425993, \"count\": 1, \"min\": 0.48063398925425993, \"max\": 0.48063398925425993}}}\u001b[0m\n",
            "\u001b[34m#metrics {\"StartTime\": 1650615158.1823516, \"EndTime\": 1650615158.1823685, \"Dimensions\": {\"Algorithm\": \"Linear Learner\", \"Host\": \"algo-1\", \"Operation\": \"training\", \"epoch\": 2, \"model\": 15}, \"Metrics\": {\"validation_binary_classification_cross_entropy_objective\": {\"sum\": 0.49326806135503376, \"count\": 1, \"min\": 0.49326806135503376, \"max\": 0.49326806135503376}}}\u001b[0m\n",
            "\u001b[34m#metrics {\"StartTime\": 1650615158.182423, \"EndTime\": 1650615158.1824365, \"Dimensions\": {\"Algorithm\": \"Linear Learner\", \"Host\": \"algo-1\", \"Operation\": \"training\", \"epoch\": 2, \"model\": 16}, \"Metrics\": {\"validation_binary_classification_cross_entropy_objective\": {\"sum\": 0.5043298362383161, \"count\": 1, \"min\": 0.5043298362383161, \"max\": 0.5043298362383161}}}\u001b[0m\n",
            "\u001b[34m#metrics {\"StartTime\": 1650615158.1824934, \"EndTime\": 1650615158.18251, \"Dimensions\": {\"Algorithm\": \"Linear Learner\", \"Host\": \"algo-1\", \"Operation\": \"training\", \"epoch\": 2, \"model\": 17}, \"Metrics\": {\"validation_binary_classification_cross_entropy_objective\": {\"sum\": 0.5048920922812902, \"count\": 1, \"min\": 0.5048920922812902, \"max\": 0.5048920922812902}}}\u001b[0m\n",
            "\u001b[34m#metrics {\"StartTime\": 1650615158.1825633, \"EndTime\": 1650615158.18258, \"Dimensions\": {\"Algorithm\": \"Linear Learner\", \"Host\": \"algo-1\", \"Operation\": \"training\", \"epoch\": 2, \"model\": 18}, \"Metrics\": {\"validation_binary_classification_cross_entropy_objective\": {\"sum\": 0.5043297797032054, \"count\": 1, \"min\": 0.5043297797032054, \"max\": 0.5043297797032054}}}\u001b[0m\n",
            "\u001b[34m#metrics {\"StartTime\": 1650615158.182631, \"EndTime\": 1650615158.1826484, \"Dimensions\": {\"Algorithm\": \"Linear Learner\", \"Host\": \"algo-1\", \"Operation\": \"training\", \"epoch\": 2, \"model\": 19}, \"Metrics\": {\"validation_binary_classification_cross_entropy_objective\": {\"sum\": 0.5048918228532379, \"count\": 1, \"min\": 0.5048918228532379, \"max\": 0.5048918228532379}}}\u001b[0m\n",
            "\u001b[34m#metrics {\"StartTime\": 1650615158.1827004, \"EndTime\": 1650615158.1827178, \"Dimensions\": {\"Algorithm\": \"Linear Learner\", \"Host\": \"algo-1\", \"Operation\": \"training\", \"epoch\": 2, \"model\": 20}, \"Metrics\": {\"validation_binary_classification_cross_entropy_objective\": {\"sum\": 0.5045539324610954, \"count\": 1, \"min\": 0.5045539324610954, \"max\": 0.5045539324610954}}}\u001b[0m\n",
            "\u001b[34m#metrics {\"StartTime\": 1650615158.1827729, \"EndTime\": 1650615158.182791, \"Dimensions\": {\"Algorithm\": \"Linear Learner\", \"Host\": \"algo-1\", \"Operation\": \"training\", \"epoch\": 2, \"model\": 21}, \"Metrics\": {\"validation_binary_classification_cross_entropy_objective\": {\"sum\": 0.5095517127471132, \"count\": 1, \"min\": 0.5095517127471132, \"max\": 0.5095517127471132}}}\u001b[0m\n",
            "\u001b[34m#metrics {\"StartTime\": 1650615158.1828437, \"EndTime\": 1650615158.1828637, \"Dimensions\": {\"Algorithm\": \"Linear Learner\", \"Host\": \"algo-1\", \"Operation\": \"training\", \"epoch\": 2, \"model\": 22}, \"Metrics\": {\"validation_binary_classification_cross_entropy_objective\": {\"sum\": 0.5045540585922335, \"count\": 1, \"min\": 0.5045540585922335, \"max\": 0.5045540585922335}}}\u001b[0m\n",
            "\u001b[34m#metrics {\"StartTime\": 1650615158.1829166, \"EndTime\": 1650615158.1829329, \"Dimensions\": {\"Algorithm\": \"Linear Learner\", \"Host\": \"algo-1\", \"Operation\": \"training\", \"epoch\": 2, \"model\": 23}, \"Metrics\": {\"validation_binary_classification_cross_entropy_objective\": {\"sum\": 0.5095520618467572, \"count\": 1, \"min\": 0.5095520618467572, \"max\": 0.5095520618467572}}}\u001b[0m\n",
            "\u001b[34m#metrics {\"StartTime\": 1650615158.182986, \"EndTime\": 1650615158.183003, \"Dimensions\": {\"Algorithm\": \"Linear Learner\", \"Host\": \"algo-1\", \"Operation\": \"training\", \"epoch\": 2, \"model\": 24}, \"Metrics\": {\"validation_binary_classification_cross_entropy_objective\": {\"sum\": 0.513713848494716, \"count\": 1, \"min\": 0.513713848494716, \"max\": 0.513713848494716}}}\u001b[0m\n",
            "\u001b[34m#metrics {\"StartTime\": 1650615158.183058, \"EndTime\": 1650615158.1830761, \"Dimensions\": {\"Algorithm\": \"Linear Learner\", \"Host\": \"algo-1\", \"Operation\": \"training\", \"epoch\": 2, \"model\": 25}, \"Metrics\": {\"validation_binary_classification_cross_entropy_objective\": {\"sum\": 0.51444727773956, \"count\": 1, \"min\": 0.51444727773956, \"max\": 0.51444727773956}}}\u001b[0m\n",
            "\u001b[34m#metrics {\"StartTime\": 1650615158.18313, \"EndTime\": 1650615158.1831486, \"Dimensions\": {\"Algorithm\": \"Linear Learner\", \"Host\": \"algo-1\", \"Operation\": \"training\", \"epoch\": 2, \"model\": 26}, \"Metrics\": {\"validation_binary_classification_cross_entropy_objective\": {\"sum\": 0.5137178320742988, \"count\": 1, \"min\": 0.5137178320742988, \"max\": 0.5137178320742988}}}\u001b[0m\n",
            "\u001b[34m#metrics {\"StartTime\": 1650615158.1831982, \"EndTime\": 1650615158.1832147, \"Dimensions\": {\"Algorithm\": \"Linear Learner\", \"Host\": \"algo-1\", \"Operation\": \"training\", \"epoch\": 2, \"model\": 27}, \"Metrics\": {\"validation_binary_classification_cross_entropy_objective\": {\"sum\": 0.5144868409353979, \"count\": 1, \"min\": 0.5144868409353979, \"max\": 0.5144868409353979}}}\u001b[0m\n",
            "\u001b[34m#metrics {\"StartTime\": 1650615158.1832707, \"EndTime\": 1650615158.1832862, \"Dimensions\": {\"Algorithm\": \"Linear Learner\", \"Host\": \"algo-1\", \"Operation\": \"training\", \"epoch\": 2, \"model\": 28}, \"Metrics\": {\"validation_binary_classification_cross_entropy_objective\": {\"sum\": 0.5139542139550464, \"count\": 1, \"min\": 0.5139542139550464, \"max\": 0.5139542139550464}}}\u001b[0m\n",
            "\u001b[34m#metrics {\"StartTime\": 1650615158.1833396, \"EndTime\": 1650615158.1833587, \"Dimensions\": {\"Algorithm\": \"Linear Learner\", \"Host\": \"algo-1\", \"Operation\": \"training\", \"epoch\": 2, \"model\": 29}, \"Metrics\": {\"validation_binary_classification_cross_entropy_objective\": {\"sum\": 0.5138464890070727, \"count\": 1, \"min\": 0.5138464890070727, \"max\": 0.5138464890070727}}}\u001b[0m\n",
            "\u001b[34m#metrics {\"StartTime\": 1650615158.183414, \"EndTime\": 1650615158.1834302, \"Dimensions\": {\"Algorithm\": \"Linear Learner\", \"Host\": \"algo-1\", \"Operation\": \"training\", \"epoch\": 2, \"model\": 30}, \"Metrics\": {\"validation_binary_classification_cross_entropy_objective\": {\"sum\": 0.5139641534992128, \"count\": 1, \"min\": 0.5139641534992128, \"max\": 0.5139641534992128}}}\u001b[0m\n",
            "\u001b[34m#metrics {\"StartTime\": 1650615158.1834857, \"EndTime\": 1650615158.1835005, \"Dimensions\": {\"Algorithm\": \"Linear Learner\", \"Host\": \"algo-1\", \"Operation\": \"training\", \"epoch\": 2, \"model\": 31}, \"Metrics\": {\"validation_binary_classification_cross_entropy_objective\": {\"sum\": 0.5138463516808632, \"count\": 1, \"min\": 0.5138463516808632, \"max\": 0.5138463516808632}}}\u001b[0m\n",
            "\u001b[34m[04/22/2022 08:12:38 INFO 139911885301568] #quality_metric: host=algo-1, epoch=2, validation binary_classification_cross_entropy_objective <loss>=0.479697042380349\u001b[0m\n",
            "\u001b[34m[04/22/2022 08:12:38 INFO 139911885301568] #early_stopping_criteria_metric: host=algo-1, epoch=2, criteria=binary_classification_cross_entropy_objective, value=0.479697042380349\u001b[0m\n",
            "\u001b[34m[04/22/2022 08:12:38 INFO 139911885301568] Saving model for epoch: 2\u001b[0m\n",
            "\u001b[34m[04/22/2022 08:12:38 INFO 139911885301568] Saved checkpoint to \"/tmp/tmp_nzvk22f/mx-mod-0000.params\"\u001b[0m\n",
            "\u001b[34m[04/22/2022 08:12:38 INFO 139911885301568] #progress_metric: host=algo-1, completed 20.0 % of epochs\u001b[0m\n",
            "\u001b[34m#metrics {\"StartTime\": 1650615092.278452, \"EndTime\": 1650615158.1920798, \"Dimensions\": {\"Algorithm\": \"Linear Learner\", \"Host\": \"algo-1\", \"Operation\": \"training\", \"epoch\": 2, \"Meta\": \"training_data_iter\"}, \"Metrics\": {\"Total Records Seen\": {\"sum\": 3937416.0, \"count\": 1, \"min\": 3937416, \"max\": 3937416}, \"Total Batches Seen\": {\"sum\": 3939.0, \"count\": 1, \"min\": 3939, \"max\": 3939}, \"Max Records Seen Between Resets\": {\"sum\": 1308472.0, \"count\": 1, \"min\": 1308472, \"max\": 1308472}, \"Max Batches Seen Between Resets\": {\"sum\": 1309.0, \"count\": 1, \"min\": 1309, \"max\": 1309}, \"Reset Count\": {\"sum\": 5.0, \"count\": 1, \"min\": 5, \"max\": 5}, \"Number of Records Since Last Reset\": {\"sum\": 1308472.0, \"count\": 1, \"min\": 1308472, \"max\": 1308472}, \"Number of Batches Since Last Reset\": {\"sum\": 1309.0, \"count\": 1, \"min\": 1309, \"max\": 1309}}}\u001b[0m\n",
            "\u001b[34m[04/22/2022 08:12:38 INFO 139911885301568] #throughput_metric: host=algo-1, train throughput=19851.26846774365 records/second\u001b[0m\n",
            "\u001b[34m[2022-04-22 08:13:38.908] [tensorio] [info] epoch_stats={\"data_pipeline\": \"/opt/ml/input/data/train\", \"epoch\": 9, \"duration\": 60715, \"num_examples\": 1309, \"num_bytes\": 507687136}\u001b[0m\n",
            "\u001b[34m#metrics {\"StartTime\": 1650615218.9083948, \"EndTime\": 1650615218.908561, \"Dimensions\": {\"Algorithm\": \"Linear Learner\", \"Host\": \"algo-1\", \"Operation\": \"training\", \"epoch\": 3, \"model\": 0}, \"Metrics\": {\"train_binary_classification_cross_entropy_objective\": {\"sum\": 0.48065770618777026, \"count\": 1, \"min\": 0.48065770618777026, \"max\": 0.48065770618777026}}}\u001b[0m\n",
            "\u001b[34m#metrics {\"StartTime\": 1650615218.9087188, \"EndTime\": 1650615218.9087443, \"Dimensions\": {\"Algorithm\": \"Linear Learner\", \"Host\": \"algo-1\", \"Operation\": \"training\", \"epoch\": 3, \"model\": 1}, \"Metrics\": {\"train_binary_classification_cross_entropy_objective\": {\"sum\": 0.4815883169378345, \"count\": 1, \"min\": 0.4815883169378345, \"max\": 0.4815883169378345}}}\u001b[0m\n",
            "\u001b[34m#metrics {\"StartTime\": 1650615218.9088042, \"EndTime\": 1650615218.9088213, \"Dimensions\": {\"Algorithm\": \"Linear Learner\", \"Host\": \"algo-1\", \"Operation\": \"training\", \"epoch\": 3, \"model\": 2}, \"Metrics\": {\"train_binary_classification_cross_entropy_objective\": {\"sum\": 0.48067242517967107, \"count\": 1, \"min\": 0.48067242517967107, \"max\": 0.48067242517967107}}}\u001b[0m\n",
            "\u001b[34m#metrics {\"StartTime\": 1650615218.9088738, \"EndTime\": 1650615218.9088905, \"Dimensions\": {\"Algorithm\": \"Linear Learner\", \"Host\": \"algo-1\", \"Operation\": \"training\", \"epoch\": 3, \"model\": 3}, \"Metrics\": {\"train_binary_classification_cross_entropy_objective\": {\"sum\": 0.4815883073485955, \"count\": 1, \"min\": 0.4815883073485955, \"max\": 0.4815883073485955}}}\u001b[0m\n",
            "\u001b[34m#metrics {\"StartTime\": 1650615218.908954, \"EndTime\": 1650615218.908971, \"Dimensions\": {\"Algorithm\": \"Linear Learner\", \"Host\": \"algo-1\", \"Operation\": \"training\", \"epoch\": 3, \"model\": 4}, \"Metrics\": {\"train_binary_classification_cross_entropy_objective\": {\"sum\": 0.4809625548616462, \"count\": 1, \"min\": 0.4809625548616462, \"max\": 0.4809625548616462}}}\u001b[0m\n",
            "\u001b[34m#metrics {\"StartTime\": 1650615218.9090314, \"EndTime\": 1650615218.9090555, \"Dimensions\": {\"Algorithm\": \"Linear Learner\", \"Host\": \"algo-1\", \"Operation\": \"training\", \"epoch\": 3, \"model\": 5}, \"Metrics\": {\"train_binary_classification_cross_entropy_objective\": {\"sum\": 0.4965775323803636, \"count\": 1, \"min\": 0.4965775323803636, \"max\": 0.4965775323803636}}}\u001b[0m\n",
            "\u001b[34m#metrics {\"StartTime\": 1650615218.9091086, \"EndTime\": 1650615218.9091241, \"Dimensions\": {\"Algorithm\": \"Linear Learner\", \"Host\": \"algo-1\", \"Operation\": \"training\", \"epoch\": 3, \"model\": 6}, \"Metrics\": {\"train_binary_classification_cross_entropy_objective\": {\"sum\": 0.4809625514085869, \"count\": 1, \"min\": 0.4809625514085869, \"max\": 0.4809625514085869}}}\u001b[0m\n",
            "\u001b[34m#metrics {\"StartTime\": 1650615218.9091759, \"EndTime\": 1650615218.9091907, \"Dimensions\": {\"Algorithm\": \"Linear Learner\", \"Host\": \"algo-1\", \"Operation\": \"training\", \"epoch\": 3, \"model\": 7}, \"Metrics\": {\"train_binary_classification_cross_entropy_objective\": {\"sum\": 0.4965775671909344, \"count\": 1, \"min\": 0.4965775671909344, \"max\": 0.4965775671909344}}}\u001b[0m\n",
            "\u001b[34m#metrics {\"StartTime\": 1650615218.9092405, \"EndTime\": 1650615218.909257, \"Dimensions\": {\"Algorithm\": \"Linear Learner\", \"Host\": \"algo-1\", \"Operation\": \"training\", \"epoch\": 3, \"model\": 8}, \"Metrics\": {\"train_binary_classification_cross_entropy_objective\": {\"sum\": 0.48092538697128995, \"count\": 1, \"min\": 0.48092538697128995, \"max\": 0.48092538697128995}}}\u001b[0m\n",
            "\u001b[34m#metrics {\"StartTime\": 1650615218.909358, \"EndTime\": 1650615218.9093862, \"Dimensions\": {\"Algorithm\": \"Linear Learner\", \"Host\": \"algo-1\", \"Operation\": \"training\", \"epoch\": 3, \"model\": 9}, \"Metrics\": {\"train_binary_classification_cross_entropy_objective\": {\"sum\": 0.48180307431468905, \"count\": 1, \"min\": 0.48180307431468905, \"max\": 0.48180307431468905}}}\u001b[0m\n",
            "\u001b[34m#metrics {\"StartTime\": 1650615218.9094462, \"EndTime\": 1650615218.909462, \"Dimensions\": {\"Algorithm\": \"Linear Learner\", \"Host\": \"algo-1\", \"Operation\": \"training\", \"epoch\": 3, \"model\": 10}, \"Metrics\": {\"train_binary_classification_cross_entropy_objective\": {\"sum\": 0.4809402808793094, \"count\": 1, \"min\": 0.4809402808793094, \"max\": 0.4809402808793094}}}\u001b[0m\n",
            "\u001b[34m#metrics {\"StartTime\": 1650615218.909516, \"EndTime\": 1650615218.909533, \"Dimensions\": {\"Algorithm\": \"Linear Learner\", \"Host\": \"algo-1\", \"Operation\": \"training\", \"epoch\": 3, \"model\": 11}, \"Metrics\": {\"train_binary_classification_cross_entropy_objective\": {\"sum\": 0.48180307160823715, \"count\": 1, \"min\": 0.48180307160823715, \"max\": 0.48180307160823715}}}\u001b[0m\n",
            "\u001b[34m#metrics {\"StartTime\": 1650615218.9095838, \"EndTime\": 1650615218.909601, \"Dimensions\": {\"Algorithm\": \"Linear Learner\", \"Host\": \"algo-1\", \"Operation\": \"training\", \"epoch\": 3, \"model\": 12}, \"Metrics\": {\"train_binary_classification_cross_entropy_objective\": {\"sum\": 0.48121222922415546, \"count\": 1, \"min\": 0.48121222922415546, \"max\": 0.48121222922415546}}}\u001b[0m\n",
            "\u001b[34m#metrics {\"StartTime\": 1650615218.9096515, \"EndTime\": 1650615218.9096677, \"Dimensions\": {\"Algorithm\": \"Linear Learner\", \"Host\": \"algo-1\", \"Operation\": \"training\", \"epoch\": 3, \"model\": 13}, \"Metrics\": {\"train_binary_classification_cross_entropy_objective\": {\"sum\": 0.49572271511532845, \"count\": 1, \"min\": 0.49572271511532845, \"max\": 0.49572271511532845}}}\u001b[0m\n",
            "\u001b[34m#metrics {\"StartTime\": 1650615218.909722, \"EndTime\": 1650615218.9097393, \"Dimensions\": {\"Algorithm\": \"Linear Learner\", \"Host\": \"algo-1\", \"Operation\": \"training\", \"epoch\": 3, \"model\": 14}, \"Metrics\": {\"train_binary_classification_cross_entropy_objective\": {\"sum\": 0.48121222922415546, \"count\": 1, \"min\": 0.48121222922415546, \"max\": 0.48121222922415546}}}\u001b[0m\n",
            "\u001b[34m#metrics {\"StartTime\": 1650615218.9097958, \"EndTime\": 1650615218.9098136, \"Dimensions\": {\"Algorithm\": \"Linear Learner\", \"Host\": \"algo-1\", \"Operation\": \"training\", \"epoch\": 3, \"model\": 15}, \"Metrics\": {\"train_binary_classification_cross_entropy_objective\": {\"sum\": 0.49572269073393005, \"count\": 1, \"min\": 0.49572269073393005, \"max\": 0.49572269073393005}}}\u001b[0m\n",
            "\u001b[34m#metrics {\"StartTime\": 1650615218.9098685, \"EndTime\": 1650615218.909885, \"Dimensions\": {\"Algorithm\": \"Linear Learner\", \"Host\": \"algo-1\", \"Operation\": \"training\", \"epoch\": 3, \"model\": 16}, \"Metrics\": {\"train_binary_classification_cross_entropy_objective\": {\"sum\": 0.504477538969174, \"count\": 1, \"min\": 0.504477538969174, \"max\": 0.504477538969174}}}\u001b[0m\n",
            "\u001b[34m#metrics {\"StartTime\": 1650615218.9099312, \"EndTime\": 1650615218.909946, \"Dimensions\": {\"Algorithm\": \"Linear Learner\", \"Host\": \"algo-1\", \"Operation\": \"training\", \"epoch\": 3, \"model\": 17}, \"Metrics\": {\"train_binary_classification_cross_entropy_objective\": {\"sum\": 0.5047059471527007, \"count\": 1, \"min\": 0.5047059471527007, \"max\": 0.5047059471527007}}}\u001b[0m\n",
            "\u001b[34m#metrics {\"StartTime\": 1650615218.9099941, \"EndTime\": 1650615218.9100106, \"Dimensions\": {\"Algorithm\": \"Linear Learner\", \"Host\": \"algo-1\", \"Operation\": \"training\", \"epoch\": 3, \"model\": 18}, \"Metrics\": {\"train_binary_classification_cross_entropy_objective\": {\"sum\": 0.5044881312752353, \"count\": 1, \"min\": 0.5044881312752353, \"max\": 0.5044881312752353}}}\u001b[0m\n",
            "\u001b[34m#metrics {\"StartTime\": 1650615218.9100635, \"EndTime\": 1650615218.9100785, \"Dimensions\": {\"Algorithm\": \"Linear Learner\", \"Host\": \"algo-1\", \"Operation\": \"training\", \"epoch\": 3, \"model\": 19}, \"Metrics\": {\"train_binary_classification_cross_entropy_objective\": {\"sum\": 0.5047059646746435, \"count\": 1, \"min\": 0.5047059646746435, \"max\": 0.5047059646746435}}}\u001b[0m\n",
            "\u001b[34m#metrics {\"StartTime\": 1650615218.9101305, \"EndTime\": 1650615218.910148, \"Dimensions\": {\"Algorithm\": \"Linear Learner\", \"Host\": \"algo-1\", \"Operation\": \"training\", \"epoch\": 3, \"model\": 20}, \"Metrics\": {\"train_binary_classification_cross_entropy_objective\": {\"sum\": 0.5045448869477718, \"count\": 1, \"min\": 0.5045448869477718, \"max\": 0.5045448869477718}}}\u001b[0m\n",
            "\u001b[34m#metrics {\"StartTime\": 1650615218.9102056, \"EndTime\": 1650615218.9102228, \"Dimensions\": {\"Algorithm\": \"Linear Learner\", \"Host\": \"algo-1\", \"Operation\": \"training\", \"epoch\": 3, \"model\": 21}, \"Metrics\": {\"train_binary_classification_cross_entropy_objective\": {\"sum\": 0.5074157469163247, \"count\": 1, \"min\": 0.5074157469163247, \"max\": 0.5074157469163247}}}\u001b[0m\n",
            "\u001b[34m#metrics {\"StartTime\": 1650615218.9102771, \"EndTime\": 1650615218.9102938, \"Dimensions\": {\"Algorithm\": \"Linear Learner\", \"Host\": \"algo-1\", \"Operation\": \"training\", \"epoch\": 3, \"model\": 22}, \"Metrics\": {\"train_binary_classification_cross_entropy_objective\": {\"sum\": 0.5045448940638737, \"count\": 1, \"min\": 0.5045448940638737, \"max\": 0.5045448940638737}}}\u001b[0m\n",
            "\u001b[34m#metrics {\"StartTime\": 1650615218.910349, \"EndTime\": 1650615218.910366, \"Dimensions\": {\"Algorithm\": \"Linear Learner\", \"Host\": \"algo-1\", \"Operation\": \"training\", \"epoch\": 3, \"model\": 23}, \"Metrics\": {\"train_binary_classification_cross_entropy_objective\": {\"sum\": 0.5074157455397673, \"count\": 1, \"min\": 0.5074157455397673, \"max\": 0.5074157455397673}}}\u001b[0m\n",
            "\u001b[34m#metrics {\"StartTime\": 1650615218.9104211, \"EndTime\": 1650615218.9104393, \"Dimensions\": {\"Algorithm\": \"Linear Learner\", \"Host\": \"algo-1\", \"Operation\": \"training\", \"epoch\": 3, \"model\": 24}, \"Metrics\": {\"train_binary_classification_cross_entropy_objective\": {\"sum\": 0.5137260041309788, \"count\": 1, \"min\": 0.5137260041309788, \"max\": 0.5137260041309788}}}\u001b[0m\n",
            "\u001b[34m#metrics {\"StartTime\": 1650615218.9104953, \"EndTime\": 1650615218.9105132, \"Dimensions\": {\"Algorithm\": \"Linear Learner\", \"Host\": \"algo-1\", \"Operation\": \"training\", \"epoch\": 3, \"model\": 25}, \"Metrics\": {\"train_binary_classification_cross_entropy_objective\": {\"sum\": 0.5138265852155306, \"count\": 1, \"min\": 0.5138265852155306, \"max\": 0.5138265852155306}}}\u001b[0m\n",
            "\u001b[34m#metrics {\"StartTime\": 1650615218.9105632, \"EndTime\": 1650615218.9105794, \"Dimensions\": {\"Algorithm\": \"Linear Learner\", \"Host\": \"algo-1\", \"Operation\": \"training\", \"epoch\": 3, \"model\": 26}, \"Metrics\": {\"train_binary_classification_cross_entropy_objective\": {\"sum\": 0.5137277592883562, \"count\": 1, \"min\": 0.5137277592883562, \"max\": 0.5137277592883562}}}\u001b[0m\n",
            "\u001b[34m#metrics {\"StartTime\": 1650615218.9106302, \"EndTime\": 1650615218.9106464, \"Dimensions\": {\"Algorithm\": \"Linear Learner\", \"Host\": \"algo-1\", \"Operation\": \"training\", \"epoch\": 3, \"model\": 27}, \"Metrics\": {\"train_binary_classification_cross_entropy_objective\": {\"sum\": 0.5138267933790108, \"count\": 1, \"min\": 0.5138267933790108, \"max\": 0.5138267933790108}}}\u001b[0m\n",
            "\u001b[34m#metrics {\"StartTime\": 1650615218.910698, \"EndTime\": 1650615218.9107137, \"Dimensions\": {\"Algorithm\": \"Linear Learner\", \"Host\": \"algo-1\", \"Operation\": \"training\", \"epoch\": 3, \"model\": 28}, \"Metrics\": {\"train_binary_classification_cross_entropy_objective\": {\"sum\": 0.513745983812058, \"count\": 1, \"min\": 0.513745983812058, \"max\": 0.513745983812058}}}\u001b[0m\n",
            "\u001b[34m#metrics {\"StartTime\": 1650615218.910766, \"EndTime\": 1650615218.9107814, \"Dimensions\": {\"Algorithm\": \"Linear Learner\", \"Host\": \"algo-1\", \"Operation\": \"training\", \"epoch\": 3, \"model\": 29}, \"Metrics\": {\"train_binary_classification_cross_entropy_objective\": {\"sum\": 0.5148323506579852, \"count\": 1, \"min\": 0.5148323506579852, \"max\": 0.5148323506579852}}}\u001b[0m\n",
            "\u001b[34m#metrics {\"StartTime\": 1650615218.9108331, \"EndTime\": 1650615218.9108496, \"Dimensions\": {\"Algorithm\": \"Linear Learner\", \"Host\": \"algo-1\", \"Operation\": \"training\", \"epoch\": 3, \"model\": 30}, \"Metrics\": {\"train_binary_classification_cross_entropy_objective\": {\"sum\": 0.5137460921867907, \"count\": 1, \"min\": 0.5137460921867907, \"max\": 0.5137460921867907}}}\u001b[0m\n",
            "\u001b[34m#metrics {\"StartTime\": 1650615218.9109044, \"EndTime\": 1650615218.9109201, \"Dimensions\": {\"Algorithm\": \"Linear Learner\", \"Host\": \"algo-1\", \"Operation\": \"training\", \"epoch\": 3, \"model\": 31}, \"Metrics\": {\"train_binary_classification_cross_entropy_objective\": {\"sum\": 0.5148323393888794, \"count\": 1, \"min\": 0.5148323393888794, \"max\": 0.5148323393888794}}}\u001b[0m\n",
            "\u001b[34m[04/22/2022 08:13:38 INFO 139911885301568] #quality_metric: host=algo-1, epoch=3, train binary_classification_cross_entropy_objective <loss>=0.48065770618777026\u001b[0m\n",
            "\u001b[34m[2022-04-22 08:13:44.283] [tensorio] [info] epoch_stats={\"data_pipeline\": \"/opt/ml/input/data/validation\", \"epoch\": 11, \"duration\": 5336, \"num_examples\": 164, \"num_bytes\": 63460892}\u001b[0m\n",
            "\u001b[34m#metrics {\"StartTime\": 1650615224.2961051, \"EndTime\": 1650615224.2962186, \"Dimensions\": {\"Algorithm\": \"Linear Learner\", \"Host\": \"algo-1\", \"Operation\": \"training\", \"epoch\": 3, \"model\": 0}, \"Metrics\": {\"validation_binary_classification_cross_entropy_objective\": {\"sum\": 0.4796760477031487, \"count\": 1, \"min\": 0.4796760477031487, \"max\": 0.4796760477031487}}}\u001b[0m\n",
            "\u001b[34m#metrics {\"StartTime\": 1650615224.2963607, \"EndTime\": 1650615224.2963848, \"Dimensions\": {\"Algorithm\": \"Linear Learner\", \"Host\": \"algo-1\", \"Operation\": \"training\", \"epoch\": 3, \"model\": 1}, \"Metrics\": {\"validation_binary_classification_cross_entropy_objective\": {\"sum\": 0.4809144834481197, \"count\": 1, \"min\": 0.4809144834481197, \"max\": 0.4809144834481197}}}\u001b[0m\n",
            "\u001b[34m#metrics {\"StartTime\": 1650615224.2964592, \"EndTime\": 1650615224.296479, \"Dimensions\": {\"Algorithm\": \"Linear Learner\", \"Host\": \"algo-1\", \"Operation\": \"training\", \"epoch\": 3, \"model\": 2}, \"Metrics\": {\"validation_binary_classification_cross_entropy_objective\": {\"sum\": 0.47969528941874806, \"count\": 1, \"min\": 0.47969528941874806, \"max\": 0.47969528941874806}}}\u001b[0m\n",
            "\u001b[34m#metrics {\"StartTime\": 1650615224.2965405, \"EndTime\": 1650615224.2965524, \"Dimensions\": {\"Algorithm\": \"Linear Learner\", \"Host\": \"algo-1\", \"Operation\": \"training\", \"epoch\": 3, \"model\": 3}, \"Metrics\": {\"validation_binary_classification_cross_entropy_objective\": {\"sum\": 0.48091449613586734, \"count\": 1, \"min\": 0.48091449613586734, \"max\": 0.48091449613586734}}}\u001b[0m\n",
            "\u001b[34m#metrics {\"StartTime\": 1650615224.2965865, \"EndTime\": 1650615224.2965937, \"Dimensions\": {\"Algorithm\": \"Linear Learner\", \"Host\": \"algo-1\", \"Operation\": \"training\", \"epoch\": 3, \"model\": 4}, \"Metrics\": {\"validation_binary_classification_cross_entropy_objective\": {\"sum\": 0.4798394369718553, \"count\": 1, \"min\": 0.4798394369718553, \"max\": 0.4798394369718553}}}\u001b[0m\n",
            "\u001b[34m#metrics {\"StartTime\": 1650615224.2966292, \"EndTime\": 1650615224.2966392, \"Dimensions\": {\"Algorithm\": \"Linear Learner\", \"Host\": \"algo-1\", \"Operation\": \"training\", \"epoch\": 3, \"model\": 5}, \"Metrics\": {\"validation_binary_classification_cross_entropy_objective\": {\"sum\": 0.4936704245366924, \"count\": 1, \"min\": 0.4936704245366924, \"max\": 0.4936704245366924}}}\u001b[0m\n",
            "\u001b[34m#metrics {\"StartTime\": 1650615224.2966747, \"EndTime\": 1650615224.296682, \"Dimensions\": {\"Algorithm\": \"Linear Learner\", \"Host\": \"algo-1\", \"Operation\": \"training\", \"epoch\": 3, \"model\": 6}, \"Metrics\": {\"validation_binary_classification_cross_entropy_objective\": {\"sum\": 0.4798394395840387, \"count\": 1, \"min\": 0.4798394395840387, \"max\": 0.4798394395840387}}}\u001b[0m\n",
            "\u001b[34m#metrics {\"StartTime\": 1650615224.296712, \"EndTime\": 1650615224.2967217, \"Dimensions\": {\"Algorithm\": \"Linear Learner\", \"Host\": \"algo-1\", \"Operation\": \"training\", \"epoch\": 3, \"model\": 7}, \"Metrics\": {\"validation_binary_classification_cross_entropy_objective\": {\"sum\": 0.49367043741102457, \"count\": 1, \"min\": 0.49367043741102457, \"max\": 0.49367043741102457}}}\u001b[0m\n",
            "\u001b[34m#metrics {\"StartTime\": 1650615224.2967703, \"EndTime\": 1650615224.2967873, \"Dimensions\": {\"Algorithm\": \"Linear Learner\", \"Host\": \"algo-1\", \"Operation\": \"training\", \"epoch\": 3, \"model\": 8}, \"Metrics\": {\"validation_binary_classification_cross_entropy_objective\": {\"sum\": 0.4800315415987718, \"count\": 1, \"min\": 0.4800315415987718, \"max\": 0.4800315415987718}}}\u001b[0m\n",
            "\u001b[34m#metrics {\"StartTime\": 1650615224.2968261, \"EndTime\": 1650615224.296837, \"Dimensions\": {\"Algorithm\": \"Linear Learner\", \"Host\": \"algo-1\", \"Operation\": \"training\", \"epoch\": 3, \"model\": 9}, \"Metrics\": {\"validation_binary_classification_cross_entropy_objective\": {\"sum\": 0.48117681755686453, \"count\": 1, \"min\": 0.48117681755686453, \"max\": 0.48117681755686453}}}\u001b[0m\n",
            "\u001b[34m#metrics {\"StartTime\": 1650615224.2968776, \"EndTime\": 1650615224.2968936, \"Dimensions\": {\"Algorithm\": \"Linear Learner\", \"Host\": \"algo-1\", \"Operation\": \"training\", \"epoch\": 3, \"model\": 10}, \"Metrics\": {\"validation_binary_classification_cross_entropy_objective\": {\"sum\": 0.48005224165900906, \"count\": 1, \"min\": 0.48005224165900906, \"max\": 0.48005224165900906}}}\u001b[0m\n",
            "\u001b[34m#metrics {\"StartTime\": 1650615224.2969446, \"EndTime\": 1650615224.2969608, \"Dimensions\": {\"Algorithm\": \"Linear Learner\", \"Host\": \"algo-1\", \"Operation\": \"training\", \"epoch\": 3, \"model\": 11}, \"Metrics\": {\"validation_binary_classification_cross_entropy_objective\": {\"sum\": 0.48117679759232046, \"count\": 1, \"min\": 0.48117679759232046, \"max\": 0.48117679759232046}}}\u001b[0m\n",
            "\u001b[34m#metrics {\"StartTime\": 1650615224.2970107, \"EndTime\": 1650615224.2970219, \"Dimensions\": {\"Algorithm\": \"Linear Learner\", \"Host\": \"algo-1\", \"Operation\": \"training\", \"epoch\": 3, \"model\": 12}, \"Metrics\": {\"validation_binary_classification_cross_entropy_objective\": {\"sum\": 0.48018007575403315, \"count\": 1, \"min\": 0.48018007575403315, \"max\": 0.48018007575403315}}}\u001b[0m\n",
            "\u001b[34m#metrics {\"StartTime\": 1650615224.2970517, \"EndTime\": 1650615224.2970598, \"Dimensions\": {\"Algorithm\": \"Linear Learner\", \"Host\": \"algo-1\", \"Operation\": \"training\", \"epoch\": 3, \"model\": 13}, \"Metrics\": {\"validation_binary_classification_cross_entropy_objective\": {\"sum\": 0.4929889057185476, \"count\": 1, \"min\": 0.4929889057185476, \"max\": 0.4929889057185476}}}\u001b[0m\n",
            "\u001b[34m#metrics {\"StartTime\": 1650615224.2970912, \"EndTime\": 1650615224.297107, \"Dimensions\": {\"Algorithm\": \"Linear Learner\", \"Host\": \"algo-1\", \"Operation\": \"training\", \"epoch\": 3, \"model\": 14}, \"Metrics\": {\"validation_binary_classification_cross_entropy_objective\": {\"sum\": 0.48018007575403315, \"count\": 1, \"min\": 0.48018007575403315, \"max\": 0.48018007575403315}}}\u001b[0m\n",
            "\u001b[34m#metrics {\"StartTime\": 1650615224.2971516, \"EndTime\": 1650615224.2971618, \"Dimensions\": {\"Algorithm\": \"Linear Learner\", \"Host\": \"algo-1\", \"Operation\": \"training\", \"epoch\": 3, \"model\": 15}, \"Metrics\": {\"validation_binary_classification_cross_entropy_objective\": {\"sum\": 0.49298893221354995, \"count\": 1, \"min\": 0.49298893221354995, \"max\": 0.49298893221354995}}}\u001b[0m\n",
            "\u001b[34m#metrics {\"StartTime\": 1650615224.2971888, \"EndTime\": 1650615224.2971966, \"Dimensions\": {\"Algorithm\": \"Linear Learner\", \"Host\": \"algo-1\", \"Operation\": \"training\", \"epoch\": 3, \"model\": 16}, \"Metrics\": {\"validation_binary_classification_cross_entropy_objective\": {\"sum\": 0.5043630520152395, \"count\": 1, \"min\": 0.5043630520152395, \"max\": 0.5043630520152395}}}\u001b[0m\n",
            "\u001b[34m#metrics {\"StartTime\": 1650615224.2972226, \"EndTime\": 1650615224.2972345, \"Dimensions\": {\"Algorithm\": \"Linear Learner\", \"Host\": \"algo-1\", \"Operation\": \"training\", \"epoch\": 3, \"model\": 17}, \"Metrics\": {\"validation_binary_classification_cross_entropy_objective\": {\"sum\": 0.5048454782428832, \"count\": 1, \"min\": 0.5048454782428832, \"max\": 0.5048454782428832}}}\u001b[0m\n",
            "\u001b[34m#metrics {\"StartTime\": 1650615224.2972867, \"EndTime\": 1650615224.2973034, \"Dimensions\": {\"Algorithm\": \"Linear Learner\", \"Host\": \"algo-1\", \"Operation\": \"training\", \"epoch\": 3, \"model\": 18}, \"Metrics\": {\"validation_binary_classification_cross_entropy_objective\": {\"sum\": 0.5043309359674992, \"count\": 1, \"min\": 0.5043309359674992, \"max\": 0.5043309359674992}}}\u001b[0m\n",
            "\u001b[34m#metrics {\"StartTime\": 1650615224.2973547, \"EndTime\": 1650615224.2973702, \"Dimensions\": {\"Algorithm\": \"Linear Learner\", \"Host\": \"algo-1\", \"Operation\": \"training\", \"epoch\": 3, \"model\": 19}, \"Metrics\": {\"validation_binary_classification_cross_entropy_objective\": {\"sum\": 0.5048453739421345, \"count\": 1, \"min\": 0.5048453739421345, \"max\": 0.5048453739421345}}}\u001b[0m\n",
            "\u001b[34m#metrics {\"StartTime\": 1650615224.2974226, \"EndTime\": 1650615224.2974389, \"Dimensions\": {\"Algorithm\": \"Linear Learner\", \"Host\": \"algo-1\", \"Operation\": \"training\", \"epoch\": 3, \"model\": 20}, \"Metrics\": {\"validation_binary_classification_cross_entropy_objective\": {\"sum\": 0.5043073505641862, \"count\": 1, \"min\": 0.5043073505641862, \"max\": 0.5043073505641862}}}\u001b[0m\n",
            "\u001b[34m#metrics {\"StartTime\": 1650615224.297495, \"EndTime\": 1650615224.2975101, \"Dimensions\": {\"Algorithm\": \"Linear Learner\", \"Host\": \"algo-1\", \"Operation\": \"training\", \"epoch\": 3, \"model\": 21}, \"Metrics\": {\"validation_binary_classification_cross_entropy_objective\": {\"sum\": 0.5086857084810804, \"count\": 1, \"min\": 0.5086857084810804, \"max\": 0.5086857084810804}}}\u001b[0m\n",
            "\u001b[34m#metrics {\"StartTime\": 1650615224.2975426, \"EndTime\": 1650615224.2975519, \"Dimensions\": {\"Algorithm\": \"Linear Learner\", \"Host\": \"algo-1\", \"Operation\": \"training\", \"epoch\": 3, \"model\": 22}, \"Metrics\": {\"validation_binary_classification_cross_entropy_objective\": {\"sum\": 0.5043073610129195, \"count\": 1, \"min\": 0.5043073610129195, \"max\": 0.5043073610129195}}}\u001b[0m\n",
            "\u001b[34m#metrics {\"StartTime\": 1650615224.2975776, \"EndTime\": 1650615224.297585, \"Dimensions\": {\"Algorithm\": \"Linear Learner\", \"Host\": \"algo-1\", \"Operation\": \"training\", \"epoch\": 3, \"model\": 23}, \"Metrics\": {\"validation_binary_classification_cross_entropy_objective\": {\"sum\": 0.5086857232212578, \"count\": 1, \"min\": 0.5086857232212578, \"max\": 0.5086857232212578}}}\u001b[0m\n",
            "\u001b[34m#metrics {\"StartTime\": 1650615224.29762, \"EndTime\": 1650615224.2976353, \"Dimensions\": {\"Algorithm\": \"Linear Learner\", \"Host\": \"algo-1\", \"Operation\": \"training\", \"epoch\": 3, \"model\": 24}, \"Metrics\": {\"validation_binary_classification_cross_entropy_objective\": {\"sum\": 0.513716449296393, \"count\": 1, \"min\": 0.513716449296393, \"max\": 0.513716449296393}}}\u001b[0m\n",
            "\u001b[34m#metrics {\"StartTime\": 1650615224.297671, \"EndTime\": 1650615224.29768, \"Dimensions\": {\"Algorithm\": \"Linear Learner\", \"Host\": \"algo-1\", \"Operation\": \"training\", \"epoch\": 3, \"model\": 25}, \"Metrics\": {\"validation_binary_classification_cross_entropy_objective\": {\"sum\": 0.5143596029779273, \"count\": 1, \"min\": 0.5143596029779273, \"max\": 0.5143596029779273}}}\u001b[0m\n",
            "\u001b[34m#metrics {\"StartTime\": 1650615224.2977054, \"EndTime\": 1650615224.297713, \"Dimensions\": {\"Algorithm\": \"Linear Learner\", \"Host\": \"algo-1\", \"Operation\": \"training\", \"epoch\": 3, \"model\": 26}, \"Metrics\": {\"validation_binary_classification_cross_entropy_objective\": {\"sum\": 0.513712383992789, \"count\": 1, \"min\": 0.513712383992789, \"max\": 0.513712383992789}}}\u001b[0m\n",
            "\u001b[34m#metrics {\"StartTime\": 1650615224.2977407, \"EndTime\": 1650615224.2977557, \"Dimensions\": {\"Algorithm\": \"Linear Learner\", \"Host\": \"algo-1\", \"Operation\": \"training\", \"epoch\": 3, \"model\": 27}, \"Metrics\": {\"validation_binary_classification_cross_entropy_objective\": {\"sum\": 0.5143681405259818, \"count\": 1, \"min\": 0.5143681405259818, \"max\": 0.5143681405259818}}}\u001b[0m\n",
            "\u001b[34m#metrics {\"StartTime\": 1650615224.2977955, \"EndTime\": 1650615224.2978053, \"Dimensions\": {\"Algorithm\": \"Linear Learner\", \"Host\": \"algo-1\", \"Operation\": \"training\", \"epoch\": 3, \"model\": 28}, \"Metrics\": {\"validation_binary_classification_cross_entropy_objective\": {\"sum\": 0.5137409439260904, \"count\": 1, \"min\": 0.5137409439260904, \"max\": 0.5137409439260904}}}\u001b[0m\n",
            "\u001b[34m#metrics {\"StartTime\": 1650615224.2978477, \"EndTime\": 1650615224.297863, \"Dimensions\": {\"Algorithm\": \"Linear Learner\", \"Host\": \"algo-1\", \"Operation\": \"training\", \"epoch\": 3, \"model\": 29}, \"Metrics\": {\"validation_binary_classification_cross_entropy_objective\": {\"sum\": 0.5137337695645665, \"count\": 1, \"min\": 0.5137337695645665, \"max\": 0.5137337695645665}}}\u001b[0m\n",
            "\u001b[34m#metrics {\"StartTime\": 1650615224.297915, \"EndTime\": 1650615224.2979295, \"Dimensions\": {\"Algorithm\": \"Linear Learner\", \"Host\": \"algo-1\", \"Operation\": \"training\", \"epoch\": 3, \"model\": 30}, \"Metrics\": {\"validation_binary_classification_cross_entropy_objective\": {\"sum\": 0.5137425239238378, \"count\": 1, \"min\": 0.5137425239238378, \"max\": 0.5137425239238378}}}\u001b[0m\n",
            "\u001b[34m#metrics {\"StartTime\": 1650615224.297976, \"EndTime\": 1650615224.2979872, \"Dimensions\": {\"Algorithm\": \"Linear Learner\", \"Host\": \"algo-1\", \"Operation\": \"training\", \"epoch\": 3, \"model\": 31}, \"Metrics\": {\"validation_binary_classification_cross_entropy_objective\": {\"sum\": 0.5137337619146011, \"count\": 1, \"min\": 0.5137337619146011, \"max\": 0.5137337619146011}}}\u001b[0m\n",
            "\u001b[34m[04/22/2022 08:13:44 INFO 139911885301568] #quality_metric: host=algo-1, epoch=3, validation binary_classification_cross_entropy_objective <loss>=0.4796760477031487\u001b[0m\n",
            "\u001b[34m[04/22/2022 08:13:44 INFO 139911885301568] #early_stopping_criteria_metric: host=algo-1, epoch=3, criteria=binary_classification_cross_entropy_objective, value=0.4796760477031487\u001b[0m\n",
            "\u001b[34m[04/22/2022 08:13:44 INFO 139911885301568] Saving model for epoch: 3\u001b[0m\n",
            "\u001b[34m[04/22/2022 08:13:44 INFO 139911885301568] Saved checkpoint to \"/tmp/tmpe6o7gyqy/mx-mod-0000.params\"\u001b[0m\n",
            "\u001b[34m[04/22/2022 08:13:44 INFO 139911885301568] #progress_metric: host=algo-1, completed 26.666666666666668 % of epochs\u001b[0m\n",
            "\u001b[34m#metrics {\"StartTime\": 1650615158.1924615, \"EndTime\": 1650615224.3068302, \"Dimensions\": {\"Algorithm\": \"Linear Learner\", \"Host\": \"algo-1\", \"Operation\": \"training\", \"epoch\": 3, \"Meta\": \"training_data_iter\"}, \"Metrics\": {\"Total Records Seen\": {\"sum\": 5245888.0, \"count\": 1, \"min\": 5245888, \"max\": 5245888}, \"Total Batches Seen\": {\"sum\": 5248.0, \"count\": 1, \"min\": 5248, \"max\": 5248}, \"Max Records Seen Between Resets\": {\"sum\": 1308472.0, \"count\": 1, \"min\": 1308472, \"max\": 1308472}, \"Max Batches Seen Between Resets\": {\"sum\": 1309.0, \"count\": 1, \"min\": 1309, \"max\": 1309}, \"Reset Count\": {\"sum\": 6.0, \"count\": 1, \"min\": 6, \"max\": 6}, \"Number of Records Since Last Reset\": {\"sum\": 1308472.0, \"count\": 1, \"min\": 1308472, \"max\": 1308472}, \"Number of Batches Since Last Reset\": {\"sum\": 1309.0, \"count\": 1, \"min\": 1309, \"max\": 1309}}}\u001b[0m\n",
            "\u001b[34m[04/22/2022 08:13:44 INFO 139911885301568] #throughput_metric: host=algo-1, train throughput=19790.987301910653 records/second\u001b[0m\n",
            "\u001b[34m[2022-04-22 08:14:44.532] [tensorio] [info] epoch_stats={\"data_pipeline\": \"/opt/ml/input/data/train\", \"epoch\": 11, \"duration\": 60223, \"num_examples\": 1309, \"num_bytes\": 507687136}\u001b[0m\n",
            "\u001b[34m#metrics {\"StartTime\": 1650615284.5323424, \"EndTime\": 1650615284.532451, \"Dimensions\": {\"Algorithm\": \"Linear Learner\", \"Host\": \"algo-1\", \"Operation\": \"training\", \"epoch\": 4, \"model\": 0}, \"Metrics\": {\"train_binary_classification_cross_entropy_objective\": {\"sum\": 0.48063250618097614, \"count\": 1, \"min\": 0.48063250618097614, \"max\": 0.48063250618097614}}}\u001b[0m\n",
            "\u001b[34m#metrics {\"StartTime\": 1650615284.5325623, \"EndTime\": 1650615284.5325813, \"Dimensions\": {\"Algorithm\": \"Linear Learner\", \"Host\": \"algo-1\", \"Operation\": \"training\", \"epoch\": 4, \"model\": 1}, \"Metrics\": {\"train_binary_classification_cross_entropy_objective\": {\"sum\": 0.48147232335641843, \"count\": 1, \"min\": 0.48147232335641843, \"max\": 0.48147232335641843}}}\u001b[0m\n",
            "\u001b[34m#metrics {\"StartTime\": 1650615284.5326266, \"EndTime\": 1650615284.5326385, \"Dimensions\": {\"Algorithm\": \"Linear Learner\", \"Host\": \"algo-1\", \"Operation\": \"training\", \"epoch\": 4, \"model\": 2}, \"Metrics\": {\"train_binary_classification_cross_entropy_objective\": {\"sum\": 0.48067197859177896, \"count\": 1, \"min\": 0.48067197859177896, \"max\": 0.48067197859177896}}}\u001b[0m\n",
            "\u001b[34m#metrics {\"StartTime\": 1650615284.5326793, \"EndTime\": 1650615284.5326903, \"Dimensions\": {\"Algorithm\": \"Linear Learner\", \"Host\": \"algo-1\", \"Operation\": \"training\", \"epoch\": 4, \"model\": 3}, \"Metrics\": {\"train_binary_classification_cross_entropy_objective\": {\"sum\": 0.48147232193319806, \"count\": 1, \"min\": 0.48147232193319806, \"max\": 0.48147232193319806}}}\u001b[0m\n",
            "\u001b[34m#metrics {\"StartTime\": 1650615284.5327291, \"EndTime\": 1650615284.53274, \"Dimensions\": {\"Algorithm\": \"Linear Learner\", \"Host\": \"algo-1\", \"Operation\": \"training\", \"epoch\": 4, \"model\": 4}, \"Metrics\": {\"train_binary_classification_cross_entropy_objective\": {\"sum\": 0.4807475039980827, \"count\": 1, \"min\": 0.4807475039980827, \"max\": 0.4807475039980827}}}\u001b[0m\n",
            "\u001b[34m#metrics {\"StartTime\": 1650615284.5327792, \"EndTime\": 1650615284.5327897, \"Dimensions\": {\"Algorithm\": \"Linear Learner\", \"Host\": \"algo-1\", \"Operation\": \"training\", \"epoch\": 4, \"model\": 5}, \"Metrics\": {\"train_binary_classification_cross_entropy_objective\": {\"sum\": 0.4946921359887546, \"count\": 1, \"min\": 0.4946921359887546, \"max\": 0.4946921359887546}}}\u001b[0m\n",
            "\u001b[34m#metrics {\"StartTime\": 1650615284.5328279, \"EndTime\": 1650615284.5328386, \"Dimensions\": {\"Algorithm\": \"Linear Learner\", \"Host\": \"algo-1\", \"Operation\": \"training\", \"epoch\": 4, \"model\": 6}, \"Metrics\": {\"train_binary_classification_cross_entropy_objective\": {\"sum\": 0.48074750418473455, \"count\": 1, \"min\": 0.48074750418473455, \"max\": 0.48074750418473455}}}\u001b[0m\n",
            "\u001b[34m#metrics {\"StartTime\": 1650615284.5328777, \"EndTime\": 1650615284.5328882, \"Dimensions\": {\"Algorithm\": \"Linear Learner\", \"Host\": \"algo-1\", \"Operation\": \"training\", \"epoch\": 4, \"model\": 7}, \"Metrics\": {\"train_binary_classification_cross_entropy_objective\": {\"sum\": 0.494692142498238, \"count\": 1, \"min\": 0.494692142498238, \"max\": 0.494692142498238}}}\u001b[0m\n",
            "\u001b[34m#metrics {\"StartTime\": 1650615284.5329287, \"EndTime\": 1650615284.5329401, \"Dimensions\": {\"Algorithm\": \"Linear Learner\", \"Host\": \"algo-1\", \"Operation\": \"training\", \"epoch\": 4, \"model\": 8}, \"Metrics\": {\"train_binary_classification_cross_entropy_objective\": {\"sum\": 0.4809006986705535, \"count\": 1, \"min\": 0.4809006986705535, \"max\": 0.4809006986705535}}}\u001b[0m\n",
            "\u001b[34m#metrics {\"StartTime\": 1650615284.5329795, \"EndTime\": 1650615284.53299, \"Dimensions\": {\"Algorithm\": \"Linear Learner\", \"Host\": \"algo-1\", \"Operation\": \"training\", \"epoch\": 4, \"model\": 9}, \"Metrics\": {\"train_binary_classification_cross_entropy_objective\": {\"sum\": 0.481694018279376, \"count\": 1, \"min\": 0.481694018279376, \"max\": 0.481694018279376}}}\u001b[0m\n",
            "\u001b[34m#metrics {\"StartTime\": 1650615284.5330274, \"EndTime\": 1650615284.5330384, \"Dimensions\": {\"Algorithm\": \"Linear Learner\", \"Host\": \"algo-1\", \"Operation\": \"training\", \"epoch\": 4, \"model\": 10}, \"Metrics\": {\"train_binary_classification_cross_entropy_objective\": {\"sum\": 0.48093929482089637, \"count\": 1, \"min\": 0.48093929482089637, \"max\": 0.48093929482089637}}}\u001b[0m\n",
            "\u001b[34m#metrics {\"StartTime\": 1650615284.533076, \"EndTime\": 1650615284.5330863, \"Dimensions\": {\"Algorithm\": \"Linear Learner\", \"Host\": \"algo-1\", \"Operation\": \"training\", \"epoch\": 4, \"model\": 11}, \"Metrics\": {\"train_binary_classification_cross_entropy_objective\": {\"sum\": 0.48169401876933715, \"count\": 1, \"min\": 0.48169401876933715, \"max\": 0.48169401876933715}}}\u001b[0m\n",
            "\u001b[34m#metrics {\"StartTime\": 1650615284.5331242, \"EndTime\": 1650615284.5331342, \"Dimensions\": {\"Algorithm\": \"Linear Learner\", \"Host\": \"algo-1\", \"Operation\": \"training\", \"epoch\": 4, \"model\": 12}, \"Metrics\": {\"train_binary_classification_cross_entropy_objective\": {\"sum\": 0.481006258786636, \"count\": 1, \"min\": 0.481006258786636, \"max\": 0.481006258786636}}}\u001b[0m\n",
            "\u001b[34m#metrics {\"StartTime\": 1650615284.5331714, \"EndTime\": 1650615284.533182, \"Dimensions\": {\"Algorithm\": \"Linear Learner\", \"Host\": \"algo-1\", \"Operation\": \"training\", \"epoch\": 4, \"model\": 13}, \"Metrics\": {\"train_binary_classification_cross_entropy_objective\": {\"sum\": 0.4939769332839079, \"count\": 1, \"min\": 0.4939769332839079, \"max\": 0.4939769332839079}}}\u001b[0m\n",
            "\u001b[34m#metrics {\"StartTime\": 1650615284.533219, \"EndTime\": 1650615284.5332296, \"Dimensions\": {\"Algorithm\": \"Linear Learner\", \"Host\": \"algo-1\", \"Operation\": \"training\", \"epoch\": 4, \"model\": 14}, \"Metrics\": {\"train_binary_classification_cross_entropy_objective\": {\"sum\": 0.48100625750340453, \"count\": 1, \"min\": 0.48100625750340453, \"max\": 0.48100625750340453}}}\u001b[0m\n",
            "\u001b[34m#metrics {\"StartTime\": 1650615284.533267, \"EndTime\": 1650615284.5332775, \"Dimensions\": {\"Algorithm\": \"Linear Learner\", \"Host\": \"algo-1\", \"Operation\": \"training\", \"epoch\": 4, \"model\": 15}, \"Metrics\": {\"train_binary_classification_cross_entropy_objective\": {\"sum\": 0.49397692649444674, \"count\": 1, \"min\": 0.49397692649444674, \"max\": 0.49397692649444674}}}\u001b[0m\n",
            "\u001b[34m#metrics {\"StartTime\": 1650615284.5333152, \"EndTime\": 1650615284.5333252, \"Dimensions\": {\"Algorithm\": \"Linear Learner\", \"Host\": \"algo-1\", \"Operation\": \"training\", \"epoch\": 4, \"model\": 16}, \"Metrics\": {\"train_binary_classification_cross_entropy_objective\": {\"sum\": 0.5044771595992809, \"count\": 1, \"min\": 0.5044771595992809, \"max\": 0.5044771595992809}}}\u001b[0m\n",
            "\u001b[34m#metrics {\"StartTime\": 1650615284.5333629, \"EndTime\": 1650615284.5333734, \"Dimensions\": {\"Algorithm\": \"Linear Learner\", \"Host\": \"algo-1\", \"Operation\": \"training\", \"epoch\": 4, \"model\": 17}, \"Metrics\": {\"train_binary_classification_cross_entropy_objective\": {\"sum\": 0.5046770668379758, \"count\": 1, \"min\": 0.5046770668379758, \"max\": 0.5046770668379758}}}\u001b[0m\n",
            "\u001b[34m#metrics {\"StartTime\": 1650615284.533411, \"EndTime\": 1650615284.5334215, \"Dimensions\": {\"Algorithm\": \"Linear Learner\", \"Host\": \"algo-1\", \"Operation\": \"training\", \"epoch\": 4, \"model\": 18}, \"Metrics\": {\"train_binary_classification_cross_entropy_objective\": {\"sum\": 0.5044883212401597, \"count\": 1, \"min\": 0.5044883212401597, \"max\": 0.5044883212401597}}}\u001b[0m\n",
            "\u001b[34m#metrics {\"StartTime\": 1650615284.5334625, \"EndTime\": 1650615284.5334733, \"Dimensions\": {\"Algorithm\": \"Linear Learner\", \"Host\": \"algo-1\", \"Operation\": \"training\", \"epoch\": 4, \"model\": 19}, \"Metrics\": {\"train_binary_classification_cross_entropy_objective\": {\"sum\": 0.5046770727408406, \"count\": 1, \"min\": 0.5046770727408406, \"max\": 0.5046770727408406}}}\u001b[0m\n",
            "\u001b[34m#metrics {\"StartTime\": 1650615284.533512, \"EndTime\": 1650615284.5335221, \"Dimensions\": {\"Algorithm\": \"Linear Learner\", \"Host\": \"algo-1\", \"Operation\": \"training\", \"epoch\": 4, \"model\": 20}, \"Metrics\": {\"train_binary_classification_cross_entropy_objective\": {\"sum\": 0.5045048653838832, \"count\": 1, \"min\": 0.5045048653838832, \"max\": 0.5045048653838832}}}\u001b[0m\n",
            "\u001b[34m#metrics {\"StartTime\": 1650615284.5335593, \"EndTime\": 1650615284.5335698, \"Dimensions\": {\"Algorithm\": \"Linear Learner\", \"Host\": \"algo-1\", \"Operation\": \"training\", \"epoch\": 4, \"model\": 21}, \"Metrics\": {\"train_binary_classification_cross_entropy_objective\": {\"sum\": 0.5070757606343027, \"count\": 1, \"min\": 0.5070757606343027, \"max\": 0.5070757606343027}}}\u001b[0m\n",
            "\u001b[34m#metrics {\"StartTime\": 1650615284.5336123, \"EndTime\": 1650615284.5336232, \"Dimensions\": {\"Algorithm\": \"Linear Learner\", \"Host\": \"algo-1\", \"Operation\": \"training\", \"epoch\": 4, \"model\": 22}, \"Metrics\": {\"train_binary_classification_cross_entropy_objective\": {\"sum\": 0.5045048656638609, \"count\": 1, \"min\": 0.5045048656638609, \"max\": 0.5045048656638609}}}\u001b[0m\n",
            "\u001b[34m#metrics {\"StartTime\": 1650615284.5336604, \"EndTime\": 1650615284.5336728, \"Dimensions\": {\"Algorithm\": \"Linear Learner\", \"Host\": \"algo-1\", \"Operation\": \"training\", \"epoch\": 4, \"model\": 23}, \"Metrics\": {\"train_binary_classification_cross_entropy_objective\": {\"sum\": 0.5070757592810767, \"count\": 1, \"min\": 0.5070757592810767, \"max\": 0.5070757592810767}}}\u001b[0m\n",
            "\u001b[34m#metrics {\"StartTime\": 1650615284.533721, \"EndTime\": 1650615284.5337338, \"Dimensions\": {\"Algorithm\": \"Linear Learner\", \"Host\": \"algo-1\", \"Operation\": \"training\", \"epoch\": 4, \"model\": 24}, \"Metrics\": {\"train_binary_classification_cross_entropy_objective\": {\"sum\": 0.5137242184093603, \"count\": 1, \"min\": 0.5137242184093603, \"max\": 0.5137242184093603}}}\u001b[0m\n",
            "\u001b[34m#metrics {\"StartTime\": 1650615284.5337775, \"EndTime\": 1650615284.5337918, \"Dimensions\": {\"Algorithm\": \"Linear Learner\", \"Host\": \"algo-1\", \"Operation\": \"training\", \"epoch\": 4, \"model\": 25}, \"Metrics\": {\"train_binary_classification_cross_entropy_objective\": {\"sum\": 0.5138134831419778, \"count\": 1, \"min\": 0.5138134831419778, \"max\": 0.5138134831419778}}}\u001b[0m\n",
            "\u001b[34m#metrics {\"StartTime\": 1650615284.533843, \"EndTime\": 1650615284.5338602, \"Dimensions\": {\"Algorithm\": \"Linear Learner\", \"Host\": \"algo-1\", \"Operation\": \"training\", \"epoch\": 4, \"model\": 26}, \"Metrics\": {\"train_binary_classification_cross_entropy_objective\": {\"sum\": 0.5137277028495019, \"count\": 1, \"min\": 0.5137277028495019, \"max\": 0.5137277028495019}}}\u001b[0m\n",
            "\u001b[34m#metrics {\"StartTime\": 1650615284.5339112, \"EndTime\": 1650615284.5339303, \"Dimensions\": {\"Algorithm\": \"Linear Learner\", \"Host\": \"algo-1\", \"Operation\": \"training\", \"epoch\": 4, \"model\": 27}, \"Metrics\": {\"train_binary_classification_cross_entropy_objective\": {\"sum\": 0.5138134748359704, \"count\": 1, \"min\": 0.5138134748359704, \"max\": 0.5138134748359704}}}\u001b[0m\n",
            "\u001b[34m#metrics {\"StartTime\": 1650615284.5339828, \"EndTime\": 1650615284.534004, \"Dimensions\": {\"Algorithm\": \"Linear Learner\", \"Host\": \"algo-1\", \"Operation\": \"training\", \"epoch\": 4, \"model\": 28}, \"Metrics\": {\"train_binary_classification_cross_entropy_objective\": {\"sum\": 0.5137332738940504, \"count\": 1, \"min\": 0.5137332738940504, \"max\": 0.5137332738940504}}}\u001b[0m\n",
            "\u001b[34m#metrics {\"StartTime\": 1650615284.5340545, \"EndTime\": 1650615284.5340676, \"Dimensions\": {\"Algorithm\": \"Linear Learner\", \"Host\": \"algo-1\", \"Operation\": \"training\", \"epoch\": 4, \"model\": 29}, \"Metrics\": {\"train_binary_classification_cross_entropy_objective\": {\"sum\": 0.514693501277072, \"count\": 1, \"min\": 0.514693501277072, \"max\": 0.514693501277072}}}\u001b[0m\n",
            "\u001b[34m#metrics {\"StartTime\": 1650615284.5340984, \"EndTime\": 1650615284.534106, \"Dimensions\": {\"Algorithm\": \"Linear Learner\", \"Host\": \"algo-1\", \"Operation\": \"training\", \"epoch\": 4, \"model\": 30}, \"Metrics\": {\"train_binary_classification_cross_entropy_objective\": {\"sum\": 0.5137333031517285, \"count\": 1, \"min\": 0.5137333031517285, \"max\": 0.5137333031517285}}}\u001b[0m\n",
            "\u001b[34m#metrics {\"StartTime\": 1650615284.5341315, \"EndTime\": 1650615284.5341392, \"Dimensions\": {\"Algorithm\": \"Linear Learner\", \"Host\": \"algo-1\", \"Operation\": \"training\", \"epoch\": 4, \"model\": 31}, \"Metrics\": {\"train_binary_classification_cross_entropy_objective\": {\"sum\": 0.514693501230409, \"count\": 1, \"min\": 0.514693501230409, \"max\": 0.514693501230409}}}\u001b[0m\n",
            "\u001b[34m[04/22/2022 08:14:44 INFO 139911885301568] #quality_metric: host=algo-1, epoch=4, train binary_classification_cross_entropy_objective <loss>=0.48063250618097614\u001b[0m\n",
            "\u001b[34m[2022-04-22 08:14:49.860] [tensorio] [info] epoch_stats={\"data_pipeline\": \"/opt/ml/input/data/validation\", \"epoch\": 14, \"duration\": 5302, \"num_examples\": 164, \"num_bytes\": 63460892}\u001b[0m\n",
            "\u001b[34m#metrics {\"StartTime\": 1650615289.871113, \"EndTime\": 1650615289.871178, \"Dimensions\": {\"Algorithm\": \"Linear Learner\", \"Host\": \"algo-1\", \"Operation\": \"training\", \"epoch\": 4, \"model\": 0}, \"Metrics\": {\"validation_binary_classification_cross_entropy_objective\": {\"sum\": 0.47967175495301007, \"count\": 1, \"min\": 0.47967175495301007, \"max\": 0.47967175495301007}}}\u001b[0m\n",
            "\u001b[34m#metrics {\"StartTime\": 1650615289.8712773, \"EndTime\": 1650615289.871293, \"Dimensions\": {\"Algorithm\": \"Linear Learner\", \"Host\": \"algo-1\", \"Operation\": \"training\", \"epoch\": 4, \"model\": 1}, \"Metrics\": {\"validation_binary_classification_cross_entropy_objective\": {\"sum\": 0.4807465284561162, \"count\": 1, \"min\": 0.4807465284561162, \"max\": 0.4807465284561162}}}\u001b[0m\n",
            "\u001b[34m#metrics {\"StartTime\": 1650615289.8713515, \"EndTime\": 1650615289.871374, \"Dimensions\": {\"Algorithm\": \"Linear Learner\", \"Host\": \"algo-1\", \"Operation\": \"training\", \"epoch\": 4, \"model\": 2}, \"Metrics\": {\"validation_binary_classification_cross_entropy_objective\": {\"sum\": 0.47969478470761123, \"count\": 1, \"min\": 0.47969478470761123, \"max\": 0.47969478470761123}}}\u001b[0m\n",
            "\u001b[34m#metrics {\"StartTime\": 1650615289.8714108, \"EndTime\": 1650615289.8714206, \"Dimensions\": {\"Algorithm\": \"Linear Learner\", \"Host\": \"algo-1\", \"Operation\": \"training\", \"epoch\": 4, \"model\": 3}, \"Metrics\": {\"validation_binary_classification_cross_entropy_objective\": {\"sum\": 0.48074652976220783, \"count\": 1, \"min\": 0.48074652976220783, \"max\": 0.48074652976220783}}}\u001b[0m\n",
            "\u001b[34m#metrics {\"StartTime\": 1650615289.8714697, \"EndTime\": 1650615289.8714871, \"Dimensions\": {\"Algorithm\": \"Linear Learner\", \"Host\": \"algo-1\", \"Operation\": \"training\", \"epoch\": 4, \"model\": 4}, \"Metrics\": {\"validation_binary_classification_cross_entropy_objective\": {\"sum\": 0.47971219229734186, \"count\": 1, \"min\": 0.47971219229734186, \"max\": 0.47971219229734186}}}\u001b[0m\n",
            "\u001b[34m#metrics {\"StartTime\": 1650615289.8715405, \"EndTime\": 1650615289.8715596, \"Dimensions\": {\"Algorithm\": \"Linear Learner\", \"Host\": \"algo-1\", \"Operation\": \"training\", \"epoch\": 4, \"model\": 5}, \"Metrics\": {\"validation_binary_classification_cross_entropy_objective\": {\"sum\": 0.49242462952493443, \"count\": 1, \"min\": 0.49242462952493443, \"max\": 0.49242462952493443}}}\u001b[0m\n",
            "\u001b[34m#metrics {\"StartTime\": 1650615289.871613, \"EndTime\": 1650615289.8716238, \"Dimensions\": {\"Algorithm\": \"Linear Learner\", \"Host\": \"algo-1\", \"Operation\": \"training\", \"epoch\": 4, \"model\": 6}, \"Metrics\": {\"validation_binary_classification_cross_entropy_objective\": {\"sum\": 0.47971219509610974, \"count\": 1, \"min\": 0.47971219509610974, \"max\": 0.47971219509610974}}}\u001b[0m\n",
            "\u001b[34m#metrics {\"StartTime\": 1650615289.8716547, \"EndTime\": 1650615289.871669, \"Dimensions\": {\"Algorithm\": \"Linear Learner\", \"Host\": \"algo-1\", \"Operation\": \"training\", \"epoch\": 4, \"model\": 7}, \"Metrics\": {\"validation_binary_classification_cross_entropy_objective\": {\"sum\": 0.4924246401602523, \"count\": 1, \"min\": 0.4924246401602523, \"max\": 0.4924246401602523}}}\u001b[0m\n",
            "\u001b[34m#metrics {\"StartTime\": 1650615289.8717225, \"EndTime\": 1650615289.87174, \"Dimensions\": {\"Algorithm\": \"Linear Learner\", \"Host\": \"algo-1\", \"Operation\": \"training\", \"epoch\": 4, \"model\": 8}, \"Metrics\": {\"validation_binary_classification_cross_entropy_objective\": {\"sum\": 0.4800262618165024, \"count\": 1, \"min\": 0.4800262618165024, \"max\": 0.4800262618165024}}}\u001b[0m\n",
            "\u001b[34m#metrics {\"StartTime\": 1650615289.8718224, \"EndTime\": 1650615289.8718376, \"Dimensions\": {\"Algorithm\": \"Linear Learner\", \"Host\": \"algo-1\", \"Operation\": \"training\", \"epoch\": 4, \"model\": 9}, \"Metrics\": {\"validation_binary_classification_cross_entropy_objective\": {\"sum\": 0.4810094114965299, \"count\": 1, \"min\": 0.4810094114965299, \"max\": 0.4810094114965299}}}\u001b[0m\n",
            "\u001b[34m#metrics {\"StartTime\": 1650615289.8718865, \"EndTime\": 1650615289.8718975, \"Dimensions\": {\"Algorithm\": \"Linear Learner\", \"Host\": \"algo-1\", \"Operation\": \"training\", \"epoch\": 4, \"model\": 10}, \"Metrics\": {\"validation_binary_classification_cross_entropy_objective\": {\"sum\": 0.48005162275814367, \"count\": 1, \"min\": 0.48005162275814367, \"max\": 0.48005162275814367}}}\u001b[0m\n",
            "\u001b[34m#metrics {\"StartTime\": 1650615289.871926, \"EndTime\": 1650615289.871937, \"Dimensions\": {\"Algorithm\": \"Linear Learner\", \"Host\": \"algo-1\", \"Operation\": \"training\", \"epoch\": 4, \"model\": 11}, \"Metrics\": {\"validation_binary_classification_cross_entropy_objective\": {\"sum\": 0.48100941224286803, \"count\": 1, \"min\": 0.48100941224286803, \"max\": 0.48100941224286803}}}\u001b[0m\n",
            "\u001b[34m#metrics {\"StartTime\": 1650615289.8719864, \"EndTime\": 1650615289.8720038, \"Dimensions\": {\"Algorithm\": \"Linear Learner\", \"Host\": \"algo-1\", \"Operation\": \"training\", \"epoch\": 4, \"model\": 12}, \"Metrics\": {\"validation_binary_classification_cross_entropy_objective\": {\"sum\": 0.4800727739797594, \"count\": 1, \"min\": 0.4800727739797594, \"max\": 0.4800727739797594}}}\u001b[0m\n",
            "\u001b[34m#metrics {\"StartTime\": 1650615289.8720627, \"EndTime\": 1650615289.872081, \"Dimensions\": {\"Algorithm\": \"Linear Learner\", \"Host\": \"algo-1\", \"Operation\": \"training\", \"epoch\": 4, \"model\": 13}, \"Metrics\": {\"validation_binary_classification_cross_entropy_objective\": {\"sum\": 0.4923019815467488, \"count\": 1, \"min\": 0.4923019815467488, \"max\": 0.4923019815467488}}}\u001b[0m\n",
            "\u001b[34m#metrics {\"StartTime\": 1650615289.8721433, \"EndTime\": 1650615289.8721592, \"Dimensions\": {\"Algorithm\": \"Linear Learner\", \"Host\": \"algo-1\", \"Operation\": \"training\", \"epoch\": 4, \"model\": 14}, \"Metrics\": {\"validation_binary_classification_cross_entropy_objective\": {\"sum\": 0.4800727732334213, \"count\": 1, \"min\": 0.4800727732334213, \"max\": 0.4800727732334213}}}\u001b[0m\n",
            "\u001b[34m#metrics {\"StartTime\": 1650615289.8722107, \"EndTime\": 1650615289.872228, \"Dimensions\": {\"Algorithm\": \"Linear Learner\", \"Host\": \"algo-1\", \"Operation\": \"training\", \"epoch\": 4, \"model\": 15}, \"Metrics\": {\"validation_binary_classification_cross_entropy_objective\": {\"sum\": 0.4923020013247083, \"count\": 1, \"min\": 0.4923020013247083, \"max\": 0.4923020013247083}}}\u001b[0m\n",
            "\u001b[34m#metrics {\"StartTime\": 1650615289.8722854, \"EndTime\": 1650615289.8723004, \"Dimensions\": {\"Algorithm\": \"Linear Learner\", \"Host\": \"algo-1\", \"Operation\": \"training\", \"epoch\": 4, \"model\": 16}, \"Metrics\": {\"validation_binary_classification_cross_entropy_objective\": {\"sum\": 0.5043408258801821, \"count\": 1, \"min\": 0.5043408258801821, \"max\": 0.5043408258801821}}}\u001b[0m\n",
            "\u001b[34m#metrics {\"StartTime\": 1650615289.8723516, \"EndTime\": 1650615289.8723652, \"Dimensions\": {\"Algorithm\": \"Linear Learner\", \"Host\": \"algo-1\", \"Operation\": \"training\", \"epoch\": 4, \"model\": 17}, \"Metrics\": {\"validation_binary_classification_cross_entropy_objective\": {\"sum\": 0.5047754224712465, \"count\": 1, \"min\": 0.5047754224712465, \"max\": 0.5047754224712465}}}\u001b[0m\n",
            "\u001b[34m#metrics {\"StartTime\": 1650615289.872395, \"EndTime\": 1650615289.872403, \"Dimensions\": {\"Algorithm\": \"Linear Learner\", \"Host\": \"algo-1\", \"Operation\": \"training\", \"epoch\": 4, \"model\": 18}, \"Metrics\": {\"validation_binary_classification_cross_entropy_objective\": {\"sum\": 0.5043309143236945, \"count\": 1, \"min\": 0.5043309143236945, \"max\": 0.5043309143236945}}}\u001b[0m\n",
            "\u001b[34m#metrics {\"StartTime\": 1650615289.8724282, \"EndTime\": 1650615289.872436, \"Dimensions\": {\"Algorithm\": \"Linear Learner\", \"Host\": \"algo-1\", \"Operation\": \"training\", \"epoch\": 4, \"model\": 19}, \"Metrics\": {\"validation_binary_classification_cross_entropy_objective\": {\"sum\": 0.5047753944835679, \"count\": 1, \"min\": 0.5047753944835679, \"max\": 0.5047753944835679}}}\u001b[0m\n",
            "\u001b[34m#metrics {\"StartTime\": 1650615289.8724818, \"EndTime\": 1650615289.8724928, \"Dimensions\": {\"Algorithm\": \"Linear Learner\", \"Host\": \"algo-1\", \"Operation\": \"training\", \"epoch\": 4, \"model\": 20}, \"Metrics\": {\"validation_binary_classification_cross_entropy_objective\": {\"sum\": 0.5043164355512336, \"count\": 1, \"min\": 0.5043164355512336, \"max\": 0.5043164355512336}}}\u001b[0m\n",
            "\u001b[34m#metrics {\"StartTime\": 1650615289.8725202, \"EndTime\": 1650615289.8725283, \"Dimensions\": {\"Algorithm\": \"Linear Learner\", \"Host\": \"algo-1\", \"Operation\": \"training\", \"epoch\": 4, \"model\": 21}, \"Metrics\": {\"validation_binary_classification_cross_entropy_objective\": {\"sum\": 0.5080817213166866, \"count\": 1, \"min\": 0.5080817213166866, \"max\": 0.5080817213166866}}}\u001b[0m\n",
            "\u001b[34m#metrics {\"StartTime\": 1650615289.872553, \"EndTime\": 1650615289.8725612, \"Dimensions\": {\"Algorithm\": \"Linear Learner\", \"Host\": \"algo-1\", \"Operation\": \"training\", \"epoch\": 4, \"model\": 22}, \"Metrics\": {\"validation_binary_classification_cross_entropy_objective\": {\"sum\": 0.5043164413353538, \"count\": 1, \"min\": 0.5043164413353538, \"max\": 0.5043164413353538}}}\u001b[0m\n",
            "\u001b[34m#metrics {\"StartTime\": 1650615289.8726082, \"EndTime\": 1650615289.872624, \"Dimensions\": {\"Algorithm\": \"Linear Learner\", \"Host\": \"algo-1\", \"Operation\": \"training\", \"epoch\": 4, \"model\": 23}, \"Metrics\": {\"validation_binary_classification_cross_entropy_objective\": {\"sum\": 0.508081717211827, \"count\": 1, \"min\": 0.508081717211827, \"max\": 0.508081717211827}}}\u001b[0m\n",
            "\u001b[34m#metrics {\"StartTime\": 1650615289.8726792, \"EndTime\": 1650615289.872699, \"Dimensions\": {\"Algorithm\": \"Linear Learner\", \"Host\": \"algo-1\", \"Operation\": \"training\", \"epoch\": 4, \"model\": 24}, \"Metrics\": {\"validation_binary_classification_cross_entropy_objective\": {\"sum\": 0.5137163608553288, \"count\": 1, \"min\": 0.5137163608553288, \"max\": 0.5137163608553288}}}\u001b[0m\n",
            "\u001b[34m#metrics {\"StartTime\": 1650615289.8727517, \"EndTime\": 1650615289.872769, \"Dimensions\": {\"Algorithm\": \"Linear Learner\", \"Host\": \"algo-1\", \"Operation\": \"training\", \"epoch\": 4, \"model\": 25}, \"Metrics\": {\"validation_binary_classification_cross_entropy_objective\": {\"sum\": 0.5142113162337444, \"count\": 1, \"min\": 0.5142113162337444, \"max\": 0.5142113162337444}}}\u001b[0m\n",
            "\u001b[34m#metrics {\"StartTime\": 1650615289.8728306, \"EndTime\": 1650615289.8728492, \"Dimensions\": {\"Algorithm\": \"Linear Learner\", \"Host\": \"algo-1\", \"Operation\": \"training\", \"epoch\": 4, \"model\": 26}, \"Metrics\": {\"validation_binary_classification_cross_entropy_objective\": {\"sum\": 0.5137126944694365, \"count\": 1, \"min\": 0.5137126944694365, \"max\": 0.5137126944694365}}}\u001b[0m\n",
            "\u001b[34m#metrics {\"StartTime\": 1650615289.8728998, \"EndTime\": 1650615289.8729138, \"Dimensions\": {\"Algorithm\": \"Linear Learner\", \"Host\": \"algo-1\", \"Operation\": \"training\", \"epoch\": 4, \"model\": 27}, \"Metrics\": {\"validation_binary_classification_cross_entropy_objective\": {\"sum\": 0.5142207893166012, \"count\": 1, \"min\": 0.5142207893166012, \"max\": 0.5142207893166012}}}\u001b[0m\n",
            "\u001b[34m#metrics {\"StartTime\": 1650615289.8729715, \"EndTime\": 1650615289.8729901, \"Dimensions\": {\"Algorithm\": \"Linear Learner\", \"Host\": \"algo-1\", \"Operation\": \"training\", \"epoch\": 4, \"model\": 28}, \"Metrics\": {\"validation_binary_classification_cross_entropy_objective\": {\"sum\": 0.5137178628607452, \"count\": 1, \"min\": 0.5137178628607452, \"max\": 0.5137178628607452}}}\u001b[0m\n",
            "\u001b[34m#metrics {\"StartTime\": 1650615289.8730505, \"EndTime\": 1650615289.8730679, \"Dimensions\": {\"Algorithm\": \"Linear Learner\", \"Host\": \"algo-1\", \"Operation\": \"training\", \"epoch\": 4, \"model\": 29}, \"Metrics\": {\"validation_binary_classification_cross_entropy_objective\": {\"sum\": 0.5137678867313243, \"count\": 1, \"min\": 0.5137678867313243, \"max\": 0.5137678867313243}}}\u001b[0m\n",
            "\u001b[34m#metrics {\"StartTime\": 1650615289.873117, \"EndTime\": 1650615289.8731346, \"Dimensions\": {\"Algorithm\": \"Linear Learner\", \"Host\": \"algo-1\", \"Operation\": \"training\", \"epoch\": 4, \"model\": 30}, \"Metrics\": {\"validation_binary_classification_cross_entropy_objective\": {\"sum\": 0.5137192226887545, \"count\": 1, \"min\": 0.5137192226887545, \"max\": 0.5137192226887545}}}\u001b[0m\n",
            "\u001b[34m#metrics {\"StartTime\": 1650615289.8732007, \"EndTime\": 1650615289.8732188, \"Dimensions\": {\"Algorithm\": \"Linear Learner\", \"Host\": \"algo-1\", \"Operation\": \"training\", \"epoch\": 4, \"model\": 31}, \"Metrics\": {\"validation_binary_classification_cross_entropy_objective\": {\"sum\": 0.5137678846788946, \"count\": 1, \"min\": 0.5137678846788946, \"max\": 0.5137678846788946}}}\u001b[0m\n",
            "\u001b[34m[04/22/2022 08:14:49 INFO 139911885301568] #quality_metric: host=algo-1, epoch=4, validation binary_classification_cross_entropy_objective <loss>=0.47967175495301007\u001b[0m\n",
            "\u001b[34m[04/22/2022 08:14:49 INFO 139911885301568] #early_stopping_criteria_metric: host=algo-1, epoch=4, criteria=binary_classification_cross_entropy_objective, value=0.47967175495301007\u001b[0m\n",
            "\u001b[34m[04/22/2022 08:14:49 INFO 139911885301568] Saving model for epoch: 4\u001b[0m\n",
            "\u001b[34m[04/22/2022 08:14:49 INFO 139911885301568] Saved checkpoint to \"/tmp/tmp6mpnanhf/mx-mod-0000.params\"\u001b[0m\n",
            "\u001b[34m[04/22/2022 08:14:49 INFO 139911885301568] Early stop condition met. Stopping training.\u001b[0m\n",
            "\u001b[34m[04/22/2022 08:14:49 INFO 139911885301568] #progress_metric: host=algo-1, completed 100 % epochs\u001b[0m\n",
            "\u001b[34m#metrics {\"StartTime\": 1650615224.3084905, \"EndTime\": 1650615289.8814266, \"Dimensions\": {\"Algorithm\": \"Linear Learner\", \"Host\": \"algo-1\", \"Operation\": \"training\", \"epoch\": 4, \"Meta\": \"training_data_iter\"}, \"Metrics\": {\"Total Records Seen\": {\"sum\": 6554360.0, \"count\": 1, \"min\": 6554360, \"max\": 6554360}, \"Total Batches Seen\": {\"sum\": 6557.0, \"count\": 1, \"min\": 6557, \"max\": 6557}, \"Max Records Seen Between Resets\": {\"sum\": 1308472.0, \"count\": 1, \"min\": 1308472, \"max\": 1308472}, \"Max Batches Seen Between Resets\": {\"sum\": 1309.0, \"count\": 1, \"min\": 1309, \"max\": 1309}, \"Reset Count\": {\"sum\": 7.0, \"count\": 1, \"min\": 7, \"max\": 7}, \"Number of Records Since Last Reset\": {\"sum\": 1308472.0, \"count\": 1, \"min\": 1308472, \"max\": 1308472}, \"Number of Batches Since Last Reset\": {\"sum\": 1309.0, \"count\": 1, \"min\": 1309, \"max\": 1309}}}\u001b[0m\n",
            "\u001b[34m[04/22/2022 08:14:49 INFO 139911885301568] #throughput_metric: host=algo-1, train throughput=19954.407738023503 records/second\u001b[0m\n",
            "\u001b[34m[04/22/2022 08:14:49 WARNING 139911885301568] wait_for_all_workers will not sync workers since the kv store is not running distributed\u001b[0m\n",
            "\u001b[34m[04/22/2022 08:14:49 WARNING 139911885301568] wait_for_all_workers will not sync workers since the kv store is not running distributed\u001b[0m\n",
            "\u001b[34m[2022-04-22 08:14:55.215] [tensorio] [info] epoch_stats={\"data_pipeline\": \"/opt/ml/input/data/validation\", \"epoch\": 17, \"duration\": 5310, \"num_examples\": 164, \"num_bytes\": 63460892}\u001b[0m\n",
            "\u001b[34m[04/22/2022 08:14:55 INFO 139911885301568] #early_stopping_criteria_metric: host=algo-1, epoch=4, criteria=binary_classification_cross_entropy_objective, value=0.47967175495301007\u001b[0m\n",
            "\u001b[34m[2022-04-22 08:14:56.094] [tensorio] [info] epoch_stats={\"data_pipeline\": \"/opt/ml/input/data/validation\", \"epoch\": 19, \"duration\": 861, \"num_examples\": 164, \"num_bytes\": 63460892}\u001b[0m\n",
            "\u001b[34m[04/22/2022 08:14:56 INFO 139911885301568] #validation_score (algo-1) : ('binary_classification_cross_entropy_objective', 0.480094289227781)\u001b[0m\n",
            "\u001b[34m[04/22/2022 08:14:56 INFO 139911885301568] #validation_score (algo-1) : ('binary_classification_accuracy', 0.7933711993837086)\u001b[0m\n",
            "\u001b[34m[04/22/2022 08:14:56 INFO 139911885301568] #validation_score (algo-1) : ('binary_f_1.000', 0.10899024518850514)\u001b[0m\n",
            "\u001b[34m[04/22/2022 08:14:56 INFO 139911885301568] #validation_score (algo-1) : ('precision', 0.5746455379482902)\u001b[0m\n",
            "\u001b[34m[04/22/2022 08:14:56 INFO 139911885301568] #validation_score (algo-1) : ('recall', 0.06020446800454373)\u001b[0m\n",
            "\u001b[34m[04/22/2022 08:14:56 INFO 139911885301568] #validation_score (algo-1) : ('roc_auc_score', 0.677818392054586)\u001b[0m\n",
            "\u001b[34m[04/22/2022 08:14:56 INFO 139911885301568] #validation_score (algo-1) : ('binary_balanced_accuracy', 0.5)\u001b[0m\n",
            "\u001b[34m[04/22/2022 08:14:56 INFO 139911885301568] #validation_score (algo-1) : ('binary_log_loss', 0.7488499576851715)\u001b[0m\n",
            "\u001b[34m[04/22/2022 08:14:56 INFO 139911885301568] #quality_metric: host=algo-1, validation binary_classification_cross_entropy_objective <loss>=0.480094289227781\u001b[0m\n",
            "\u001b[34m[04/22/2022 08:14:56 INFO 139911885301568] #quality_metric: host=algo-1, validation binary_classification_accuracy <score>=0.7933711993837086\u001b[0m\n",
            "\u001b[34m[04/22/2022 08:14:56 INFO 139911885301568] #quality_metric: host=algo-1, validation binary_f_1.000 <score>=0.10899024518850514\u001b[0m\n",
            "\u001b[34m[04/22/2022 08:14:56 INFO 139911885301568] #quality_metric: host=algo-1, validation precision <score>=0.5746455379482902\u001b[0m\n",
            "\u001b[34m[04/22/2022 08:14:56 INFO 139911885301568] #quality_metric: host=algo-1, validation recall <score>=0.06020446800454373\u001b[0m\n",
            "\u001b[34m[04/22/2022 08:14:56 INFO 139911885301568] #quality_metric: host=algo-1, validation roc_auc_score <score>=0.677818392054586\u001b[0m\n",
            "\u001b[34m[04/22/2022 08:14:56 INFO 139911885301568] #quality_metric: host=algo-1, validation binary_balanced_accuracy <score>=0.5\u001b[0m\n",
            "\u001b[34m[04/22/2022 08:14:56 INFO 139911885301568] #quality_metric: host=algo-1, validation binary_log_loss <score>=0.7488499576851715\u001b[0m\n",
            "\u001b[34m[04/22/2022 08:14:56 INFO 139911885301568] Best model found for hyperparameters: {\"optimizer\": \"adam\", \"learning_rate\": 0.005, \"l1\": 0.0, \"wd\": 0.0001, \"lr_scheduler_step\": 10, \"lr_scheduler_factor\": 0.99, \"lr_scheduler_minimum_lr\": 1e-05}\u001b[0m\n",
            "\u001b[34m[04/22/2022 08:14:56 INFO 139911885301568] Saved checkpoint to \"/tmp/tmpfb_o3mk0/mx-mod-0000.params\"\u001b[0m\n",
            "\u001b[34m[2022-04-22 08:14:56.409] [tensorio] [info] epoch_stats={\"data_pipeline\": \"/opt/ml/input/data/test\", \"epoch\": 0, \"duration\": 337663, \"num_examples\": 1, \"num_bytes\": 388000}\u001b[0m\n",
            "\u001b[34m[2022-04-22 08:14:57.310] [tensorio] [info] epoch_stats={\"data_pipeline\": \"/opt/ml/input/data/test\", \"epoch\": 1, \"duration\": 901, \"num_examples\": 164, \"num_bytes\": 63460892}\u001b[0m\n",
            "\u001b[34m#metrics {\"StartTime\": 1650615296.4061449, \"EndTime\": 1650615297.6617432, \"Dimensions\": {\"Algorithm\": \"Linear Learner\", \"Host\": \"algo-1\", \"Operation\": \"training\", \"Meta\": \"test_data_iter\"}, \"Metrics\": {\"Total Records Seen\": {\"sum\": 163559.0, \"count\": 1, \"min\": 163559, \"max\": 163559}, \"Total Batches Seen\": {\"sum\": 164.0, \"count\": 1, \"min\": 164, \"max\": 164}, \"Max Records Seen Between Resets\": {\"sum\": 163559.0, \"count\": 1, \"min\": 163559, \"max\": 163559}, \"Max Batches Seen Between Resets\": {\"sum\": 164.0, \"count\": 1, \"min\": 164, \"max\": 164}, \"Reset Count\": {\"sum\": 1.0, \"count\": 1, \"min\": 1, \"max\": 1}, \"Number of Records Since Last Reset\": {\"sum\": 163559.0, \"count\": 1, \"min\": 163559, \"max\": 163559}, \"Number of Batches Since Last Reset\": {\"sum\": 164.0, \"count\": 1, \"min\": 164, \"max\": 164}}}\u001b[0m\n",
            "\u001b[34m[04/22/2022 08:14:57 INFO 139911885301568] #test_score (algo-1) : ('binary_classification_cross_entropy_objective', 0.48105913981722337)\u001b[0m\n",
            "\u001b[34m[04/22/2022 08:14:57 INFO 139911885301568] #test_score (algo-1) : ('binary_classification_accuracy', 0.7926191771776545)\u001b[0m\n",
            "\u001b[34m[04/22/2022 08:14:57 INFO 139911885301568] #test_score (algo-1) : ('binary_f_1.000', 0.10335985619498268)\u001b[0m\n",
            "\u001b[34m[04/22/2022 08:14:57 INFO 139911885301568] #test_score (algo-1) : ('precision', 0.5592105263157895)\u001b[0m\n",
            "\u001b[34m[04/22/2022 08:14:57 INFO 139911885301568] #test_score (algo-1) : ('recall', 0.0569423004106836)\u001b[0m\n",
            "\u001b[34m[04/22/2022 08:14:57 INFO 139911885301568] #test_score (algo-1) : ('roc_auc_score', 0.6759997377772361)\u001b[0m\n",
            "\u001b[34m[04/22/2022 08:14:57 INFO 139911885301568] #test_score (algo-1) : ('binary_balanced_accuracy', 0.5)\u001b[0m\n",
            "\u001b[34m[04/22/2022 08:14:57 INFO 139911885301568] #test_score (algo-1) : ('binary_log_loss', 0.7489076708960433)\u001b[0m\n",
            "\u001b[34m[04/22/2022 08:14:57 INFO 139911885301568] #quality_metric: host=algo-1, test binary_classification_cross_entropy_objective <loss>=0.48105913981722337\u001b[0m\n",
            "\u001b[34m[04/22/2022 08:14:57 INFO 139911885301568] #quality_metric: host=algo-1, test binary_classification_accuracy <score>=0.7926191771776545\u001b[0m\n",
            "\u001b[34m[04/22/2022 08:14:57 INFO 139911885301568] #quality_metric: host=algo-1, test binary_f_1.000 <score>=0.10335985619498268\u001b[0m\n",
            "\u001b[34m[04/22/2022 08:14:57 INFO 139911885301568] #quality_metric: host=algo-1, test precision <score>=0.5592105263157895\u001b[0m\n",
            "\u001b[34m[04/22/2022 08:14:57 INFO 139911885301568] #quality_metric: host=algo-1, test recall <score>=0.0569423004106836\u001b[0m\n",
            "\u001b[34m[04/22/2022 08:14:57 INFO 139911885301568] #quality_metric: host=algo-1, test roc_auc_score <score>=0.6759997377772361\u001b[0m\n",
            "\u001b[34m[04/22/2022 08:14:57 INFO 139911885301568] #quality_metric: host=algo-1, test binary_balanced_accuracy <score>=0.5\u001b[0m\n",
            "\u001b[34m[04/22/2022 08:14:57 INFO 139911885301568] #quality_metric: host=algo-1, test binary_log_loss <score>=0.7489076708960433\u001b[0m\n",
            "\u001b[34m#metrics {\"StartTime\": 1650614958.7285168, \"EndTime\": 1650615297.670644, \"Dimensions\": {\"Algorithm\": \"Linear Learner\", \"Host\": \"algo-1\", \"Operation\": \"training\"}, \"Metrics\": {\"initialize.time\": {\"sum\": 446.9308853149414, \"count\": 1, \"min\": 446.9308853149414, \"max\": 446.9308853149414}, \"epochs\": {\"sum\": 15.0, \"count\": 1, \"min\": 15, \"max\": 15}, \"check_early_stopping.time\": {\"sum\": 2.877950668334961, \"count\": 6, \"min\": 0.2601146697998047, \"max\": 1.2438297271728516}, \"update.time\": {\"sum\": 330643.38064193726, \"count\": 5, \"min\": 65569.26894187927, \"max\": 66878.00192832947}, \"finalize.time\": {\"sum\": 6520.712852478027, \"count\": 1, \"min\": 6520.712852478027, \"max\": 6520.712852478027}, \"setuptime\": {\"sum\": 46.56362533569336, \"count\": 1, \"min\": 46.56362533569336, \"max\": 46.56362533569336}, \"totaltime\": {\"sum\": 339277.33969688416, \"count\": 1, \"min\": 339277.33969688416, \"max\": 339277.33969688416}}}\u001b[0m\n",
            "\u001b[34m[04/22/2022 08:14:57 INFO 139911885301568 integration.py:636] worker closed\u001b[0m\n",
            "\n",
            "2022-04-22 08:15:11 Uploading - Uploading generated training model\n",
            "2022-04-22 08:15:42 Completed - Training job completed\n",
            "ProfilerReport-1650614755: NoIssuesFound\n",
            "Training seconds: 449\n",
            "Billable seconds: 449\n"
          ]
        }
      ],
      "source": [
        "# Enter your code here\n",
        "classifier_estimator2.fit([train_records,val_records,test_records])"
      ]
    },
    {
      "cell_type": "markdown",
      "metadata": {
        "id": "BBkt1UkkEX0Q"
      },
      "source": [
        "Perform a batch prediction by using the newly trained model."
      ]
    },
    {
      "cell_type": "code",
      "execution_count": null,
      "metadata": {
        "id": "eN1KJPmiEX0Q",
        "outputId": "c40a0f1f-fc9b-4f98-bb5b-263b53c43036"
      },
      "outputs": [
        {
          "name": "stderr",
          "output_type": "stream",
          "text": [
            "Defaulting to the only supported framework/algorithm version: 1. Ignoring framework/algorithm version: 1.\n"
          ]
        },
        {
          "name": "stdout",
          "output_type": "stream",
          "text": [
            ".....................................\u001b[34mDocker entrypoint called with argument(s): serve\u001b[0m\n",
            "\u001b[34mRunning default environment configuration script\u001b[0m\n",
            "\u001b[34m[04/22/2022 08:22:25 INFO 140499127084864] loaded entry point class algorithm.serve.server_config:config_api\u001b[0m\n",
            "\u001b[34m[04/22/2022 08:22:25 INFO 140499127084864] loading entry points\u001b[0m\n",
            "\u001b[34m[04/22/2022 08:22:25 INFO 140499127084864] loaded request iterator application/json\u001b[0m\n",
            "\u001b[34m[04/22/2022 08:22:25 INFO 140499127084864] loaded request iterator application/jsonlines\u001b[0m\n",
            "\u001b[34m[04/22/2022 08:22:25 INFO 140499127084864] loaded request iterator application/x-recordio-protobuf\u001b[0m\n",
            "\u001b[34m[04/22/2022 08:22:25 INFO 140499127084864] loaded request iterator text/csv\u001b[0m\n",
            "\u001b[34m[04/22/2022 08:22:25 INFO 140499127084864] loaded response encoder application/json\u001b[0m\n",
            "\u001b[34m[04/22/2022 08:22:25 INFO 140499127084864] loaded response encoder application/jsonlines\u001b[0m\n",
            "\u001b[34m[04/22/2022 08:22:25 INFO 140499127084864] loaded response encoder application/x-recordio-protobuf\u001b[0m\n",
            "\u001b[34m[04/22/2022 08:22:25 INFO 140499127084864] loaded response encoder text/csv\u001b[0m\n",
            "\u001b[34m[04/22/2022 08:22:25 INFO 140499127084864] loaded entry point class algorithm:model\u001b[0m\n",
            "\u001b[34m[04/22/2022 08:22:25 INFO 140499127084864] Number of server workers: 4\u001b[0m\n",
            "\u001b[34m[04/22/2022 08:22:25 INFO 140499127084864] loading model...\u001b[0m\n",
            "\u001b[34m[04/22/2022 08:22:25 INFO 140499127084864] ...model loaded.\u001b[0m\n",
            "\u001b[34m[2022-04-22 08:22:25 +0000] [1] [INFO] Starting gunicorn 20.1.0\u001b[0m\n",
            "\u001b[34m[2022-04-22 08:22:25 +0000] [1] [INFO] Listening at: http://0.0.0.0:8080 (1)\u001b[0m\n",
            "\u001b[34m[2022-04-22 08:22:25 +0000] [1] [INFO] Using worker: sync\u001b[0m\n",
            "\u001b[34m[2022-04-22 08:22:25 +0000] [60] [INFO] Booting worker with pid: 60\u001b[0m\n",
            "\u001b[34m[2022-04-22 08:22:25 +0000] [69] [INFO] Booting worker with pid: 69\u001b[0m\n",
            "\u001b[34m[2022-04-22 08:22:25 +0000] [78] [INFO] Booting worker with pid: 78\u001b[0m\n",
            "\u001b[34m[2022-04-22 08:22:25 +0000] [87] [INFO] Booting worker with pid: 87\u001b[0m\n",
            "\u001b[34m#metrics {\"StartTime\": 1650615745.3793206, \"EndTime\": 1650615746.6384976, \"Dimensions\": {\"Algorithm\": \"LinearLearnerModel\", \"Host\": \"UNKNOWN\", \"Operation\": \"scoring\"}, \"Metrics\": {\"execution_parameters.count\": {\"sum\": 1.0, \"count\": 1, \"min\": 1, \"max\": 1}}}\u001b[0m\n",
            "\u001b[35m#metrics {\"StartTime\": 1650615745.3793206, \"EndTime\": 1650615746.6384976, \"Dimensions\": {\"Algorithm\": \"LinearLearnerModel\", \"Host\": \"UNKNOWN\", \"Operation\": \"scoring\"}, \"Metrics\": {\"execution_parameters.count\": {\"sum\": 1.0, \"count\": 1, \"min\": 1, \"max\": 1}}}\u001b[0m\n",
            "\u001b[32m2022-04-22T08:22:26.644:[sagemaker logs]: MaxConcurrentTransforms=4, MaxPayloadInMB=6, BatchStrategy=MULTI_RECORD\u001b[0m\n",
            "\u001b[34m#metrics {\"StartTime\": 1650615745.3793206, \"EndTime\": 1650615749.7833934, \"Dimensions\": {\"Algorithm\": \"LinearLearnerModel\", \"Host\": \"UNKNOWN\", \"Operation\": \"scoring\"}, \"Metrics\": {\"json.encoder.time\": {\"sum\": 120.25618553161621, \"count\": 1, \"min\": 120.25618553161621, \"max\": 120.25618553161621}, \"invocations.count\": {\"sum\": 1.0, \"count\": 1, \"min\": 1, \"max\": 1}}}\u001b[0m\n",
            "\u001b[34m#metrics {\"StartTime\": 1650615745.3793206, \"EndTime\": 1650615749.9882166, \"Dimensions\": {\"Algorithm\": \"LinearLearnerModel\", \"Host\": \"UNKNOWN\", \"Operation\": \"scoring\"}, \"Metrics\": {\"json.encoder.time\": {\"sum\": 145.67041397094727, \"count\": 1, \"min\": 145.67041397094727, \"max\": 145.67041397094727}, \"invocations.count\": {\"sum\": 1.0, \"count\": 1, \"min\": 1, \"max\": 1}}}\u001b[0m\n",
            "\u001b[34m#metrics {\"StartTime\": 1650615746.638776, \"EndTime\": 1650615750.0634248, \"Dimensions\": {\"Algorithm\": \"LinearLearnerModel\", \"Host\": \"UNKNOWN\", \"Operation\": \"scoring\"}, \"Metrics\": {\"json.encoder.time\": {\"sum\": 146.73805236816406, \"count\": 1, \"min\": 146.73805236816406, \"max\": 146.73805236816406}, \"invocations.count\": {\"sum\": 1.0, \"count\": 1, \"min\": 1, \"max\": 1}}}\u001b[0m\n",
            "\u001b[35m#metrics {\"StartTime\": 1650615745.3793206, \"EndTime\": 1650615749.7833934, \"Dimensions\": {\"Algorithm\": \"LinearLearnerModel\", \"Host\": \"UNKNOWN\", \"Operation\": \"scoring\"}, \"Metrics\": {\"json.encoder.time\": {\"sum\": 120.25618553161621, \"count\": 1, \"min\": 120.25618553161621, \"max\": 120.25618553161621}, \"invocations.count\": {\"sum\": 1.0, \"count\": 1, \"min\": 1, \"max\": 1}}}\u001b[0m\n",
            "\u001b[35m#metrics {\"StartTime\": 1650615745.3793206, \"EndTime\": 1650615749.9882166, \"Dimensions\": {\"Algorithm\": \"LinearLearnerModel\", \"Host\": \"UNKNOWN\", \"Operation\": \"scoring\"}, \"Metrics\": {\"json.encoder.time\": {\"sum\": 145.67041397094727, \"count\": 1, \"min\": 145.67041397094727, \"max\": 145.67041397094727}, \"invocations.count\": {\"sum\": 1.0, \"count\": 1, \"min\": 1, \"max\": 1}}}\u001b[0m\n",
            "\u001b[35m#metrics {\"StartTime\": 1650615746.638776, \"EndTime\": 1650615750.0634248, \"Dimensions\": {\"Algorithm\": \"LinearLearnerModel\", \"Host\": \"UNKNOWN\", \"Operation\": \"scoring\"}, \"Metrics\": {\"json.encoder.time\": {\"sum\": 146.73805236816406, \"count\": 1, \"min\": 146.73805236816406, \"max\": 146.73805236816406}, \"invocations.count\": {\"sum\": 1.0, \"count\": 1, \"min\": 1, \"max\": 1}}}\u001b[0m\n",
            "\u001b[34m#metrics {\"StartTime\": 1650615745.3793206, \"EndTime\": 1650615750.164027, \"Dimensions\": {\"Algorithm\": \"LinearLearnerModel\", \"Host\": \"UNKNOWN\", \"Operation\": \"scoring\"}, \"Metrics\": {\"json.encoder.time\": {\"sum\": 149.09648895263672, \"count\": 1, \"min\": 149.09648895263672, \"max\": 149.09648895263672}, \"invocations.count\": {\"sum\": 1.0, \"count\": 1, \"min\": 1, \"max\": 1}}}\u001b[0m\n",
            "\u001b[35m#metrics {\"StartTime\": 1650615745.3793206, \"EndTime\": 1650615750.164027, \"Dimensions\": {\"Algorithm\": \"LinearLearnerModel\", \"Host\": \"UNKNOWN\", \"Operation\": \"scoring\"}, \"Metrics\": {\"json.encoder.time\": {\"sum\": 149.09648895263672, \"count\": 1, \"min\": 149.09648895263672, \"max\": 149.09648895263672}, \"invocations.count\": {\"sum\": 1.0, \"count\": 1, \"min\": 1, \"max\": 1}}}\u001b[0m\n",
            "\u001b[34m#metrics {\"StartTime\": 1650615749.7835684, \"EndTime\": 1650615750.800575, \"Dimensions\": {\"Algorithm\": \"LinearLearnerModel\", \"Host\": \"UNKNOWN\", \"Operation\": \"scoring\"}, \"Metrics\": {\"json.encoder.time\": {\"sum\": 67.66366958618164, \"count\": 1, \"min\": 67.66366958618164, \"max\": 67.66366958618164}, \"invocations.count\": {\"sum\": 1.0, \"count\": 1, \"min\": 1, \"max\": 1}}}\u001b[0m\n",
            "\u001b[35m#metrics {\"StartTime\": 1650615749.7835684, \"EndTime\": 1650615750.800575, \"Dimensions\": {\"Algorithm\": \"LinearLearnerModel\", \"Host\": \"UNKNOWN\", \"Operation\": \"scoring\"}, \"Metrics\": {\"json.encoder.time\": {\"sum\": 67.66366958618164, \"count\": 1, \"min\": 67.66366958618164, \"max\": 67.66366958618164}, \"invocations.count\": {\"sum\": 1.0, \"count\": 1, \"min\": 1, \"max\": 1}}}\u001b[0m\n",
            "\n",
            "\u001b[34mDocker entrypoint called with argument(s): serve\u001b[0m\n",
            "\u001b[34mRunning default environment configuration script\u001b[0m\n",
            "\u001b[35mDocker entrypoint called with argument(s): serve\u001b[0m\n",
            "\u001b[35mRunning default environment configuration script\u001b[0m\n",
            "\u001b[34m[04/22/2022 08:22:25 INFO 140499127084864] loaded entry point class algorithm.serve.server_config:config_api\u001b[0m\n",
            "\u001b[35m[04/22/2022 08:22:25 INFO 140499127084864] loaded entry point class algorithm.serve.server_config:config_api\u001b[0m\n",
            "\u001b[34m[04/22/2022 08:22:25 INFO 140499127084864] loading entry points\u001b[0m\n",
            "\u001b[34m[04/22/2022 08:22:25 INFO 140499127084864] loaded request iterator application/json\u001b[0m\n",
            "\u001b[34m[04/22/2022 08:22:25 INFO 140499127084864] loaded request iterator application/jsonlines\u001b[0m\n",
            "\u001b[34m[04/22/2022 08:22:25 INFO 140499127084864] loaded request iterator application/x-recordio-protobuf\u001b[0m\n",
            "\u001b[34m[04/22/2022 08:22:25 INFO 140499127084864] loaded request iterator text/csv\u001b[0m\n",
            "\u001b[34m[04/22/2022 08:22:25 INFO 140499127084864] loaded response encoder application/json\u001b[0m\n",
            "\u001b[34m[04/22/2022 08:22:25 INFO 140499127084864] loaded response encoder application/jsonlines\u001b[0m\n",
            "\u001b[34m[04/22/2022 08:22:25 INFO 140499127084864] loaded response encoder application/x-recordio-protobuf\u001b[0m\n",
            "\u001b[34m[04/22/2022 08:22:25 INFO 140499127084864] loaded response encoder text/csv\u001b[0m\n",
            "\u001b[34m[04/22/2022 08:22:25 INFO 140499127084864] loaded entry point class algorithm:model\u001b[0m\n",
            "\u001b[34m[04/22/2022 08:22:25 INFO 140499127084864] Number of server workers: 4\u001b[0m\n",
            "\u001b[34m[04/22/2022 08:22:25 INFO 140499127084864] loading model...\u001b[0m\n",
            "\u001b[34m[04/22/2022 08:22:25 INFO 140499127084864] ...model loaded.\u001b[0m\n",
            "\u001b[34m[2022-04-22 08:22:25 +0000] [1] [INFO] Starting gunicorn 20.1.0\u001b[0m\n",
            "\u001b[34m[2022-04-22 08:22:25 +0000] [1] [INFO] Listening at: http://0.0.0.0:8080 (1)\u001b[0m\n",
            "\u001b[34m[2022-04-22 08:22:25 +0000] [1] [INFO] Using worker: sync\u001b[0m\n",
            "\u001b[34m[2022-04-22 08:22:25 +0000] [60] [INFO] Booting worker with pid: 60\u001b[0m\n",
            "\u001b[34m[2022-04-22 08:22:25 +0000] [69] [INFO] Booting worker with pid: 69\u001b[0m\n",
            "\u001b[34m[2022-04-22 08:22:25 +0000] [78] [INFO] Booting worker with pid: 78\u001b[0m\n",
            "\u001b[35m[04/22/2022 08:22:25 INFO 140499127084864] loading entry points\u001b[0m\n",
            "\u001b[35m[04/22/2022 08:22:25 INFO 140499127084864] loaded request iterator application/json\u001b[0m\n",
            "\u001b[35m[04/22/2022 08:22:25 INFO 140499127084864] loaded request iterator application/jsonlines\u001b[0m\n",
            "\u001b[35m[04/22/2022 08:22:25 INFO 140499127084864] loaded request iterator application/x-recordio-protobuf\u001b[0m\n",
            "\u001b[35m[04/22/2022 08:22:25 INFO 140499127084864] loaded request iterator text/csv\u001b[0m\n",
            "\u001b[35m[04/22/2022 08:22:25 INFO 140499127084864] loaded response encoder application/json\u001b[0m\n",
            "\u001b[35m[04/22/2022 08:22:25 INFO 140499127084864] loaded response encoder application/jsonlines\u001b[0m\n",
            "\u001b[35m[04/22/2022 08:22:25 INFO 140499127084864] loaded response encoder application/x-recordio-protobuf\u001b[0m\n",
            "\u001b[35m[04/22/2022 08:22:25 INFO 140499127084864] loaded response encoder text/csv\u001b[0m\n",
            "\u001b[35m[04/22/2022 08:22:25 INFO 140499127084864] loaded entry point class algorithm:model\u001b[0m\n",
            "\u001b[35m[04/22/2022 08:22:25 INFO 140499127084864] Number of server workers: 4\u001b[0m\n",
            "\u001b[35m[04/22/2022 08:22:25 INFO 140499127084864] loading model...\u001b[0m\n",
            "\u001b[35m[04/22/2022 08:22:25 INFO 140499127084864] ...model loaded.\u001b[0m\n",
            "\u001b[35m[2022-04-22 08:22:25 +0000] [1] [INFO] Starting gunicorn 20.1.0\u001b[0m\n",
            "\u001b[35m[2022-04-22 08:22:25 +0000] [1] [INFO] Listening at: http://0.0.0.0:8080 (1)\u001b[0m\n",
            "\u001b[35m[2022-04-22 08:22:25 +0000] [1] [INFO] Using worker: sync\u001b[0m\n",
            "\u001b[35m[2022-04-22 08:22:25 +0000] [60] [INFO] Booting worker with pid: 60\u001b[0m\n",
            "\u001b[35m[2022-04-22 08:22:25 +0000] [69] [INFO] Booting worker with pid: 69\u001b[0m\n",
            "\u001b[35m[2022-04-22 08:22:25 +0000] [78] [INFO] Booting worker with pid: 78\u001b[0m\n",
            "\u001b[34m[2022-04-22 08:22:25 +0000] [87] [INFO] Booting worker with pid: 87\u001b[0m\n",
            "\u001b[35m[2022-04-22 08:22:25 +0000] [87] [INFO] Booting worker with pid: 87\u001b[0m\n",
            "\u001b[34m#metrics {\"StartTime\": 1650615745.3793206, \"EndTime\": 1650615746.6384976, \"Dimensions\": {\"Algorithm\": \"LinearLearnerModel\", \"Host\": \"UNKNOWN\", \"Operation\": \"scoring\"}, \"Metrics\": {\"execution_parameters.count\": {\"sum\": 1.0, \"count\": 1, \"min\": 1, \"max\": 1}}}\u001b[0m\n",
            "\u001b[35m#metrics {\"StartTime\": 1650615745.3793206, \"EndTime\": 1650615746.6384976, \"Dimensions\": {\"Algorithm\": \"LinearLearnerModel\", \"Host\": \"UNKNOWN\", \"Operation\": \"scoring\"}, \"Metrics\": {\"execution_parameters.count\": {\"sum\": 1.0, \"count\": 1, \"min\": 1, \"max\": 1}}}\u001b[0m\n",
            "\u001b[32m2022-04-22T08:22:26.644:[sagemaker logs]: MaxConcurrentTransforms=4, MaxPayloadInMB=6, BatchStrategy=MULTI_RECORD\u001b[0m\n",
            "\u001b[34m#metrics {\"StartTime\": 1650615745.3793206, \"EndTime\": 1650615749.7833934, \"Dimensions\": {\"Algorithm\": \"LinearLearnerModel\", \"Host\": \"UNKNOWN\", \"Operation\": \"scoring\"}, \"Metrics\": {\"json.encoder.time\": {\"sum\": 120.25618553161621, \"count\": 1, \"min\": 120.25618553161621, \"max\": 120.25618553161621}, \"invocations.count\": {\"sum\": 1.0, \"count\": 1, \"min\": 1, \"max\": 1}}}\u001b[0m\n",
            "\u001b[34m#metrics {\"StartTime\": 1650615745.3793206, \"EndTime\": 1650615749.9882166, \"Dimensions\": {\"Algorithm\": \"LinearLearnerModel\", \"Host\": \"UNKNOWN\", \"Operation\": \"scoring\"}, \"Metrics\": {\"json.encoder.time\": {\"sum\": 145.67041397094727, \"count\": 1, \"min\": 145.67041397094727, \"max\": 145.67041397094727}, \"invocations.count\": {\"sum\": 1.0, \"count\": 1, \"min\": 1, \"max\": 1}}}\u001b[0m\n",
            "\u001b[34m#metrics {\"StartTime\": 1650615746.638776, \"EndTime\": 1650615750.0634248, \"Dimensions\": {\"Algorithm\": \"LinearLearnerModel\", \"Host\": \"UNKNOWN\", \"Operation\": \"scoring\"}, \"Metrics\": {\"json.encoder.time\": {\"sum\": 146.73805236816406, \"count\": 1, \"min\": 146.73805236816406, \"max\": 146.73805236816406}, \"invocations.count\": {\"sum\": 1.0, \"count\": 1, \"min\": 1, \"max\": 1}}}\u001b[0m\n",
            "\u001b[35m#metrics {\"StartTime\": 1650615745.3793206, \"EndTime\": 1650615749.7833934, \"Dimensions\": {\"Algorithm\": \"LinearLearnerModel\", \"Host\": \"UNKNOWN\", \"Operation\": \"scoring\"}, \"Metrics\": {\"json.encoder.time\": {\"sum\": 120.25618553161621, \"count\": 1, \"min\": 120.25618553161621, \"max\": 120.25618553161621}, \"invocations.count\": {\"sum\": 1.0, \"count\": 1, \"min\": 1, \"max\": 1}}}\u001b[0m\n",
            "\u001b[35m#metrics {\"StartTime\": 1650615745.3793206, \"EndTime\": 1650615749.9882166, \"Dimensions\": {\"Algorithm\": \"LinearLearnerModel\", \"Host\": \"UNKNOWN\", \"Operation\": \"scoring\"}, \"Metrics\": {\"json.encoder.time\": {\"sum\": 145.67041397094727, \"count\": 1, \"min\": 145.67041397094727, \"max\": 145.67041397094727}, \"invocations.count\": {\"sum\": 1.0, \"count\": 1, \"min\": 1, \"max\": 1}}}\u001b[0m\n",
            "\u001b[35m#metrics {\"StartTime\": 1650615746.638776, \"EndTime\": 1650615750.0634248, \"Dimensions\": {\"Algorithm\": \"LinearLearnerModel\", \"Host\": \"UNKNOWN\", \"Operation\": \"scoring\"}, \"Metrics\": {\"json.encoder.time\": {\"sum\": 146.73805236816406, \"count\": 1, \"min\": 146.73805236816406, \"max\": 146.73805236816406}, \"invocations.count\": {\"sum\": 1.0, \"count\": 1, \"min\": 1, \"max\": 1}}}\u001b[0m\n",
            "\u001b[34m#metrics {\"StartTime\": 1650615745.3793206, \"EndTime\": 1650615750.164027, \"Dimensions\": {\"Algorithm\": \"LinearLearnerModel\", \"Host\": \"UNKNOWN\", \"Operation\": \"scoring\"}, \"Metrics\": {\"json.encoder.time\": {\"sum\": 149.09648895263672, \"count\": 1, \"min\": 149.09648895263672, \"max\": 149.09648895263672}, \"invocations.count\": {\"sum\": 1.0, \"count\": 1, \"min\": 1, \"max\": 1}}}\u001b[0m\n",
            "\u001b[35m#metrics {\"StartTime\": 1650615745.3793206, \"EndTime\": 1650615750.164027, \"Dimensions\": {\"Algorithm\": \"LinearLearnerModel\", \"Host\": \"UNKNOWN\", \"Operation\": \"scoring\"}, \"Metrics\": {\"json.encoder.time\": {\"sum\": 149.09648895263672, \"count\": 1, \"min\": 149.09648895263672, \"max\": 149.09648895263672}, \"invocations.count\": {\"sum\": 1.0, \"count\": 1, \"min\": 1, \"max\": 1}}}\u001b[0m\n",
            "\u001b[34m#metrics {\"StartTime\": 1650615749.7835684, \"EndTime\": 1650615750.800575, \"Dimensions\": {\"Algorithm\": \"LinearLearnerModel\", \"Host\": \"UNKNOWN\", \"Operation\": \"scoring\"}, \"Metrics\": {\"json.encoder.time\": {\"sum\": 67.66366958618164, \"count\": 1, \"min\": 67.66366958618164, \"max\": 67.66366958618164}, \"invocations.count\": {\"sum\": 1.0, \"count\": 1, \"min\": 1, \"max\": 1}}}\u001b[0m\n",
            "\u001b[35m#metrics {\"StartTime\": 1650615749.7835684, \"EndTime\": 1650615750.800575, \"Dimensions\": {\"Algorithm\": \"LinearLearnerModel\", \"Host\": \"UNKNOWN\", \"Operation\": \"scoring\"}, \"Metrics\": {\"json.encoder.time\": {\"sum\": 67.66366958618164, \"count\": 1, \"min\": 67.66366958618164, \"max\": 67.66366958618164}, \"invocations.count\": {\"sum\": 1.0, \"count\": 1, \"min\": 1, \"max\": 1}}}\u001b[0m\n"
          ]
        }
      ],
      "source": [
        "# Enter your code here\n",
        "test_labels,target_predicted = batch_linear_predict(test,classifier_estimator2)"
      ]
    },
    {
      "cell_type": "markdown",
      "metadata": {
        "id": "aI_tTJ5LEX0R"
      },
      "source": [
        "Plot a confusion matrix."
      ]
    },
    {
      "cell_type": "code",
      "execution_count": null,
      "metadata": {
        "id": "XIcbd1vJEX0R",
        "outputId": "5e52fdab-8fe1-4346-ac8f-3f792fd6e927"
      },
      "outputs": [
        {
          "data": {
            "image/png": "[encoded data removed]",
            "text/plain": [
              "<Figure size 432x288 with 1 Axes>"
            ]
          },
          "metadata": {
            "needs_background": "light"
          },
          "output_type": "display_data"
        }
      ],
      "source": [
        "# Enter your code here\n",
        "plot_confusion_matrix(test_labels,target_predicted)"
      ]
    },
    {
      "cell_type": "markdown",
      "metadata": {
        "id": "3uqumGIzEX0R"
      },
      "source": [
        "Plot the ROC curve."
      ]
    },
    {
      "cell_type": "code",
      "execution_count": null,
      "metadata": {
        "id": "xwih3ZROEX0R",
        "outputId": "7bca6301-e6fd-44b5-bbe8-e5a302a571cf"
      },
      "outputs": [
        {
          "name": "stdout",
          "output_type": "stream",
          "text": [
            "Sensitivity or TPR:  5.69423004106836 %\n",
            "Specificity or TNR:  98.80751551545355 %\n",
            "Precision:  55.92105263157895 %\n",
            "Negative Predictive Value:  79.77171488726314 %\n",
            "False Positive Rate:  1.1924844845464535 %\n",
            "False Negative Rate:  94.30576995893163 %\n",
            "False Discovery Rate:  44.07894736842105 %\n",
            "Accuracy:  79.26191771776546 %\n",
            "Validation AUC 0.5225087277826096\n",
            "Figure(432x288)\n"
          ]
        },
        {
          "data": {
            "image/png": "[encoded data removed]",
            "text/plain": [
              "<Figure size 432x288 with 2 Axes>"
            ]
          },
          "metadata": {
            "needs_background": "light"
          },
          "output_type": "display_data"
        },
        {
          "data": {
            "text/plain": [
              "<Figure size 432x288 with 0 Axes>"
            ]
          },
          "metadata": {},
          "output_type": "display_data"
        }
      ],
      "source": [
        "# Enter your code here\n",
        "plot_roc(test_labels,target_predicted)"
      ]
    },
    {
      "cell_type": "markdown",
      "metadata": {
        "id": "PQCA6VXyEX0R"
      },
      "source": [
        "The linear model shows only a little improvement in performance. Try a tree-based ensemble model, which is called *XGBoost*, with Amazon SageMaker."
      ]
    },
    {
      "cell_type": "markdown",
      "metadata": {
        "id": "z357s4raEX0R"
      },
      "source": [
        "### Try the XGBoost model"
      ]
    },
    {
      "cell_type": "markdown",
      "metadata": {
        "id": "Nwcn1ffNEX0R"
      },
      "source": [
        "Perform these steps:  \n",
        "\n",
        "1. Use the training set variables and save them as CSV files: train.csv, validation.csv and test.csv.\n",
        "2. Store the bucket name in the variable. The Amazon S3 bucket name is provided to the left of the lab instructions.  \n",
        "a. `bucket = <LabBucketName>`  \n",
        "b. `prefix = 'flight-xgb'`  \n",
        "3. Use the AWS SDK for Python (Boto3) to upload the model to the bucket.    "
      ]
    },
    {
      "cell_type": "code",
      "execution_count": null,
      "metadata": {
        "id": "_7O19PvpEX0R"
      },
      "outputs": [],
      "source": [
        "bucket='c47433a664954l1948125t1w100817210503-flightbucket-13erk3mu1hju1'\n",
        "prefix='flight-xgb'\n",
        "train_file='flight_train.csv'\n",
        "test_file='flight_test.csv'\n",
        "validate_file='flight_validate.csv'\n",
        "whole_file='flight.csv'\n",
        "s3_resource = boto3.Session().resource('s3')\n",
        "\n",
        "def upload_s3_csv(filename, folder, dataframe):\n",
        "    csv_buffer = io.StringIO()\n",
        "    dataframe.to_csv(csv_buffer, header=False, index=False )\n",
        "    s3_resource.Bucket(bucket).Object(os.path.join(prefix, folder, filename)).put(Body=csv_buffer.getvalue())\n",
        "\n",
        "upload_s3_csv(train_file, 'train', train)\n",
        "upload_s3_csv(test_file, 'test', test)\n",
        "upload_s3_csv(validate_file, 'validate', validate)"
      ]
    },
    {
      "cell_type": "markdown",
      "metadata": {
        "id": "W76imQGXEX0R"
      },
      "source": [
        "Use the `sagemaker.inputs.TrainingInput` function to create a `record_set` for the training and validation datasets."
      ]
    },
    {
      "cell_type": "code",
      "execution_count": null,
      "metadata": {
        "id": "MEXLj6WFEX0S"
      },
      "outputs": [],
      "source": [
        "train_channel = sagemaker.inputs.TrainingInput(\n",
        "    \"s3://{}/{}/train/\".format(bucket,prefix,train_file),\n",
        "    content_type='text/csv')\n",
        "\n",
        "validate_channel = sagemaker.inputs.TrainingInput(\n",
        "    \"s3://{}/{}/validate/\".format(bucket,prefix,validate_file),\n",
        "    content_type='text/csv')\n",
        "\n",
        "data_channels = {'train': train_channel, 'validation': validate_channel}"
      ]
    },
    {
      "cell_type": "code",
      "execution_count": null,
      "metadata": {
        "id": "o4zLvYAJEX0S"
      },
      "outputs": [],
      "source": [
        "from sagemaker.image_uris import retrieve\n",
        "container = retrieve('xgboost',boto3.Session().region_name,'1.0-1')"
      ]
    },
    {
      "cell_type": "code",
      "execution_count": null,
      "metadata": {
        "id": "qKWVFO3UEX0S",
        "outputId": "5cb3b2f7-6366-413a-d1bf-0838c5c2316c"
      },
      "outputs": [
        {
          "name": "stdout",
          "output_type": "stream",
          "text": [
            "2022-04-22 08:24:40 Starting - Starting the training job...\n",
            "2022-04-22 08:25:06 Starting - Preparing the instances for trainingProfilerReport-1650615879: InProgress\n",
            "............\n",
            "2022-04-22 08:27:03 Downloading - Downloading input data...\n",
            "2022-04-22 08:27:35 Training - Downloading the training image.....\u001b[34mINFO:sagemaker-containers:Imported framework sagemaker_xgboost_container.training\u001b[0m\n",
            "\u001b[34mINFO:sagemaker-containers:Failed to parse hyperparameter eval_metric value auc to Json.\u001b[0m\n",
            "\u001b[34mReturning the value itself\u001b[0m\n",
            "\u001b[34mINFO:sagemaker-containers:Failed to parse hyperparameter objective value binary:logistic to Json.\u001b[0m\n",
            "\u001b[34mReturning the value itself\u001b[0m\n",
            "\u001b[34mINFO:sagemaker-containers:No GPUs detected (normal if no gpus installed)\u001b[0m\n",
            "\u001b[34mINFO:sagemaker_xgboost_container.training:Running XGBoost Sagemaker in algorithm mode\u001b[0m\n",
            "\u001b[34mINFO:root:Determined delimiter of CSV input is ','\u001b[0m\n",
            "\u001b[34mINFO:root:Determined delimiter of CSV input is ','\u001b[0m\n",
            "\u001b[34mINFO:root:Determined delimiter of CSV input is ','\u001b[0m\n",
            "\u001b[34m[08:28:26] 1308472x85 matrix with 111220120 entries loaded from /opt/ml/input/data/train?format=csv&label_column=0&delimiter=,\u001b[0m\n",
            "\u001b[34mINFO:root:Determined delimiter of CSV input is ','\u001b[0m\n",
            "\u001b[34m[08:28:26] 163559x85 matrix with 13902515 entries loaded from /opt/ml/input/data/validation?format=csv&label_column=0&delimiter=,\u001b[0m\n",
            "\u001b[34mINFO:root:Single node training.\u001b[0m\n",
            "\u001b[34mINFO:root:Train matrix has 1308472 rows\u001b[0m\n",
            "\u001b[34mINFO:root:Validation matrix has 163559 rows\u001b[0m\n",
            "\n",
            "2022-04-22 08:28:24 Training - Training image download completed. Training in progress.\u001b[34m[0]#011train-auc:0.65347#011validation-auc:0.65344\u001b[0m\n",
            "\u001b[34m[1]#011train-auc:0.66318#011validation-auc:0.66313\u001b[0m\n",
            "\u001b[34m[2]#011train-auc:0.67011#011validation-auc:0.66993\u001b[0m\n",
            "\u001b[34m[3]#011train-auc:0.67175#011validation-auc:0.67138\u001b[0m\n",
            "\u001b[34m[4]#011train-auc:0.67662#011validation-auc:0.67573\u001b[0m\n",
            "\u001b[34m[5]#011train-auc:0.67803#011validation-auc:0.67736\u001b[0m\n",
            "\u001b[34m[6]#011train-auc:0.68041#011validation-auc:0.67986\u001b[0m\n",
            "\u001b[34m[7]#011train-auc:0.68295#011validation-auc:0.68247\u001b[0m\n",
            "\u001b[34m[8]#011train-auc:0.68505#011validation-auc:0.68472\u001b[0m\n",
            "\u001b[34m[9]#011train-auc:0.68746#011validation-auc:0.68704\u001b[0m\n",
            "\u001b[34m[10]#011train-auc:0.68822#011validation-auc:0.68768\u001b[0m\n",
            "\u001b[34m[11]#011train-auc:0.69095#011validation-auc:0.69006\u001b[0m\n",
            "\u001b[34m[12]#011train-auc:0.69325#011validation-auc:0.69249\u001b[0m\n",
            "\u001b[34m[13]#011train-auc:0.69569#011validation-auc:0.69483\u001b[0m\n",
            "\u001b[34m[14]#011train-auc:0.69664#011validation-auc:0.69585\u001b[0m\n",
            "\u001b[34m[15]#011train-auc:0.69872#011validation-auc:0.69784\u001b[0m\n",
            "\u001b[34m[16]#011train-auc:0.69986#011validation-auc:0.69913\u001b[0m\n",
            "\u001b[34m[17]#011train-auc:0.70110#011validation-auc:0.70024\u001b[0m\n",
            "\u001b[34m[18]#011train-auc:0.70194#011validation-auc:0.70101\u001b[0m\n",
            "\u001b[34m[19]#011train-auc:0.70313#011validation-auc:0.70227\u001b[0m\n",
            "\u001b[34m[20]#011train-auc:0.70432#011validation-auc:0.70343\u001b[0m\n",
            "\u001b[34m[21]#011train-auc:0.70531#011validation-auc:0.70435\u001b[0m\n",
            "\u001b[34m[22]#011train-auc:0.70600#011validation-auc:0.70507\u001b[0m\n",
            "\u001b[34m[23]#011train-auc:0.70636#011validation-auc:0.70539\u001b[0m\n",
            "\u001b[34m[24]#011train-auc:0.70722#011validation-auc:0.70641\u001b[0m\n",
            "\u001b[34m[25]#011train-auc:0.70784#011validation-auc:0.70701\u001b[0m\n",
            "\u001b[34m[26]#011train-auc:0.70904#011validation-auc:0.70806\u001b[0m\n",
            "\u001b[34m[27]#011train-auc:0.70963#011validation-auc:0.70858\u001b[0m\n",
            "\u001b[34m[28]#011train-auc:0.71030#011validation-auc:0.70930\u001b[0m\n",
            "\u001b[34m[29]#011train-auc:0.71140#011validation-auc:0.71035\u001b[0m\n",
            "\u001b[34m[30]#011train-auc:0.71217#011validation-auc:0.71099\u001b[0m\n",
            "\u001b[34m[31]#011train-auc:0.71308#011validation-auc:0.71181\u001b[0m\n",
            "\u001b[34m[32]#011train-auc:0.71374#011validation-auc:0.71250\u001b[0m\n",
            "\u001b[34m[33]#011train-auc:0.71461#011validation-auc:0.71337\u001b[0m\n",
            "\u001b[34m[34]#011train-auc:0.71520#011validation-auc:0.71391\u001b[0m\n",
            "\u001b[34m[35]#011train-auc:0.71579#011validation-auc:0.71456\u001b[0m\n",
            "\u001b[34m[36]#011train-auc:0.71667#011validation-auc:0.71544\u001b[0m\n",
            "\u001b[34m[37]#011train-auc:0.71744#011validation-auc:0.71616\u001b[0m\n",
            "\u001b[34m[38]#011train-auc:0.71782#011validation-auc:0.71645\u001b[0m\n",
            "\u001b[34m[39]#011train-auc:0.71859#011validation-auc:0.71731\u001b[0m\n",
            "\u001b[34m[40]#011train-auc:0.71887#011validation-auc:0.71757\u001b[0m\n",
            "\u001b[34m[41]#011train-auc:0.71922#011validation-auc:0.71792\u001b[0m\n",
            "\u001b[34m[42]#011train-auc:0.71969#011validation-auc:0.71845\u001b[0m\n",
            "\u001b[34m[43]#011train-auc:0.72031#011validation-auc:0.71909\u001b[0m\n",
            "\u001b[34m[44]#011train-auc:0.72053#011validation-auc:0.71929\u001b[0m\n",
            "\u001b[34m[45]#011train-auc:0.72098#011validation-auc:0.71965\u001b[0m\n",
            "\u001b[34m[46]#011train-auc:0.72197#011validation-auc:0.72064\u001b[0m\n",
            "\u001b[34m[47]#011train-auc:0.72230#011validation-auc:0.72093\u001b[0m\n",
            "\u001b[34m[48]#011train-auc:0.72300#011validation-auc:0.72164\u001b[0m\n",
            "\u001b[34m[49]#011train-auc:0.72331#011validation-auc:0.72190\u001b[0m\n",
            "\u001b[34m[50]#011train-auc:0.72353#011validation-auc:0.72214\u001b[0m\n",
            "\u001b[34m[51]#011train-auc:0.72374#011validation-auc:0.72230\u001b[0m\n",
            "\u001b[34m[52]#011train-auc:0.72404#011validation-auc:0.72255\u001b[0m\n",
            "\u001b[34m[53]#011train-auc:0.72423#011validation-auc:0.72270\u001b[0m\n",
            "\u001b[34m[54]#011train-auc:0.72450#011validation-auc:0.72296\u001b[0m\n",
            "\u001b[34m[55]#011train-auc:0.72474#011validation-auc:0.72315\u001b[0m\n",
            "\u001b[34m[56]#011train-auc:0.72503#011validation-auc:0.72335\u001b[0m\n",
            "\u001b[34m[57]#011train-auc:0.72538#011validation-auc:0.72368\u001b[0m\n",
            "\u001b[34m[58]#011train-auc:0.72560#011validation-auc:0.72384\u001b[0m\n",
            "\u001b[34m[59]#011train-auc:0.72606#011validation-auc:0.72432\u001b[0m\n",
            "\u001b[34m[60]#011train-auc:0.72624#011validation-auc:0.72450\u001b[0m\n",
            "\u001b[34m[61]#011train-auc:0.72637#011validation-auc:0.72462\u001b[0m\n",
            "\u001b[34m[62]#011train-auc:0.72660#011validation-auc:0.72480\u001b[0m\n",
            "\u001b[34m[63]#011train-auc:0.72688#011validation-auc:0.72504\u001b[0m\n",
            "\u001b[34m[64]#011train-auc:0.72722#011validation-auc:0.72537\u001b[0m\n",
            "\u001b[34m[65]#011train-auc:0.72758#011validation-auc:0.72569\u001b[0m\n",
            "\u001b[34m[66]#011train-auc:0.72781#011validation-auc:0.72586\u001b[0m\n",
            "\u001b[34m[67]#011train-auc:0.72807#011validation-auc:0.72606\u001b[0m\n",
            "\u001b[34m[68]#011train-auc:0.72835#011validation-auc:0.72631\u001b[0m\n",
            "\u001b[34m[69]#011train-auc:0.72871#011validation-auc:0.72674\u001b[0m\n",
            "\u001b[34m[70]#011train-auc:0.72890#011validation-auc:0.72689\u001b[0m\n",
            "\u001b[34m[71]#011train-auc:0.72908#011validation-auc:0.72704\u001b[0m\n",
            "\u001b[34m[72]#011train-auc:0.72927#011validation-auc:0.72715\u001b[0m\n",
            "\u001b[34m[73]#011train-auc:0.72940#011validation-auc:0.72725\u001b[0m\n",
            "\u001b[34m[74]#011train-auc:0.72973#011validation-auc:0.72760\u001b[0m\n",
            "\u001b[34m[75]#011train-auc:0.72979#011validation-auc:0.72763\u001b[0m\n",
            "\u001b[34m[76]#011train-auc:0.72992#011validation-auc:0.72777\u001b[0m\n",
            "\u001b[34m[77]#011train-auc:0.73005#011validation-auc:0.72785\u001b[0m\n",
            "\u001b[34m[78]#011train-auc:0.73022#011validation-auc:0.72796\u001b[0m\n",
            "\u001b[34m[79]#011train-auc:0.73039#011validation-auc:0.72810\u001b[0m\n",
            "\u001b[34m[80]#011train-auc:0.73058#011validation-auc:0.72828\u001b[0m\n",
            "\u001b[34m[81]#011train-auc:0.73072#011validation-auc:0.72836\u001b[0m\n",
            "\u001b[34m[82]#011train-auc:0.73095#011validation-auc:0.72857\u001b[0m\n",
            "\u001b[34m[83]#011train-auc:0.73141#011validation-auc:0.72900\u001b[0m\n",
            "\u001b[34m[84]#011train-auc:0.73168#011validation-auc:0.72922\u001b[0m\n",
            "\u001b[34m[85]#011train-auc:0.73194#011validation-auc:0.72949\u001b[0m\n",
            "\u001b[34m[86]#011train-auc:0.73218#011validation-auc:0.72970\u001b[0m\n",
            "\u001b[34m[87]#011train-auc:0.73235#011validation-auc:0.72982\u001b[0m\n",
            "\u001b[34m[88]#011train-auc:0.73248#011validation-auc:0.72996\u001b[0m\n",
            "\u001b[34m[89]#011train-auc:0.73262#011validation-auc:0.73006\u001b[0m\n",
            "\u001b[34m[90]#011train-auc:0.73289#011validation-auc:0.73028\u001b[0m\n",
            "\u001b[34m[91]#011train-auc:0.73303#011validation-auc:0.73039\u001b[0m\n",
            "\u001b[34m[92]#011train-auc:0.73312#011validation-auc:0.73047\u001b[0m\n",
            "\u001b[34m[93]#011train-auc:0.73329#011validation-auc:0.73063\u001b[0m\n",
            "\u001b[34m[94]#011train-auc:0.73335#011validation-auc:0.73066\u001b[0m\n",
            "\u001b[34m[95]#011train-auc:0.73351#011validation-auc:0.73078\u001b[0m\n",
            "\u001b[34m[96]#011train-auc:0.73352#011validation-auc:0.73080\u001b[0m\n",
            "\u001b[34m[97]#011train-auc:0.73362#011validation-auc:0.73089\u001b[0m\n",
            "\u001b[34m[98]#011train-auc:0.73387#011validation-auc:0.73112\u001b[0m\n",
            "\u001b[34m[99]#011train-auc:0.73408#011validation-auc:0.73132\u001b[0m\n",
            "\n",
            "2022-04-22 08:33:12 Uploading - Uploading generated training model\n",
            "2022-04-22 08:33:45 Completed - Training job completed\n",
            "ProfilerReport-1650615879: NoIssuesFound\n",
            "Training seconds: 394\n",
            "Billable seconds: 394\n"
          ]
        }
      ],
      "source": [
        "sess = sagemaker.Session()\n",
        "s3_output_location=\"s3://{}/{}/output/\".format(bucket,prefix)\n",
        "\n",
        "xgb = sagemaker.estimator.Estimator(container,\n",
        "                                    role = sagemaker.get_execution_role(), \n",
        "                                    instance_count=1, \n",
        "                                    instance_type=instance_type,\n",
        "                                    output_path=s3_output_location,\n",
        "                                    sagemaker_session=sess)\n",
        "xgb.set_hyperparameters(max_depth=5,\n",
        "                        eta=0.2,\n",
        "                        gamma=4,\n",
        "                        min_child_weight=6,\n",
        "                        subsample=0.8,\n",
        "                        silent=0,\n",
        "                        objective='binary:logistic',\n",
        "                        eval_metric = \"auc\", \n",
        "                        num_round=100)\n",
        "\n",
        "xgb.fit(inputs=data_channels)"
      ]
    },
    {
      "cell_type": "markdown",
      "metadata": {
        "id": "pARv27xMEX0S"
      },
      "source": [
        "Use the batch transformer for your new model, and evaluate the model on the test dataset."
      ]
    },
    {
      "cell_type": "code",
      "execution_count": null,
      "metadata": {
        "id": "o05aWaBuEX0S"
      },
      "outputs": [],
      "source": [
        "batch_X = test.iloc[:,1:];\n",
        "batch_X_file='batch-in.csv'\n",
        "upload_s3_csv(batch_X_file, 'batch-in', batch_X)"
      ]
    },
    {
      "cell_type": "code",
      "execution_count": null,
      "metadata": {
        "id": "r102o2nqEX0S",
        "outputId": "9351044a-cfb2-47f3-dd66-4b0799e777d3"
      },
      "outputs": [
        {
          "name": "stdout",
          "output_type": "stream",
          "text": [
            "....................................\n",
            "\u001b[34m[2022-04-22:08:40:46:INFO] No GPUs detected (normal if no gpus installed)\u001b[0m\n",
            "\u001b[34m[2022-04-22:08:40:46:INFO] No GPUs detected (normal if no gpus installed)\u001b[0m\n",
            "\u001b[34m[2022-04-22:08:40:46:INFO] nginx config: \u001b[0m\n",
            "\u001b[35m[2022-04-22:08:40:46:INFO] No GPUs detected (normal if no gpus installed)\u001b[0m\n",
            "\u001b[35m[2022-04-22:08:40:46:INFO] No GPUs detected (normal if no gpus installed)\u001b[0m\n",
            "\u001b[35m[2022-04-22:08:40:46:INFO] nginx config: \u001b[0m\n",
            "\u001b[34mworker_processes auto;\u001b[0m\n",
            "\u001b[34mdaemon off;\u001b[0m\n",
            "\u001b[34mpid /tmp/nginx.pid;\u001b[0m\n",
            "\u001b[34merror_log  /dev/stderr;\u001b[0m\n",
            "\u001b[34mworker_rlimit_nofile 4096;\u001b[0m\n",
            "\u001b[34mevents {\n",
            "  worker_connections 2048;\u001b[0m\n",
            "\u001b[34m}\u001b[0m\n",
            "\u001b[34mhttp {\n",
            "  include /etc/nginx/mime.types;\n",
            "  default_type application/octet-stream;\n",
            "  access_log /dev/stdout combined;\n",
            "  upstream gunicorn {\n",
            "    server unix:/tmp/gunicorn.sock;\n",
            "  }\n",
            "  server {\n",
            "    listen 8080 deferred;\n",
            "    client_max_body_size 0;\n",
            "    keepalive_timeout 3;\n",
            "    location ~ ^/(ping|invocations|execution-parameters) {\n",
            "      proxy_set_header X-Forwarded-For $proxy_add_x_forwarded_for;\n",
            "      proxy_set_header Host $http_host;\n",
            "      proxy_redirect off;\n",
            "      proxy_read_timeout 60s;\n",
            "      proxy_pass http://gunicorn;\n",
            "    }\n",
            "    location / {\n",
            "      return 404 \"{}\";\n",
            "    }\n",
            "  }\u001b[0m\n",
            "\u001b[34m}\u001b[0m\n",
            "\u001b[34m[2022-04-22 08:40:46 +0000] [19] [INFO] Starting gunicorn 19.10.0\u001b[0m\n",
            "\u001b[34m[2022-04-22 08:40:46 +0000] [19] [INFO] Listening at: unix:/tmp/gunicorn.sock (19)\u001b[0m\n",
            "\u001b[34m[2022-04-22 08:40:46 +0000] [19] [INFO] Using worker: gevent\u001b[0m\n",
            "\u001b[34m[2022-04-22 08:40:46 +0000] [26] [INFO] Booting worker with pid: 26\u001b[0m\n",
            "\u001b[34m[2022-04-22 08:40:46 +0000] [27] [INFO] Booting worker with pid: 27\u001b[0m\n",
            "\u001b[34m[2022-04-22 08:40:46 +0000] [28] [INFO] Booting worker with pid: 28\u001b[0m\n",
            "\u001b[34m[2022-04-22 08:40:46 +0000] [29] [INFO] Booting worker with pid: 29\u001b[0m\n",
            "\u001b[35mworker_processes auto;\u001b[0m\n",
            "\u001b[35mdaemon off;\u001b[0m\n",
            "\u001b[35mpid /tmp/nginx.pid;\u001b[0m\n",
            "\u001b[35merror_log  /dev/stderr;\u001b[0m\n",
            "\u001b[35mworker_rlimit_nofile 4096;\u001b[0m\n",
            "\u001b[35mevents {\n",
            "  worker_connections 2048;\u001b[0m\n",
            "\u001b[35m}\u001b[0m\n",
            "\u001b[35mhttp {\n",
            "  include /etc/nginx/mime.types;\n",
            "  default_type application/octet-stream;\n",
            "  access_log /dev/stdout combined;\n",
            "  upstream gunicorn {\n",
            "    server unix:/tmp/gunicorn.sock;\n",
            "  }\n",
            "  server {\n",
            "    listen 8080 deferred;\n",
            "    client_max_body_size 0;\n",
            "    keepalive_timeout 3;\n",
            "    location ~ ^/(ping|invocations|execution-parameters) {\n",
            "      proxy_set_header X-Forwarded-For $proxy_add_x_forwarded_for;\n",
            "      proxy_set_header Host $http_host;\n",
            "      proxy_redirect off;\n",
            "      proxy_read_timeout 60s;\n",
            "      proxy_pass http://gunicorn;\n",
            "    }\n",
            "    location / {\n",
            "      return 404 \"{}\";\n",
            "    }\n",
            "  }\u001b[0m\n",
            "\u001b[35m}\u001b[0m\n",
            "\u001b[35m[2022-04-22 08:40:46 +0000] [19] [INFO] Starting gunicorn 19.10.0\u001b[0m\n",
            "\u001b[35m[2022-04-22 08:40:46 +0000] [19] [INFO] Listening at: unix:/tmp/gunicorn.sock (19)\u001b[0m\n",
            "\u001b[35m[2022-04-22 08:40:46 +0000] [19] [INFO] Using worker: gevent\u001b[0m\n",
            "\u001b[35m[2022-04-22 08:40:46 +0000] [26] [INFO] Booting worker with pid: 26\u001b[0m\n",
            "\u001b[35m[2022-04-22 08:40:46 +0000] [27] [INFO] Booting worker with pid: 27\u001b[0m\n",
            "\u001b[35m[2022-04-22 08:40:46 +0000] [28] [INFO] Booting worker with pid: 28\u001b[0m\n",
            "\u001b[35m[2022-04-22 08:40:46 +0000] [29] [INFO] Booting worker with pid: 29\u001b[0m\n",
            "\u001b[34m[2022-04-22:08:40:52:INFO] No GPUs detected (normal if no gpus installed)\u001b[0m\n",
            "\u001b[34m169.254.255.130 - - [22/Apr/2022:08:40:52 +0000] \"GET /ping HTTP/1.1\" 200 0 \"-\" \"Go-http-client/1.1\"\u001b[0m\n",
            "\u001b[34m[2022-04-22:08:40:52:INFO] No GPUs detected (normal if no gpus installed)\u001b[0m\n",
            "\u001b[34m169.254.255.130 - - [22/Apr/2022:08:40:52 +0000] \"GET /execution-parameters HTTP/1.1\" 200 84 \"-\" \"Go-http-client/1.1\"\u001b[0m\n",
            "\u001b[35m[2022-04-22:08:40:52:INFO] No GPUs detected (normal if no gpus installed)\u001b[0m\n",
            "\u001b[35m169.254.255.130 - - [22/Apr/2022:08:40:52 +0000] \"GET /ping HTTP/1.1\" 200 0 \"-\" \"Go-http-client/1.1\"\u001b[0m\n",
            "\u001b[35m[2022-04-22:08:40:52:INFO] No GPUs detected (normal if no gpus installed)\u001b[0m\n",
            "\u001b[35m169.254.255.130 - - [22/Apr/2022:08:40:52 +0000] \"GET /execution-parameters HTTP/1.1\" 200 84 \"-\" \"Go-http-client/1.1\"\u001b[0m\n",
            "\u001b[34m[2022-04-22:08:40:53:INFO] No GPUs detected (normal if no gpus installed)\u001b[0m\n",
            "\u001b[35m[2022-04-22:08:40:53:INFO] No GPUs detected (normal if no gpus installed)\u001b[0m\n",
            "\u001b[34m[2022-04-22:08:40:53:INFO] Determined delimiter of CSV input is ','\u001b[0m\n",
            "\u001b[34m[2022-04-22:08:40:53:INFO] Determined delimiter of CSV input is ','\u001b[0m\n",
            "\u001b[34m[2022-04-22:08:40:53:INFO] No GPUs detected (normal if no gpus installed)\u001b[0m\n",
            "\u001b[34m[2022-04-22:08:40:53:INFO] Determined delimiter of CSV input is ','\u001b[0m\n",
            "\u001b[34m[2022-04-22:08:40:53:INFO] Determined delimiter of CSV input is ','\u001b[0m\n",
            "\u001b[35m[2022-04-22:08:40:53:INFO] Determined delimiter of CSV input is ','\u001b[0m\n",
            "\u001b[35m[2022-04-22:08:40:53:INFO] Determined delimiter of CSV input is ','\u001b[0m\n",
            "\u001b[35m[2022-04-22:08:40:53:INFO] No GPUs detected (normal if no gpus installed)\u001b[0m\n",
            "\u001b[35m[2022-04-22:08:40:53:INFO] Determined delimiter of CSV input is ','\u001b[0m\n",
            "\u001b[35m[2022-04-22:08:40:53:INFO] Determined delimiter of CSV input is ','\u001b[0m\n",
            "\u001b[32m2022-04-22T08:40:52.346:[sagemaker logs]: MaxConcurrentTransforms=4, MaxPayloadInMB=6, BatchStrategy=MULTI_RECORD\u001b[0m\n",
            "\u001b[34m169.254.255.130 - - [22/Apr/2022:08:40:57 +0000] \"POST /invocations HTTP/1.1\" 200 652550 \"-\" \"Go-http-client/1.1\"\u001b[0m\n",
            "\u001b[34m169.254.255.130 - - [22/Apr/2022:08:40:57 +0000] \"POST /invocations HTTP/1.1\" 200 652653 \"-\" \"Go-http-client/1.1\"\u001b[0m\n",
            "\u001b[34m169.254.255.130 - - [22/Apr/2022:08:40:57 +0000] \"POST /invocations HTTP/1.1\" 200 652610 \"-\" \"Go-http-client/1.1\"\u001b[0m\n",
            "\u001b[34m[2022-04-22:08:40:57:INFO] Determined delimiter of CSV input is ','\u001b[0m\n",
            "\u001b[34m169.254.255.130 - - [22/Apr/2022:08:40:57 +0000] \"POST /invocations HTTP/1.1\" 200 652774 \"-\" \"Go-http-client/1.1\"\u001b[0m\n",
            "\u001b[35m169.254.255.130 - - [22/Apr/2022:08:40:57 +0000] \"POST /invocations HTTP/1.1\" 200 652550 \"-\" \"Go-http-client/1.1\"\u001b[0m\n",
            "\u001b[35m169.254.255.130 - - [22/Apr/2022:08:40:57 +0000] \"POST /invocations HTTP/1.1\" 200 652653 \"-\" \"Go-http-client/1.1\"\u001b[0m\n",
            "\u001b[35m169.254.255.130 - - [22/Apr/2022:08:40:57 +0000] \"POST /invocations HTTP/1.1\" 200 652610 \"-\" \"Go-http-client/1.1\"\u001b[0m\n",
            "\u001b[35m[2022-04-22:08:40:57:INFO] Determined delimiter of CSV input is ','\u001b[0m\n",
            "\u001b[35m169.254.255.130 - - [22/Apr/2022:08:40:57 +0000] \"POST /invocations HTTP/1.1\" 200 652774 \"-\" \"Go-http-client/1.1\"\u001b[0m\n",
            "\u001b[34m[2022-04-22:08:40:46:INFO] No GPUs detected (normal if no gpus installed)\u001b[0m\n",
            "\u001b[34m[2022-04-22:08:40:46:INFO] No GPUs detected (normal if no gpus installed)\u001b[0m\n",
            "\u001b[34m[2022-04-22:08:40:46:INFO] nginx config: \u001b[0m\n",
            "\u001b[35m[2022-04-22:08:40:46:INFO] No GPUs detected (normal if no gpus installed)\u001b[0m\n",
            "\u001b[35m[2022-04-22:08:40:46:INFO] No GPUs detected (normal if no gpus installed)\u001b[0m\n",
            "\u001b[35m[2022-04-22:08:40:46:INFO] nginx config: \u001b[0m\n",
            "\u001b[34mworker_processes auto;\u001b[0m\n",
            "\u001b[34mdaemon off;\u001b[0m\n",
            "\u001b[34mpid /tmp/nginx.pid;\u001b[0m\n",
            "\u001b[34merror_log  /dev/stderr;\u001b[0m\n",
            "\u001b[34mworker_rlimit_nofile 4096;\u001b[0m\n",
            "\u001b[34mevents {\n",
            "  worker_connections 2048;\u001b[0m\n",
            "\u001b[34m}\u001b[0m\n",
            "\u001b[34mhttp {\n",
            "  include /etc/nginx/mime.types;\n",
            "  default_type application/octet-stream;\n",
            "  access_log /dev/stdout combined;\n",
            "  upstream gunicorn {\n",
            "    server unix:/tmp/gunicorn.sock;\n",
            "  }\n",
            "  server {\n",
            "    listen 8080 deferred;\n",
            "    client_max_body_size 0;\n",
            "    keepalive_timeout 3;\n",
            "    location ~ ^/(ping|invocations|execution-parameters) {\n",
            "      proxy_set_header X-Forwarded-For $proxy_add_x_forwarded_for;\n",
            "      proxy_set_header Host $http_host;\n",
            "      proxy_redirect off;\n",
            "      proxy_read_timeout 60s;\n",
            "      proxy_pass http://gunicorn;\n",
            "    }\n",
            "    location / {\n",
            "      return 404 \"{}\";\n",
            "    }\n",
            "  }\u001b[0m\n",
            "\u001b[34m}\u001b[0m\n",
            "\u001b[34m[2022-04-22 08:40:46 +0000] [19] [INFO] Starting gunicorn 19.10.0\u001b[0m\n",
            "\u001b[34m[2022-04-22 08:40:46 +0000] [19] [INFO] Listening at: unix:/tmp/gunicorn.sock (19)\u001b[0m\n",
            "\u001b[34m[2022-04-22 08:40:46 +0000] [19] [INFO] Using worker: gevent\u001b[0m\n",
            "\u001b[34m[2022-04-22 08:40:46 +0000] [26] [INFO] Booting worker with pid: 26\u001b[0m\n",
            "\u001b[34m[2022-04-22 08:40:46 +0000] [27] [INFO] Booting worker with pid: 27\u001b[0m\n",
            "\u001b[34m[2022-04-22 08:40:46 +0000] [28] [INFO] Booting worker with pid: 28\u001b[0m\n",
            "\u001b[34m[2022-04-22 08:40:46 +0000] [29] [INFO] Booting worker with pid: 29\u001b[0m\n",
            "\u001b[35mworker_processes auto;\u001b[0m\n",
            "\u001b[35mdaemon off;\u001b[0m\n",
            "\u001b[35mpid /tmp/nginx.pid;\u001b[0m\n",
            "\u001b[35merror_log  /dev/stderr;\u001b[0m\n",
            "\u001b[35mworker_rlimit_nofile 4096;\u001b[0m\n",
            "\u001b[35mevents {\n",
            "  worker_connections 2048;\u001b[0m\n",
            "\u001b[35m}\u001b[0m\n",
            "\u001b[35mhttp {\n",
            "  include /etc/nginx/mime.types;\n",
            "  default_type application/octet-stream;\n",
            "  access_log /dev/stdout combined;\n",
            "  upstream gunicorn {\n",
            "    server unix:/tmp/gunicorn.sock;\n",
            "  }\n",
            "  server {\n",
            "    listen 8080 deferred;\n",
            "    client_max_body_size 0;\n",
            "    keepalive_timeout 3;\n",
            "    location ~ ^/(ping|invocations|execution-parameters) {\n",
            "      proxy_set_header X-Forwarded-For $proxy_add_x_forwarded_for;\n",
            "      proxy_set_header Host $http_host;\n",
            "      proxy_redirect off;\n",
            "      proxy_read_timeout 60s;\n",
            "      proxy_pass http://gunicorn;\n",
            "    }\n",
            "    location / {\n",
            "      return 404 \"{}\";\n",
            "    }\n",
            "  }\u001b[0m\n",
            "\u001b[35m}\u001b[0m\n",
            "\u001b[35m[2022-04-22 08:40:46 +0000] [19] [INFO] Starting gunicorn 19.10.0\u001b[0m\n",
            "\u001b[35m[2022-04-22 08:40:46 +0000] [19] [INFO] Listening at: unix:/tmp/gunicorn.sock (19)\u001b[0m\n",
            "\u001b[35m[2022-04-22 08:40:46 +0000] [19] [INFO] Using worker: gevent\u001b[0m\n",
            "\u001b[35m[2022-04-22 08:40:46 +0000] [26] [INFO] Booting worker with pid: 26\u001b[0m\n",
            "\u001b[35m[2022-04-22 08:40:46 +0000] [27] [INFO] Booting worker with pid: 27\u001b[0m\n",
            "\u001b[35m[2022-04-22 08:40:46 +0000] [28] [INFO] Booting worker with pid: 28\u001b[0m\n",
            "\u001b[35m[2022-04-22 08:40:46 +0000] [29] [INFO] Booting worker with pid: 29\u001b[0m\n",
            "\u001b[34m[2022-04-22:08:40:52:INFO] No GPUs detected (normal if no gpus installed)\u001b[0m\n",
            "\u001b[34m169.254.255.130 - - [22/Apr/2022:08:40:52 +0000] \"GET /ping HTTP/1.1\" 200 0 \"-\" \"Go-http-client/1.1\"\u001b[0m\n",
            "\u001b[34m[2022-04-22:08:40:52:INFO] No GPUs detected (normal if no gpus installed)\u001b[0m\n",
            "\u001b[34m169.254.255.130 - - [22/Apr/2022:08:40:52 +0000] \"GET /execution-parameters HTTP/1.1\" 200 84 \"-\" \"Go-http-client/1.1\"\u001b[0m\n",
            "\u001b[35m[2022-04-22:08:40:52:INFO] No GPUs detected (normal if no gpus installed)\u001b[0m\n",
            "\u001b[35m169.254.255.130 - - [22/Apr/2022:08:40:52 +0000] \"GET /ping HTTP/1.1\" 200 0 \"-\" \"Go-http-client/1.1\"\u001b[0m\n",
            "\u001b[35m[2022-04-22:08:40:52:INFO] No GPUs detected (normal if no gpus installed)\u001b[0m\n",
            "\u001b[35m169.254.255.130 - - [22/Apr/2022:08:40:52 +0000] \"GET /execution-parameters HTTP/1.1\" 200 84 \"-\" \"Go-http-client/1.1\"\u001b[0m\n",
            "\u001b[34m[2022-04-22:08:40:53:INFO] No GPUs detected (normal if no gpus installed)\u001b[0m\n",
            "\u001b[35m[2022-04-22:08:40:53:INFO] No GPUs detected (normal if no gpus installed)\u001b[0m\n",
            "\u001b[34m[2022-04-22:08:40:53:INFO] Determined delimiter of CSV input is ','\u001b[0m\n",
            "\u001b[34m[2022-04-22:08:40:53:INFO] Determined delimiter of CSV input is ','\u001b[0m\n",
            "\u001b[34m[2022-04-22:08:40:53:INFO] No GPUs detected (normal if no gpus installed)\u001b[0m\n",
            "\u001b[34m[2022-04-22:08:40:53:INFO] Determined delimiter of CSV input is ','\u001b[0m\n",
            "\u001b[34m[2022-04-22:08:40:53:INFO] Determined delimiter of CSV input is ','\u001b[0m\n",
            "\u001b[35m[2022-04-22:08:40:53:INFO] Determined delimiter of CSV input is ','\u001b[0m\n",
            "\u001b[35m[2022-04-22:08:40:53:INFO] Determined delimiter of CSV input is ','\u001b[0m\n",
            "\u001b[35m[2022-04-22:08:40:53:INFO] No GPUs detected (normal if no gpus installed)\u001b[0m\n",
            "\u001b[35m[2022-04-22:08:40:53:INFO] Determined delimiter of CSV input is ','\u001b[0m\n",
            "\u001b[35m[2022-04-22:08:40:53:INFO] Determined delimiter of CSV input is ','\u001b[0m\n",
            "\u001b[32m2022-04-22T08:40:52.346:[sagemaker logs]: MaxConcurrentTransforms=4, MaxPayloadInMB=6, BatchStrategy=MULTI_RECORD\u001b[0m\n",
            "\u001b[34m169.254.255.130 - - [22/Apr/2022:08:40:57 +0000] \"POST /invocations HTTP/1.1\" 200 652550 \"-\" \"Go-http-client/1.1\"\u001b[0m\n",
            "\u001b[34m169.254.255.130 - - [22/Apr/2022:08:40:57 +0000] \"POST /invocations HTTP/1.1\" 200 652653 \"-\" \"Go-http-client/1.1\"\u001b[0m\n",
            "\u001b[34m169.254.255.130 - - [22/Apr/2022:08:40:57 +0000] \"POST /invocations HTTP/1.1\" 200 652610 \"-\" \"Go-http-client/1.1\"\u001b[0m\n",
            "\u001b[34m[2022-04-22:08:40:57:INFO] Determined delimiter of CSV input is ','\u001b[0m\n",
            "\u001b[34m169.254.255.130 - - [22/Apr/2022:08:40:57 +0000] \"POST /invocations HTTP/1.1\" 200 652774 \"-\" \"Go-http-client/1.1\"\u001b[0m\n",
            "\u001b[35m169.254.255.130 - - [22/Apr/2022:08:40:57 +0000] \"POST /invocations HTTP/1.1\" 200 652550 \"-\" \"Go-http-client/1.1\"\u001b[0m\n",
            "\u001b[35m169.254.255.130 - - [22/Apr/2022:08:40:57 +0000] \"POST /invocations HTTP/1.1\" 200 652653 \"-\" \"Go-http-client/1.1\"\u001b[0m\n",
            "\u001b[35m169.254.255.130 - - [22/Apr/2022:08:40:57 +0000] \"POST /invocations HTTP/1.1\" 200 652610 \"-\" \"Go-http-client/1.1\"\u001b[0m\n",
            "\u001b[35m[2022-04-22:08:40:57:INFO] Determined delimiter of CSV input is ','\u001b[0m\n",
            "\u001b[35m169.254.255.130 - - [22/Apr/2022:08:40:57 +0000] \"POST /invocations HTTP/1.1\" 200 652774 \"-\" \"Go-http-client/1.1\"\u001b[0m\n",
            "\u001b[34m169.254.255.130 - - [22/Apr/2022:08:40:59 +0000] \"POST /invocations HTTP/1.1\" 200 602454 \"-\" \"Go-http-client/1.1\"\u001b[0m\n",
            "\u001b[35m169.254.255.130 - - [22/Apr/2022:08:40:59 +0000] \"POST /invocations HTTP/1.1\" 200 602454 \"-\" \"Go-http-client/1.1\"\u001b[0m\n"
          ]
        }
      ],
      "source": [
        "batch_output = \"s3://{}/{}/batch-out/\".format(bucket,prefix)\n",
        "batch_input = \"s3://{}/{}/batch-in/{}\".format(bucket,prefix,batch_X_file)\n",
        "\n",
        "xgb_transformer = xgb.transformer(instance_count=1,\n",
        "                                       instance_type=instance_type,\n",
        "                                       strategy='MultiRecord',\n",
        "                                       assemble_with='Line',\n",
        "                                       output_path=batch_output)\n",
        "\n",
        "xgb_transformer.transform(data=batch_input,\n",
        "                         data_type='S3Prefix',\n",
        "                         content_type='text/csv',\n",
        "                         split_type='Line')\n",
        "xgb_transformer.wait()"
      ]
    },
    {
      "cell_type": "markdown",
      "metadata": {
        "id": "OFuKE45NEX0S"
      },
      "source": [
        "Get the predicted target and test labels."
      ]
    },
    {
      "cell_type": "code",
      "execution_count": null,
      "metadata": {
        "id": "FUfE0QWyEX0S"
      },
      "outputs": [],
      "source": [
        "s3 = boto3.client('s3')\n",
        "obj = s3.get_object(Bucket=bucket, Key=\"{}/batch-out/{}\".format(prefix,'batch-in.csv.out'))\n",
        "target_predicted = pd.read_csv(io.BytesIO(obj['Body'].read()),',',names=['target'])\n",
        "test_labels = test.iloc[:,0]"
      ]
    },
    {
      "cell_type": "markdown",
      "metadata": {
        "id": "wiDIkUfiEX0S"
      },
      "source": [
        "Calculate the predicted values based on the defined threshold.\n",
        "\n",
        "**Note:** The predicted target will be a score, which must be converted to a binary class."
      ]
    },
    {
      "cell_type": "code",
      "execution_count": null,
      "metadata": {
        "id": "5e7mb8MbEX0T",
        "outputId": "79bd78a6-ccaf-4b1b-cc6a-210000355eff"
      },
      "outputs": [
        {
          "name": "stdout",
          "output_type": "stream",
          "text": [
            "     target\n",
            "0  0.280530\n",
            "1  0.085754\n",
            "2  0.137120\n",
            "3  0.177474\n",
            "4  0.100568\n",
            "   target\n",
            "0       0\n",
            "1       0\n",
            "2       0\n",
            "3       0\n",
            "4       0\n"
          ]
        }
      ],
      "source": [
        "print(target_predicted.head())\n",
        "\n",
        "def binary_convert(x):\n",
        "    threshold = 0.55\n",
        "    if x > threshold:\n",
        "        return 1\n",
        "    else:\n",
        "        return 0\n",
        "\n",
        "target_predicted['target'] = target_predicted['target'].apply(binary_convert)\n",
        "\n",
        "test_labels = test.iloc[:,0]\n",
        "\n",
        "print(target_predicted.head())"
      ]
    },
    {
      "cell_type": "markdown",
      "metadata": {
        "id": "8XfDIvaCEX0T"
      },
      "source": [
        "Plot a confusion matrix for your `target_predicted` and `test_labels`."
      ]
    },
    {
      "cell_type": "code",
      "execution_count": null,
      "metadata": {
        "id": "di77YN1eEX0T",
        "outputId": "8d49bd63-ef7c-44e7-a1e4-2e7da5f6af42"
      },
      "outputs": [
        {
          "data": {
            "image/png": "[encoded data removed]",
            "text/plain": [
              "<Figure size 432x288 with 1 Axes>"
            ]
          },
          "metadata": {
            "needs_background": "light"
          },
          "output_type": "display_data"
        }
      ],
      "source": [
        "# Enter your code here\n",
        "plot_confusion_matrix(test_labels,target_predicted)"
      ]
    },
    {
      "cell_type": "markdown",
      "metadata": {
        "id": "YMcwAGWBEX0T"
      },
      "source": [
        "Plot the ROC chart:"
      ]
    },
    {
      "cell_type": "code",
      "execution_count": null,
      "metadata": {
        "id": "0UmLIteTEX0T",
        "outputId": "ac197b66-7e55-48ff-b4aa-cd27e4f90e6f"
      },
      "outputs": [
        {
          "name": "stdout",
          "output_type": "stream",
          "text": [
            "Sensitivity or TPR:  10.039903300032039 %\n",
            "Specificity or TNR:  98.91894819927877 %\n",
            "Precision:  71.16019818331957 %\n",
            "Negative Predictive Value:  80.5399615663296 %\n",
            "False Positive Rate:  1.081051800721217 %\n",
            "False Negative Rate:  89.96009669996796 %\n",
            "False Discovery Rate:  28.839801816680428 %\n",
            "Accuracy:  80.26216839183414 %\n",
            "Validation AUC 0.5447942574965541\n",
            "Figure(432x288)\n"
          ]
        },
        {
          "data": {
            "image/png": "[encoded data removed]",
            "text/plain": [
              "<Figure size 432x288 with 2 Axes>"
            ]
          },
          "metadata": {
            "needs_background": "light"
          },
          "output_type": "display_data"
        },
        {
          "data": {
            "text/plain": [
              "<Figure size 432x288 with 0 Axes>"
            ]
          },
          "metadata": {},
          "output_type": "display_data"
        }
      ],
      "source": [
        "# Enter your code here\n",
        "plot_roc(test_labels,target_predicted)"
      ]
    },
    {
      "cell_type": "markdown",
      "metadata": {
        "id": "4jYF9YhPEX0T"
      },
      "source": [
        "### Try different thresholds"
      ]
    },
    {
      "cell_type": "markdown",
      "metadata": {
        "id": "VLDL_YchEX0T"
      },
      "source": [
        "**Question**: Based on how well the model handled the test set, what can you conclude?"
      ]
    },
    {
      "cell_type": "code",
      "execution_count": null,
      "metadata": {
        "id": "QJXZeq40EX0T"
      },
      "outputs": [],
      "source": [
        "#Enter your answer here\n",
        "เมื่อมีการแบ่งเกณฑ์ที่กำหนดต่างกันในการ test จะทำให้การคาดณ์การได้ผลลัพธ์ที่แตกต่างกัน\n"
      ]
    },
    {
      "cell_type": "markdown",
      "metadata": {
        "id": "v8QF_pSuEX0T"
      },
      "source": [
        "### Hyperparameter optimization (HPO)"
      ]
    },
    {
      "cell_type": "code",
      "execution_count": null,
      "metadata": {
        "id": "DIbXnP3XEX0T"
      },
      "outputs": [],
      "source": [
        "from sagemaker.tuner import IntegerParameter, CategoricalParameter, ContinuousParameter, HyperparameterTuner\n",
        "\n",
        "### You can spin up multiple instances to do hyperparameter optimization in parallel\n",
        "\n",
        "xgb = sagemaker.estimator.Estimator(container,\n",
        "                                    role=sagemaker.get_execution_role(), \n",
        "                                    instance_count= 1, # make sure you have a limit set for these instances\n",
        "                                    instance_type=instance_type, \n",
        "                                    output_path='s3://{}/{}/output'.format(bucket, prefix),\n",
        "                                    sagemaker_session=sess)\n",
        "\n",
        "xgb.set_hyperparameters(eval_metric='auc',\n",
        "                        objective='binary:logistic',\n",
        "                        num_round=100,\n",
        "                        rate_drop=0.3,\n",
        "                        tweedie_variance_power=1.4)\n",
        "\n",
        "hyperparameter_ranges = {'alpha': ContinuousParameter(0, 1000, scaling_type='Linear'),\n",
        "                         'eta': ContinuousParameter(0.1, 0.5, scaling_type='Linear'),\n",
        "                         'min_child_weight': ContinuousParameter(3, 10, scaling_type='Linear'),\n",
        "                         'subsample': ContinuousParameter(0.5, 1),\n",
        "                         'num_round': IntegerParameter(10,150)}\n",
        "\n",
        "objective_metric_name = 'validation:auc'\n",
        "\n",
        "tuner = HyperparameterTuner(xgb,\n",
        "                            objective_metric_name,\n",
        "                            hyperparameter_ranges,\n",
        "                            max_jobs=10, # Set this to 10 or above depending upon budget and available time.\n",
        "                            max_parallel_jobs=1)"
      ]
    },
    {
      "cell_type": "code",
      "execution_count": null,
      "metadata": {
        "id": "QwWGCskGEX0U",
        "outputId": "1ee754dd-0fd1-4dc0-a3ac-fb1c7a626647"
      },
      "outputs": [
        {
          "name": "stdout",
          "output_type": "stream",
          "text": [
            ".........................................................................................................................................................................................................................................................................................................................................................................................................................................................................................................................................................................................................................................................................................................................................................................................................................................................................................................................................................................................................................................................................................................................................................................................................................!\n",
            "!\n"
          ]
        }
      ],
      "source": [
        "tuner.fit(inputs=data_channels)\n",
        "tuner.wait()"
      ]
    },
    {
      "cell_type": "markdown",
      "metadata": {
        "id": "-BopkGPiEX0U"
      },
      "source": [
        "<i class=\"fas fa-exclamation-triangle\" style=\"color:red\"></i> Wait until the training job is finished. It might take 25-30 minutes.\n",
        "\n",
        "**To monitor hyperparameter optimization jobs:**  \n",
        "\n",
        "1. In the AWS Management Console, on the **Services** menu, choose **Amazon SageMaker**.  \n",
        "2. Choose **Training > Hyperparameter tuning jobs**.\n",
        "3. You can check the status of each hyperparameter tuning job, its objective metric value, and its logs.  "
      ]
    },
    {
      "cell_type": "markdown",
      "metadata": {
        "id": "NwwaQC9GEX0U"
      },
      "source": [
        "Check that the job completed successfully."
      ]
    },
    {
      "cell_type": "code",
      "execution_count": null,
      "metadata": {
        "id": "OkdPP1mkEX0U",
        "outputId": "db11f60d-24c1-44f6-e693-7b781a863422"
      },
      "outputs": [
        {
          "data": {
            "text/plain": [
              "'Completed'"
            ]
          },
          "execution_count": 89,
          "metadata": {},
          "output_type": "execute_result"
        }
      ],
      "source": [
        "boto3.client('sagemaker').describe_hyper_parameter_tuning_job(\n",
        "    HyperParameterTuningJobName=tuner.latest_tuning_job.job_name)['HyperParameterTuningJobStatus']"
      ]
    },
    {
      "cell_type": "markdown",
      "metadata": {
        "id": "G6Kd6a5ZEX0U"
      },
      "source": [
        "The hyperparameter tuning job will have a model that worked the best. You can get the information about that model from the tuning job."
      ]
    },
    {
      "cell_type": "code",
      "execution_count": null,
      "metadata": {
        "id": "hCxtVp5EEX0U",
        "outputId": "0adc1455-d6cf-4065-c08b-af1caff771eb"
      },
      "outputs": [
        {
          "name": "stdout",
          "output_type": "stream",
          "text": [
            "tuning job name:sagemaker-xgboost-220422-0841\n",
            "best training job: sagemaker-xgboost-220422-0841-010-a1017181\n",
            "\n",
            "2022-04-22 10:19:29 Starting - Preparing the instances for training\n",
            "2022-04-22 10:19:29 Downloading - Downloading input data\n",
            "2022-04-22 10:19:29 Training - Training image download completed. Training in progress.\n",
            "2022-04-22 10:19:29 Uploading - Uploading generated training model\n",
            "2022-04-22 10:19:29 Completed - Training job completed\n"
          ]
        },
        {
          "data": {
            "text/html": [
              "<div>\n",
              "<style scoped>\n",
              "    .dataframe tbody tr th:only-of-type {\n",
              "        vertical-align: middle;\n",
              "    }\n",
              "\n",
              "    .dataframe tbody tr th {\n",
              "        vertical-align: top;\n",
              "    }\n",
              "\n",
              "    .dataframe thead th {\n",
              "        text-align: right;\n",
              "    }\n",
              "</style>\n",
              "<table border=\"1\" class=\"dataframe\">\n",
              "  <thead>\n",
              "    <tr style=\"text-align: right;\">\n",
              "      <th></th>\n",
              "      <th>alpha</th>\n",
              "      <th>eta</th>\n",
              "      <th>min_child_weight</th>\n",
              "      <th>num_round</th>\n",
              "      <th>subsample</th>\n",
              "      <th>TrainingJobName</th>\n",
              "      <th>TrainingJobStatus</th>\n",
              "      <th>FinalObjectiveValue</th>\n",
              "      <th>TrainingStartTime</th>\n",
              "      <th>TrainingEndTime</th>\n",
              "      <th>TrainingElapsedTimeSeconds</th>\n",
              "    </tr>\n",
              "  </thead>\n",
              "  <tbody>\n",
              "    <tr>\n",
              "      <th>0</th>\n",
              "      <td>1.202183</td>\n",
              "      <td>0.419177</td>\n",
              "      <td>9.193285</td>\n",
              "      <td>146.0</td>\n",
              "      <td>0.757555</td>\n",
              "      <td>sagemaker-xgboost-220422-0841-010-a1017181</td>\n",
              "      <td>Completed</td>\n",
              "      <td>0.75031</td>\n",
              "      <td>2022-04-22 10:09:25+00:00</td>\n",
              "      <td>2022-04-22 10:19:29+00:00</td>\n",
              "      <td>604.0</td>\n",
              "    </tr>\n",
              "    <tr>\n",
              "      <th>1</th>\n",
              "      <td>0.000000</td>\n",
              "      <td>0.393681</td>\n",
              "      <td>6.758119</td>\n",
              "      <td>136.0</td>\n",
              "      <td>0.950548</td>\n",
              "      <td>sagemaker-xgboost-220422-0841-009-47dbd757</td>\n",
              "      <td>Completed</td>\n",
              "      <td>0.74971</td>\n",
              "      <td>2022-04-22 09:56:49+00:00</td>\n",
              "      <td>2022-04-22 10:05:38+00:00</td>\n",
              "      <td>529.0</td>\n",
              "    </tr>\n",
              "    <tr>\n",
              "      <th>2</th>\n",
              "      <td>42.889195</td>\n",
              "      <td>0.369202</td>\n",
              "      <td>4.492433</td>\n",
              "      <td>100.0</td>\n",
              "      <td>0.972979</td>\n",
              "      <td>sagemaker-xgboost-220422-0841-008-ca4620d3</td>\n",
              "      <td>Completed</td>\n",
              "      <td>0.74167</td>\n",
              "      <td>2022-04-22 09:46:48+00:00</td>\n",
              "      <td>2022-04-22 09:54:28+00:00</td>\n",
              "      <td>460.0</td>\n",
              "    </tr>\n",
              "    <tr>\n",
              "      <th>3</th>\n",
              "      <td>337.383824</td>\n",
              "      <td>0.473564</td>\n",
              "      <td>8.494310</td>\n",
              "      <td>86.0</td>\n",
              "      <td>0.834294</td>\n",
              "      <td>sagemaker-xgboost-220422-0841-007-09efc4f2</td>\n",
              "      <td>Completed</td>\n",
              "      <td>0.72515</td>\n",
              "      <td>2022-04-22 09:36:40+00:00</td>\n",
              "      <td>2022-04-22 09:44:19+00:00</td>\n",
              "      <td>459.0</td>\n",
              "    </tr>\n",
              "    <tr>\n",
              "      <th>4</th>\n",
              "      <td>430.397512</td>\n",
              "      <td>0.410619</td>\n",
              "      <td>9.351624</td>\n",
              "      <td>123.0</td>\n",
              "      <td>0.875566</td>\n",
              "      <td>sagemaker-xgboost-220422-0841-006-27946290</td>\n",
              "      <td>Completed</td>\n",
              "      <td>0.72431</td>\n",
              "      <td>2022-04-22 09:24:38+00:00</td>\n",
              "      <td>2022-04-22 09:32:47+00:00</td>\n",
              "      <td>489.0</td>\n",
              "    </tr>\n",
              "  </tbody>\n",
              "</table>\n",
              "</div>"
            ],
            "text/plain": [
              "        alpha       eta  min_child_weight  num_round  subsample  \\\n",
              "0    1.202183  0.419177          9.193285      146.0   0.757555   \n",
              "1    0.000000  0.393681          6.758119      136.0   0.950548   \n",
              "2   42.889195  0.369202          4.492433      100.0   0.972979   \n",
              "3  337.383824  0.473564          8.494310       86.0   0.834294   \n",
              "4  430.397512  0.410619          9.351624      123.0   0.875566   \n",
              "\n",
              "                              TrainingJobName TrainingJobStatus  \\\n",
              "0  sagemaker-xgboost-220422-0841-010-a1017181         Completed   \n",
              "1  sagemaker-xgboost-220422-0841-009-47dbd757         Completed   \n",
              "2  sagemaker-xgboost-220422-0841-008-ca4620d3         Completed   \n",
              "3  sagemaker-xgboost-220422-0841-007-09efc4f2         Completed   \n",
              "4  sagemaker-xgboost-220422-0841-006-27946290         Completed   \n",
              "\n",
              "   FinalObjectiveValue         TrainingStartTime           TrainingEndTime  \\\n",
              "0              0.75031 2022-04-22 10:09:25+00:00 2022-04-22 10:19:29+00:00   \n",
              "1              0.74971 2022-04-22 09:56:49+00:00 2022-04-22 10:05:38+00:00   \n",
              "2              0.74167 2022-04-22 09:46:48+00:00 2022-04-22 09:54:28+00:00   \n",
              "3              0.72515 2022-04-22 09:36:40+00:00 2022-04-22 09:44:19+00:00   \n",
              "4              0.72431 2022-04-22 09:24:38+00:00 2022-04-22 09:32:47+00:00   \n",
              "\n",
              "   TrainingElapsedTimeSeconds  \n",
              "0                       604.0  \n",
              "1                       529.0  \n",
              "2                       460.0  \n",
              "3                       459.0  \n",
              "4                       489.0  "
            ]
          },
          "execution_count": 90,
          "metadata": {},
          "output_type": "execute_result"
        }
      ],
      "source": [
        "sage_client = boto3.Session().client('sagemaker')\n",
        "tuning_job_name = tuner.latest_tuning_job.job_name\n",
        "print(f'tuning job name:{tuning_job_name}')\n",
        "tuning_job_result = sage_client.describe_hyper_parameter_tuning_job(HyperParameterTuningJobName=tuning_job_name)\n",
        "best_training_job = tuning_job_result['BestTrainingJob']\n",
        "best_training_job_name = best_training_job['TrainingJobName']\n",
        "print(f\"best training job: {best_training_job_name}\")\n",
        "\n",
        "best_estimator = tuner.best_estimator()\n",
        "\n",
        "tuner_df = sagemaker.HyperparameterTuningJobAnalytics(tuning_job_name).dataframe()\n",
        "tuner_df.head()"
      ]
    },
    {
      "cell_type": "markdown",
      "metadata": {
        "id": "fR0PSU8xEX0U"
      },
      "source": [
        "Use the estimator `best_estimator` and train it by using the data. \n",
        "\n",
        "**Tip:** See the previous XGBoost estimator fit function."
      ]
    },
    {
      "cell_type": "code",
      "execution_count": null,
      "metadata": {
        "id": "ZVuzviNCEX0U",
        "outputId": "9e31c97a-a0d3-4ce2-b7f5-b3054f7fbdf4"
      },
      "outputs": [
        {
          "name": "stdout",
          "output_type": "stream",
          "text": [
            "2022-04-22 10:21:42 Starting - Starting the training job...\n",
            "2022-04-22 10:22:08 Starting - Preparing the instances for trainingProfilerReport-1650622901: InProgress\n",
            "............\n",
            "2022-04-22 10:23:59 Downloading - Downloading input data...\n",
            "2022-04-22 10:24:39 Training - Downloading the training image.....\u001b[34mINFO:sagemaker-containers:Imported framework sagemaker_xgboost_container.training\u001b[0m\n",
            "\u001b[34mINFO:sagemaker-containers:Failed to parse hyperparameter _tuning_objective_metric value validation:auc to Json.\u001b[0m\n",
            "\u001b[34mReturning the value itself\u001b[0m\n",
            "\u001b[34mINFO:sagemaker-containers:Failed to parse hyperparameter eval_metric value auc to Json.\u001b[0m\n",
            "\u001b[34mReturning the value itself\u001b[0m\n",
            "\u001b[34mINFO:sagemaker-containers:Failed to parse hyperparameter objective value binary:logistic to Json.\u001b[0m\n",
            "\u001b[34mReturning the value itself\u001b[0m\n",
            "\u001b[34mINFO:sagemaker-containers:No GPUs detected (normal if no gpus installed)\u001b[0m\n",
            "\u001b[34mINFO:sagemaker_xgboost_container.training:Running XGBoost Sagemaker in algorithm mode\u001b[0m\n",
            "\u001b[34mINFO:root:Determined delimiter of CSV input is ','\u001b[0m\n",
            "\u001b[34mINFO:root:Determined delimiter of CSV input is ','\u001b[0m\n",
            "\u001b[34mINFO:root:Determined delimiter of CSV input is ','\u001b[0m\n",
            "\u001b[34m[10:25:27] 1308472x85 matrix with 111220120 entries loaded from /opt/ml/input/data/train?format=csv&label_column=0&delimiter=,\u001b[0m\n",
            "\u001b[34mINFO:root:Determined delimiter of CSV input is ','\u001b[0m\n",
            "\n",
            "2022-04-22 10:25:40 Training - Training image download completed. Training in progress.\u001b[34m[10:25:28] 163559x85 matrix with 13902515 entries loaded from /opt/ml/input/data/validation?format=csv&label_column=0&delimiter=,\u001b[0m\n",
            "\u001b[34mINFO:root:Single node training.\u001b[0m\n",
            "\u001b[34mINFO:root:Setting up HPO optimized metric to be : auc\u001b[0m\n",
            "\u001b[34mINFO:root:Train matrix has 1308472 rows\u001b[0m\n",
            "\u001b[34mINFO:root:Validation matrix has 163559 rows\u001b[0m\n",
            "\u001b[34m[0]#011train-auc:0.66239#011validation-auc:0.66143\u001b[0m\n",
            "\u001b[34m[1]#011train-auc:0.67858#011validation-auc:0.67707\u001b[0m\n",
            "\u001b[34m[2]#011train-auc:0.68281#011validation-auc:0.68141\u001b[0m\n",
            "\u001b[34m[3]#011train-auc:0.68828#011validation-auc:0.68673\u001b[0m\n",
            "\u001b[34m[4]#011train-auc:0.69291#011validation-auc:0.69133\u001b[0m\n",
            "\u001b[34m[5]#011train-auc:0.69732#011validation-auc:0.69563\u001b[0m\n",
            "\u001b[34m[6]#011train-auc:0.70279#011validation-auc:0.70100\u001b[0m\n",
            "\u001b[34m[7]#011train-auc:0.70481#011validation-auc:0.70301\u001b[0m\n",
            "\u001b[34m[8]#011train-auc:0.70714#011validation-auc:0.70515\u001b[0m\n",
            "\u001b[34m[9]#011train-auc:0.70970#011validation-auc:0.70759\u001b[0m\n",
            "\u001b[34m[10]#011train-auc:0.71129#011validation-auc:0.70898\u001b[0m\n",
            "\u001b[34m[11]#011train-auc:0.71271#011validation-auc:0.71023\u001b[0m\n",
            "\u001b[34m[12]#011train-auc:0.71453#011validation-auc:0.71205\u001b[0m\n",
            "\u001b[34m[13]#011train-auc:0.71693#011validation-auc:0.71415\u001b[0m\n",
            "\u001b[34m[14]#011train-auc:0.71857#011validation-auc:0.71579\u001b[0m\n",
            "\u001b[34m[15]#011train-auc:0.72135#011validation-auc:0.71824\u001b[0m\n",
            "\u001b[34m[16]#011train-auc:0.72232#011validation-auc:0.71915\u001b[0m\n",
            "\u001b[34m[17]#011train-auc:0.72295#011validation-auc:0.71961\u001b[0m\n",
            "\u001b[34m[18]#011train-auc:0.72402#011validation-auc:0.72058\u001b[0m\n",
            "\u001b[34m[19]#011train-auc:0.72522#011validation-auc:0.72147\u001b[0m\n",
            "\u001b[34m[20]#011train-auc:0.72659#011validation-auc:0.72256\u001b[0m\n",
            "\u001b[34m[21]#011train-auc:0.72742#011validation-auc:0.72312\u001b[0m\n",
            "\u001b[34m[22]#011train-auc:0.72855#011validation-auc:0.72423\u001b[0m\n",
            "\u001b[34m[23]#011train-auc:0.72928#011validation-auc:0.72484\u001b[0m\n",
            "\u001b[34m[24]#011train-auc:0.73008#011validation-auc:0.72560\u001b[0m\n",
            "\u001b[34m[25]#011train-auc:0.73076#011validation-auc:0.72626\u001b[0m\n",
            "\u001b[34m[26]#011train-auc:0.73131#011validation-auc:0.72682\u001b[0m\n",
            "\u001b[34m[27]#011train-auc:0.73201#011validation-auc:0.72735\u001b[0m\n",
            "\u001b[34m[28]#011train-auc:0.73267#011validation-auc:0.72799\u001b[0m\n",
            "\u001b[34m[29]#011train-auc:0.73338#011validation-auc:0.72864\u001b[0m\n",
            "\u001b[34m[30]#011train-auc:0.73402#011validation-auc:0.72910\u001b[0m\n",
            "\u001b[34m[31]#011train-auc:0.73444#011validation-auc:0.72938\u001b[0m\n",
            "\u001b[34m[32]#011train-auc:0.73535#011validation-auc:0.73012\u001b[0m\n",
            "\u001b[34m[33]#011train-auc:0.73591#011validation-auc:0.73052\u001b[0m\n",
            "\u001b[34m[34]#011train-auc:0.73618#011validation-auc:0.73069\u001b[0m\n",
            "\u001b[34m[35]#011train-auc:0.73709#011validation-auc:0.73153\u001b[0m\n",
            "\u001b[34m[36]#011train-auc:0.73777#011validation-auc:0.73213\u001b[0m\n",
            "\u001b[34m[37]#011train-auc:0.73838#011validation-auc:0.73269\u001b[0m\n",
            "\u001b[34m[38]#011train-auc:0.73891#011validation-auc:0.73318\u001b[0m\n",
            "\u001b[34m[39]#011train-auc:0.73922#011validation-auc:0.73350\u001b[0m\n",
            "\u001b[34m[40]#011train-auc:0.73944#011validation-auc:0.73364\u001b[0m\n",
            "\u001b[34m[41]#011train-auc:0.73985#011validation-auc:0.73405\u001b[0m\n",
            "\u001b[34m[42]#011train-auc:0.74019#011validation-auc:0.73422\u001b[0m\n",
            "\u001b[34m[43]#011train-auc:0.74036#011validation-auc:0.73431\u001b[0m\n",
            "\u001b[34m[44]#011train-auc:0.74081#011validation-auc:0.73469\u001b[0m\n",
            "\u001b[34m[45]#011train-auc:0.74134#011validation-auc:0.73503\u001b[0m\n",
            "\u001b[34m[46]#011train-auc:0.74165#011validation-auc:0.73528\u001b[0m\n",
            "\u001b[34m[47]#011train-auc:0.74175#011validation-auc:0.73534\u001b[0m\n",
            "\u001b[34m[48]#011train-auc:0.74252#011validation-auc:0.73598\u001b[0m\n",
            "\u001b[34m[49]#011train-auc:0.74313#011validation-auc:0.73650\u001b[0m\n",
            "\u001b[34m[50]#011train-auc:0.74365#011validation-auc:0.73688\u001b[0m\n",
            "\u001b[34m[51]#011train-auc:0.74412#011validation-auc:0.73720\u001b[0m\n",
            "\u001b[34m[52]#011train-auc:0.74419#011validation-auc:0.73723\u001b[0m\n",
            "\u001b[34m[53]#011train-auc:0.74443#011validation-auc:0.73738\u001b[0m\n",
            "\u001b[34m[54]#011train-auc:0.74495#011validation-auc:0.73790\u001b[0m\n",
            "\u001b[34m[55]#011train-auc:0.74542#011validation-auc:0.73821\u001b[0m\n",
            "\u001b[34m[56]#011train-auc:0.74566#011validation-auc:0.73836\u001b[0m\n",
            "\u001b[34m[57]#011train-auc:0.74580#011validation-auc:0.73853\u001b[0m\n",
            "\u001b[34m[58]#011train-auc:0.74624#011validation-auc:0.73880\u001b[0m\n",
            "\u001b[34m[59]#011train-auc:0.74658#011validation-auc:0.73903\u001b[0m\n",
            "\u001b[34m[60]#011train-auc:0.74716#011validation-auc:0.73951\u001b[0m\n",
            "\u001b[34m[61]#011train-auc:0.74744#011validation-auc:0.73963\u001b[0m\n",
            "\u001b[34m[62]#011train-auc:0.74796#011validation-auc:0.74005\u001b[0m\n",
            "\u001b[34m[63]#011train-auc:0.74841#011validation-auc:0.74036\u001b[0m\n",
            "\u001b[34m[64]#011train-auc:0.74874#011validation-auc:0.74072\u001b[0m\n",
            "\u001b[34m[65]#011train-auc:0.74889#011validation-auc:0.74082\u001b[0m\n",
            "\u001b[34m[66]#011train-auc:0.74895#011validation-auc:0.74087\u001b[0m\n",
            "\u001b[34m[67]#011train-auc:0.74934#011validation-auc:0.74112\u001b[0m\n",
            "\u001b[34m[68]#011train-auc:0.74970#011validation-auc:0.74137\u001b[0m\n",
            "\u001b[34m[69]#011train-auc:0.75014#011validation-auc:0.74180\u001b[0m\n",
            "\u001b[34m[70]#011train-auc:0.75045#011validation-auc:0.74204\u001b[0m\n",
            "\u001b[34m[71]#011train-auc:0.75074#011validation-auc:0.74211\u001b[0m\n",
            "\u001b[34m[72]#011train-auc:0.75097#011validation-auc:0.74237\u001b[0m\n",
            "\u001b[34m[73]#011train-auc:0.75133#011validation-auc:0.74251\u001b[0m\n",
            "\u001b[34m[74]#011train-auc:0.75147#011validation-auc:0.74262\u001b[0m\n",
            "\u001b[34m[75]#011train-auc:0.75154#011validation-auc:0.74270\u001b[0m\n",
            "\u001b[34m[76]#011train-auc:0.75198#011validation-auc:0.74302\u001b[0m\n",
            "\u001b[34m[77]#011train-auc:0.75212#011validation-auc:0.74308\u001b[0m\n",
            "\u001b[34m[78]#011train-auc:0.75241#011validation-auc:0.74330\u001b[0m\n",
            "\u001b[34m[79]#011train-auc:0.75261#011validation-auc:0.74339\u001b[0m\n",
            "\u001b[34m[80]#011train-auc:0.75297#011validation-auc:0.74358\u001b[0m\n",
            "\u001b[34m[81]#011train-auc:0.75329#011validation-auc:0.74375\u001b[0m\n",
            "\u001b[34m[82]#011train-auc:0.75348#011validation-auc:0.74383\u001b[0m\n",
            "\u001b[34m[83]#011train-auc:0.75359#011validation-auc:0.74383\u001b[0m\n",
            "\u001b[34m[84]#011train-auc:0.75386#011validation-auc:0.74398\u001b[0m\n",
            "\u001b[34m[85]#011train-auc:0.75416#011validation-auc:0.74413\u001b[0m\n",
            "\u001b[34m[86]#011train-auc:0.75437#011validation-auc:0.74430\u001b[0m\n",
            "\u001b[34m[87]#011train-auc:0.75470#011validation-auc:0.74453\u001b[0m\n",
            "\u001b[34m[88]#011train-auc:0.75484#011validation-auc:0.74458\u001b[0m\n",
            "\u001b[34m[89]#011train-auc:0.75514#011validation-auc:0.74478\u001b[0m\n",
            "\u001b[34m[90]#011train-auc:0.75544#011validation-auc:0.74497\u001b[0m\n",
            "\u001b[34m[91]#011train-auc:0.75563#011validation-auc:0.74516\u001b[0m\n",
            "\u001b[34m[92]#011train-auc:0.75579#011validation-auc:0.74517\u001b[0m\n",
            "\u001b[34m[93]#011train-auc:0.75593#011validation-auc:0.74528\u001b[0m\n",
            "\u001b[34m[94]#011train-auc:0.75602#011validation-auc:0.74535\u001b[0m\n",
            "\u001b[34m[95]#011train-auc:0.75625#011validation-auc:0.74555\u001b[0m\n",
            "\u001b[34m[96]#011train-auc:0.75639#011validation-auc:0.74561\u001b[0m\n",
            "\u001b[34m[97]#011train-auc:0.75671#011validation-auc:0.74585\u001b[0m\n",
            "\u001b[34m[98]#011train-auc:0.75683#011validation-auc:0.74590\u001b[0m\n",
            "\u001b[34m[99]#011train-auc:0.75717#011validation-auc:0.74600\u001b[0m\n",
            "\u001b[34m[100]#011train-auc:0.75746#011validation-auc:0.74623\u001b[0m\n",
            "\u001b[34m[101]#011train-auc:0.75766#011validation-auc:0.74635\u001b[0m\n",
            "\u001b[34m[102]#011train-auc:0.75782#011validation-auc:0.74648\u001b[0m\n",
            "\u001b[34m[103]#011train-auc:0.75804#011validation-auc:0.74658\u001b[0m\n",
            "\u001b[34m[104]#011train-auc:0.75820#011validation-auc:0.74663\u001b[0m\n",
            "\u001b[34m[105]#011train-auc:0.75835#011validation-auc:0.74669\u001b[0m\n",
            "\u001b[34m[106]#011train-auc:0.75848#011validation-auc:0.74676\u001b[0m\n",
            "\u001b[34m[107]#011train-auc:0.75871#011validation-auc:0.74691\u001b[0m\n",
            "\u001b[34m[108]#011train-auc:0.75883#011validation-auc:0.74698\u001b[0m\n",
            "\u001b[34m[109]#011train-auc:0.75905#011validation-auc:0.74707\u001b[0m\n",
            "\u001b[34m[110]#011train-auc:0.75925#011validation-auc:0.74711\u001b[0m\n",
            "\u001b[34m[111]#011train-auc:0.75959#011validation-auc:0.74733\u001b[0m\n",
            "\u001b[34m[112]#011train-auc:0.75977#011validation-auc:0.74730\u001b[0m\n",
            "\u001b[34m[113]#011train-auc:0.76002#011validation-auc:0.74747\u001b[0m\n",
            "\u001b[34m[114]#011train-auc:0.76013#011validation-auc:0.74751\u001b[0m\n",
            "\u001b[34m[115]#011train-auc:0.76030#011validation-auc:0.74755\u001b[0m\n",
            "\u001b[34m[116]#011train-auc:0.76046#011validation-auc:0.74765\u001b[0m\n",
            "\u001b[34m[117]#011train-auc:0.76067#011validation-auc:0.74768\u001b[0m\n",
            "\u001b[34m[118]#011train-auc:0.76082#011validation-auc:0.74780\u001b[0m\n",
            "\u001b[34m[119]#011train-auc:0.76095#011validation-auc:0.74784\u001b[0m\n",
            "\u001b[34m[120]#011train-auc:0.76123#011validation-auc:0.74803\u001b[0m\n",
            "\u001b[34m[121]#011train-auc:0.76146#011validation-auc:0.74815\u001b[0m\n",
            "\u001b[34m[122]#011train-auc:0.76163#011validation-auc:0.74825\u001b[0m\n",
            "\u001b[34m[123]#011train-auc:0.76183#011validation-auc:0.74832\u001b[0m\n",
            "\u001b[34m[124]#011train-auc:0.76199#011validation-auc:0.74845\u001b[0m\n",
            "\u001b[34m[125]#011train-auc:0.76219#011validation-auc:0.74851\u001b[0m\n",
            "\u001b[34m[126]#011train-auc:0.76240#011validation-auc:0.74861\u001b[0m\n",
            "\u001b[34m[127]#011train-auc:0.76259#011validation-auc:0.74876\u001b[0m\n",
            "\u001b[34m[128]#011train-auc:0.76284#011validation-auc:0.74899\u001b[0m\n",
            "\u001b[34m[129]#011train-auc:0.76309#011validation-auc:0.74907\u001b[0m\n",
            "\u001b[34m[130]#011train-auc:0.76331#011validation-auc:0.74923\u001b[0m\n",
            "\u001b[34m[131]#011train-auc:0.76355#011validation-auc:0.74928\u001b[0m\n",
            "\u001b[34m[132]#011train-auc:0.76370#011validation-auc:0.74938\u001b[0m\n",
            "\u001b[34m[133]#011train-auc:0.76375#011validation-auc:0.74942\u001b[0m\n",
            "\u001b[34m[134]#011train-auc:0.76401#011validation-auc:0.74955\u001b[0m\n",
            "\u001b[34m[135]#011train-auc:0.76411#011validation-auc:0.74961\u001b[0m\n",
            "\u001b[34m[136]#011train-auc:0.76439#011validation-auc:0.74976\u001b[0m\n",
            "\u001b[34m[137]#011train-auc:0.76450#011validation-auc:0.74982\u001b[0m\n",
            "\u001b[34m[138]#011train-auc:0.76459#011validation-auc:0.74986\u001b[0m\n",
            "\u001b[34m[139]#011train-auc:0.76465#011validation-auc:0.74988\u001b[0m\n",
            "\u001b[34m[140]#011train-auc:0.76475#011validation-auc:0.74991\u001b[0m\n",
            "\u001b[34m[141]#011train-auc:0.76496#011validation-auc:0.74998\u001b[0m\n",
            "\u001b[34m[142]#011train-auc:0.76524#011validation-auc:0.75016\u001b[0m\n",
            "\u001b[34m[143]#011train-auc:0.76537#011validation-auc:0.75021\u001b[0m\n",
            "\u001b[34m[144]#011train-auc:0.76551#011validation-auc:0.75030\u001b[0m\n",
            "\u001b[34m[145]#011train-auc:0.76558#011validation-auc:0.75031\u001b[0m\n",
            "\n",
            "2022-04-22 10:33:49 Uploading - Uploading generated training model\n",
            "2022-04-22 10:34:02 Completed - Training job completed\n",
            "ProfilerReport-1650622901: NoIssuesFound\n",
            "Training seconds: 614\n",
            "Billable seconds: 614\n"
          ]
        }
      ],
      "source": [
        "# Enter your code here'\n",
        "best_estimator.fit(inputs=data_channels)"
      ]
    },
    {
      "cell_type": "markdown",
      "metadata": {
        "id": "bwK0CSttEX0V"
      },
      "source": [
        "Use the batch transformer for your new model, and evaluate the model on the test dataset."
      ]
    },
    {
      "cell_type": "code",
      "execution_count": null,
      "metadata": {
        "id": "n15QSU9gEX0V",
        "outputId": "b4cca46a-4a3e-481c-e013-80e7e620c7f1"
      },
      "outputs": [
        {
          "name": "stdout",
          "output_type": "stream",
          "text": [
            "...................................\u001b[34m[2022-04-22:10:40:31:INFO] No GPUs detected (normal if no gpus installed)\u001b[0m\n",
            "\u001b[34m[2022-04-22:10:40:31:INFO] No GPUs detected (normal if no gpus installed)\u001b[0m\n",
            "\u001b[34m[2022-04-22:10:40:31:INFO] nginx config: \u001b[0m\n",
            "\u001b[34mworker_processes auto;\u001b[0m\n",
            "\u001b[34mdaemon off;\u001b[0m\n",
            "\u001b[34mpid /tmp/nginx.pid;\u001b[0m\n",
            "\u001b[34merror_log  /dev/stderr;\u001b[0m\n",
            "\u001b[34mworker_rlimit_nofile 4096;\u001b[0m\n",
            "\u001b[34mevents {\n",
            "  worker_connections 2048;\u001b[0m\n",
            "\u001b[34m}\u001b[0m\n",
            "\u001b[34mhttp {\n",
            "  include /etc/nginx/mime.types;\n",
            "  default_type application/octet-stream;\n",
            "  access_log /dev/stdout combined;\n",
            "  upstream gunicorn {\n",
            "    server unix:/tmp/gunicorn.sock;\n",
            "  }\n",
            "  server {\n",
            "    listen 8080 deferred;\n",
            "    client_max_body_size 0;\n",
            "    keepalive_timeout 3;\n",
            "    location ~ ^/(ping|invocations|execution-parameters) {\n",
            "      proxy_set_header X-Forwarded-For $proxy_add_x_forwarded_for;\n",
            "      proxy_set_header Host $http_host;\n",
            "      proxy_redirect off;\n",
            "      proxy_read_timeout 60s;\n",
            "      proxy_pass http://gunicorn;\n",
            "    }\n",
            "    location / {\n",
            "      return 404 \"{}\";\n",
            "    }\n",
            "  }\u001b[0m\n",
            "\u001b[34m}\u001b[0m\n",
            "\u001b[34m[2022-04-22 10:40:31 +0000] [18] [INFO] Starting gunicorn 19.10.0\u001b[0m\n",
            "\u001b[34m[2022-04-22 10:40:31 +0000] [18] [INFO] Listening at: unix:/tmp/gunicorn.sock (18)\u001b[0m\n",
            "\u001b[34m[2022-04-22 10:40:31 +0000] [18] [INFO] Using worker: gevent\u001b[0m\n",
            "\u001b[34m[2022-04-22 10:40:31 +0000] [25] [INFO] Booting worker with pid: 25\u001b[0m\n",
            "\u001b[34m[2022-04-22 10:40:31 +0000] [26] [INFO] Booting worker with pid: 26\u001b[0m\n",
            "\u001b[34m[2022-04-22 10:40:31 +0000] [27] [INFO] Booting worker with pid: 27\u001b[0m\n",
            "\u001b[34m[2022-04-22 10:40:31 +0000] [31] [INFO] Booting worker with pid: 31\u001b[0m\n",
            "\n",
            "\u001b[34m[2022-04-22:10:40:37:INFO] No GPUs detected (normal if no gpus installed)\u001b[0m\n",
            "\u001b[34m169.254.255.130 - - [22/Apr/2022:10:40:37 +0000] \"GET /ping HTTP/1.1\" 200 0 \"-\" \"Go-http-client/1.1\"\u001b[0m\n",
            "\u001b[34m169.254.255.130 - - [22/Apr/2022:10:40:37 +0000] \"GET /execution-parameters HTTP/1.1\" 200 84 \"-\" \"Go-http-client/1.1\"\u001b[0m\n",
            "\u001b[35m[2022-04-22:10:40:37:INFO] No GPUs detected (normal if no gpus installed)\u001b[0m\n",
            "\u001b[35m169.254.255.130 - - [22/Apr/2022:10:40:37 +0000] \"GET /ping HTTP/1.1\" 200 0 \"-\" \"Go-http-client/1.1\"\u001b[0m\n",
            "\u001b[35m169.254.255.130 - - [22/Apr/2022:10:40:37 +0000] \"GET /execution-parameters HTTP/1.1\" 200 84 \"-\" \"Go-http-client/1.1\"\u001b[0m\n",
            "\u001b[34m[2022-04-22:10:40:38:INFO] No GPUs detected (normal if no gpus installed)\u001b[0m\n",
            "\u001b[34m[2022-04-22:10:40:38:INFO] No GPUs detected (normal if no gpus installed)\u001b[0m\n",
            "\u001b[34m[2022-04-22:10:40:38:INFO] Determined delimiter of CSV input is ','\u001b[0m\n",
            "\u001b[34m[2022-04-22:10:40:38:INFO] Determined delimiter of CSV input is ','\u001b[0m\n",
            "\u001b[34m[2022-04-22:10:40:38:INFO] No GPUs detected (normal if no gpus installed)\u001b[0m\n",
            "\u001b[34m[2022-04-22:10:40:39:INFO] Determined delimiter of CSV input is ','\u001b[0m\n",
            "\u001b[34m[2022-04-22:10:40:39:INFO] Determined delimiter of CSV input is ','\u001b[0m\n",
            "\u001b[35m[2022-04-22:10:40:38:INFO] No GPUs detected (normal if no gpus installed)\u001b[0m\n",
            "\u001b[35m[2022-04-22:10:40:38:INFO] No GPUs detected (normal if no gpus installed)\u001b[0m\n",
            "\u001b[35m[2022-04-22:10:40:38:INFO] Determined delimiter of CSV input is ','\u001b[0m\n",
            "\u001b[35m[2022-04-22:10:40:38:INFO] Determined delimiter of CSV input is ','\u001b[0m\n",
            "\u001b[35m[2022-04-22:10:40:38:INFO] No GPUs detected (normal if no gpus installed)\u001b[0m\n",
            "\u001b[35m[2022-04-22:10:40:39:INFO] Determined delimiter of CSV input is ','\u001b[0m\n",
            "\u001b[35m[2022-04-22:10:40:39:INFO] Determined delimiter of CSV input is ','\u001b[0m\n",
            "\u001b[32m2022-04-22T10:40:37.532:[sagemaker logs]: MaxConcurrentTransforms=4, MaxPayloadInMB=6, BatchStrategy=MULTI_RECORD\u001b[0m\n",
            "\u001b[34m169.254.255.130 - - [22/Apr/2022:10:40:42 +0000] \"POST /invocations HTTP/1.1\" 200 653274 \"-\" \"Go-http-client/1.1\"\u001b[0m\n",
            "\u001b[35m169.254.255.130 - - [22/Apr/2022:10:40:42 +0000] \"POST /invocations HTTP/1.1\" 200 653274 \"-\" \"Go-http-client/1.1\"\u001b[0m\n",
            "\u001b[34m169.254.255.130 - - [22/Apr/2022:10:40:42 +0000] \"POST /invocations HTTP/1.1\" 200 653289 \"-\" \"Go-http-client/1.1\"\u001b[0m\n",
            "\u001b[34m169.254.255.130 - - [22/Apr/2022:10:40:42 +0000] \"POST /invocations HTTP/1.1\" 200 653452 \"-\" \"Go-http-client/1.1\"\u001b[0m\n",
            "\u001b[34m169.254.255.130 - - [22/Apr/2022:10:40:42 +0000] \"POST /invocations HTTP/1.1\" 200 653273 \"-\" \"Go-http-client/1.1\"\u001b[0m\n",
            "\u001b[34m[2022-04-22:10:40:42:INFO] Determined delimiter of CSV input is ','\u001b[0m\n",
            "\u001b[35m169.254.255.130 - - [22/Apr/2022:10:40:42 +0000] \"POST /invocations HTTP/1.1\" 200 653289 \"-\" \"Go-http-client/1.1\"\u001b[0m\n",
            "\u001b[35m169.254.255.130 - - [22/Apr/2022:10:40:42 +0000] \"POST /invocations HTTP/1.1\" 200 653452 \"-\" \"Go-http-client/1.1\"\u001b[0m\n",
            "\u001b[35m169.254.255.130 - - [22/Apr/2022:10:40:42 +0000] \"POST /invocations HTTP/1.1\" 200 653273 \"-\" \"Go-http-client/1.1\"\u001b[0m\n",
            "\u001b[35m[2022-04-22:10:40:42:INFO] Determined delimiter of CSV input is ','\u001b[0m\n",
            "\u001b[34m169.254.255.130 - - [22/Apr/2022:10:40:44 +0000] \"POST /invocations HTTP/1.1\" 200 603125 \"-\" \"Go-http-client/1.1\"\u001b[0m\n",
            "\u001b[35m169.254.255.130 - - [22/Apr/2022:10:40:44 +0000] \"POST /invocations HTTP/1.1\" 200 603125 \"-\" \"Go-http-client/1.1\"\u001b[0m\n",
            "\u001b[34m[2022-04-22:10:40:31:INFO] No GPUs detected (normal if no gpus installed)\u001b[0m\n",
            "\u001b[35m[2022-04-22:10:40:31:INFO] No GPUs detected (normal if no gpus installed)\u001b[0m\n",
            "\u001b[34m[2022-04-22:10:40:31:INFO] No GPUs detected (normal if no gpus installed)\u001b[0m\n",
            "\u001b[34m[2022-04-22:10:40:31:INFO] nginx config: \u001b[0m\n",
            "\u001b[34mworker_processes auto;\u001b[0m\n",
            "\u001b[34mdaemon off;\u001b[0m\n",
            "\u001b[34mpid /tmp/nginx.pid;\u001b[0m\n",
            "\u001b[34merror_log  /dev/stderr;\u001b[0m\n",
            "\u001b[34mworker_rlimit_nofile 4096;\u001b[0m\n",
            "\u001b[34mevents {\n",
            "  worker_connections 2048;\u001b[0m\n",
            "\u001b[34m}\u001b[0m\n",
            "\u001b[35m[2022-04-22:10:40:31:INFO] No GPUs detected (normal if no gpus installed)\u001b[0m\n",
            "\u001b[35m[2022-04-22:10:40:31:INFO] nginx config: \u001b[0m\n",
            "\u001b[35mworker_processes auto;\u001b[0m\n",
            "\u001b[35mdaemon off;\u001b[0m\n",
            "\u001b[35mpid /tmp/nginx.pid;\u001b[0m\n",
            "\u001b[35merror_log  /dev/stderr;\u001b[0m\n",
            "\u001b[35mworker_rlimit_nofile 4096;\u001b[0m\n",
            "\u001b[35mevents {\n",
            "  worker_connections 2048;\u001b[0m\n",
            "\u001b[35m}\u001b[0m\n",
            "\u001b[34mhttp {\n",
            "  include /etc/nginx/mime.types;\n",
            "  default_type application/octet-stream;\n",
            "  access_log /dev/stdout combined;\n",
            "  upstream gunicorn {\n",
            "    server unix:/tmp/gunicorn.sock;\n",
            "  }\n",
            "  server {\n",
            "    listen 8080 deferred;\n",
            "    client_max_body_size 0;\n",
            "    keepalive_timeout 3;\n",
            "    location ~ ^/(ping|invocations|execution-parameters) {\n",
            "      proxy_set_header X-Forwarded-For $proxy_add_x_forwarded_for;\n",
            "      proxy_set_header Host $http_host;\n",
            "      proxy_redirect off;\n",
            "      proxy_read_timeout 60s;\n",
            "      proxy_pass http://gunicorn;\n",
            "    }\n",
            "    location / {\n",
            "      return 404 \"{}\";\n",
            "    }\n",
            "  }\u001b[0m\n",
            "\u001b[34m}\u001b[0m\n",
            "\u001b[34m[2022-04-22 10:40:31 +0000] [18] [INFO] Starting gunicorn 19.10.0\u001b[0m\n",
            "\u001b[34m[2022-04-22 10:40:31 +0000] [18] [INFO] Listening at: unix:/tmp/gunicorn.sock (18)\u001b[0m\n",
            "\u001b[34m[2022-04-22 10:40:31 +0000] [18] [INFO] Using worker: gevent\u001b[0m\n",
            "\u001b[34m[2022-04-22 10:40:31 +0000] [25] [INFO] Booting worker with pid: 25\u001b[0m\n",
            "\u001b[34m[2022-04-22 10:40:31 +0000] [26] [INFO] Booting worker with pid: 26\u001b[0m\n",
            "\u001b[34m[2022-04-22 10:40:31 +0000] [27] [INFO] Booting worker with pid: 27\u001b[0m\n",
            "\u001b[34m[2022-04-22 10:40:31 +0000] [31] [INFO] Booting worker with pid: 31\u001b[0m\n",
            "\u001b[35mhttp {\n",
            "  include /etc/nginx/mime.types;\n",
            "  default_type application/octet-stream;\n",
            "  access_log /dev/stdout combined;\n",
            "  upstream gunicorn {\n",
            "    server unix:/tmp/gunicorn.sock;\n",
            "  }\n",
            "  server {\n",
            "    listen 8080 deferred;\n",
            "    client_max_body_size 0;\n",
            "    keepalive_timeout 3;\n",
            "    location ~ ^/(ping|invocations|execution-parameters) {\n",
            "      proxy_set_header X-Forwarded-For $proxy_add_x_forwarded_for;\n",
            "      proxy_set_header Host $http_host;\n",
            "      proxy_redirect off;\n",
            "      proxy_read_timeout 60s;\n",
            "      proxy_pass http://gunicorn;\n",
            "    }\n",
            "    location / {\n",
            "      return 404 \"{}\";\n",
            "    }\n",
            "  }\u001b[0m\n",
            "\u001b[35m}\u001b[0m\n",
            "\u001b[35m[2022-04-22 10:40:31 +0000] [18] [INFO] Starting gunicorn 19.10.0\u001b[0m\n",
            "\u001b[35m[2022-04-22 10:40:31 +0000] [18] [INFO] Listening at: unix:/tmp/gunicorn.sock (18)\u001b[0m\n",
            "\u001b[35m[2022-04-22 10:40:31 +0000] [18] [INFO] Using worker: gevent\u001b[0m\n",
            "\u001b[35m[2022-04-22 10:40:31 +0000] [25] [INFO] Booting worker with pid: 25\u001b[0m\n",
            "\u001b[35m[2022-04-22 10:40:31 +0000] [26] [INFO] Booting worker with pid: 26\u001b[0m\n",
            "\u001b[35m[2022-04-22 10:40:31 +0000] [27] [INFO] Booting worker with pid: 27\u001b[0m\n",
            "\u001b[35m[2022-04-22 10:40:31 +0000] [31] [INFO] Booting worker with pid: 31\u001b[0m\n",
            "\u001b[34m[2022-04-22:10:40:37:INFO] No GPUs detected (normal if no gpus installed)\u001b[0m\n",
            "\u001b[34m169.254.255.130 - - [22/Apr/2022:10:40:37 +0000] \"GET /ping HTTP/1.1\" 200 0 \"-\" \"Go-http-client/1.1\"\u001b[0m\n",
            "\u001b[34m169.254.255.130 - - [22/Apr/2022:10:40:37 +0000] \"GET /execution-parameters HTTP/1.1\" 200 84 \"-\" \"Go-http-client/1.1\"\u001b[0m\n",
            "\u001b[35m[2022-04-22:10:40:37:INFO] No GPUs detected (normal if no gpus installed)\u001b[0m\n",
            "\u001b[35m169.254.255.130 - - [22/Apr/2022:10:40:37 +0000] \"GET /ping HTTP/1.1\" 200 0 \"-\" \"Go-http-client/1.1\"\u001b[0m\n",
            "\u001b[35m169.254.255.130 - - [22/Apr/2022:10:40:37 +0000] \"GET /execution-parameters HTTP/1.1\" 200 84 \"-\" \"Go-http-client/1.1\"\u001b[0m\n",
            "\u001b[34m[2022-04-22:10:40:38:INFO] No GPUs detected (normal if no gpus installed)\u001b[0m\n",
            "\u001b[34m[2022-04-22:10:40:38:INFO] No GPUs detected (normal if no gpus installed)\u001b[0m\n",
            "\u001b[34m[2022-04-22:10:40:38:INFO] Determined delimiter of CSV input is ','\u001b[0m\n",
            "\u001b[34m[2022-04-22:10:40:38:INFO] Determined delimiter of CSV input is ','\u001b[0m\n",
            "\u001b[34m[2022-04-22:10:40:38:INFO] No GPUs detected (normal if no gpus installed)\u001b[0m\n",
            "\u001b[34m[2022-04-22:10:40:39:INFO] Determined delimiter of CSV input is ','\u001b[0m\n",
            "\u001b[34m[2022-04-22:10:40:39:INFO] Determined delimiter of CSV input is ','\u001b[0m\n",
            "\u001b[35m[2022-04-22:10:40:38:INFO] No GPUs detected (normal if no gpus installed)\u001b[0m\n",
            "\u001b[35m[2022-04-22:10:40:38:INFO] No GPUs detected (normal if no gpus installed)\u001b[0m\n",
            "\u001b[35m[2022-04-22:10:40:38:INFO] Determined delimiter of CSV input is ','\u001b[0m\n",
            "\u001b[35m[2022-04-22:10:40:38:INFO] Determined delimiter of CSV input is ','\u001b[0m\n",
            "\u001b[35m[2022-04-22:10:40:38:INFO] No GPUs detected (normal if no gpus installed)\u001b[0m\n",
            "\u001b[35m[2022-04-22:10:40:39:INFO] Determined delimiter of CSV input is ','\u001b[0m\n",
            "\u001b[35m[2022-04-22:10:40:39:INFO] Determined delimiter of CSV input is ','\u001b[0m\n",
            "\u001b[32m2022-04-22T10:40:37.532:[sagemaker logs]: MaxConcurrentTransforms=4, MaxPayloadInMB=6, BatchStrategy=MULTI_RECORD\u001b[0m\n",
            "\u001b[34m169.254.255.130 - - [22/Apr/2022:10:40:42 +0000] \"POST /invocations HTTP/1.1\" 200 653274 \"-\" \"Go-http-client/1.1\"\u001b[0m\n",
            "\u001b[35m169.254.255.130 - - [22/Apr/2022:10:40:42 +0000] \"POST /invocations HTTP/1.1\" 200 653274 \"-\" \"Go-http-client/1.1\"\u001b[0m\n",
            "\u001b[34m169.254.255.130 - - [22/Apr/2022:10:40:42 +0000] \"POST /invocations HTTP/1.1\" 200 653289 \"-\" \"Go-http-client/1.1\"\u001b[0m\n",
            "\u001b[34m169.254.255.130 - - [22/Apr/2022:10:40:42 +0000] \"POST /invocations HTTP/1.1\" 200 653452 \"-\" \"Go-http-client/1.1\"\u001b[0m\n",
            "\u001b[34m169.254.255.130 - - [22/Apr/2022:10:40:42 +0000] \"POST /invocations HTTP/1.1\" 200 653273 \"-\" \"Go-http-client/1.1\"\u001b[0m\n",
            "\u001b[34m[2022-04-22:10:40:42:INFO] Determined delimiter of CSV input is ','\u001b[0m\n",
            "\u001b[35m169.254.255.130 - - [22/Apr/2022:10:40:42 +0000] \"POST /invocations HTTP/1.1\" 200 653289 \"-\" \"Go-http-client/1.1\"\u001b[0m\n",
            "\u001b[35m169.254.255.130 - - [22/Apr/2022:10:40:42 +0000] \"POST /invocations HTTP/1.1\" 200 653452 \"-\" \"Go-http-client/1.1\"\u001b[0m\n",
            "\u001b[35m169.254.255.130 - - [22/Apr/2022:10:40:42 +0000] \"POST /invocations HTTP/1.1\" 200 653273 \"-\" \"Go-http-client/1.1\"\u001b[0m\n",
            "\u001b[35m[2022-04-22:10:40:42:INFO] Determined delimiter of CSV input is ','\u001b[0m\n",
            "\u001b[34m169.254.255.130 - - [22/Apr/2022:10:40:44 +0000] \"POST /invocations HTTP/1.1\" 200 603125 \"-\" \"Go-http-client/1.1\"\u001b[0m\n",
            "\u001b[35m169.254.255.130 - - [22/Apr/2022:10:40:44 +0000] \"POST /invocations HTTP/1.1\" 200 603125 \"-\" \"Go-http-client/1.1\"\u001b[0m\n"
          ]
        }
      ],
      "source": [
        "batch_output = \"s3://{}/{}/batch-out/\".format(bucket,prefix)\n",
        "batch_input = \"s3://{}/{}/batch-in/{}\".format(bucket,prefix,batch_X_file)\n",
        "\n",
        "xgb_transformer = best_estimator.transformer(instance_count=1,\n",
        "                                       instance_type=instance_type,\n",
        "                                       strategy='MultiRecord',\n",
        "                                       assemble_with='Line',\n",
        "                                       output_path=batch_output)\n",
        "\n",
        "xgb_transformer.transform(data=batch_input,\n",
        "                         data_type='S3Prefix',\n",
        "                         content_type='text/csv',\n",
        "                         split_type='Line')\n",
        "xgb_transformer.wait()"
      ]
    },
    {
      "cell_type": "code",
      "execution_count": null,
      "metadata": {
        "id": "xTVAcNinEX0V"
      },
      "outputs": [],
      "source": [
        "s3 = boto3.client('s3')\n",
        "obj = s3.get_object(Bucket=bucket, Key=\"{}/batch-out/{}\".format(prefix,'batch-in.csv.out'))\n",
        "target_predicted = pd.read_csv(io.BytesIO(obj['Body'].read()),',',names=['target'])\n",
        "test_labels = test.iloc[:,0]"
      ]
    },
    {
      "cell_type": "markdown",
      "metadata": {
        "id": "iC69ZY-GEX0V"
      },
      "source": [
        "Get the predicted target and test labels."
      ]
    },
    {
      "cell_type": "code",
      "execution_count": null,
      "metadata": {
        "id": "YHA-2_C6EX0V",
        "outputId": "065e42ac-922e-4e0e-e57e-64f814eb2d3a"
      },
      "outputs": [
        {
          "name": "stdout",
          "output_type": "stream",
          "text": [
            "     target\n",
            "0  0.154105\n",
            "1  0.125092\n",
            "2  0.057589\n",
            "3  0.190103\n",
            "4  0.090606\n",
            "   target\n",
            "0       0\n",
            "1       0\n",
            "2       0\n",
            "3       0\n",
            "4       0\n"
          ]
        }
      ],
      "source": [
        "print(target_predicted.head())\n",
        "\n",
        "def binary_convert(x):\n",
        "    threshold = 0.55\n",
        "    if x > threshold:\n",
        "        return 1\n",
        "    else:\n",
        "        return 0\n",
        "\n",
        "target_predicted['target'] = target_predicted['target'].apply(binary_convert)\n",
        "\n",
        "test_labels = test.iloc[:,0]\n",
        "\n",
        "print(target_predicted.head())"
      ]
    },
    {
      "cell_type": "markdown",
      "metadata": {
        "id": "tiRUMS2EEX0V"
      },
      "source": [
        "Plot a confusion matrix for your `target_predicted` and `test_labels`."
      ]
    },
    {
      "cell_type": "code",
      "execution_count": null,
      "metadata": {
        "id": "Mkuzc0c6EX0V",
        "outputId": "62865820-eb7a-40bd-dd48-91c948fe01a8"
      },
      "outputs": [
        {
          "data": {
            "image/png": "[encoded data removed]",
            "text/plain": [
              "<Figure size 432x288 with 1 Axes>"
            ]
          },
          "metadata": {
            "needs_background": "light"
          },
          "output_type": "display_data"
        }
      ],
      "source": [
        "# Enter your code here\n",
        "plot_confusion_matrix(test_labels,target_predicted)"
      ]
    },
    {
      "cell_type": "markdown",
      "metadata": {
        "id": "fnNq2q3UEX0V"
      },
      "source": [
        "Plot the ROC chart:"
      ]
    },
    {
      "cell_type": "code",
      "execution_count": null,
      "metadata": {
        "id": "74DlDYMvEX0W",
        "outputId": "c4c93abe-9e42-4156-eec1-2b281bf0ac0b"
      },
      "outputs": [
        {
          "name": "stdout",
          "output_type": "stream",
          "text": [
            "Sensitivity or TPR:  16.019573005563164 %\n",
            "Specificity or TNR:  98.31380681906118 %\n",
            "Precision:  71.62390936319834 %\n",
            "Negative Predictive Value:  81.50307929176289 %\n",
            "False Positive Rate:  1.6861931809388202 %\n",
            "False Negative Rate:  83.98042699443684 %\n",
            "False Discovery Rate:  28.376090636801663 %\n",
            "Accuracy:  81.0392580047567 %\n",
            "Validation AUC 0.5716668991231216\n",
            "Figure(432x288)\n"
          ]
        },
        {
          "data": {
            "image/png": "[encoded data removed]",
            "text/plain": [
              "<Figure size 432x288 with 2 Axes>"
            ]
          },
          "metadata": {
            "needs_background": "light"
          },
          "output_type": "display_data"
        },
        {
          "data": {
            "text/plain": [
              "<Figure size 432x288 with 0 Axes>"
            ]
          },
          "metadata": {},
          "output_type": "display_data"
        }
      ],
      "source": [
        "# Enter your code here\n",
        "plot_roc(test_labels,target_predicted)"
      ]
    },
    {
      "cell_type": "markdown",
      "metadata": {
        "id": "-EAJTd8FEX0W"
      },
      "source": [
        "**Question**: Try different hyperparameters and hyperparameter ranges. Do these changes improve the model?"
      ]
    },
    {
      "cell_type": "markdown",
      "metadata": {
        "id": "UQFrxuCtEX0W"
      },
      "source": [
        "## Conclusion\n",
        "\n",
        "You have now iterated through training and evaluating your model at least a couple of times. It's time to wrap up this project and reflect on:\n",
        "\n",
        "- What you learned \n",
        "- What types of steps you might take moving forward (assuming that you had more time)\n",
        "\n",
        "Use the following cell to answer some of these questions and other relevant questions:\n",
        "\n",
        "1. Does your model performance meet your business goal? If not, what are some things you'd like to do differently if you had more time for tuning?\n",
        "2. How much did your model improve as you made changes to your dataset, features, and hyperparameters? What types of techniques did you employ throughout this project, and which yielded the greatest improvements in your model?\n",
        "3. What were some of the biggest challenges that you encountered throughout this project?\n",
        "4. Do you have any unanswered questions about aspects of the pipeline that didn't make sense to you?\n",
        "5. What were the three most important things that you learned about machine learning while working on this project?\n",
        "\n",
        "#### <span style=\"color: blue;\">Project presentation: Make sure that you also summarize your answers to these questions in your project presentation. Combine all your notes for your project presentation and prepare to present your findings to the class.</span>"
      ]
    },
    {
      "cell_type": "code",
      "execution_count": null,
      "metadata": {
        "id": "kvu0mgF-EX0W"
      },
      "outputs": [],
      "source": [
        "# Write your answers here\n",
        "1. ประสิทธิภาพการทำนายของโมเดลนี้ยังไม่ตรงตามเป้าหมายที่ได้วางไว้เนื่องจาก การทำนายยังให้ผลที่ยังไม่แม่นยำมีทั้งทำนายถูกและทำนายผิดเท่าๆกัน \n",
        "2. เมื่อมีการเพิ่มชุดข้อมูลจะทำให้ model มีการทำนายที่แม่นยำมากขึ้นเพียงเล็กน้อย, ในการทำใช้เทคนิค Machine learning, วิธี Hyperparameter optimization ให้ผลคำทำนายได้ดีที่สุด\n",
        "3. ระยะเวลาในการรัน การยังไม่แม่นการเขียนภาษา python รวมถึงบางครั้งยังอ่านโจทย์ไม่เข้าใจและการวิเคราะห์กราฟยังไม่แม่นยำ ไม่สามารถอธิบายได้อย่างละเอียด\n",
        "4. -\n",
        "5. - ได้เรียนรู้เกี่ยวกับการทำงานของ ML ประเภท Supervised Machine Learning\n",
        "   - ได้เห็นความแตกต่างระหว่างการทำ Train กับ Test\n",
        "   - การพล็อตกราฟแบบ confusion matrix และ ROC chart ได้รู้วิธีการคำนวณก่อนที่จะไปพล็อตเป็นกราฟ"
      ]
    }
  ],
  "metadata": {
    "kernelspec": {
      "display_name": "conda_python3",
      "language": "python",
      "name": "conda_python3"
    },
    "language_info": {
      "codemirror_mode": {
        "name": "ipython",
        "version": 3
      },
      "file_extension": ".py",
      "mimetype": "text/x-python",
      "name": "python",
      "nbconvert_exporter": "python",
      "pygments_lexer": "ipython3",
      "version": "3.6.13"
    },
    "colab": {
      "name": "Flight_Delay-Student.ipynb",
      "provenance": [],
      "collapsed_sections": [
        "Xhlj20qMEX0C",
        "9I1Ly0ClEX0E",
        "45cn1xGTEX0E",
        "WEJOlv9sEX0F",
        "5XAiO4THEX0H",
        "dt5-GulpEX0H",
        "CwRFZfUrEX0H",
        "zu8c49FGEX0H",
        "HAiMmz4jEX0I",
        "n8l2PIKTEX0I",
        "OQJ9W0-3EX0K",
        "U31XzyELEX0K",
        "p3JtqVMSEX0M",
        "TkS5EpHiEX0M",
        "eHHYEoTGEX0P",
        "9QxOci_WEX0P",
        "9eV2E2A4EX0Q",
        "v8QF_pSuEX0T"
      ],
      "include_colab_link": true
    }
  },
  "nbformat": 4,
  "nbformat_minor": 0
}